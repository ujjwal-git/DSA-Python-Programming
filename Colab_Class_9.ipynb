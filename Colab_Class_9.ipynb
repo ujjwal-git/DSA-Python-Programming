{
  "nbformat": 4,
  "nbformat_minor": 0,
  "metadata": {
    "colab": {
      "provenance": []
    },
    "kernelspec": {
      "name": "python3",
      "display_name": "Python 3"
    },
    "language_info": {
      "name": "python"
    }
  },
  "cells": [
    {
      "cell_type": "markdown",
      "source": [
        "### **Mastering String Operations**"
      ],
      "metadata": {
        "id": "G23q6VW9ulWO"
      }
    },
    {
      "cell_type": "markdown",
      "source": [
        "#### **String Operators:**\n",
        "1. Concatenate Operator (+)\n",
        "2. Repetition Operator (*)\n",
        "3. String Comparsion Operators (==, !=, >=, <=, >, <)\n",
        "4. Membership Operators (in, not in)\n",
        "5. Escape Sequence Operator (\\\\, \\n, \\b, \\ooo, \\xhh)\n",
        "6. String Formatting Operator (%s, %d, %f)\n"
      ],
      "metadata": {
        "id": "318Le_fBupbw"
      }
    },
    {
      "cell_type": "code",
      "source": [
        "# concatenate operator (+)\n",
        "\n",
        "print('RCB '+'CSK')\n",
        "print(\"RCB \"+\"VS \"+\"CSK\")"
      ],
      "metadata": {
        "colab": {
          "base_uri": "https://localhost:8080/",
          "height": 0
        },
        "id": "_-Cu-X9nZinJ",
        "outputId": "38004473-9c53-4b64-a3ee-f5ea6dfa36b7"
      },
      "execution_count": 6,
      "outputs": [
        {
          "output_type": "stream",
          "name": "stdout",
          "text": [
            "RCB CSK\n",
            "RCB VS CSK\n"
          ]
        }
      ]
    },
    {
      "cell_type": "code",
      "source": [
        "# Repetition operator (*)\n",
        "\n",
        "print(\"Python\"*2)\n",
        "print(\"Python \"*2)\n",
        "print(\"Python\"*5)\n",
        "print(\"Python\"*0)\n",
        "print(\"Python\"*-1)\n",
        "print(\"Python\"*1)\n",
        "print(3*\"Python\")\n",
        "print(5*\"Python\")"
      ],
      "metadata": {
        "colab": {
          "base_uri": "https://localhost:8080/",
          "height": 0
        },
        "id": "AlYSdTqjbe5Z",
        "outputId": "f0a40de4-66bc-4d0d-d827-40531f040ba5"
      },
      "execution_count": 17,
      "outputs": [
        {
          "output_type": "stream",
          "name": "stdout",
          "text": [
            "PythonPython\n",
            "Python Python \n",
            "PythonPythonPythonPythonPython\n",
            "\n",
            "\n",
            "Python\n",
            "PythonPythonPython\n",
            "PythonPythonPythonPythonPython\n"
          ]
        }
      ]
    },
    {
      "cell_type": "code",
      "source": [
        "\"Python\"*0"
      ],
      "metadata": {
        "colab": {
          "base_uri": "https://localhost:8080/",
          "height": 36
        },
        "id": "8z0TMN31b4HM",
        "outputId": "1ca7bf42-f8c6-46d8-a654-c48e6d530c1d"
      },
      "execution_count": 13,
      "outputs": [
        {
          "output_type": "execute_result",
          "data": {
            "text/plain": [
              "''"
            ],
            "application/vnd.google.colaboratory.intrinsic+json": {
              "type": "string"
            }
          },
          "metadata": {},
          "execution_count": 13
        }
      ]
    },
    {
      "cell_type": "code",
      "source": [
        "\"Python\"*-1"
      ],
      "metadata": {
        "colab": {
          "base_uri": "https://localhost:8080/",
          "height": 36
        },
        "id": "zZSvHfxpcCJZ",
        "outputId": "6c565dfb-27ff-43d2-d512-e01350c7aea2"
      },
      "execution_count": 15,
      "outputs": [
        {
          "output_type": "execute_result",
          "data": {
            "text/plain": [
              "''"
            ],
            "application/vnd.google.colaboratory.intrinsic+json": {
              "type": "string"
            }
          },
          "metadata": {},
          "execution_count": 15
        }
      ]
    },
    {
      "cell_type": "code",
      "source": [
        "# string comparison operator\n",
        "# (==, !=, >=, <=, >, <)\n",
        "print(\"Venky\"==\"Venky\")\n",
        "print(\"Venky\"==\"venky\")"
      ],
      "metadata": {
        "colab": {
          "base_uri": "https://localhost:8080/",
          "height": 0
        },
        "id": "kNRuq75icR4C",
        "outputId": "745884ad-5ae4-4ba4-e0f4-6f7f26e9292c"
      },
      "execution_count": 19,
      "outputs": [
        {
          "output_type": "stream",
          "name": "stdout",
          "text": [
            "True\n",
            "False\n"
          ]
        }
      ]
    },
    {
      "cell_type": "code",
      "source": [
        "print(\"Venky\"!=\"Venky\")\n",
        "print(\"Venky\"!=\"venky\")"
      ],
      "metadata": {
        "colab": {
          "base_uri": "https://localhost:8080/",
          "height": 0
        },
        "id": "Au_lYO3Fcqd2",
        "outputId": "c9455348-e38f-44c1-8ee8-61c46b84e8ff"
      },
      "execution_count": 20,
      "outputs": [
        {
          "output_type": "stream",
          "name": "stdout",
          "text": [
            "False\n",
            "True\n"
          ]
        }
      ]
    },
    {
      "cell_type": "code",
      "source": [
        "print(\"Venky\"<=\"Venky\")\n",
        "print(\"Venky\"<=\"venky\")"
      ],
      "metadata": {
        "colab": {
          "base_uri": "https://localhost:8080/",
          "height": 0
        },
        "id": "XooRuW-ocy1p",
        "outputId": "b7878f25-fb56-4f7c-b677-6f379573f8ec"
      },
      "execution_count": 23,
      "outputs": [
        {
          "output_type": "stream",
          "name": "stdout",
          "text": [
            "True\n",
            "True\n"
          ]
        }
      ]
    },
    {
      "cell_type": "code",
      "source": [
        "print(\"Venky\"<\"Venky\")\n",
        "print(\"Venky\"<\"venky\")"
      ],
      "metadata": {
        "colab": {
          "base_uri": "https://localhost:8080/",
          "height": 0
        },
        "id": "sbJxYruWdJ5k",
        "outputId": "885395c5-6973-40da-d46c-3b3ae5348312"
      },
      "execution_count": 24,
      "outputs": [
        {
          "output_type": "stream",
          "name": "stdout",
          "text": [
            "False\n",
            "True\n"
          ]
        }
      ]
    },
    {
      "cell_type": "code",
      "source": [
        "print(\"Venky\">=\"Venky\")\n",
        "print(\"Venky\">=\"venky\")"
      ],
      "metadata": {
        "colab": {
          "base_uri": "https://localhost:8080/",
          "height": 0
        },
        "id": "FeouBruJdTPL",
        "outputId": "963ff44d-9f2f-449d-b5e6-68d4472e93a4"
      },
      "execution_count": 25,
      "outputs": [
        {
          "output_type": "stream",
          "name": "stdout",
          "text": [
            "True\n",
            "False\n"
          ]
        }
      ]
    },
    {
      "cell_type": "code",
      "source": [
        "print(\"Venky\">\"Venky\")\n",
        "print(\"Venky\">\"venky\")"
      ],
      "metadata": {
        "colab": {
          "base_uri": "https://localhost:8080/",
          "height": 0
        },
        "id": "g5xuDgSRdbCE",
        "outputId": "b9d60ad0-6ad7-46cd-d0cd-658f455f9069"
      },
      "execution_count": 26,
      "outputs": [
        {
          "output_type": "stream",
          "name": "stdout",
          "text": [
            "False\n",
            "False\n"
          ]
        }
      ]
    },
    {
      "cell_type": "code",
      "source": [
        "print(\"Venky\"==\"Venkat\")\n",
        "print(\"Venky\"<\"Venkatesh\")\n",
        "print(\"Venky\"<\"VenkyE\")\n",
        "print(\"Venky\">\"VenkyE\")\n"
      ],
      "metadata": {
        "colab": {
          "base_uri": "https://localhost:8080/",
          "height": 0
        },
        "id": "3LU1oigNdi3v",
        "outputId": "7efde68d-c0be-4663-de30-1867dbc92553"
      },
      "execution_count": 33,
      "outputs": [
        {
          "output_type": "stream",
          "name": "stdout",
          "text": [
            "False\n",
            "False\n",
            "True\n",
            "False\n"
          ]
        }
      ]
    },
    {
      "cell_type": "code",
      "source": [
        "ord('y')"
      ],
      "metadata": {
        "colab": {
          "base_uri": "https://localhost:8080/",
          "height": 0
        },
        "id": "m4jQvvatd3pm",
        "outputId": "cdf58bff-d1c3-4cf0-af7b-e9bc7d540150"
      },
      "execution_count": 28,
      "outputs": [
        {
          "output_type": "execute_result",
          "data": {
            "text/plain": [
              "121"
            ]
          },
          "metadata": {},
          "execution_count": 28
        }
      ]
    },
    {
      "cell_type": "code",
      "source": [
        "ord('a')"
      ],
      "metadata": {
        "colab": {
          "base_uri": "https://localhost:8080/",
          "height": 0
        },
        "id": "uloUFej4d5bD",
        "outputId": "19831082-783a-4a7b-bc90-dbb434562b5c"
      },
      "execution_count": 29,
      "outputs": [
        {
          "output_type": "execute_result",
          "data": {
            "text/plain": [
              "97"
            ]
          },
          "metadata": {},
          "execution_count": 29
        }
      ]
    },
    {
      "cell_type": "code",
      "source": [
        "ord('V')"
      ],
      "metadata": {
        "colab": {
          "base_uri": "https://localhost:8080/",
          "height": 0
        },
        "id": "xyHWT9bKc8D2",
        "outputId": "1a639128-a054-4043-ae49-293c0bd02917"
      },
      "execution_count": 21,
      "outputs": [
        {
          "output_type": "execute_result",
          "data": {
            "text/plain": [
              "86"
            ]
          },
          "metadata": {},
          "execution_count": 21
        }
      ]
    },
    {
      "cell_type": "code",
      "source": [
        "ord('v')"
      ],
      "metadata": {
        "colab": {
          "base_uri": "https://localhost:8080/",
          "height": 0
        },
        "id": "RJgl4SHvc-FX",
        "outputId": "7d2eb14b-8623-4bc6-f49e-64bad1da282f"
      },
      "execution_count": 22,
      "outputs": [
        {
          "output_type": "execute_result",
          "data": {
            "text/plain": [
              "118"
            ]
          },
          "metadata": {},
          "execution_count": 22
        }
      ]
    },
    {
      "cell_type": "code",
      "source": [
        "# membership operators\n",
        "\n",
        "# in, not in\n",
        "\n",
        "print(\"Ven\" in \"Venky\")\n",
        "print(\"Veny\" in \"Venky\")\n",
        "print(\"Veny\" not in \"Venky\")\n",
        "print(\"Ven\" not in \"Venky\")\n"
      ],
      "metadata": {
        "colab": {
          "base_uri": "https://localhost:8080/",
          "height": 0
        },
        "id": "gVNw8apOeQE3",
        "outputId": "ee8ed00e-fc98-4eeb-e65e-89400ad9c156"
      },
      "execution_count": 37,
      "outputs": [
        {
          "output_type": "stream",
          "name": "stdout",
          "text": [
            "True\n",
            "False\n",
            "True\n",
            "False\n"
          ]
        }
      ]
    },
    {
      "cell_type": "code",
      "source": [
        "# Escape Sequence Operator (\\, \\n, \\b, \\ooo, \\xhh)\n",
        "\n",
        "print(\"Today's Match: \"India vs Pakistan\"\")"
      ],
      "metadata": {
        "colab": {
          "base_uri": "https://localhost:8080/",
          "height": 109
        },
        "id": "W324GKmeep6b",
        "outputId": "a1643b7d-cf4d-4413-bc36-6418068dd1d0"
      },
      "execution_count": 38,
      "outputs": [
        {
          "output_type": "error",
          "ename": "SyntaxError",
          "evalue": "invalid syntax. Perhaps you forgot a comma? (<ipython-input-38-36a26b6822f1>, line 3)",
          "traceback": [
            "\u001b[0;36m  File \u001b[0;32m\"<ipython-input-38-36a26b6822f1>\"\u001b[0;36m, line \u001b[0;32m3\u001b[0m\n\u001b[0;31m    print(\"Today's Match: \"India vs Pakistan\"\")\u001b[0m\n\u001b[0m          ^\u001b[0m\n\u001b[0;31mSyntaxError\u001b[0m\u001b[0;31m:\u001b[0m invalid syntax. Perhaps you forgot a comma?\n"
          ]
        }
      ]
    },
    {
      "cell_type": "code",
      "source": [
        "print(\"Today's Match: \\\"India vs Pakistan\\\"\")\n",
        "print('Today\\'s Match: \\'India vs Pakistan\\'')"
      ],
      "metadata": {
        "colab": {
          "base_uri": "https://localhost:8080/",
          "height": 0
        },
        "id": "mNLSiDPwfEbq",
        "outputId": "3cf4f635-f237-4465-cb39-a38b40062689"
      },
      "execution_count": 41,
      "outputs": [
        {
          "output_type": "stream",
          "name": "stdout",
          "text": [
            "Today's Match: \"India vs Pakistan\"\n",
            "Today's Match: 'India vs Pakistan'\n"
          ]
        }
      ]
    },
    {
      "cell_type": "code",
      "source": [
        "# \\n - new line\n",
        "\n",
        "print(\"Match 1: Afghanistan vs Newzeland\\nMatch 2: India vs Pakistan\")"
      ],
      "metadata": {
        "colab": {
          "base_uri": "https://localhost:8080/",
          "height": 0
        },
        "id": "OPnRzPJafhPb",
        "outputId": "ba95e286-e96a-4d31-d234-858d1042176a"
      },
      "execution_count": 43,
      "outputs": [
        {
          "output_type": "stream",
          "name": "stdout",
          "text": [
            "Match 1: Afghanistan vs Newzeland\n",
            "Match 2: India vs Pakistan\n"
          ]
        }
      ]
    },
    {
      "cell_type": "code",
      "source": [
        "print(\"Venka\\ntesh\")"
      ],
      "metadata": {
        "colab": {
          "base_uri": "https://localhost:8080/",
          "height": 0
        },
        "id": "7K1E0YnOfxYI",
        "outputId": "9eb9e378-e0cc-4e27-d760-11f07b08e9b6"
      },
      "execution_count": 44,
      "outputs": [
        {
          "output_type": "stream",
          "name": "stdout",
          "text": [
            "Venka\n",
            "tesh\n"
          ]
        }
      ]
    },
    {
      "cell_type": "code",
      "source": [
        "# \\b  - indicates backspace\n",
        "print(\"Hello World! \\b\")"
      ],
      "metadata": {
        "colab": {
          "base_uri": "https://localhost:8080/",
          "height": 0
        },
        "id": "Mfv-ObFff452",
        "outputId": "3dc31411-6098-452f-b2df-ce630687a194"
      },
      "execution_count": 45,
      "outputs": [
        {
          "output_type": "stream",
          "name": "stdout",
          "text": [
            "Hello World! \b\n"
          ]
        }
      ]
    },
    {
      "cell_type": "code",
      "source": [
        "print(\"Hello World!\\b\")\n",
        "print(\"Hello\\b World!\")\n",
        "print(\"Hello \\bWorld\")"
      ],
      "metadata": {
        "colab": {
          "base_uri": "https://localhost:8080/",
          "height": 0
        },
        "id": "y2YLRSSdgGUB",
        "outputId": "7b0f392b-5da7-458d-bfb4-3b164ece0f88"
      },
      "execution_count": 47,
      "outputs": [
        {
          "output_type": "stream",
          "name": "stdout",
          "text": [
            "Hello World!\b\n",
            "Hello\b World!\n",
            "Hello \bWorld\n"
          ]
        }
      ]
    },
    {
      "cell_type": "code",
      "source": [
        "print(\"Ve\\bnka\\btes\\bh\")"
      ],
      "metadata": {
        "colab": {
          "base_uri": "https://localhost:8080/",
          "height": 0
        },
        "id": "33n-ZKjAgcO0",
        "outputId": "051c04b3-3a98-44f0-a1f6-a67947b94d4c"
      },
      "execution_count": 48,
      "outputs": [
        {
          "output_type": "stream",
          "name": "stdout",
          "text": [
            "Ve\bnka\btes\bh\n"
          ]
        }
      ]
    },
    {
      "cell_type": "code",
      "source": [
        "# \\ooo\n",
        "\n",
        "print('\\141')\n",
        "print('\\141\\142')\n",
        "print('\\1412')\n",
        "print('\\1412981981789')\n",
        "print('\\1412akjfkjadkf')"
      ],
      "metadata": {
        "colab": {
          "base_uri": "https://localhost:8080/",
          "height": 0
        },
        "id": "egC6P_fGgi2E",
        "outputId": "66c457be-3e3f-4458-cf06-603afca5b817"
      },
      "execution_count": 64,
      "outputs": [
        {
          "output_type": "stream",
          "name": "stdout",
          "text": [
            "a\n",
            "ab\n",
            "a2\n",
            "a2981981789\n",
            "a2akjfkjadkf\n"
          ]
        }
      ]
    },
    {
      "cell_type": "code",
      "source": [
        "# \\xhh\n",
        "\n",
        "print(\"\\x65\")"
      ],
      "metadata": {
        "colab": {
          "base_uri": "https://localhost:8080/",
          "height": 0
        },
        "id": "68W1LsVaiqE7",
        "outputId": "a25dffef-8dd3-4d15-e44f-fe144c605460"
      },
      "execution_count": 63,
      "outputs": [
        {
          "output_type": "stream",
          "name": "stdout",
          "text": [
            "e\n"
          ]
        }
      ]
    },
    {
      "cell_type": "code",
      "source": [
        "ord('\\141')"
      ],
      "metadata": {
        "colab": {
          "base_uri": "https://localhost:8080/",
          "height": 0
        },
        "id": "eA9dsEUKh1eM",
        "outputId": "acf7d0f0-ede8-484d-e4f9-d8b923641a31"
      },
      "execution_count": 57,
      "outputs": [
        {
          "output_type": "execute_result",
          "data": {
            "text/plain": [
              "97"
            ]
          },
          "metadata": {},
          "execution_count": 57
        }
      ]
    },
    {
      "cell_type": "code",
      "source": [
        "# string formatting operator\n",
        "subject = \"Java\"\n",
        "print(\"Python class is happening today\")\n",
        "print(\"%s class is happening today\"% subject)"
      ],
      "metadata": {
        "colab": {
          "base_uri": "https://localhost:8080/",
          "height": 0
        },
        "id": "KgvNQ-t8juDz",
        "outputId": "5d175a36-11bb-456c-8771-254da7e850c0"
      },
      "execution_count": 67,
      "outputs": [
        {
          "output_type": "stream",
          "name": "stdout",
          "text": [
            "Python class is happening today\n",
            "Java class is happening today\n"
          ]
        }
      ]
    },
    {
      "cell_type": "code",
      "source": [
        "name = \"Viky\"\n",
        "age = 32\n",
        "print(\"I'm Venkatesh and age is 26\")\n",
        "print(\"I'm %s and age is %d\"%(name, age))"
      ],
      "metadata": {
        "colab": {
          "base_uri": "https://localhost:8080/",
          "height": 0
        },
        "id": "rAp8s8IgkZS_",
        "outputId": "494d9962-6099-4fb9-d00f-5eae0baa7a8b"
      },
      "execution_count": 69,
      "outputs": [
        {
          "output_type": "stream",
          "name": "stdout",
          "text": [
            "I'm Venkatesh and age is 26\n",
            "I'm Viky and age is 32\n"
          ]
        }
      ]
    },
    {
      "cell_type": "code",
      "source": [
        "name = \"Venkatesh\"\n",
        "city = \"Chennai\"\n",
        "print(\"I'm %s and I live in %s\"%(name, city))\n",
        "print(\"I'm %s and I live in %s\"%(city, name))"
      ],
      "metadata": {
        "colab": {
          "base_uri": "https://localhost:8080/",
          "height": 0
        },
        "id": "QVmyFHF-lAvX",
        "outputId": "06fc0c16-4026-414d-f4e0-a77c3850d1ff"
      },
      "execution_count": 72,
      "outputs": [
        {
          "output_type": "stream",
          "name": "stdout",
          "text": [
            "I'm Venkatesh and I live in Chennai\n",
            "I'm Chennai and I live in Venkatesh\n"
          ]
        }
      ]
    },
    {
      "cell_type": "code",
      "source": [
        "print(\"I'm %s and age is %s\"%(name, age))"
      ],
      "metadata": {
        "colab": {
          "base_uri": "https://localhost:8080/",
          "height": 0
        },
        "id": "41RkJRqOlafo",
        "outputId": "59e7cc60-be1f-44df-ae76-7da07bf8ee12"
      },
      "execution_count": 73,
      "outputs": [
        {
          "output_type": "stream",
          "name": "stdout",
          "text": [
            "I'm Venkatesh and age is 32\n"
          ]
        }
      ]
    },
    {
      "cell_type": "code",
      "source": [
        "print(\"I'm %d and age is %s\"%(name, age))"
      ],
      "metadata": {
        "colab": {
          "base_uri": "https://localhost:8080/",
          "height": 144
        },
        "id": "tazGmD05lgFr",
        "outputId": "5cca4129-5253-42b1-a452-afa828d728b4"
      },
      "execution_count": 74,
      "outputs": [
        {
          "output_type": "error",
          "ename": "TypeError",
          "evalue": "%d format: a real number is required, not str",
          "traceback": [
            "\u001b[0;31m---------------------------------------------------------------------------\u001b[0m",
            "\u001b[0;31mTypeError\u001b[0m                                 Traceback (most recent call last)",
            "\u001b[0;32m<ipython-input-74-c82e47096896>\u001b[0m in \u001b[0;36m<cell line: 1>\u001b[0;34m()\u001b[0m\n\u001b[0;32m----> 1\u001b[0;31m \u001b[0mprint\u001b[0m\u001b[0;34m(\u001b[0m\u001b[0;34m\"I'm %d and age is %s\"\u001b[0m\u001b[0;34m%\u001b[0m\u001b[0;34m(\u001b[0m\u001b[0mname\u001b[0m\u001b[0;34m,\u001b[0m \u001b[0mage\u001b[0m\u001b[0;34m)\u001b[0m\u001b[0;34m)\u001b[0m\u001b[0;34m\u001b[0m\u001b[0;34m\u001b[0m\u001b[0m\n\u001b[0m",
            "\u001b[0;31mTypeError\u001b[0m: %d format: a real number is required, not str"
          ]
        }
      ]
    },
    {
      "cell_type": "code",
      "source": [
        "score = 12.5\n",
        "score_1 = 12\n",
        "score_2 = 12.936687687687\n",
        "print(\"Score is %f \"%score)\n",
        "print(\"Score 1 is %f \"%score_1)\n",
        "print(\"Score 2 is %f \"%score_2)\n",
        "print(\"Score is %d \"%score)\n",
        "print(\"Score 1 is %d \"%score_1)\n",
        "print(\"Score 2 is %d \"%score_2)\n",
        "print(\"Score is %s \"%score)\n",
        "print(\"Score 1 is %s \"%score_1)\n",
        "print(\"Score 2 is %s \"%score_2)"
      ],
      "metadata": {
        "colab": {
          "base_uri": "https://localhost:8080/",
          "height": 0
        },
        "id": "rKScV3t_llsr",
        "outputId": "aa6b9e39-530a-440e-b8ad-743ac95cb3e8"
      },
      "execution_count": 80,
      "outputs": [
        {
          "output_type": "stream",
          "name": "stdout",
          "text": [
            "Score is 12.500000 \n",
            "Score 1 is 12.000000 \n",
            "Score 2 is 12.936688 \n",
            "Score is 12 \n",
            "Score 1 is 12 \n",
            "Score 2 is 12 \n",
            "Score is 12.5 \n",
            "Score 1 is 12 \n",
            "Score 2 is 12.936687687687 \n"
          ]
        }
      ]
    },
    {
      "cell_type": "markdown",
      "source": [
        "#### **String Slicing**\n",
        "\n",
        "1. Indexing in string and how to slice?\n",
        "2. string[startVal:endVal:step]\n",
        "3. Reversing a string"
      ],
      "metadata": {
        "id": "AXvbdnL0z_kU"
      }
    },
    {
      "cell_type": "code",
      "source": [
        "full_name = \"Venkatesh Elangovan\"\n",
        "print(len(full_name))\n",
        "print(full_name[5])\n",
        "print(full_name[5:8])\n",
        "print(full_name[5:9])\n",
        "print(full_name[5:10])\n",
        "print(full_name[5:11])"
      ],
      "metadata": {
        "id": "ZxReE37q3tMK",
        "colab": {
          "base_uri": "https://localhost:8080/",
          "height": 0
        },
        "outputId": "3f1bfe54-1658-44e0-bdf2-85a9c00d3d71"
      },
      "execution_count": 87,
      "outputs": [
        {
          "output_type": "stream",
          "name": "stdout",
          "text": [
            "19\n",
            "t\n",
            "tes\n",
            "tesh\n",
            "tesh \n",
            "tesh E\n"
          ]
        }
      ]
    },
    {
      "cell_type": "code",
      "source": [
        "print(full_name[10:19])\n",
        "print(full_name[10:19:2])\n",
        "print(full_name[10:19:3])\n",
        "print(full_name[10:24])"
      ],
      "metadata": {
        "colab": {
          "base_uri": "https://localhost:8080/",
          "height": 0
        },
        "id": "NOLBBCCtqL3r",
        "outputId": "a87a09b8-90ab-4dd0-b188-8adda0aee251"
      },
      "execution_count": 94,
      "outputs": [
        {
          "output_type": "stream",
          "name": "stdout",
          "text": [
            "Elangovan\n",
            "Eagvn\n",
            "Env\n",
            "Elangovan\n"
          ]
        }
      ]
    },
    {
      "cell_type": "code",
      "source": [
        "print(full_name[2:])\n",
        "print(full_name[:15])"
      ],
      "metadata": {
        "colab": {
          "base_uri": "https://localhost:8080/",
          "height": 0
        },
        "id": "T1Zea3buqZrJ",
        "outputId": "b7d95bd4-8218-4000-df5e-1613a021584d"
      },
      "execution_count": 92,
      "outputs": [
        {
          "output_type": "stream",
          "name": "stdout",
          "text": [
            "nkatesh Elangovan\n",
            "Venkatesh Elang\n"
          ]
        }
      ]
    },
    {
      "cell_type": "code",
      "source": [
        "print(full_name[15:10])"
      ],
      "metadata": {
        "colab": {
          "base_uri": "https://localhost:8080/",
          "height": 0
        },
        "id": "8H2mm1iwsEww",
        "outputId": "e2fa51a6-eeed-49dc-e733-65353278fcf3"
      },
      "execution_count": 96,
      "outputs": [
        {
          "output_type": "stream",
          "name": "stdout",
          "text": [
            "\n"
          ]
        }
      ]
    },
    {
      "cell_type": "code",
      "source": [
        "print(full_name[15:10:-1])"
      ],
      "metadata": {
        "colab": {
          "base_uri": "https://localhost:8080/",
          "height": 0
        },
        "id": "s3fkbiPRsuWb",
        "outputId": "4f180ab8-b156-4c1b-a180-2c9103468c53"
      },
      "execution_count": 97,
      "outputs": [
        {
          "output_type": "stream",
          "name": "stdout",
          "text": [
            "ognal\n"
          ]
        }
      ]
    },
    {
      "cell_type": "code",
      "source": [
        "print(full_name[18:10:-2])"
      ],
      "metadata": {
        "colab": {
          "base_uri": "https://localhost:8080/",
          "height": 0
        },
        "id": "Q3v37e6jth6A",
        "outputId": "909033b2-d80d-4297-b7bf-2af75b148196"
      },
      "execution_count": 99,
      "outputs": [
        {
          "output_type": "stream",
          "name": "stdout",
          "text": [
            "nvga\n"
          ]
        }
      ]
    },
    {
      "cell_type": "code",
      "source": [
        "print(full_name[5:len(full_name)+10])"
      ],
      "metadata": {
        "colab": {
          "base_uri": "https://localhost:8080/",
          "height": 0
        },
        "id": "eWQWRJLlt2h3",
        "outputId": "9e80aa8f-e995-4fdd-c9f0-3b874774401f"
      },
      "execution_count": 101,
      "outputs": [
        {
          "output_type": "stream",
          "name": "stdout",
          "text": [
            "tesh Elangovan\n"
          ]
        }
      ]
    },
    {
      "cell_type": "code",
      "source": [
        "print(full_name[5:18:200])"
      ],
      "metadata": {
        "colab": {
          "base_uri": "https://localhost:8080/",
          "height": 0
        },
        "id": "00JiLYtvuKTj",
        "outputId": "228848cd-9a7a-4d3a-92a5-eda14e998fa5"
      },
      "execution_count": 102,
      "outputs": [
        {
          "output_type": "stream",
          "name": "stdout",
          "text": [
            "t\n"
          ]
        }
      ]
    },
    {
      "cell_type": "code",
      "source": [
        "print(full_name[-19:-13])\n",
        "print(full_name[-19:-13:-1])\n",
        "print(full_name[-13:-19])\n",
        "print(full_name[-13:-19:-1])"
      ],
      "metadata": {
        "colab": {
          "base_uri": "https://localhost:8080/",
          "height": 0
        },
        "id": "TtzSsp9Ouc5L",
        "outputId": "0bb0753f-6102-4de9-d1a6-6035bc10394b"
      },
      "execution_count": 105,
      "outputs": [
        {
          "output_type": "stream",
          "name": "stdout",
          "text": [
            "Venkat\n",
            "\n",
            "\n",
            "etakne\n"
          ]
        }
      ]
    },
    {
      "cell_type": "code",
      "source": [
        "print(full_name[::-1])\n",
        "print(full_name[::-2])\n",
        "print(full_name[::-1][::-1])"
      ],
      "metadata": {
        "colab": {
          "base_uri": "https://localhost:8080/",
          "height": 0
        },
        "id": "EDzMrdaowEd3",
        "outputId": "cdb59e00-374c-46cb-a88b-a986828f47ed"
      },
      "execution_count": 108,
      "outputs": [
        {
          "output_type": "stream",
          "name": "stdout",
          "text": [
            "navognalE hsetakneV\n",
            "nvgaEheanV\n",
            "Venkatesh Elangovan\n"
          ]
        }
      ]
    },
    {
      "cell_type": "code",
      "source": [
        "print(full_name[11:-11])\n",
        "print(full_name[11:-11:-1])"
      ],
      "metadata": {
        "colab": {
          "base_uri": "https://localhost:8080/",
          "height": 0
        },
        "id": "5tMd4HPyyG9K",
        "outputId": "182b5238-6e81-469c-caee-43304408c399"
      },
      "execution_count": 112,
      "outputs": [
        {
          "output_type": "stream",
          "name": "stdout",
          "text": [
            "\n",
            "lE \n"
          ]
        }
      ]
    },
    {
      "cell_type": "code",
      "source": [
        "v = \"Madam\"\n",
        "v2 = \"MaDaM\"\n",
        "print(v)\n",
        "print(v[::-1])\n",
        "print(v==v[::-1])\n",
        "print(v2)\n",
        "print(v2[::-1])\n",
        "print(v2==v2[::-1])"
      ],
      "metadata": {
        "colab": {
          "base_uri": "https://localhost:8080/",
          "height": 0
        },
        "id": "HCS4Emx_xT4J",
        "outputId": "2800ec36-963a-4451-8e64-d566157684cc"
      },
      "execution_count": 110,
      "outputs": [
        {
          "output_type": "stream",
          "name": "stdout",
          "text": [
            "Madam\n",
            "madaM\n",
            "False\n",
            "MaDaM\n",
            "MaDaM\n",
            "True\n"
          ]
        }
      ]
    },
    {
      "cell_type": "code",
      "source": [
        "print(full_name[15:10:0])"
      ],
      "metadata": {
        "colab": {
          "base_uri": "https://localhost:8080/",
          "height": 144
        },
        "id": "qWGccfohtNwT",
        "outputId": "f62d481a-cd85-48fe-b8de-ead091ac7cfd"
      },
      "execution_count": 98,
      "outputs": [
        {
          "output_type": "error",
          "ename": "ValueError",
          "evalue": "slice step cannot be zero",
          "traceback": [
            "\u001b[0;31m---------------------------------------------------------------------------\u001b[0m",
            "\u001b[0;31mValueError\u001b[0m                                Traceback (most recent call last)",
            "\u001b[0;32m<ipython-input-98-3ce15efd9436>\u001b[0m in \u001b[0;36m<cell line: 1>\u001b[0;34m()\u001b[0m\n\u001b[0;32m----> 1\u001b[0;31m \u001b[0mprint\u001b[0m\u001b[0;34m(\u001b[0m\u001b[0mfull_name\u001b[0m\u001b[0;34m[\u001b[0m\u001b[0;36m15\u001b[0m\u001b[0;34m:\u001b[0m\u001b[0;36m10\u001b[0m\u001b[0;34m:\u001b[0m\u001b[0;36m0\u001b[0m\u001b[0;34m]\u001b[0m\u001b[0;34m)\u001b[0m\u001b[0;34m\u001b[0m\u001b[0;34m\u001b[0m\u001b[0m\n\u001b[0m",
            "\u001b[0;31mValueError\u001b[0m: slice step cannot be zero"
          ]
        }
      ]
    },
    {
      "cell_type": "markdown",
      "source": [
        "#### **String Formatting**\n",
        "\n",
        "1. Using % Operator (old method)\n",
        "2. str.format() method\n",
        "3. f-strings"
      ],
      "metadata": {
        "id": "luNsTWmX3t9X"
      }
    },
    {
      "cell_type": "code",
      "source": [
        "name = \"Venky\"\n",
        "age = 26\n",
        "\n",
        "print(\"My name is %s and I'm %d years old\"%(name, age)) # % operator"
      ],
      "metadata": {
        "id": "FDnQb2G74Qsb",
        "colab": {
          "base_uri": "https://localhost:8080/",
          "height": 0
        },
        "outputId": "a5aae91e-08c3-4328-900f-00abc150bf83"
      },
      "execution_count": 113,
      "outputs": [
        {
          "output_type": "stream",
          "name": "stdout",
          "text": [
            "My name is Venky and I'm 26 years old\n"
          ]
        }
      ]
    },
    {
      "cell_type": "code",
      "source": [
        "# default arguments\n",
        "\n",
        "print(\"My name is {} and I'm {} years old.\".format(name, age))\n",
        "\n",
        "# positional arguments\n",
        "\n",
        "print(\"My name is {1} and I'm {0} years old.\".format(name, age))\n",
        "print(\"My name is {1} and I'm {1} years old.\".format(name, age))\n",
        "print(\"My name is {0} and I'm {0} years old.\".format(name, age))\n",
        "print(\"My name is {0} and I'm {2} years old.\".format(name, age, \"29\"))"
      ],
      "metadata": {
        "colab": {
          "base_uri": "https://localhost:8080/",
          "height": 0
        },
        "id": "aypSryjAz3pe",
        "outputId": "fb135f5f-c4e2-49a9-b57c-5f0abda7ee5c"
      },
      "execution_count": 120,
      "outputs": [
        {
          "output_type": "stream",
          "name": "stdout",
          "text": [
            "My name is Venky and I'm 26 years old.\n",
            "My name is 26 and I'm Venky years old.\n",
            "My name is 26 and I'm 26 years old.\n",
            "My name is Venky and I'm Venky years old.\n",
            "My name is Venky and I'm 29 years old.\n"
          ]
        }
      ]
    },
    {
      "cell_type": "code",
      "source": [
        "# keyword arguments\n",
        "print(\"My name is {name} and I'm {age} years old\".format(age=26, name=\"Venky\"))\n",
        "\n",
        "# mixed arguments\n",
        "print(\"My name is {} and I'm {age} years old.\".format(\"Venky\", age=26))\n",
        "print(\"My name is {0} and I'm {age} years old.\".format(\"Venky\", age=26))\n",
        "print(\"My name is {1} and I'm {age} years old.\".format(\"Venky\", \"Viky\", age=26))\n"
      ],
      "metadata": {
        "colab": {
          "base_uri": "https://localhost:8080/",
          "height": 0
        },
        "id": "YO-e5RLw1VOi",
        "outputId": "13c454fd-026c-4e34-809d-27301c19c765"
      },
      "execution_count": 129,
      "outputs": [
        {
          "output_type": "stream",
          "name": "stdout",
          "text": [
            "My name is Venky and I'm 26 years old\n",
            "My name is Venky and I'm 26 years old.\n",
            "My name is Venky and I'm 26 years old.\n",
            "My name is Viky and I'm 26 years old.\n"
          ]
        }
      ]
    },
    {
      "cell_type": "code",
      "source": [
        "print(\"My name is {1} and I'm {age} years old.\".format(age=26, \"Venky\"))"
      ],
      "metadata": {
        "colab": {
          "base_uri": "https://localhost:8080/",
          "height": 109
        },
        "id": "gKtmToTI2dBR",
        "outputId": "b66dd625-561e-4916-e5ce-bc02c5d30992"
      },
      "execution_count": 130,
      "outputs": [
        {
          "output_type": "error",
          "ename": "SyntaxError",
          "evalue": "positional argument follows keyword argument (<ipython-input-130-0e83ac004fef>, line 1)",
          "traceback": [
            "\u001b[0;36m  File \u001b[0;32m\"<ipython-input-130-0e83ac004fef>\"\u001b[0;36m, line \u001b[0;32m1\u001b[0m\n\u001b[0;31m    print(\"My name is {1} and I'm {age} years old.\".format(age=26, \"Venky\"))\u001b[0m\n\u001b[0m                                                                          ^\u001b[0m\n\u001b[0;31mSyntaxError\u001b[0m\u001b[0;31m:\u001b[0m positional argument follows keyword argument\n"
          ]
        }
      ]
    },
    {
      "cell_type": "code",
      "source": [
        "# integer arguments\n",
        "\n",
        "print(\"Class ends around {:d} AM\".format(9))\n"
      ],
      "metadata": {
        "colab": {
          "base_uri": "https://localhost:8080/",
          "height": 0
        },
        "id": "R3Iu7Ijo2fwg",
        "outputId": "1d972605-9e64-4067-a857-ac9cc0b56a49"
      },
      "execution_count": 135,
      "outputs": [
        {
          "output_type": "stream",
          "name": "stdout",
          "text": [
            "Class ends around 9 AM\n"
          ]
        }
      ]
    },
    {
      "cell_type": "code",
      "source": [
        "print(\"Class ends around {:d} AM\".format(9.30))\n"
      ],
      "metadata": {
        "colab": {
          "base_uri": "https://localhost:8080/",
          "height": 144
        },
        "id": "esZJbOIP3Jm_",
        "outputId": "2b6c964b-8c48-4363-858d-ee4e6e300967"
      },
      "execution_count": 134,
      "outputs": [
        {
          "output_type": "error",
          "ename": "ValueError",
          "evalue": "Unknown format code 'd' for object of type 'float'",
          "traceback": [
            "\u001b[0;31m---------------------------------------------------------------------------\u001b[0m",
            "\u001b[0;31mValueError\u001b[0m                                Traceback (most recent call last)",
            "\u001b[0;32m<ipython-input-134-aaf4d4ba707e>\u001b[0m in \u001b[0;36m<cell line: 1>\u001b[0;34m()\u001b[0m\n\u001b[0;32m----> 1\u001b[0;31m \u001b[0mprint\u001b[0m\u001b[0;34m(\u001b[0m\u001b[0;34m\"Class ends around {:d} AM\"\u001b[0m\u001b[0;34m.\u001b[0m\u001b[0mformat\u001b[0m\u001b[0;34m(\u001b[0m\u001b[0;36m9.30\u001b[0m\u001b[0;34m)\u001b[0m\u001b[0;34m)\u001b[0m\u001b[0;34m\u001b[0m\u001b[0;34m\u001b[0m\u001b[0m\n\u001b[0m",
            "\u001b[0;31mValueError\u001b[0m: Unknown format code 'd' for object of type 'float'"
          ]
        }
      ]
    },
    {
      "cell_type": "code",
      "source": [
        "print(\"Class ends around {:d} AM\".format(\"9\"))"
      ],
      "metadata": {
        "colab": {
          "base_uri": "https://localhost:8080/",
          "height": 144
        },
        "id": "rP3LbAIw3Lsl",
        "outputId": "f89ede3c-72bc-49b3-ea30-35ee800c6d45"
      },
      "execution_count": 136,
      "outputs": [
        {
          "output_type": "error",
          "ename": "ValueError",
          "evalue": "Unknown format code 'd' for object of type 'str'",
          "traceback": [
            "\u001b[0;31m---------------------------------------------------------------------------\u001b[0m",
            "\u001b[0;31mValueError\u001b[0m                                Traceback (most recent call last)",
            "\u001b[0;32m<ipython-input-136-2d81bc3ed0c1>\u001b[0m in \u001b[0;36m<cell line: 1>\u001b[0;34m()\u001b[0m\n\u001b[0;32m----> 1\u001b[0;31m \u001b[0mprint\u001b[0m\u001b[0;34m(\u001b[0m\u001b[0;34m\"Class ends around {:d} AM\"\u001b[0m\u001b[0;34m.\u001b[0m\u001b[0mformat\u001b[0m\u001b[0;34m(\u001b[0m\u001b[0;34m\"9\"\u001b[0m\u001b[0;34m)\u001b[0m\u001b[0;34m)\u001b[0m\u001b[0;34m\u001b[0m\u001b[0;34m\u001b[0m\u001b[0m\n\u001b[0m",
            "\u001b[0;31mValueError\u001b[0m: Unknown format code 'd' for object of type 'str'"
          ]
        }
      ]
    },
    {
      "cell_type": "code",
      "source": [
        "# float arguments\n",
        "\n",
        "print(\"Float value is given by {:f} \".format(120.4568976))\n",
        "print(\"Float round off to 2 digits: {:.2f} \".format(120.4568976))\n",
        "print(\"Float round off to 2 digits: {:.3f} \".format(120.4568976))"
      ],
      "metadata": {
        "colab": {
          "base_uri": "https://localhost:8080/",
          "height": 0
        },
        "id": "zdydv4Yr3ND4",
        "outputId": "ce01beb2-905b-4abf-d131-f52ee7b8cdd8"
      },
      "execution_count": 142,
      "outputs": [
        {
          "output_type": "stream",
          "name": "stdout",
          "text": [
            "Float value is given by 120.456898 \n",
            "Float round off to 2 digits: 120.46 \n",
            "Float round off to 2 digits: 120.457 \n"
          ]
        }
      ]
    },
    {
      "cell_type": "code",
      "source": [
        "# padding\n",
        "\n",
        "print(\"Learning padding for decimal number {:10d}\".format(12897))\n",
        "print(\"Learning padding for float number {:8.3f}\".format(10.5678))\n",
        "print(\"Learning padding for decimal number {:010d}\".format(12897))\n",
        "print(\"Learning padding for float number {:08.3f}\".format(10.5678))\n",
        "print(\"Learning padding for decimal number {:010d}\".format(12897))\n",
        "print(\"Learning padding for float number {:10.3f}\".format(10.5678))"
      ],
      "metadata": {
        "colab": {
          "base_uri": "https://localhost:8080/",
          "height": 0
        },
        "id": "R6oPx_vI32hg",
        "outputId": "155ef278-d581-443e-b529-8484a8e1412d"
      },
      "execution_count": 151,
      "outputs": [
        {
          "output_type": "stream",
          "name": "stdout",
          "text": [
            "Learning padding for decimal number      12897\n",
            "Learning padding for float number   10.568\n",
            "Learning padding for decimal number 0000012897\n",
            "Learning padding for float number 0010.568\n",
            "Learning padding for decimal number 0000012897\n",
            "Learning padding for float number     10.568\n"
          ]
        }
      ]
    },
    {
      "cell_type": "code",
      "source": [
        "# integer with left alignment\n",
        "print(\"Left Alignment Integer: {:<5d}\".format(12))\n",
        "print(\"Right Alignment Integer: {:>5d}\".format(12))\n",
        "print(\"Center Alignment Integer: {:^5d}\".format(12))\n",
        "\n",
        "print(\"Left Alignment Integer: {:<05d}\".format(12))\n",
        "print(\"Right Alignment Integer: {:>05d}\".format(12))\n",
        "print(\"Center Alignment Integer: {:^05d}\".format(12))\n",
        "print(\"Center Alignment Integer: {:^06d}\".format(12))\n",
        "print(\"Center Alignment Integer: {:^07d}\".format(12))"
      ],
      "metadata": {
        "colab": {
          "base_uri": "https://localhost:8080/",
          "height": 0
        },
        "id": "Ikxd7GFa5NtC",
        "outputId": "6b99dcf9-b43a-426b-cc94-42388400ba29"
      },
      "execution_count": 155,
      "outputs": [
        {
          "output_type": "stream",
          "name": "stdout",
          "text": [
            "Left Alignment Integer: 12   \n",
            "Right Alignment Integer:    12\n",
            "Center Alignment Integer:  12  \n",
            "Left Alignment Integer: 12000\n",
            "Right Alignment Integer: 00012\n",
            "Center Alignment Integer: 01200\n",
            "Center Alignment Integer: 001200\n",
            "Center Alignment Integer: 0012000\n"
          ]
        }
      ]
    },
    {
      "cell_type": "code",
      "source": [
        "# strings\n",
        "print(\"Left Alignment Integer: {:*<20}\".format(\"Venkatesh\"))\n",
        "print(\"Right Alignment Integer: {:#>20}\".format(\"Venkatesh\"))\n",
        "print(\"Center Alignment Integer: {:0^20}\".format(\"Venkatesh\"))\n"
      ],
      "metadata": {
        "colab": {
          "base_uri": "https://localhost:8080/",
          "height": 0
        },
        "id": "1TFPRBTI8diR",
        "outputId": "72a18e43-4907-42cd-eb73-e9d67488256a"
      },
      "execution_count": 162,
      "outputs": [
        {
          "output_type": "stream",
          "name": "stdout",
          "text": [
            "Left Alignment Integer: Venkatesh***********\n",
            "Right Alignment Integer: ###########Venkatesh\n",
            "Center Alignment Integer: 00000Venkatesh000000\n"
          ]
        }
      ]
    },
    {
      "cell_type": "code",
      "source": [
        "# truncating the strings\n",
        "\n",
        "print(\"Truncated String: {:.3}\".format(\"Python\"))\n",
        "print(\"Truncated String: {:.2}\".format(\"Python\"))\n",
        "print(\"Truncated String with RA: {:*>10.2}\".format(\"Python\"))\n",
        "print(\"Truncated String with LA: {:*<10.2}\".format(\"Python\"))\n",
        "print(\"Truncated String with LA: {:*^10.2}\".format(\"Python\"))"
      ],
      "metadata": {
        "colab": {
          "base_uri": "https://localhost:8080/",
          "height": 0
        },
        "id": "r4XHHr0E9hFO",
        "outputId": "7a5ab7e9-fd0b-420b-bcbc-46f161f3f1ab"
      },
      "execution_count": 167,
      "outputs": [
        {
          "output_type": "stream",
          "name": "stdout",
          "text": [
            "Truncated String: Pyt\n",
            "Truncated String: Py\n",
            "Truncated String with RA: ********Py\n",
            "Truncated String with LA: Py********\n",
            "Truncated String with LA: ****Py****\n"
          ]
        }
      ]
    },
    {
      "cell_type": "code",
      "source": [
        "print(\"Binary Value: {0:b}, Oct Value: {0:o}, Hex Value: {0:x}\".format(12))\n",
        "print(\"Binary Value: {:b}, Oct Value: {:o}, Hex Value: {:x}\".format(12, 14, 15))"
      ],
      "metadata": {
        "colab": {
          "base_uri": "https://localhost:8080/",
          "height": 0
        },
        "id": "9hFBiPOL-OdK",
        "outputId": "67587607-5267-4a17-d317-9a0b55a398a1"
      },
      "execution_count": 170,
      "outputs": [
        {
          "output_type": "stream",
          "name": "stdout",
          "text": [
            "Binary Value: 1100, Oct Value: 14, Hex Value: c\n",
            "Binary Value: 1100, Oct Value: 16, Hex Value: f\n"
          ]
        }
      ]
    },
    {
      "cell_type": "code",
      "source": [
        "1_000_000+1_000"
      ],
      "metadata": {
        "colab": {
          "base_uri": "https://localhost:8080/",
          "height": 0
        },
        "id": "sdpuWHYK_WxQ",
        "outputId": "fba07fab-0cea-476e-bf6f-40dcfe851f7b"
      },
      "execution_count": 174,
      "outputs": [
        {
          "output_type": "execute_result",
          "data": {
            "text/plain": [
              "1001000"
            ]
          },
          "metadata": {},
          "execution_count": 174
        }
      ]
    },
    {
      "cell_type": "code",
      "source": [
        "1,000,000+1,000"
      ],
      "metadata": {
        "colab": {
          "base_uri": "https://localhost:8080/",
          "height": 0
        },
        "id": "SbjrwozY_u2P",
        "outputId": "f895655e-c4ed-4be8-b2fb-c986d610a166"
      },
      "execution_count": 176,
      "outputs": [
        {
          "output_type": "execute_result",
          "data": {
            "text/plain": [
              "(1, 0, 1, 0)"
            ]
          },
          "metadata": {},
          "execution_count": 176
        }
      ]
    },
    {
      "cell_type": "code",
      "source": [
        "1,000+1,000"
      ],
      "metadata": {
        "colab": {
          "base_uri": "https://localhost:8080/",
          "height": 0
        },
        "id": "aA0LUh4D_bo0",
        "outputId": "d7574580-46c4-412d-bc1b-50683527b64b"
      },
      "execution_count": 175,
      "outputs": [
        {
          "output_type": "execute_result",
          "data": {
            "text/plain": [
              "(1, 1, 0)"
            ]
          },
          "metadata": {},
          "execution_count": 175
        }
      ]
    },
    {
      "cell_type": "markdown",
      "source": [
        "**f-strings**"
      ],
      "metadata": {
        "id": "rqFgsNASAEpQ"
      }
    },
    {
      "cell_type": "code",
      "source": [
        "name = \"Virat\"\n",
        "age = 35\n",
        "\n",
        "print(f\"Hello {name} and your age is {age} now\")\n",
        "print(F\"Hello {name} and your age is {age} now\")"
      ],
      "metadata": {
        "colab": {
          "base_uri": "https://localhost:8080/",
          "height": 0
        },
        "id": "567CGiim_89p",
        "outputId": "68963df6-aab0-4aad-f4a7-ef925ce7b8bc"
      },
      "execution_count": 178,
      "outputs": [
        {
          "output_type": "stream",
          "name": "stdout",
          "text": [
            "Hello Virat and your age is 35 now\n",
            "Hello Virat and your age is 35 now\n"
          ]
        }
      ]
    },
    {
      "cell_type": "code",
      "source": [
        "print(f\"\"\"Name: Virat\n",
        "Age: 36\n",
        "Playing Cricket\"\"\")"
      ],
      "metadata": {
        "colab": {
          "base_uri": "https://localhost:8080/",
          "height": 0
        },
        "id": "xzN9M337A66N",
        "outputId": "13b24476-af3b-4cf1-8001-76d834129ca3"
      },
      "execution_count": 181,
      "outputs": [
        {
          "output_type": "stream",
          "name": "stdout",
          "text": [
            "Name: Virat\n",
            "Age: 36 \n",
            "Playing Cricket\n"
          ]
        }
      ]
    },
    {
      "cell_type": "code",
      "source": [
        "print(f\"Printing Braces {{}}\")"
      ],
      "metadata": {
        "colab": {
          "base_uri": "https://localhost:8080/",
          "height": 0
        },
        "id": "X4689bUqBJaC",
        "outputId": "806b6130-46c3-4207-c7fa-32eff870375c"
      },
      "execution_count": 183,
      "outputs": [
        {
          "output_type": "stream",
          "name": "stdout",
          "text": [
            "Printing Braces {}\n"
          ]
        }
      ]
    },
    {
      "cell_type": "code",
      "source": [
        "float_val = 12.678\n",
        "print(f\"Float Value is given by : {float_val: .2f}\")"
      ],
      "metadata": {
        "colab": {
          "base_uri": "https://localhost:8080/",
          "height": 0
        },
        "id": "wP83bPHWAZtM",
        "outputId": "e17d0eef-c1ca-4b37-f540-e626e9afeb75"
      },
      "execution_count": 179,
      "outputs": [
        {
          "output_type": "stream",
          "name": "stdout",
          "text": [
            "Float Value is given by :  12.68\n"
          ]
        }
      ]
    },
    {
      "cell_type": "code",
      "source": [
        "1,2,3"
      ],
      "metadata": {
        "colab": {
          "base_uri": "https://localhost:8080/",
          "height": 0
        },
        "id": "rY31oHF8BdzV",
        "outputId": "13c8d0c8-6258-4250-9f1a-ef09b84de0e7"
      },
      "execution_count": 184,
      "outputs": [
        {
          "output_type": "execute_result",
          "data": {
            "text/plain": [
              "(1, 2, 3)"
            ]
          },
          "metadata": {},
          "execution_count": 184
        }
      ]
    },
    {
      "cell_type": "code",
      "source": [
        "1,000+5,178"
      ],
      "metadata": {
        "colab": {
          "base_uri": "https://localhost:8080/",
          "height": 0
        },
        "id": "cnoHBML5BhpJ",
        "outputId": "362b2b89-d0fd-4a71-e6a4-52e4f6c0d221"
      },
      "execution_count": 186,
      "outputs": [
        {
          "output_type": "execute_result",
          "data": {
            "text/plain": [
              "(1, 5, 178)"
            ]
          },
          "metadata": {},
          "execution_count": 186
        }
      ]
    }
  ]
}
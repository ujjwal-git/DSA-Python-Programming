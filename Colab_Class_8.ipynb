{
  "nbformat": 4,
  "nbformat_minor": 0,
  "metadata": {
    "colab": {
      "provenance": []
    },
    "kernelspec": {
      "name": "python3",
      "display_name": "Python 3"
    },
    "language_info": {
      "name": "python"
    }
  },
  "cells": [
    {
      "cell_type": "markdown",
      "source": [
        "**Loops in Python**"
      ],
      "metadata": {
        "id": "CgCZAA29JmB9"
      }
    },
    {
      "cell_type": "code",
      "source": [
        "n = 10\n",
        "i = 9\n",
        "j = 5\n",
        "\n",
        "while i<n:\n",
        "  print(\"value i: \", i)\n",
        "  while j<n:\n",
        "    print(\"value j: \", j)\n",
        "    j+=1\n",
        "  i+=1\n",
        "\n",
        "print(\"Came outside while loop\")"
      ],
      "metadata": {
        "colab": {
          "base_uri": "https://localhost:8080/",
          "height": 0
        },
        "id": "ehrqQkJkLBGB",
        "outputId": "cc239d0c-ad05-4e02-b4b1-5a567cb71e6d"
      },
      "execution_count": 4,
      "outputs": [
        {
          "output_type": "stream",
          "name": "stdout",
          "text": [
            "value i:  9\n",
            "value j:  5\n",
            "value j:  6\n",
            "value j:  7\n",
            "value j:  8\n",
            "value j:  9\n",
            "Came outside while loop\n"
          ]
        }
      ]
    },
    {
      "cell_type": "code",
      "source": [
        "team_score = [12,23,54,26,76,31]\n",
        "\n",
        "i = 0\n",
        "n = len(team_score)\n",
        "total_score = 0\n",
        "\n",
        "while i<n:\n",
        "  print(\"iteration: \", i)\n",
        "  total_score += team_score[i]\n",
        "  print(\"total score: \", total_score)\n",
        "  if total_score>=100:\n",
        "    break\n",
        "  i+=1\n",
        "\n",
        "print(\"came out of loop\")\n"
      ],
      "metadata": {
        "colab": {
          "base_uri": "https://localhost:8080/",
          "height": 0
        },
        "id": "BOAiOh99N4kL",
        "outputId": "95ef0f64-646a-44d5-b839-b7a5c5ff1ce2"
      },
      "execution_count": 5,
      "outputs": [
        {
          "output_type": "stream",
          "name": "stdout",
          "text": [
            "iteration:  0\n",
            "total score:  12\n",
            "iteration:  1\n",
            "total score:  35\n",
            "iteration:  2\n",
            "total score:  89\n",
            "iteration:  3\n",
            "total score:  115\n",
            "came out of loop\n"
          ]
        }
      ]
    },
    {
      "cell_type": "code",
      "source": [
        "team_score = [12,23,54,26,76,31]\n",
        "\n",
        "i = 0\n",
        "n = len(team_score)\n",
        "total_score = 0\n",
        "\n",
        "for score in team_score:\n",
        "  print(\"score: -->\", score)\n",
        "  total_score += score\n",
        "  print(\"total_score: -->\", total_score)\n",
        "  if total_score >= 100:\n",
        "    break\n",
        "\n",
        "print(\"Came out of for loop\")"
      ],
      "metadata": {
        "colab": {
          "base_uri": "https://localhost:8080/",
          "height": 0
        },
        "id": "t6ew4lqUPO6E",
        "outputId": "18137b2c-4eba-4375-992e-0ebc836409d1"
      },
      "execution_count": 6,
      "outputs": [
        {
          "output_type": "stream",
          "name": "stdout",
          "text": [
            "score: --> 12\n",
            "total_score: --> 12\n",
            "score: --> 23\n",
            "total_score: --> 35\n",
            "score: --> 54\n",
            "total_score: --> 89\n",
            "score: --> 26\n",
            "total_score: --> 115\n",
            "Came out of for loop\n"
          ]
        }
      ]
    },
    {
      "cell_type": "code",
      "source": [
        "team_score = [12,23,54,26,76,31]\n",
        "\n",
        "i = 0\n",
        "n = len(team_score)\n",
        "total_score = 0\n",
        "\n",
        "for score in team_score:\n",
        "  print(\"score: -->\", score)\n",
        "  total_score += score\n",
        "  print(\"total_score: -->\", total_score)\n",
        "  if total_score>=100:\n",
        "    break\n",
        ""
      ],
      "metadata": {
        "colab": {
          "base_uri": "https://localhost:8080/",
          "height": 0
        },
        "id": "t-ATcpTyP1Rj",
        "outputId": "3d387d7f-1732-4c6c-d10f-99be0c8016d0"
      },
      "execution_count": 8,
      "outputs": [
        {
          "output_type": "stream",
          "name": "stdout",
          "text": [
            "score: --> 12\n",
            "total_score: --> 12\n",
            "score: --> 23\n",
            "total_score: --> 35\n",
            "score: --> 54\n",
            "total_score: --> 89\n",
            "score: --> 26\n",
            "total_score: --> 115\n"
          ]
        }
      ]
    },
    {
      "cell_type": "code",
      "source": [
        "team_scores = [[12,23,54,26,76,31], [12,34,54,23,53,23,53], [1,2,4,52,5]]\n",
        "\n",
        "for curr_team_score in team_scores:\n",
        "  total_score = 0\n",
        "  print(\"curr team score: -->\", curr_team_score)\n",
        "  for score in curr_team_score:\n",
        "    print(\"score: \", score)\n",
        "    total_score += score\n",
        "    print(\"total_score : -->\", total_score)\n",
        "    if total_score >= 100:\n",
        "      break\n",
        "  if len(curr_team_score) > 4:\n",
        "    break\n",
        "\n",
        "print(\"came out of for loop\")"
      ],
      "metadata": {
        "colab": {
          "base_uri": "https://localhost:8080/",
          "height": 0
        },
        "id": "bLNqG_cgQTjt",
        "outputId": "a664fa1d-84ec-4b04-8adc-41265f3c8490"
      },
      "execution_count": 12,
      "outputs": [
        {
          "output_type": "stream",
          "name": "stdout",
          "text": [
            "curr team score: --> [12, 23, 54, 26, 76, 31]\n",
            "score:  12\n",
            "total_score : --> 12\n",
            "score:  23\n",
            "total_score : --> 35\n",
            "score:  54\n",
            "total_score : --> 89\n",
            "score:  26\n",
            "total_score : --> 115\n",
            "came out of for loop\n"
          ]
        }
      ]
    },
    {
      "cell_type": "markdown",
      "source": [
        "### **Continue**"
      ],
      "metadata": {
        "id": "EANLtynRR7KQ"
      }
    },
    {
      "cell_type": "code",
      "source": [
        "l = [12,32,0,-10,-5,200,100]\n",
        "\n",
        "non_negative_value = 0\n",
        "\n",
        "for value in l:\n",
        "  print(\"value: \", value)\n",
        "  if value<0:\n",
        "    continue\n",
        "  non_negative_value += value\n",
        "  print(\"curr non negative value: \", non_negative_value)\n",
        "\n",
        "print(\"final non_negative_value outside for loop: \",non_negative_value)"
      ],
      "metadata": {
        "colab": {
          "base_uri": "https://localhost:8080/",
          "height": 0
        },
        "id": "PWzG12MeN-V4",
        "outputId": "a97e871f-735f-40dc-d18b-44cc3e31924b"
      },
      "execution_count": 15,
      "outputs": [
        {
          "output_type": "stream",
          "name": "stdout",
          "text": [
            "value:  12\n",
            "curr non negative value:  12\n",
            "value:  32\n",
            "curr non negative value:  44\n",
            "value:  0\n",
            "curr non negative value:  44\n",
            "value:  -10\n",
            "value:  -5\n",
            "value:  200\n",
            "curr non negative value:  244\n",
            "value:  100\n",
            "curr non negative value:  344\n",
            "final non_negative_value outside for loop:  344\n"
          ]
        }
      ]
    },
    {
      "cell_type": "code",
      "source": [
        "l = [1,2,3,4,5,6,5,4,2]\n",
        "\n",
        "for value in l:\n",
        "  print(\"value: -->\",value)\n",
        "  if value==5:\n",
        "    continue\n",
        "  print(\"VENKY\")\n",
        "  print(\"Python\")\n",
        "  print(\"ANy value\")"
      ],
      "metadata": {
        "colab": {
          "base_uri": "https://localhost:8080/",
          "height": 0
        },
        "id": "PQMRppmsUyl8",
        "outputId": "754785fe-704c-464b-8857-5d65413595fe"
      },
      "execution_count": 16,
      "outputs": [
        {
          "output_type": "stream",
          "name": "stdout",
          "text": [
            "value: --> 1\n",
            "VENKY\n",
            "Python\n",
            "ANy value\n",
            "value: --> 2\n",
            "VENKY\n",
            "Python\n",
            "ANy value\n",
            "value: --> 3\n",
            "VENKY\n",
            "Python\n",
            "ANy value\n",
            "value: --> 4\n",
            "VENKY\n",
            "Python\n",
            "ANy value\n",
            "value: --> 5\n",
            "value: --> 6\n",
            "VENKY\n",
            "Python\n",
            "ANy value\n",
            "value: --> 5\n",
            "value: --> 4\n",
            "VENKY\n",
            "Python\n",
            "ANy value\n",
            "value: --> 2\n",
            "VENKY\n",
            "Python\n",
            "ANy value\n"
          ]
        }
      ]
    },
    {
      "cell_type": "markdown",
      "source": [
        "### **Pass**"
      ],
      "metadata": {
        "id": "QRgzjhVFVjgN"
      }
    },
    {
      "cell_type": "code",
      "source": [
        "l = [[9.5,8.2,7.3,5], [5.6,9.8,10,7.1,6], [6.2,7.5,9.3]]\n",
        "\n",
        "for cgpa_list in l:\n",
        "  for curr_cgpa in cgpa_list:\n",
        "    print(\"curr_cgpa: \", curr_cgpa)\n",
        "    if curr_cgpa>9:\n",
        "      pass\n",
        "  print(\"Award Ceremony\")\n",
        "  print(\"Parties in college\")"
      ],
      "metadata": {
        "colab": {
          "base_uri": "https://localhost:8080/",
          "height": 0
        },
        "id": "5d1px2sWVnHt",
        "outputId": "8e3913cd-4fad-4082-81b8-85512480c042"
      },
      "execution_count": 21,
      "outputs": [
        {
          "output_type": "stream",
          "name": "stdout",
          "text": [
            "curr_cgpa:  9.5\n",
            "curr_cgpa:  8.2\n",
            "curr_cgpa:  7.3\n",
            "curr_cgpa:  5\n",
            "Award Ceremony\n",
            "Parties in college\n",
            "curr_cgpa:  5.6\n",
            "curr_cgpa:  9.8\n",
            "curr_cgpa:  10\n",
            "curr_cgpa:  7.1\n",
            "curr_cgpa:  6\n",
            "Award Ceremony\n",
            "Parties in college\n",
            "curr_cgpa:  6.2\n",
            "curr_cgpa:  7.5\n",
            "curr_cgpa:  9.3\n",
            "Award Ceremony\n",
            "Parties in college\n"
          ]
        }
      ]
    },
    {
      "cell_type": "code",
      "source": [
        "l = [10,20,30,40]\n",
        "\n",
        "for value in l:\n",
        "  if value>20:\n",
        "    continue\n",
        "  print(\"Value: \", value)"
      ],
      "metadata": {
        "colab": {
          "base_uri": "https://localhost:8080/",
          "height": 0
        },
        "id": "jOR-p27ZXaWG",
        "outputId": "95a3b42a-097b-464f-b36b-128a38ad7487"
      },
      "execution_count": 22,
      "outputs": [
        {
          "output_type": "stream",
          "name": "stdout",
          "text": [
            "Value:  10\n",
            "Value:  20\n"
          ]
        }
      ]
    },
    {
      "cell_type": "code",
      "source": [
        "l = [10,20,30,40]\n",
        "\n",
        "for value in l:\n",
        "  if value>20:\n",
        "    pass\n",
        "  print(\"Value: \", value)"
      ],
      "metadata": {
        "colab": {
          "base_uri": "https://localhost:8080/",
          "height": 0
        },
        "id": "dm8JS0s2XxoX",
        "outputId": "bc779ff4-1a33-46c5-baa9-949c03094836"
      },
      "execution_count": 23,
      "outputs": [
        {
          "output_type": "stream",
          "name": "stdout",
          "text": [
            "Value:  10\n",
            "Value:  20\n",
            "Value:  30\n",
            "Value:  40\n"
          ]
        }
      ]
    },
    {
      "cell_type": "code",
      "source": [
        "l = [10,20,30,40]\n",
        "\n",
        "for value in l:\n",
        "  if value>20:\n",
        "    # adding a line single comment\n",
        "  print(\"Value: \", value)"
      ],
      "metadata": {
        "colab": {
          "base_uri": "https://localhost:8080/",
          "height": 109
        },
        "id": "dmQ-1_utYk7k",
        "outputId": "b3c8f70e-adc4-4af4-ed19-c1d236a0c09c"
      },
      "execution_count": 24,
      "outputs": [
        {
          "output_type": "error",
          "ename": "IndentationError",
          "evalue": "expected an indented block after 'if' statement on line 4 (<ipython-input-24-270a9c82fd1c>, line 6)",
          "traceback": [
            "\u001b[0;36m  File \u001b[0;32m\"<ipython-input-24-270a9c82fd1c>\"\u001b[0;36m, line \u001b[0;32m6\u001b[0m\n\u001b[0;31m    print(\"Value: \", value)\u001b[0m\n\u001b[0m    ^\u001b[0m\n\u001b[0;31mIndentationError\u001b[0m\u001b[0;31m:\u001b[0m expected an indented block after 'if' statement on line 4\n"
          ]
        }
      ]
    },
    {
      "cell_type": "markdown",
      "source": [
        "### **Else in Loops**"
      ],
      "metadata": {
        "id": "kFz4C9afYxyt"
      }
    },
    {
      "cell_type": "code",
      "source": [
        "# IF ELSE\n",
        "\n",
        "value = 5\n",
        "\n",
        "if value>6:\n",
        "  print(\"Value more than 6: \", value)\n",
        "else:\n",
        "  print(\"Value less than 6: \", value)"
      ],
      "metadata": {
        "colab": {
          "base_uri": "https://localhost:8080/",
          "height": 0
        },
        "id": "Roe42WeaYxD1",
        "outputId": "06ece50a-49c8-4ede-bd1b-eb073581d1d1"
      },
      "execution_count": 25,
      "outputs": [
        {
          "output_type": "stream",
          "name": "stdout",
          "text": [
            "Value less than 6:  5\n"
          ]
        }
      ]
    },
    {
      "cell_type": "code",
      "source": [
        "# else in for loops\n",
        "\n",
        "l = [10,20,30,40,50,60]\n",
        "\n",
        "total_value = 0\n",
        "for value in l:\n",
        "  total_value += value\n",
        "  print(\"curr_total_value: \", total_value)\n",
        "else:\n",
        "  print(\"In Else Block of for loop\")\n",
        "\n",
        "print(\"Outside For loop\")"
      ],
      "metadata": {
        "colab": {
          "base_uri": "https://localhost:8080/",
          "height": 0
        },
        "id": "r0LGGEohbBuk",
        "outputId": "0cbcd17b-7056-4377-ef77-e5e425ea8e67"
      },
      "execution_count": 26,
      "outputs": [
        {
          "output_type": "stream",
          "name": "stdout",
          "text": [
            "curr_total_value:  10\n",
            "curr_total_value:  30\n",
            "curr_total_value:  60\n",
            "curr_total_value:  100\n",
            "curr_total_value:  150\n",
            "curr_total_value:  210\n",
            "In Else Block of for loop\n",
            "Outside For loop\n"
          ]
        }
      ]
    },
    {
      "cell_type": "code",
      "source": [
        "l = [10,20,30,40,50,60]\n",
        "\n",
        "for value in l:\n",
        "  print(\"curr_value: \", value)\n",
        "  if value == 45:\n",
        "    break\n",
        "else:\n",
        "  print(\"In Else Block of for loop\")\n",
        "\n",
        "print(\"Outside For loop\")"
      ],
      "metadata": {
        "colab": {
          "base_uri": "https://localhost:8080/",
          "height": 0
        },
        "id": "BTD5sRkqbuko",
        "outputId": "031d9154-7bd7-4721-c1fc-b03f67e4f5ac"
      },
      "execution_count": 27,
      "outputs": [
        {
          "output_type": "stream",
          "name": "stdout",
          "text": [
            "curr_value:  10\n",
            "curr_value:  20\n",
            "curr_value:  30\n",
            "curr_value:  40\n",
            "curr_value:  50\n",
            "curr_value:  60\n",
            "In Else Block of for loop\n",
            "Outside For loop\n"
          ]
        }
      ]
    },
    {
      "cell_type": "code",
      "source": [
        "l = [10,20,30,45,50,60]\n",
        "\n",
        "for value in l:\n",
        "  print(\"curr_value: \", value)\n",
        "  if value == 45:\n",
        "    break\n",
        "else:\n",
        "  print(\"In Else Block of for loop\")\n",
        "\n",
        "print(\"Outside For loop\")"
      ],
      "metadata": {
        "colab": {
          "base_uri": "https://localhost:8080/",
          "height": 0
        },
        "id": "LRMcprzUcBdX",
        "outputId": "825a41c6-0bfa-4981-b263-2c8058903971"
      },
      "execution_count": 28,
      "outputs": [
        {
          "output_type": "stream",
          "name": "stdout",
          "text": [
            "curr_value:  10\n",
            "curr_value:  20\n",
            "curr_value:  30\n",
            "curr_value:  45\n",
            "Outside For loop\n"
          ]
        }
      ]
    },
    {
      "cell_type": "code",
      "source": [
        "l = [10,20,30,45,50,60]\n",
        "\n",
        "for value in l:\n",
        "  print(\"curr_value: \", value)\n",
        "  if value == 60:\n",
        "    break\n",
        "else:\n",
        "  print(\"In Else Block of for loop\")\n",
        "\n",
        "print(\"Outside For loop\")"
      ],
      "metadata": {
        "colab": {
          "base_uri": "https://localhost:8080/",
          "height": 0
        },
        "id": "OuPZEt1AcaLJ",
        "outputId": "41f0b4f6-2e7f-4fcd-ad8c-c84b25973235"
      },
      "execution_count": 29,
      "outputs": [
        {
          "output_type": "stream",
          "name": "stdout",
          "text": [
            "curr_value:  10\n",
            "curr_value:  20\n",
            "curr_value:  30\n",
            "curr_value:  45\n",
            "curr_value:  50\n",
            "curr_value:  60\n",
            "Outside For loop\n"
          ]
        }
      ]
    },
    {
      "cell_type": "markdown",
      "source": [
        "**Understanding else in for loop**\n",
        "\n",
        "1. if there is a break in a for loop, then else block of for loop will not be executed.\n",
        "\n",
        "2. if there is no break in a for loop, then else block of for loop will be executed."
      ],
      "metadata": {
        "id": "XafJ2Jz9dQXD"
      }
    },
    {
      "cell_type": "code",
      "source": [
        "rcb_main_5 = [\"virat\", \"faf\", \"maxi\", \"dhoni\", \"rohit\"]\n",
        "\n",
        "for player in rcb_main_5:\n",
        "  print(\"curr_player: \", player)\n",
        "  if player == \"abd\":\n",
        "    break\n",
        "else:\n",
        "  print(\"In Else Block of for loop\")\n",
        "print(\"Outside For loop\")"
      ],
      "metadata": {
        "colab": {
          "base_uri": "https://localhost:8080/",
          "height": 0
        },
        "id": "eTtt20mOcsZ-",
        "outputId": "461173b7-0e58-48ba-f50d-57ee12aa4558"
      },
      "execution_count": 34,
      "outputs": [
        {
          "output_type": "stream",
          "name": "stdout",
          "text": [
            "curr_player:  virat\n",
            "curr_player:  faf\n",
            "curr_player:  maxi\n",
            "curr_player:  dhoni\n",
            "curr_player:  rohit\n",
            "In Else Block of for loop\n",
            "Outside For loop\n"
          ]
        }
      ]
    },
    {
      "cell_type": "code",
      "source": [
        "rcb_main_5 = [\"virat\", \"faf\", \"maxi\", \"dhoni\", \"rohit\"]\n",
        "\n",
        "for player in rcb_main_5:\n",
        "  print(\"curr_player: \",player)\n",
        "  if player == \"faf\":\n",
        "    print(\"inside break\")\n",
        "    break\n",
        "else:\n",
        "  print(\"In Else Block of for loop\")\n",
        "print(\"Outside For loop\")"
      ],
      "metadata": {
        "colab": {
          "base_uri": "https://localhost:8080/",
          "height": 0
        },
        "id": "nn71_Zpedi5q",
        "outputId": "d8861df5-3863-4a7f-fee7-77c32513bbf0"
      },
      "execution_count": 41,
      "outputs": [
        {
          "output_type": "stream",
          "name": "stdout",
          "text": [
            "curr_player:  virat\n",
            "curr_player:  faf\n",
            "inside break\n",
            "Outside For loop\n"
          ]
        }
      ]
    },
    {
      "cell_type": "code",
      "source": [
        "l = [[1,2,3,4], [6,7,9,11]]\n",
        "\n",
        "for curr_list in l:\n",
        "  for value in curr_list:\n",
        "    if value == 5:\n",
        "      break\n",
        "  else:\n",
        "    print(\"In else block of inner for loop\")\n",
        "else:\n",
        "  print(\"In else block of outer for loop\")\n",
        "print(\"Outside complete for loop\")"
      ],
      "metadata": {
        "colab": {
          "base_uri": "https://localhost:8080/",
          "height": 0
        },
        "id": "5nPfWkUweRz0",
        "outputId": "860dcf92-ec8d-4807-f4f2-4cff66a7a05f"
      },
      "execution_count": 44,
      "outputs": [
        {
          "output_type": "stream",
          "name": "stdout",
          "text": [
            "In else block of inner for loop\n",
            "In else block of inner for loop\n",
            "In else block of outer for loop\n",
            "Outside complete for loop\n"
          ]
        }
      ]
    },
    {
      "cell_type": "markdown",
      "source": [
        "### **While loop - else**"
      ],
      "metadata": {
        "id": "f9WoQvKNfpd3"
      }
    },
    {
      "cell_type": "code",
      "source": [
        "i = 0\n",
        "n = 10\n",
        "\n",
        "while i<n:\n",
        "  print(\"value i : \", i)\n",
        "  if i==7:\n",
        "    break\n",
        "  i+=1\n",
        "else:\n",
        "  print(\"This is while loop else\")\n",
        "print(\"Outside while loop\")"
      ],
      "metadata": {
        "colab": {
          "base_uri": "https://localhost:8080/",
          "height": 0
        },
        "id": "_9U9TrDNfo14",
        "outputId": "ba8d58c6-4050-43e3-d08d-09d8ef527d5f"
      },
      "execution_count": 45,
      "outputs": [
        {
          "output_type": "stream",
          "name": "stdout",
          "text": [
            "value i :  0\n",
            "value i :  1\n",
            "value i :  2\n",
            "value i :  3\n",
            "value i :  4\n",
            "value i :  5\n",
            "value i :  6\n",
            "value i :  7\n",
            "Outside while loop\n"
          ]
        }
      ]
    },
    {
      "cell_type": "code",
      "source": [
        "i = 0\n",
        "n = 10\n",
        "\n",
        "while i<n:\n",
        "  print(\"value i : \", i)\n",
        "  if i==7:\n",
        "    print(\"Venky\")\n",
        "  i+=1\n",
        "else:\n",
        "  print(\"This is while loop else\")\n",
        "print(\"Outside while loop\")"
      ],
      "metadata": {
        "colab": {
          "base_uri": "https://localhost:8080/",
          "height": 0
        },
        "id": "xIrGI-4jf9G-",
        "outputId": "6c985c73-bb79-41ee-d549-f692df0c6d9c"
      },
      "execution_count": 47,
      "outputs": [
        {
          "output_type": "stream",
          "name": "stdout",
          "text": [
            "value i :  0\n",
            "value i :  1\n",
            "value i :  2\n",
            "value i :  3\n",
            "value i :  4\n",
            "value i :  5\n",
            "value i :  6\n",
            "value i :  7\n",
            "Venky\n",
            "value i :  8\n",
            "value i :  9\n",
            "This is while loop else\n",
            "Outside while loop\n"
          ]
        }
      ]
    },
    {
      "cell_type": "code",
      "source": [],
      "metadata": {
        "id": "d9TAoQpLg6dB"
      },
      "execution_count": null,
      "outputs": []
    }
  ]
}
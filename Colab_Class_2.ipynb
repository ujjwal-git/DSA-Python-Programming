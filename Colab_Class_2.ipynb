{
  "cells": [
    {
      "cell_type": "markdown",
      "metadata": {
        "id": "WKcEpGbMSMM6"
      },
      "source": [
        "### **Variables**"
      ]
    },
    {
      "cell_type": "code",
      "execution_count": 1,
      "metadata": {
        "colab": {
          "base_uri": "https://localhost:8080/"
        },
        "id": "SWbGqpbWSfvF",
        "outputId": "4f5dbcbf-0d04-4de4-d3c3-9a9f3a74f46c"
      },
      "outputs": [
        {
          "name": "stdout",
          "output_type": "stream",
          "text": [
            "abc\n",
            "venky\n"
          ]
        }
      ],
      "source": [
        "print(\"abc\")\n",
        "print(\"venky\")"
      ]
    },
    {
      "cell_type": "code",
      "execution_count": 2,
      "metadata": {
        "colab": {
          "base_uri": "https://localhost:8080/"
        },
        "id": "0tAaazDGXgLS",
        "outputId": "0a67cdfd-2b46-4cf8-cba0-b56e6d24fe14"
      },
      "outputs": [
        {
          "name": "stdout",
          "output_type": "stream",
          "text": [
            "abc\n",
            "venky\n"
          ]
        }
      ],
      "source": [
        "# using semicolons\n",
        "\n",
        "print(\"abc\");\n",
        "print(\"venky\")"
      ]
    },
    {
      "cell_type": "code",
      "execution_count": 3,
      "metadata": {
        "colab": {
          "base_uri": "https://localhost:8080/",
          "height": 109
        },
        "id": "K9ddjdwmXqLj",
        "outputId": "6157ca7f-9546-46e7-af29-aa944ed86456"
      },
      "outputs": [
        {
          "ename": "SyntaxError",
          "evalue": "invalid syntax (1080233153.py, line 1)",
          "output_type": "error",
          "traceback": [
            "\u001b[0;36m  Cell \u001b[0;32mIn[3], line 1\u001b[0;36m\u001b[0m\n\u001b[0;31m    print(\"abc\") print(\"venky\")\u001b[0m\n\u001b[0m                 ^\u001b[0m\n\u001b[0;31mSyntaxError\u001b[0m\u001b[0;31m:\u001b[0m invalid syntax\n"
          ]
        }
      ],
      "source": [
        "print(\"abc\") print(\"venky\")"
      ]
    },
    {
      "cell_type": "code",
      "execution_count": 4,
      "metadata": {
        "colab": {
          "base_uri": "https://localhost:8080/"
        },
        "id": "oIgPfSbCYF8_",
        "outputId": "af2d22ff-9b98-4ec9-da87-1efb12eeb380"
      },
      "outputs": [
        {
          "name": "stdout",
          "output_type": "stream",
          "text": [
            "abc\n",
            "venky\n",
            "10\n"
          ]
        }
      ],
      "source": [
        "print(\"abc\"); print(\"venky\"); a = 10; print(a)"
      ]
    },
    {
      "cell_type": "code",
      "execution_count": 5,
      "metadata": {
        "colab": {
          "base_uri": "https://localhost:8080/",
          "height": 109
        },
        "id": "cGcDBPrUYRkp",
        "outputId": "957f7f05-c024-4e7e-d9cc-6db8dcd0cbdd"
      },
      "outputs": [
        {
          "ename": "IndentationError",
          "evalue": "unexpected indent (565910000.py, line 4)",
          "output_type": "error",
          "traceback": [
            "\u001b[0;36m  Cell \u001b[0;32mIn[5], line 4\u001b[0;36m\u001b[0m\n\u001b[0;31m    print(\"venky\")\u001b[0m\n\u001b[0m    ^\u001b[0m\n\u001b[0;31mIndentationError\u001b[0m\u001b[0;31m:\u001b[0m unexpected indent\n"
          ]
        }
      ],
      "source": [
        "# Indentation\n",
        "\n",
        "print(\"abc\")\n",
        " print(\"venky\")\n"
      ]
    },
    {
      "cell_type": "code",
      "execution_count": 6,
      "metadata": {
        "colab": {
          "base_uri": "https://localhost:8080/"
        },
        "id": "UvDGp6POYloa",
        "outputId": "558e7820-cee0-4d8d-b911-0fdd8997602f"
      },
      "outputs": [
        {
          "name": "stdout",
          "output_type": "stream",
          "text": [
            "Welcome to Python class\n"
          ]
        }
      ],
      "source": [
        "welcome_message = \"Welcome to Python class\"\n",
        "print(welcome_message)"
      ]
    },
    {
      "cell_type": "code",
      "execution_count": 7,
      "metadata": {
        "colab": {
          "base_uri": "https://localhost:8080/",
          "height": 109
        },
        "id": "swtjEQxRZRvE",
        "outputId": "9623bce0-4ccc-4f5b-b6c2-0079e73417ba"
      },
      "outputs": [
        {
          "ename": "SyntaxError",
          "evalue": "invalid syntax (2876864121.py, line 3)",
          "output_type": "error",
          "traceback": [
            "\u001b[0;36m  Cell \u001b[0;32mIn[7], line 3\u001b[0;36m\u001b[0m\n\u001b[0;31m    welcome message = \"Welcome to Python Class\"\u001b[0m\n\u001b[0m            ^\u001b[0m\n\u001b[0;31mSyntaxError\u001b[0m\u001b[0;31m:\u001b[0m invalid syntax\n"
          ]
        }
      ],
      "source": [
        "# space not allowed while declaring\n",
        "\n",
        "welcome message = \"Welcome to Python Class\"\n",
        "print(welcome message)"
      ]
    },
    {
      "cell_type": "code",
      "execution_count": 8,
      "metadata": {
        "colab": {
          "base_uri": "https://localhost:8080/",
          "height": 109
        },
        "id": "4v8DrlOhZhrg",
        "outputId": "9953ff93-ba3e-4553-a6ec-1fff900116e6"
      },
      "outputs": [
        {
          "ename": "SyntaxError",
          "evalue": "invalid decimal literal (1782106500.py, line 3)",
          "output_type": "error",
          "traceback": [
            "\u001b[0;36m  Cell \u001b[0;32mIn[8], line 3\u001b[0;36m\u001b[0m\n\u001b[0;31m    9abc = 10\u001b[0m\n\u001b[0m    ^\u001b[0m\n\u001b[0;31mSyntaxError\u001b[0m\u001b[0;31m:\u001b[0m invalid decimal literal\n"
          ]
        }
      ],
      "source": [
        "_abc = 9\n",
        "print(_abc)\n",
        "9abc = 10\n",
        "print(9abc)"
      ]
    },
    {
      "cell_type": "code",
      "execution_count": 10,
      "metadata": {
        "colab": {
          "base_uri": "https://localhost:8080/"
        },
        "id": "50cr0r-WZs4o",
        "outputId": "64044aa1-59f3-4354-f941-a2586e3db539"
      },
      "outputs": [
        {
          "name": "stdout",
          "output_type": "stream",
          "text": [
            "100\n"
          ]
        }
      ],
      "source": [
        "_ = 100\n",
        "print(_)"
      ]
    },
    {
      "cell_type": "code",
      "execution_count": 11,
      "metadata": {
        "colab": {
          "base_uri": "https://localhost:8080/"
        },
        "id": "Vu4cxICJZ3hs",
        "outputId": "e5e35187-568a-42a6-e3b5-6900548ff7c7"
      },
      "outputs": [
        {
          "data": {
            "text/plain": [
              "['False',\n",
              " 'None',\n",
              " 'True',\n",
              " 'and',\n",
              " 'as',\n",
              " 'assert',\n",
              " 'async',\n",
              " 'await',\n",
              " 'break',\n",
              " 'class',\n",
              " 'continue',\n",
              " 'def',\n",
              " 'del',\n",
              " 'elif',\n",
              " 'else',\n",
              " 'except',\n",
              " 'finally',\n",
              " 'for',\n",
              " 'from',\n",
              " 'global',\n",
              " 'if',\n",
              " 'import',\n",
              " 'in',\n",
              " 'is',\n",
              " 'lambda',\n",
              " 'nonlocal',\n",
              " 'not',\n",
              " 'or',\n",
              " 'pass',\n",
              " 'raise',\n",
              " 'return',\n",
              " 'try',\n",
              " 'while',\n",
              " 'with',\n",
              " 'yield']"
            ]
          },
          "execution_count": 11,
          "metadata": {},
          "output_type": "execute_result"
        }
      ],
      "source": [
        "import keyword\n",
        "keyword.kwlist"
      ]
    },
    {
      "cell_type": "code",
      "execution_count": 12,
      "metadata": {
        "colab": {
          "base_uri": "https://localhost:8080/"
        },
        "id": "OdIFeee6aeBT",
        "outputId": "b8e52bfa-7864-4c1d-8d74-6979753afcc0"
      },
      "outputs": [
        {
          "data": {
            "text/plain": [
              "35"
            ]
          },
          "execution_count": 12,
          "metadata": {},
          "output_type": "execute_result"
        }
      ],
      "source": [
        "len(keyword.kwlist) # 35 keywords in python"
      ]
    },
    {
      "cell_type": "code",
      "execution_count": 13,
      "metadata": {
        "colab": {
          "base_uri": "https://localhost:8080/",
          "height": 109
        },
        "id": "K-bvtSr2aOi5",
        "outputId": "cdc24671-221b-4238-e70d-73a8e3d77c81"
      },
      "outputs": [
        {
          "ename": "SyntaxError",
          "evalue": "cannot assign to False (3550794659.py, line 1)",
          "output_type": "error",
          "traceback": [
            "\u001b[0;36m  Cell \u001b[0;32mIn[13], line 1\u001b[0;36m\u001b[0m\n\u001b[0;31m    False = 10\u001b[0m\n\u001b[0m    ^\u001b[0m\n\u001b[0;31mSyntaxError\u001b[0m\u001b[0;31m:\u001b[0m cannot assign to False\n"
          ]
        }
      ],
      "source": [
        "False = 10\n",
        "print(False)"
      ]
    },
    {
      "cell_type": "code",
      "execution_count": 14,
      "metadata": {
        "colab": {
          "base_uri": "https://localhost:8080/"
        },
        "id": "CtVqf9jFakrJ",
        "outputId": "549baf9b-6520-4b1f-fa14-9b5c278c5c5c"
      },
      "outputs": [
        {
          "name": "stdout",
          "output_type": "stream",
          "text": [
            "ABC\n"
          ]
        }
      ],
      "source": [
        "print(\"ABC\")"
      ]
    },
    {
      "cell_type": "code",
      "execution_count": 15,
      "metadata": {
        "id": "rDO9VJaSaxLW"
      },
      "outputs": [],
      "source": [
        "print = 10  # the print function has been overwritten by an integer value."
      ]
    },
    {
      "cell_type": "code",
      "execution_count": 26,
      "metadata": {
        "colab": {
          "base_uri": "https://localhost:8080/"
        },
        "id": "lCB4fcLza0O5",
        "outputId": "39eb6f52-4f53-48f2-c358-02c766252383"
      },
      "outputs": [
        {
          "name": "stdout",
          "output_type": "stream",
          "text": [
            "Venky\n"
          ]
        }
      ],
      "source": [
        "# assign a name of the person\n",
        "del print   # restore print function by deleting the reassignment\n",
        "# 3 ways to restore print:\n",
        "# Restart Your Kernel: This will reset the environment and remove any unintended reassignments of built-in functions.\n",
        "# change the variable name to something else\n",
        "# by deleting the reassignment\n",
        "\n",
        "n = \"Venky\"\n",
        "print(n)"
      ]
    },
    {
      "cell_type": "code",
      "execution_count": 27,
      "metadata": {
        "id": "Zfy5HVdra_tq"
      },
      "outputs": [],
      "source": [
        "name = \"Venky\"\n",
        "s_n = \"abi\"\n",
        "student_name = \"abi\"\n"
      ]
    },
    {
      "cell_type": "code",
      "execution_count": null,
      "metadata": {
        "colab": {
          "base_uri": "https://localhost:8080/"
        },
        "id": "QHcAos3JbRpd",
        "outputId": "7067b9e9-5469-4693-8587-129d32f2ae2f"
      },
      "outputs": [
        {
          "data": {
            "text/plain": [
              "5"
            ]
          },
          "execution_count": 27,
          "metadata": {},
          "output_type": "execute_result"
        }
      ],
      "source": [
        "length_of_person_name = len(name)\n",
        "name_length = len(name)"
      ]
    },
    {
      "cell_type": "code",
      "execution_count": 28,
      "metadata": {
        "colab": {
          "base_uri": "https://localhost:8080/"
        },
        "id": "BJEMSUfCbwJg",
        "outputId": "b980ebcb-285f-4d0f-cc89-77443d262da6"
      },
      "outputs": [
        {
          "name": "stdout",
          "output_type": "stream",
          "text": [
            "10\n",
            "10\n"
          ]
        }
      ],
      "source": [
        "# try to avoid using Capital letters while assigning variables\n",
        "\n",
        "NUM = 10\n",
        "num = 10\n",
        "print(NUM)\n",
        "print(num)"
      ]
    },
    {
      "cell_type": "markdown",
      "metadata": {
        "id": "trj9ABVTeUSI"
      },
      "source": [
        "### **Comments**"
      ]
    },
    {
      "cell_type": "code",
      "execution_count": 29,
      "metadata": {
        "colab": {
          "base_uri": "https://localhost:8080/"
        },
        "id": "XvNVMVxQeWPR",
        "outputId": "732e7349-0217-4074-9215-92251b6b0fce"
      },
      "outputs": [
        {
          "name": "stdout",
          "output_type": "stream",
          "text": [
            "comments\n"
          ]
        }
      ],
      "source": [
        "# Single Line Comment\n",
        "\n",
        "\"\"\"\n",
        "I'm explaining multiple line comments here\n",
        "in Python class\n",
        "\"\"\"\n",
        "'''\n",
        "explain\n",
        "concepts\n",
        "of\n",
        "comments\n",
        "'''\n",
        "\n",
        "# explain\n",
        "# concepts\n",
        "# of\n",
        "# comments\n",
        "print(\"comments\")"
      ]
    },
    {
      "cell_type": "markdown",
      "metadata": {
        "id": "cL7E7KhHfOfN"
      },
      "source": [
        "### **Datatypes**"
      ]
    },
    {
      "cell_type": "markdown",
      "metadata": {
        "id": "hSUMa9TmeQEB"
      },
      "source": [
        "**Strings**"
      ]
    },
    {
      "cell_type": "code",
      "execution_count": 30,
      "metadata": {
        "colab": {
          "base_uri": "https://localhost:8080/"
        },
        "id": "NXq3_gKyeSH-",
        "outputId": "a5c9ea9f-33c9-4a41-b061-a8c2ba903c76"
      },
      "outputs": [
        {
          "name": "stdout",
          "output_type": "stream",
          "text": [
            "This is a string\n",
            "This is a string\n",
            "<class 'str'>\n",
            "<class 'str'>\n"
          ]
        }
      ],
      "source": [
        "# A string is a series of characters\n",
        "\n",
        "new_string = \"This is a string\"\n",
        "new_string_2 = 'This is a string'\n",
        "new_string_3 = 'This is a string'\n",
        "\n",
        "print(new_string)\n",
        "print(new_string_2)\n",
        "print(type(new_string))\n",
        "print(type(new_string_2))"
      ]
    },
    {
      "cell_type": "code",
      "execution_count": 31,
      "metadata": {
        "colab": {
          "base_uri": "https://localhost:8080/"
        },
        "id": "DKCno7fbftKx",
        "outputId": "90fe5c00-1346-4645-d577-2e5a837f1bb1"
      },
      "outputs": [
        {
          "name": "stdout",
          "output_type": "stream",
          "text": [
            "139972436589056\n",
            "139972436587296\n",
            "139972436583056\n"
          ]
        }
      ],
      "source": [
        "print(id(new_string))\n",
        "print(id(new_string_2))\n",
        "print(id(new_string_3))"
      ]
    },
    {
      "cell_type": "code",
      "execution_count": 32,
      "metadata": {
        "colab": {
          "base_uri": "https://localhost:8080/"
        },
        "id": "RJZ4zIBhgpAG",
        "outputId": "080bf96d-c2fd-451d-e70b-8431b2738aed"
      },
      "outputs": [
        {
          "name": "stdout",
          "output_type": "stream",
          "text": [
            "139972920807536\n",
            "139972920807536\n"
          ]
        }
      ],
      "source": [
        "name = \"Venky\"\n",
        "name_2 = \"Venky\"\n",
        "\n",
        "print(id(name))\n",
        "print(id(name_2))"
      ]
    },
    {
      "cell_type": "code",
      "execution_count": 33,
      "metadata": {
        "colab": {
          "base_uri": "https://localhost:8080/"
        },
        "id": "n044XHgFhUxn",
        "outputId": "774a6a54-1774-4a72-8540-8fd743bfd55a"
      },
      "outputs": [
        {
          "name": "stdout",
          "output_type": "stream",
          "text": [
            "139973042429968\n",
            "139973042429968\n",
            "139972918024784\n",
            "139972918031056\n"
          ]
        }
      ],
      "source": [
        "a = 250\n",
        "b = 250\n",
        "\n",
        "print(id(a))\n",
        "print(id(b))\n",
        "\n",
        "c = 300\n",
        "d = 300\n",
        "print(id(c))\n",
        "print(id(d))"
      ]
    },
    {
      "cell_type": "code",
      "execution_count": 34,
      "metadata": {
        "colab": {
          "base_uri": "https://localhost:8080/"
        },
        "id": "J3zP0Zm6h_5L",
        "outputId": "dbd46202-f409-4a9f-8068-a013f4c9ad60"
      },
      "outputs": [
        {
          "name": "stdout",
          "output_type": "stream",
          "text": [
            "I have watched \"Indian-2\" Audio Launch Yesterday.\n"
          ]
        }
      ],
      "source": [
        "message = 'I have watched \"Indian-2\" Audio Launch Yesterday.'\n",
        "print(message)"
      ]
    },
    {
      "cell_type": "code",
      "execution_count": 35,
      "metadata": {
        "colab": {
          "base_uri": "https://localhost:8080/"
        },
        "id": "D-yGa0FjivYZ",
        "outputId": "ae69021c-cffb-451c-c64e-d70c114906c0"
      },
      "outputs": [
        {
          "data": {
            "text/plain": [
              "False"
            ]
          },
          "execution_count": 35,
          "metadata": {},
          "output_type": "execute_result"
        }
      ],
      "source": [
        "string_1 = \"This is a string\"\n",
        "string_2 = \"This is a string \"\n",
        "string_1 == string_2"
      ]
    },
    {
      "cell_type": "code",
      "execution_count": 36,
      "metadata": {
        "id": "cY_4zHb1jZu4"
      },
      "outputs": [],
      "source": [
        "name = \"Venky\"\n",
        "name_2 = \"Venky  \"\n",
        "name_3 = \"  Venky\"\n",
        "name_4 = \" Venky \""
      ]
    },
    {
      "cell_type": "code",
      "execution_count": 37,
      "metadata": {
        "colab": {
          "base_uri": "https://localhost:8080/",
          "height": 36
        },
        "id": "Kp60a7Eqj93_",
        "outputId": "fa43691a-d7bc-44c8-c8de-cbdc2cbba186"
      },
      "outputs": [
        {
          "data": {
            "text/plain": [
              "'Venky  '"
            ]
          },
          "execution_count": 37,
          "metadata": {},
          "output_type": "execute_result"
        }
      ],
      "source": [
        "name_2"
      ]
    },
    {
      "cell_type": "code",
      "execution_count": 38,
      "metadata": {
        "colab": {
          "base_uri": "https://localhost:8080/",
          "height": 36
        },
        "id": "6oUcEt3cj1Vg",
        "outputId": "c0598f46-5e8d-48bb-ecc4-fe6babdeb2c7"
      },
      "outputs": [
        {
          "data": {
            "text/plain": [
              "'Venky'"
            ]
          },
          "execution_count": 38,
          "metadata": {},
          "output_type": "execute_result"
        }
      ],
      "source": [
        "name_2.rstrip()"
      ]
    },
    {
      "cell_type": "code",
      "execution_count": 39,
      "metadata": {
        "colab": {
          "base_uri": "https://localhost:8080/",
          "height": 36
        },
        "id": "jN-QnM4-kDmm",
        "outputId": "4f40e99b-9fff-4722-f870-c124d506d2f1"
      },
      "outputs": [
        {
          "data": {
            "text/plain": [
              "'  Venky'"
            ]
          },
          "execution_count": 39,
          "metadata": {},
          "output_type": "execute_result"
        }
      ],
      "source": [
        "name_3"
      ]
    },
    {
      "cell_type": "code",
      "execution_count": null,
      "metadata": {
        "colab": {
          "base_uri": "https://localhost:8080/",
          "height": 36
        },
        "id": "04qRJgS4kF4w",
        "outputId": "575b4c7f-4306-4320-e995-21cb6ec62d71"
      },
      "outputs": [
        {
          "data": {
            "application/vnd.google.colaboratory.intrinsic+json": {
              "type": "string"
            },
            "text/plain": [
              "'Venky'"
            ]
          },
          "execution_count": 54,
          "metadata": {},
          "output_type": "execute_result"
        }
      ],
      "source": [
        "name_3.lstrip()"
      ]
    },
    {
      "cell_type": "code",
      "execution_count": null,
      "metadata": {
        "colab": {
          "base_uri": "https://localhost:8080/",
          "height": 36
        },
        "id": "3DJ2m35lkJ_a",
        "outputId": "50a30395-fce8-4092-d0ff-63cba4639475"
      },
      "outputs": [
        {
          "data": {
            "application/vnd.google.colaboratory.intrinsic+json": {
              "type": "string"
            },
            "text/plain": [
              "' Venky '"
            ]
          },
          "execution_count": 55,
          "metadata": {},
          "output_type": "execute_result"
        }
      ],
      "source": [
        "name_4"
      ]
    },
    {
      "cell_type": "code",
      "execution_count": 40,
      "metadata": {
        "colab": {
          "base_uri": "https://localhost:8080/",
          "height": 36
        },
        "id": "WRFpdvrfkMvh",
        "outputId": "b7fcf25d-23b8-4e44-b91f-a522f2bc5fe9"
      },
      "outputs": [
        {
          "data": {
            "text/plain": [
              "'Venky'"
            ]
          },
          "execution_count": 40,
          "metadata": {},
          "output_type": "execute_result"
        }
      ],
      "source": [
        "name_4.strip()"
      ]
    },
    {
      "cell_type": "code",
      "execution_count": 41,
      "metadata": {
        "colab": {
          "base_uri": "https://localhost:8080/",
          "height": 36
        },
        "id": "J-D35R6wkbq9",
        "outputId": "e442f032-96ee-4703-d1cd-52aaf0456b3e"
      },
      "outputs": [
        {
          "data": {
            "text/plain": [
              "'Venky Viky'"
            ]
          },
          "execution_count": 41,
          "metadata": {},
          "output_type": "execute_result"
        }
      ],
      "source": [
        "first_name = \"Venky\"\n",
        "last_name = \"Viky\"\n",
        "\n",
        "first_name+\" \"+last_name"
      ]
    },
    {
      "cell_type": "markdown",
      "metadata": {
        "id": "UjV22UIen5o8"
      },
      "source": [
        "**Numeric**"
      ]
    },
    {
      "cell_type": "code",
      "execution_count": 42,
      "metadata": {
        "colab": {
          "base_uri": "https://localhost:8080/"
        },
        "id": "duudWznMn7ZT",
        "outputId": "ae4e7b6a-144f-419e-d342-779beed44945"
      },
      "outputs": [
        {
          "name": "stdout",
          "output_type": "stream",
          "text": [
            "<class 'int'>\n"
          ]
        }
      ],
      "source": [
        "value = 10\n",
        "print(type(value))"
      ]
    },
    {
      "cell_type": "code",
      "execution_count": 43,
      "metadata": {
        "colab": {
          "base_uri": "https://localhost:8080/"
        },
        "id": "ZUQWJPGaoA-C",
        "outputId": "e0f3abcd-628e-4aa7-cbdb-9a84e83a67f8"
      },
      "outputs": [
        {
          "name": "stdout",
          "output_type": "stream",
          "text": [
            "<class 'float'>\n"
          ]
        }
      ],
      "source": [
        "f_value = 10.2\n",
        "print(type(f_value))"
      ]
    },
    {
      "cell_type": "code",
      "execution_count": 45,
      "metadata": {
        "colab": {
          "base_uri": "https://localhost:8080/"
        },
        "id": "ootEG-TuoHQy",
        "outputId": "990162ea-bee6-4a24-f230-1c12057532bd"
      },
      "outputs": [
        {
          "name": "stdout",
          "output_type": "stream",
          "text": [
            "22\n",
            "<class 'int'>\n",
            "-2\n",
            "<class 'int'>\n",
            "120\n",
            "<class 'int'>\n",
            "0.8333333333333334\n",
            "<class 'float'>\n"
          ]
        }
      ],
      "source": [
        "a = 10\n",
        "b = 12\n",
        "s = a+b\n",
        "sub = a-b\n",
        "mul = a*b\n",
        "div = a/b\n",
        "print(s)\n",
        "print(type(s))\n",
        "print(sub)\n",
        "print(type(sub))\n",
        "print(mul)\n",
        "print(type(mul))\n",
        "print(div)\n",
        "print(type(div))"
      ]
    },
    {
      "cell_type": "code",
      "execution_count": 48,
      "metadata": {
        "colab": {
          "base_uri": "https://localhost:8080/"
        },
        "id": "lcR8bhbEoq2K",
        "outputId": "93382410-f536-488b-9ab4-85d532977a18"
      },
      "outputs": [
        {
          "name": "stdout",
          "output_type": "stream",
          "text": [
            "2.0\n",
            "type of c:  <class 'float'>\n",
            "2\n",
            "type of d:  <class 'int'>\n"
          ]
        }
      ],
      "source": [
        "a = 10\n",
        "b = 5\n",
        "c = a/b\n",
        "\n",
        "print(c)\n",
        "print(\"type of c: \",type(c))\n",
        "\n",
        "# floor division\n",
        "\n",
        "d = a//b\n",
        "print(d)\n",
        "print(\"type of d: \",type(d))"
      ]
    },
    {
      "cell_type": "code",
      "execution_count": 49,
      "metadata": {
        "colab": {
          "base_uri": "https://localhost:8080/"
        },
        "id": "vMuNtk9DpNPo",
        "outputId": "ebfbee2b-6a10-4490-bbb3-36ebb51740a1"
      },
      "outputs": [
        {
          "name": "stdout",
          "output_type": "stream",
          "text": [
            "c:  2.4\n",
            "type of c:  <class 'float'>\n",
            "d:  2\n",
            "type of d:  <class 'int'>\n",
            "c:  2.8\n",
            "type of c:  <class 'float'>\n",
            "d:  2\n",
            "type of d:  <class 'int'>\n"
          ]
        }
      ],
      "source": [
        "a = 12\n",
        "b = 5\n",
        "\n",
        "c = a/b\n",
        "print(\"c: \",c)\n",
        "print(\"type of c: \",type(c))\n",
        "d = a//b\n",
        "print(\"d: \",d)\n",
        "print(\"type of d: \",type(d))\n",
        "\n",
        "a = 14\n",
        "b = 5\n",
        "\n",
        "c = a/b\n",
        "print(\"c: \",c)\n",
        "print(\"type of c: \",type(c))\n",
        "d = a//b\n",
        "print(\"d: \",d)\n",
        "print(\"type of d: \",type(d))"
      ]
    },
    {
      "cell_type": "code",
      "execution_count": 50,
      "metadata": {
        "colab": {
          "base_uri": "https://localhost:8080/",
          "height": 180
        },
        "id": "gIWoyqtzpD2V",
        "outputId": "6029de7d-bb3e-44d6-fcab-30ac5c809827"
      },
      "outputs": [
        {
          "ename": "ZeroDivisionError",
          "evalue": "division by zero",
          "output_type": "error",
          "traceback": [
            "\u001b[0;31m---------------------------------------------------------------------------\u001b[0m",
            "\u001b[0;31mZeroDivisionError\u001b[0m                         Traceback (most recent call last)",
            "Cell \u001b[0;32mIn[50], line 3\u001b[0m\n\u001b[1;32m      1\u001b[0m a \u001b[38;5;241m=\u001b[39m \u001b[38;5;241m10\u001b[39m\n\u001b[1;32m      2\u001b[0m b \u001b[38;5;241m=\u001b[39m \u001b[38;5;241m0\u001b[39m\n\u001b[0;32m----> 3\u001b[0m \u001b[38;5;28mprint\u001b[39m(\u001b[43ma\u001b[49m\u001b[38;5;241;43m/\u001b[39;49m\u001b[43mb\u001b[49m)\n",
            "\u001b[0;31mZeroDivisionError\u001b[0m: division by zero"
          ]
        }
      ],
      "source": [
        "a = 10\n",
        "b = 0\n",
        "print(a/b)"
      ]
    },
    {
      "cell_type": "code",
      "execution_count": 52,
      "metadata": {
        "colab": {
          "base_uri": "https://localhost:8080/"
        },
        "id": "oGTR7VhnqL8L",
        "outputId": "67ba300f-1d0a-4c72-d7de-4767e7af6e5c"
      },
      "outputs": [
        {
          "name": "stdout",
          "output_type": "stream",
          "text": [
            "f_value:  12.2\n",
            "type of f_value:  <class 'float'>\n",
            "d:  0.1999999999999993\n"
          ]
        }
      ],
      "source": [
        "f_value = 12.2\n",
        "print(\"f_value: \",f_value)\n",
        "print(\"type of f_value: \",type(f_value))\n",
        "a = 12.2\n",
        "b = 12.0\n",
        "c = a+b\n",
        "d = a-b\n",
        "e = a*b\n",
        "f = a/b\n",
        "print(\"d: \",d)"
      ]
    },
    {
      "cell_type": "code",
      "execution_count": 53,
      "metadata": {
        "colab": {
          "base_uri": "https://localhost:8080/"
        },
        "id": "JBDTB9zltAK-",
        "outputId": "ab544037-5202-4d2b-d56e-1edeecb90819"
      },
      "outputs": [
        {
          "data": {
            "text/plain": [
              "Decimal('0.299999999999999988897769753748434595763683319091796875')"
            ]
          },
          "execution_count": 53,
          "metadata": {},
          "output_type": "execute_result"
        }
      ],
      "source": [
        "from decimal import Decimal\n",
        "Decimal(0.3)"
      ]
    },
    {
      "cell_type": "code",
      "execution_count": 54,
      "metadata": {
        "colab": {
          "base_uri": "https://localhost:8080/"
        },
        "id": "8zk0uZiwtYls",
        "outputId": "5f390120-1c80-40a6-ecf5-cdef161a36a8"
      },
      "outputs": [
        {
          "name": "stdout",
          "output_type": "stream",
          "text": [
            "c:  0.30000000000000004\n",
            "type of c:  <class 'float'>\n"
          ]
        }
      ],
      "source": [
        "a = 0.1\n",
        "b = 0.2\n",
        "c = a+b\n",
        "print(\"c: \",c)\n",
        "print(\"type of c: \",type(c))"
      ]
    },
    {
      "cell_type": "code",
      "execution_count": 56,
      "metadata": {
        "colab": {
          "base_uri": "https://localhost:8080/"
        },
        "id": "q5YITVwlthTI",
        "outputId": "b3f824cd-727e-46e7-ae9c-754154e11551"
      },
      "outputs": [
        {
          "name": "stdout",
          "output_type": "stream",
          "text": [
            "c:  22.9\n",
            "type of c:  <class 'decimal.Decimal'>\n"
          ]
        }
      ],
      "source": [
        "from decimal import Decimal\n",
        "\n",
        "a = Decimal('10.4')\n",
        "b = Decimal('12.5')\n",
        "c = a+b\n",
        "print(\"c: \",c)\n",
        "print(\"type of c: \",type(c))"
      ]
    },
    {
      "cell_type": "code",
      "execution_count": 57,
      "metadata": {
        "colab": {
          "base_uri": "https://localhost:8080/"
        },
        "id": "RxTNtG1mt-sL",
        "outputId": "50226580-747c-43a0-8897-b67086f70e09"
      },
      "outputs": [
        {
          "data": {
            "text/plain": [
              "22.9"
            ]
          },
          "execution_count": 57,
          "metadata": {},
          "output_type": "execute_result"
        }
      ],
      "source": [
        "10.4+12.5"
      ]
    },
    {
      "cell_type": "code",
      "execution_count": 58,
      "metadata": {
        "colab": {
          "base_uri": "https://localhost:8080/"
        },
        "id": "DpBDSoyjuJW0",
        "outputId": "d209ca09-3452-4f9e-bda6-c4713302fad1"
      },
      "outputs": [
        {
          "name": "stdout",
          "output_type": "stream",
          "text": [
            "12\n",
            "<class 'int'>\n"
          ]
        }
      ],
      "source": [
        "f = 12.0\n",
        "i = int(f)\n",
        "print(i)\n",
        "print(type(i))"
      ]
    },
    {
      "cell_type": "code",
      "execution_count": 59,
      "metadata": {
        "colab": {
          "base_uri": "https://localhost:8080/"
        },
        "id": "BYJK76GEugMn",
        "outputId": "1c162649-4a89-41b5-adc3-98d0878de9bf"
      },
      "outputs": [
        {
          "data": {
            "text/plain": [
              "12.56"
            ]
          },
          "execution_count": 59,
          "metadata": {},
          "output_type": "execute_result"
        }
      ],
      "source": [
        "a = 12.56442845\n",
        "round(a,2)"
      ]
    },
    {
      "cell_type": "code",
      "execution_count": 60,
      "metadata": {
        "colab": {
          "base_uri": "https://localhost:8080/"
        },
        "id": "IvzkdiDPu1WQ",
        "outputId": "08764cb9-074b-45bc-d8e9-68dd15b93c1b"
      },
      "outputs": [
        {
          "data": {
            "text/plain": [
              "Decimal('0.1000000000000000055511151231257827021181583404541015625')"
            ]
          },
          "execution_count": 60,
          "metadata": {},
          "output_type": "execute_result"
        }
      ],
      "source": [
        "Decimal(0.1)"
      ]
    },
    {
      "cell_type": "code",
      "execution_count": 61,
      "metadata": {
        "colab": {
          "base_uri": "https://localhost:8080/"
        },
        "id": "RHvHY9DRvDoV",
        "outputId": "baece94e-1db2-4180-bd4d-98f508007be6"
      },
      "outputs": [
        {
          "data": {
            "text/plain": [
              "Decimal('0.1000000000000000055511151231257827021181583404541015625')"
            ]
          },
          "execution_count": 61,
          "metadata": {},
          "output_type": "execute_result"
        }
      ],
      "source": [
        "Decimal(0.1)"
      ]
    },
    {
      "cell_type": "code",
      "execution_count": 62,
      "metadata": {
        "colab": {
          "base_uri": "https://localhost:8080/"
        },
        "id": "5ccCasd5wFyv",
        "outputId": "69d7d844-b25e-45f0-b250-6bae219e8815"
      },
      "outputs": [
        {
          "name": "stdout",
          "output_type": "stream",
          "text": [
            "22.3\n",
            "<class 'float'>\n"
          ]
        }
      ],
      "source": [
        "a = 10\n",
        "b = 12.3\n",
        "c = a+b\n",
        "print(c)\n",
        "print(type(c))"
      ]
    },
    {
      "cell_type": "code",
      "execution_count": 63,
      "metadata": {
        "colab": {
          "base_uri": "https://localhost:8080/"
        },
        "id": "cDlVTFUAwept",
        "outputId": "fbaeb160-955a-437d-c90a-69998cd2977e"
      },
      "outputs": [
        {
          "name": "stdout",
          "output_type": "stream",
          "text": [
            "(12+0j)\n",
            "<class 'complex'>\n",
            "(12+2j)\n",
            "<class 'complex'>\n"
          ]
        },
        {
          "data": {
            "text/plain": [
              "(24+2j)"
            ]
          },
          "execution_count": 63,
          "metadata": {},
          "output_type": "execute_result"
        }
      ],
      "source": [
        "a = complex(12)\n",
        "print(a)\n",
        "print(type(a))\n",
        "b = complex(12, 2)\n",
        "print(b)\n",
        "print(type(b))\n",
        "a+b"
      ]
    },
    {
      "cell_type": "code",
      "execution_count": 64,
      "metadata": {
        "colab": {
          "base_uri": "https://localhost:8080/"
        },
        "id": "cYcdoICCw9ij",
        "outputId": "133a0690-9257-4248-ba6d-d199c8949368"
      },
      "outputs": [
        {
          "name": "stdout",
          "output_type": "stream",
          "text": [
            "0.30000000000000004\n"
          ]
        }
      ],
      "source": [
        "a = 0.2\n",
        "b = 0.1\n",
        "c = a+b\n",
        "print(c)"
      ]
    },
    {
      "cell_type": "code",
      "execution_count": 65,
      "metadata": {
        "colab": {
          "base_uri": "https://localhost:8080/"
        },
        "id": "VkVkMU9mxYTt",
        "outputId": "2dd51de8-527b-4c34-8c22-fb65cff9deb4"
      },
      "outputs": [
        {
          "name": "stdout",
          "output_type": "stream",
          "text": [
            "2.0\n",
            "<class 'float'>\n"
          ]
        }
      ],
      "source": [
        "a = 4\n",
        "b = 2\n",
        "\n",
        "c = a/b\n",
        "print(c)\n",
        "print(type(c))"
      ]
    },
    {
      "cell_type": "markdown",
      "metadata": {
        "id": "mtjV5ICNxmXp"
      },
      "source": [
        "**Lists**"
      ]
    },
    {
      "cell_type": "code",
      "execution_count": 66,
      "metadata": {
        "id": "QquQQC1Yxo2u"
      },
      "outputs": [],
      "source": [
        "new_list = [2,4,6,10,12.4, 12.8, \"Venky\", \"Gate\", \"Python\", 128, \"IPL\", \"VIRAT\"]"
      ]
    },
    {
      "cell_type": "code",
      "execution_count": 67,
      "metadata": {
        "colab": {
          "base_uri": "https://localhost:8080/"
        },
        "id": "doWA-y6JyIHi",
        "outputId": "f2b679d6-bdd0-4805-a83d-3204550b69ab"
      },
      "outputs": [
        {
          "data": {
            "text/plain": [
              "list"
            ]
          },
          "execution_count": 67,
          "metadata": {},
          "output_type": "execute_result"
        }
      ],
      "source": [
        "type(new_list)"
      ]
    },
    {
      "cell_type": "code",
      "execution_count": 68,
      "metadata": {
        "colab": {
          "base_uri": "https://localhost:8080/"
        },
        "id": "DFEON2U_yhLs",
        "outputId": "593bc455-6602-4b4d-a0e5-848118b39de9"
      },
      "outputs": [
        {
          "data": {
            "text/plain": [
              "128"
            ]
          },
          "execution_count": 68,
          "metadata": {},
          "output_type": "execute_result"
        }
      ],
      "source": [
        "new_list[-3]"
      ]
    },
    {
      "cell_type": "code",
      "execution_count": 69,
      "metadata": {
        "colab": {
          "base_uri": "https://localhost:8080/"
        },
        "id": "9X2Zr27X2H3_",
        "outputId": "1f757d31-1392-4540-a921-568a36db7951"
      },
      "outputs": [
        {
          "data": {
            "text/plain": [
              "12"
            ]
          },
          "execution_count": 69,
          "metadata": {},
          "output_type": "execute_result"
        }
      ],
      "source": [
        "len(new_list)"
      ]
    },
    {
      "cell_type": "code",
      "execution_count": 70,
      "metadata": {
        "colab": {
          "base_uri": "https://localhost:8080/"
        },
        "id": "L-7HCV492NAG",
        "outputId": "c90ac08d-9348-437c-a2c7-8f2b79b2d47f"
      },
      "outputs": [
        {
          "data": {
            "text/plain": [
              "2"
            ]
          },
          "execution_count": 70,
          "metadata": {},
          "output_type": "execute_result"
        }
      ],
      "source": [
        "new_list[0]"
      ]
    },
    {
      "cell_type": "code",
      "execution_count": 71,
      "metadata": {
        "colab": {
          "base_uri": "https://localhost:8080/"
        },
        "id": "3R4ybXA_2Y_9",
        "outputId": "617b09f9-2faa-4ade-e1d2-13edec5083f4"
      },
      "outputs": [
        {
          "data": {
            "text/plain": [
              "2"
            ]
          },
          "execution_count": 71,
          "metadata": {},
          "output_type": "execute_result"
        }
      ],
      "source": [
        "new_list[-12]"
      ]
    },
    {
      "cell_type": "code",
      "execution_count": 72,
      "metadata": {
        "colab": {
          "base_uri": "https://localhost:8080/"
        },
        "id": "_2UFXcSa3KoX",
        "outputId": "f2220639-5c6a-475e-e21d-4ac965c5e8b1"
      },
      "outputs": [
        {
          "name": "stdout",
          "output_type": "stream",
          "text": [
            "<class 'list'>\n",
            "139972437570688\n",
            "[2, 4, 6, 10, 12.4, 12.8, 'Venky', 'Gate', 'Python', 128, 'IPL', 'Rohit']\n",
            "139972437570688\n"
          ]
        }
      ],
      "source": [
        "print(type(new_list))\n",
        "print(id(new_list))\n",
        "\n",
        "new_list[-1] = \"Rohit\"\n",
        "print(new_list)\n",
        "print(id(new_list))"
      ]
    },
    {
      "cell_type": "code",
      "execution_count": 73,
      "metadata": {
        "colab": {
          "base_uri": "https://localhost:8080/"
        },
        "id": "EwmM-ru842L_",
        "outputId": "a07cfe39-ac05-4c61-adc6-f4028ddef02a"
      },
      "outputs": [
        {
          "name": "stdout",
          "output_type": "stream",
          "text": [
            "[1, 2, 3]\n",
            "139972436746368\n",
            "139973042422000\n",
            "Updated list:  [10, 2, 3]\n",
            "139972436746368\n",
            "139973042422288\n"
          ]
        }
      ],
      "source": [
        "new_list = [1,2,3]\n",
        "print(new_list)\n",
        "print(id(new_list))\n",
        "print(id(new_list[0]))\n",
        "new_list[0] = 10\n",
        "print(\"Updated list: \", new_list)\n",
        "print(id(new_list))\n",
        "print(id(new_list[0]))"
      ]
    },
    {
      "cell_type": "code",
      "execution_count": 74,
      "metadata": {
        "colab": {
          "base_uri": "https://localhost:8080/"
        },
        "id": "g5Hlk4PS5s5t",
        "outputId": "ae8e6510-14c3-4e2d-a913-9804734f7f8d"
      },
      "outputs": [
        {
          "name": "stdout",
          "output_type": "stream",
          "text": [
            "First list\n",
            "139973042422032\n",
            "139973042422032\n",
            "Second List\n",
            "139972437651088\n",
            "139972437651088\n",
            "139972437650288\n",
            "139972437650288\n"
          ]
        }
      ],
      "source": [
        "new_list = [2,2,3]\n",
        "new_list2 = [270, 270, 300, 10000, 10000]\n",
        "print(\"First list\")\n",
        "print(id(new_list[0]))\n",
        "print(id(new_list[1]))\n",
        "print(\"Second List\")\n",
        "print(id(new_list2[0]))\n",
        "print(id(new_list2[1]))\n",
        "print(id(new_list2[-1]))\n",
        "print(id(new_list2[-2]))"
      ]
    },
    {
      "cell_type": "code",
      "execution_count": 75,
      "metadata": {
        "colab": {
          "base_uri": "https://localhost:8080/"
        },
        "id": "R4PvqNx-6IJL",
        "outputId": "8efe4b2d-b5d6-4042-9198-019bbacd8484"
      },
      "outputs": [
        {
          "name": "stdout",
          "output_type": "stream",
          "text": [
            "139972437654768\n",
            "139972437655152\n"
          ]
        }
      ],
      "source": [
        "a = 10000\n",
        "b = 10000\n",
        "\n",
        "print(id(a))\n",
        "print(id(b))"
      ]
    },
    {
      "cell_type": "code",
      "execution_count": 76,
      "metadata": {
        "colab": {
          "base_uri": "https://localhost:8080/"
        },
        "id": "BxvVlsiE31xZ",
        "outputId": "aded6995-57c4-4d42-bd78-c6faf485164b"
      },
      "outputs": [
        {
          "name": "stdout",
          "output_type": "stream",
          "text": [
            "Venky\n",
            "139972920807536\n",
            "Kenky\n",
            "139972918929328\n"
          ]
        }
      ],
      "source": [
        "name = \"Venky\"\n",
        "print(name)\n",
        "print(id(name))\n",
        "\n",
        "name = \"Kenky\"\n",
        "print(name)\n",
        "print(id(name))"
      ]
    },
    {
      "cell_type": "code",
      "execution_count": 77,
      "metadata": {
        "colab": {
          "base_uri": "https://localhost:8080/",
          "height": 162
        },
        "id": "8XryRfGS4N6o",
        "outputId": "2c490ab0-103e-46f4-dc7f-ae4a4bb67bea"
      },
      "outputs": [
        {
          "ename": "TypeError",
          "evalue": "'str' object does not support item assignment",
          "output_type": "error",
          "traceback": [
            "\u001b[0;31m---------------------------------------------------------------------------\u001b[0m",
            "\u001b[0;31mTypeError\u001b[0m                                 Traceback (most recent call last)",
            "Cell \u001b[0;32mIn[77], line 1\u001b[0m\n\u001b[0;32m----> 1\u001b[0m \u001b[43mname\u001b[49m\u001b[43m[\u001b[49m\u001b[38;5;241;43m0\u001b[39;49m\u001b[43m]\u001b[49m \u001b[38;5;241m=\u001b[39m \u001b[38;5;124m\"\u001b[39m\u001b[38;5;124mK\u001b[39m\u001b[38;5;124m\"\u001b[39m\n\u001b[1;32m      2\u001b[0m \u001b[38;5;28mprint\u001b[39m(name)\n",
            "\u001b[0;31mTypeError\u001b[0m: 'str' object does not support item assignment"
          ]
        }
      ],
      "source": [
        "name[0] = \"K\"\n",
        "print(name)"
      ]
    },
    {
      "cell_type": "code",
      "execution_count": 78,
      "metadata": {
        "colab": {
          "base_uri": "https://localhost:8080/"
        },
        "id": "okZHWpjN34JD",
        "outputId": "5011d36b-1802-43b3-caf2-8196b336aac3"
      },
      "outputs": [
        {
          "name": "stdout",
          "output_type": "stream",
          "text": [
            "K\n",
            "e\n",
            "n\n",
            "k\n",
            "y\n",
            "y\n",
            "k\n",
            "n\n",
            "e\n",
            "K\n"
          ]
        }
      ],
      "source": [
        "print(name[0])\n",
        "print(name[1])\n",
        "print(name[2])\n",
        "print(name[3])\n",
        "print(name[4])\n",
        "print(name[-1])\n",
        "print(name[-2])\n",
        "print(name[-3])\n",
        "print(name[-4])\n",
        "print(name[-5])"
      ]
    },
    {
      "cell_type": "markdown",
      "metadata": {
        "id": "YGYYanL06uaa"
      },
      "source": [
        "**Tuple**"
      ]
    },
    {
      "cell_type": "code",
      "execution_count": 79,
      "metadata": {
        "colab": {
          "base_uri": "https://localhost:8080/"
        },
        "id": "43DEpiUb6tsI",
        "outputId": "d42a590c-92ae-4133-97a4-4eb88e7994a8"
      },
      "outputs": [
        {
          "name": "stdout",
          "output_type": "stream",
          "text": [
            "(2, 5, 10, 'Venky', 12.5, 2, 5, 10, 'Viky')\n",
            "<class 'tuple'>\n",
            "139972436069568\n"
          ]
        }
      ],
      "source": [
        "new_tuple = (2,5,10,\"Venky\",12.5,2,5,10,\"Viky\")\n",
        "print(new_tuple)\n",
        "print(type(new_tuple))\n",
        "print(id(new_tuple))"
      ]
    },
    {
      "cell_type": "code",
      "execution_count": 80,
      "metadata": {
        "colab": {
          "base_uri": "https://localhost:8080/",
          "height": 36
        },
        "id": "0y_q-2K16_PG",
        "outputId": "e437bb06-4000-4080-c91b-8a5917d28327"
      },
      "outputs": [
        {
          "data": {
            "text/plain": [
              "'Viky'"
            ]
          },
          "execution_count": 80,
          "metadata": {},
          "output_type": "execute_result"
        }
      ],
      "source": [
        "new_tuple[-1]"
      ]
    },
    {
      "cell_type": "code",
      "execution_count": 81,
      "metadata": {
        "colab": {
          "base_uri": "https://localhost:8080/"
        },
        "id": "8Uhol_rr7Wv1",
        "outputId": "8b3de7e1-8823-403e-9a42-123fd8fee07a"
      },
      "outputs": [
        {
          "name": "stdout",
          "output_type": "stream",
          "text": [
            "VIRAT\n"
          ]
        }
      ],
      "source": [
        "new_tuple = (2,4,6,10,12.4, 12.8, \"Venky\", \"Gate\", \"Python\", 128, \"IPL\", \"VIRAT\")\n",
        "\n",
        "print(new_tuple[-1])"
      ]
    },
    {
      "cell_type": "code",
      "execution_count": 82,
      "metadata": {
        "id": "irWbljAE7nmN"
      },
      "outputs": [],
      "source": [
        "new_tuple_2 = (2,4,6,(21,4),[24,2],12.5,10,22,22,257,1000,10000,10000,257)"
      ]
    },
    {
      "cell_type": "code",
      "execution_count": 83,
      "metadata": {
        "colab": {
          "base_uri": "https://localhost:8080/",
          "height": 162
        },
        "id": "JvYyID147eBI",
        "outputId": "81b64076-215e-4bb4-b86a-a3082fe07bf0"
      },
      "outputs": [
        {
          "ename": "TypeError",
          "evalue": "'tuple' object does not support item assignment",
          "output_type": "error",
          "traceback": [
            "\u001b[0;31m---------------------------------------------------------------------------\u001b[0m",
            "\u001b[0;31mTypeError\u001b[0m                                 Traceback (most recent call last)",
            "Cell \u001b[0;32mIn[83], line 1\u001b[0m\n\u001b[0;32m----> 1\u001b[0m \u001b[43mnew_tuple\u001b[49m\u001b[43m[\u001b[49m\u001b[38;5;241;43m-\u001b[39;49m\u001b[38;5;241;43m1\u001b[39;49m\u001b[43m]\u001b[49m \u001b[38;5;241m=\u001b[39m \u001b[38;5;124m\"\u001b[39m\u001b[38;5;124mRohit\u001b[39m\u001b[38;5;124m\"\u001b[39m\n\u001b[1;32m      2\u001b[0m \u001b[38;5;28mprint\u001b[39m(new_tuple)\n",
            "\u001b[0;31mTypeError\u001b[0m: 'tuple' object does not support item assignment"
          ]
        }
      ],
      "source": [
        "new_tuple[-1] = \"Rohit\"\n",
        "print(new_tuple)"
      ]
    },
    {
      "cell_type": "code",
      "execution_count": 93,
      "metadata": {
        "colab": {
          "base_uri": "https://localhost:8080/"
        },
        "id": "UKYiZM0G8W_W",
        "outputId": "db89f87f-c526-48b2-e6b2-7d8dd9db5c4b"
      },
      "outputs": [
        {
          "name": "stdout",
          "output_type": "stream",
          "text": [
            "id of new_list1:  139972920729216\n",
            "(1, 2)\n",
            "<class 'tuple'>\n",
            "id of new_tuple1:  139972436743232\n"
          ]
        }
      ],
      "source": [
        "new_list1 = [1,2]\n",
        "new_tuple1 = tuple(new_list1)\n",
        "print(\"id of new_list1: \",id(new_list1))\n",
        "print(new_tuple1)\n",
        "print(type(new_tuple1))\n",
        "print(\"id of new_tuple1: \",id(new_tuple1))"
      ]
    }
  ],
  "metadata": {
    "colab": {
      "provenance": []
    },
    "kernelspec": {
      "display_name": "Python 3",
      "name": "python3"
    },
    "language_info": {
      "codemirror_mode": {
        "name": "ipython",
        "version": 3
      },
      "file_extension": ".py",
      "mimetype": "text/x-python",
      "name": "python",
      "nbconvert_exporter": "python",
      "pygments_lexer": "ipython3",
      "version": "3.10.12"
    }
  },
  "nbformat": 4,
  "nbformat_minor": 0
}

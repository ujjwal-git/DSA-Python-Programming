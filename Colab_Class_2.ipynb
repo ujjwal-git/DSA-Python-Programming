{
  "nbformat": 4,
  "nbformat_minor": 0,
  "metadata": {
    "colab": {
      "provenance": []
    },
    "kernelspec": {
      "name": "python3",
      "display_name": "Python 3"
    },
    "language_info": {
      "name": "python"
    }
  },
  "cells": [
    {
      "cell_type": "markdown",
      "source": [
        "### **Variables**"
      ],
      "metadata": {
        "id": "WKcEpGbMSMM6"
      }
    },
    {
      "cell_type": "code",
      "source": [
        "print(\"abc\")\n",
        "print(\"venky\")"
      ],
      "metadata": {
        "colab": {
          "base_uri": "https://localhost:8080/"
        },
        "id": "SWbGqpbWSfvF",
        "outputId": "4f5dbcbf-0d04-4de4-d3c3-9a9f3a74f46c"
      },
      "execution_count": null,
      "outputs": [
        {
          "output_type": "stream",
          "name": "stdout",
          "text": [
            "abc\n",
            "venky\n"
          ]
        }
      ]
    },
    {
      "cell_type": "code",
      "source": [
        "# using semicolons\n",
        "\n",
        "print(\"abc\");\n",
        "print(\"venky\")"
      ],
      "metadata": {
        "colab": {
          "base_uri": "https://localhost:8080/"
        },
        "id": "0tAaazDGXgLS",
        "outputId": "0a67cdfd-2b46-4cf8-cba0-b56e6d24fe14"
      },
      "execution_count": null,
      "outputs": [
        {
          "output_type": "stream",
          "name": "stdout",
          "text": [
            "abc\n",
            "venky\n"
          ]
        }
      ]
    },
    {
      "cell_type": "code",
      "source": [
        "print(\"abc\") print(\"venky\")"
      ],
      "metadata": {
        "colab": {
          "base_uri": "https://localhost:8080/",
          "height": 109
        },
        "id": "K9ddjdwmXqLj",
        "outputId": "6157ca7f-9546-46e7-af29-aa944ed86456"
      },
      "execution_count": null,
      "outputs": [
        {
          "output_type": "error",
          "ename": "SyntaxError",
          "evalue": "invalid syntax (<ipython-input-7-d6150b3eb194>, line 1)",
          "traceback": [
            "\u001b[0;36m  File \u001b[0;32m\"<ipython-input-7-d6150b3eb194>\"\u001b[0;36m, line \u001b[0;32m1\u001b[0m\n\u001b[0;31m    print(\"abc\") print(\"venky\")\u001b[0m\n\u001b[0m                 ^\u001b[0m\n\u001b[0;31mSyntaxError\u001b[0m\u001b[0;31m:\u001b[0m invalid syntax\n"
          ]
        }
      ]
    },
    {
      "cell_type": "code",
      "source": [
        "print(\"abc\"); print(\"venky\"); a = 10; print(a)"
      ],
      "metadata": {
        "colab": {
          "base_uri": "https://localhost:8080/"
        },
        "id": "oIgPfSbCYF8_",
        "outputId": "af2d22ff-9b98-4ec9-da87-1efb12eeb380"
      },
      "execution_count": null,
      "outputs": [
        {
          "output_type": "stream",
          "name": "stdout",
          "text": [
            "abc\n",
            "venky\n",
            "10\n"
          ]
        }
      ]
    },
    {
      "cell_type": "code",
      "source": [
        "# Indentation\n",
        "\n",
        "print(\"abc\")\n",
        " print(\"venky\")\n"
      ],
      "metadata": {
        "colab": {
          "base_uri": "https://localhost:8080/",
          "height": 109
        },
        "id": "cGcDBPrUYRkp",
        "outputId": "957f7f05-c024-4e7e-d9cc-6db8dcd0cbdd"
      },
      "execution_count": null,
      "outputs": [
        {
          "output_type": "error",
          "ename": "IndentationError",
          "evalue": "unexpected indent (<ipython-input-14-59fb797931c6>, line 4)",
          "traceback": [
            "\u001b[0;36m  File \u001b[0;32m\"<ipython-input-14-59fb797931c6>\"\u001b[0;36m, line \u001b[0;32m4\u001b[0m\n\u001b[0;31m    print(\"venky\")\u001b[0m\n\u001b[0m    ^\u001b[0m\n\u001b[0;31mIndentationError\u001b[0m\u001b[0;31m:\u001b[0m unexpected indent\n"
          ]
        }
      ]
    },
    {
      "cell_type": "code",
      "source": [
        "welcome_message = \"Welcome to Python class\"\n",
        "print(welcome_message)"
      ],
      "metadata": {
        "colab": {
          "base_uri": "https://localhost:8080/"
        },
        "id": "UvDGp6POYloa",
        "outputId": "558e7820-cee0-4d8d-b911-0fdd8997602f"
      },
      "execution_count": null,
      "outputs": [
        {
          "output_type": "stream",
          "name": "stdout",
          "text": [
            "Welcome to Python class\n"
          ]
        }
      ]
    },
    {
      "cell_type": "code",
      "source": [
        "# space not allowed while declaring\n",
        "\n",
        "welcome message = \"Welcome to Python Class\"\n",
        "print(welcome message)"
      ],
      "metadata": {
        "colab": {
          "base_uri": "https://localhost:8080/",
          "height": 109
        },
        "id": "swtjEQxRZRvE",
        "outputId": "9623bce0-4ccc-4f5b-b6c2-0079e73417ba"
      },
      "execution_count": null,
      "outputs": [
        {
          "output_type": "error",
          "ename": "SyntaxError",
          "evalue": "invalid syntax (<ipython-input-16-1f2892d9eeb1>, line 1)",
          "traceback": [
            "\u001b[0;36m  File \u001b[0;32m\"<ipython-input-16-1f2892d9eeb1>\"\u001b[0;36m, line \u001b[0;32m1\u001b[0m\n\u001b[0;31m    welcome message = \"Welcome to Python Class\"\u001b[0m\n\u001b[0m            ^\u001b[0m\n\u001b[0;31mSyntaxError\u001b[0m\u001b[0;31m:\u001b[0m invalid syntax\n"
          ]
        }
      ]
    },
    {
      "cell_type": "code",
      "source": [
        "_abc = 9\n",
        "print(_abc)\n",
        "9abc = 10\n",
        "print(9abc)"
      ],
      "metadata": {
        "colab": {
          "base_uri": "https://localhost:8080/",
          "height": 109
        },
        "id": "4v8DrlOhZhrg",
        "outputId": "9953ff93-ba3e-4553-a6ec-1fff900116e6"
      },
      "execution_count": null,
      "outputs": [
        {
          "output_type": "error",
          "ename": "SyntaxError",
          "evalue": "invalid decimal literal (<ipython-input-18-4c18c323b647>, line 3)",
          "traceback": [
            "\u001b[0;36m  File \u001b[0;32m\"<ipython-input-18-4c18c323b647>\"\u001b[0;36m, line \u001b[0;32m3\u001b[0m\n\u001b[0;31m    9abc = 10\u001b[0m\n\u001b[0m    ^\u001b[0m\n\u001b[0;31mSyntaxError\u001b[0m\u001b[0;31m:\u001b[0m invalid decimal literal\n"
          ]
        }
      ]
    },
    {
      "cell_type": "code",
      "source": [
        "_ = 100\n",
        "print(_)"
      ],
      "metadata": {
        "colab": {
          "base_uri": "https://localhost:8080/"
        },
        "id": "50cr0r-WZs4o",
        "outputId": "64044aa1-59f3-4354-f941-a2586e3db539"
      },
      "execution_count": null,
      "outputs": [
        {
          "output_type": "stream",
          "name": "stdout",
          "text": [
            "100\n"
          ]
        }
      ]
    },
    {
      "cell_type": "code",
      "source": [
        "import keyword\n",
        "keyword.kwlist"
      ],
      "metadata": {
        "colab": {
          "base_uri": "https://localhost:8080/"
        },
        "id": "Vu4cxICJZ3hs",
        "outputId": "e5e35187-568a-42a6-e3b5-6900548ff7c7"
      },
      "execution_count": null,
      "outputs": [
        {
          "output_type": "execute_result",
          "data": {
            "text/plain": [
              "['False',\n",
              " 'None',\n",
              " 'True',\n",
              " 'and',\n",
              " 'as',\n",
              " 'assert',\n",
              " 'async',\n",
              " 'await',\n",
              " 'break',\n",
              " 'class',\n",
              " 'continue',\n",
              " 'def',\n",
              " 'del',\n",
              " 'elif',\n",
              " 'else',\n",
              " 'except',\n",
              " 'finally',\n",
              " 'for',\n",
              " 'from',\n",
              " 'global',\n",
              " 'if',\n",
              " 'import',\n",
              " 'in',\n",
              " 'is',\n",
              " 'lambda',\n",
              " 'nonlocal',\n",
              " 'not',\n",
              " 'or',\n",
              " 'pass',\n",
              " 'raise',\n",
              " 'return',\n",
              " 'try',\n",
              " 'while',\n",
              " 'with',\n",
              " 'yield']"
            ]
          },
          "metadata": {},
          "execution_count": 21
        }
      ]
    },
    {
      "cell_type": "code",
      "source": [
        "len(keyword.kwlist) # 35 keywords in python"
      ],
      "metadata": {
        "colab": {
          "base_uri": "https://localhost:8080/"
        },
        "id": "OdIFeee6aeBT",
        "outputId": "b8e52bfa-7864-4c1d-8d74-6979753afcc0"
      },
      "execution_count": null,
      "outputs": [
        {
          "output_type": "execute_result",
          "data": {
            "text/plain": [
              "35"
            ]
          },
          "metadata": {},
          "execution_count": 23
        }
      ]
    },
    {
      "cell_type": "code",
      "source": [
        "False = 10\n",
        "print(False)"
      ],
      "metadata": {
        "colab": {
          "base_uri": "https://localhost:8080/",
          "height": 109
        },
        "id": "K-bvtSr2aOi5",
        "outputId": "cdc24671-221b-4238-e70d-73a8e3d77c81"
      },
      "execution_count": null,
      "outputs": [
        {
          "output_type": "error",
          "ename": "SyntaxError",
          "evalue": "cannot assign to False (<ipython-input-22-55e34d1ef718>, line 1)",
          "traceback": [
            "\u001b[0;36m  File \u001b[0;32m\"<ipython-input-22-55e34d1ef718>\"\u001b[0;36m, line \u001b[0;32m1\u001b[0m\n\u001b[0;31m    False = 10\u001b[0m\n\u001b[0m    ^\u001b[0m\n\u001b[0;31mSyntaxError\u001b[0m\u001b[0;31m:\u001b[0m cannot assign to False\n"
          ]
        }
      ]
    },
    {
      "cell_type": "code",
      "source": [
        "print(\"ABC\")"
      ],
      "metadata": {
        "colab": {
          "base_uri": "https://localhost:8080/"
        },
        "id": "CtVqf9jFakrJ",
        "outputId": "549baf9b-6520-4b1f-fa14-9b5c278c5c5c"
      },
      "execution_count": null,
      "outputs": [
        {
          "output_type": "stream",
          "name": "stdout",
          "text": [
            "ABC\n"
          ]
        }
      ]
    },
    {
      "cell_type": "code",
      "source": [
        "print = 10"
      ],
      "metadata": {
        "id": "rDO9VJaSaxLW"
      },
      "execution_count": null,
      "outputs": []
    },
    {
      "cell_type": "code",
      "source": [
        "# assign a name of the person\n",
        "\n",
        "n = \"Venky\"\n",
        "\n",
        "print(n)"
      ],
      "metadata": {
        "colab": {
          "base_uri": "https://localhost:8080/"
        },
        "id": "lCB4fcLza0O5",
        "outputId": "39eb6f52-4f53-48f2-c358-02c766252383"
      },
      "execution_count": null,
      "outputs": [
        {
          "output_type": "stream",
          "name": "stdout",
          "text": [
            "Venky\n"
          ]
        }
      ]
    },
    {
      "cell_type": "code",
      "source": [
        "name = \"Venky\"\n",
        "s_n = \"abi\"\n",
        "student_name = \"abi\"\n"
      ],
      "metadata": {
        "id": "Zfy5HVdra_tq"
      },
      "execution_count": null,
      "outputs": []
    },
    {
      "cell_type": "code",
      "source": [
        "length_of_person_name = len(name)\n",
        "name_length = len(name)"
      ],
      "metadata": {
        "colab": {
          "base_uri": "https://localhost:8080/"
        },
        "id": "QHcAos3JbRpd",
        "outputId": "7067b9e9-5469-4693-8587-129d32f2ae2f"
      },
      "execution_count": null,
      "outputs": [
        {
          "output_type": "execute_result",
          "data": {
            "text/plain": [
              "5"
            ]
          },
          "metadata": {},
          "execution_count": 27
        }
      ]
    },
    {
      "cell_type": "code",
      "source": [
        "# try to avoid using Capital letters while assigning variables\n",
        "\n",
        "NUM = 10\n",
        "num = 10\n",
        "print(NUM)\n",
        "print(num)"
      ],
      "metadata": {
        "colab": {
          "base_uri": "https://localhost:8080/"
        },
        "id": "BJEMSUfCbwJg",
        "outputId": "b980ebcb-285f-4d0f-cc89-77443d262da6"
      },
      "execution_count": null,
      "outputs": [
        {
          "output_type": "stream",
          "name": "stdout",
          "text": [
            "10\n",
            "10\n"
          ]
        }
      ]
    },
    {
      "cell_type": "markdown",
      "source": [
        "### **Comments**"
      ],
      "metadata": {
        "id": "trj9ABVTeUSI"
      }
    },
    {
      "cell_type": "code",
      "source": [
        "# Single Line Comment\n",
        "\n",
        "\"\"\"\n",
        "I'm explaining multiple line comments here\n",
        "in Python class\n",
        "\"\"\"\n",
        "'''\n",
        "explain\n",
        "concepts\n",
        "of\n",
        "comments\n",
        "'''\n",
        "\n",
        "# explain\n",
        "# concepts\n",
        "# of\n",
        "# comments\n",
        "print(\"comments\")"
      ],
      "metadata": {
        "colab": {
          "base_uri": "https://localhost:8080/"
        },
        "id": "XvNVMVxQeWPR",
        "outputId": "732e7349-0217-4074-9215-92251b6b0fce"
      },
      "execution_count": null,
      "outputs": [
        {
          "output_type": "stream",
          "name": "stdout",
          "text": [
            "comments\n"
          ]
        }
      ]
    },
    {
      "cell_type": "markdown",
      "source": [
        "### **Datatypes**"
      ],
      "metadata": {
        "id": "cL7E7KhHfOfN"
      }
    },
    {
      "cell_type": "markdown",
      "source": [
        "**Strings**"
      ],
      "metadata": {
        "id": "hSUMa9TmeQEB"
      }
    },
    {
      "cell_type": "code",
      "source": [
        "# A string is a series of characters\n",
        "\n",
        "new_string = \"This is a string\"\n",
        "new_string_2 = 'This is a string'\n",
        "new_string_3 = 'This is a string'\n",
        "\n",
        "print(new_string)\n",
        "print(new_string_2)\n",
        "print(type(new_string))\n",
        "print(type(new_string_2))"
      ],
      "metadata": {
        "colab": {
          "base_uri": "https://localhost:8080/"
        },
        "id": "NXq3_gKyeSH-",
        "outputId": "a5c9ea9f-33c9-4a41-b061-a8c2ba903c76"
      },
      "execution_count": null,
      "outputs": [
        {
          "output_type": "stream",
          "name": "stdout",
          "text": [
            "This is a string\n",
            "This is a string\n",
            "<class 'str'>\n",
            "<class 'str'>\n"
          ]
        }
      ]
    },
    {
      "cell_type": "code",
      "source": [
        "print(id(new_string))\n",
        "print(id(new_string_2))\n",
        "print(id(new_string_3))"
      ],
      "metadata": {
        "colab": {
          "base_uri": "https://localhost:8080/"
        },
        "id": "DKCno7fbftKx",
        "outputId": "90fe5c00-1346-4645-d577-2e5a837f1bb1"
      },
      "execution_count": null,
      "outputs": [
        {
          "output_type": "stream",
          "name": "stdout",
          "text": [
            "132141852564160\n",
            "132141852563120\n",
            "132141852570000\n"
          ]
        }
      ]
    },
    {
      "cell_type": "code",
      "source": [
        "name = \"Venky\"\n",
        "name_2 = \"Venky\"\n",
        "\n",
        "print(id(name))\n",
        "print(id(name_2))"
      ],
      "metadata": {
        "colab": {
          "base_uri": "https://localhost:8080/"
        },
        "id": "RJZ4zIBhgpAG",
        "outputId": "080bf96d-c2fd-451d-e70b-8431b2738aed"
      },
      "execution_count": null,
      "outputs": [
        {
          "output_type": "stream",
          "name": "stdout",
          "text": [
            "132141854175664\n",
            "132141854175664\n"
          ]
        }
      ]
    },
    {
      "cell_type": "code",
      "source": [
        "a = 250\n",
        "b = 250\n",
        "\n",
        "print(id(a))\n",
        "print(id(b))\n",
        "\n",
        "c = 300\n",
        "d = 300\n",
        "print(id(c))\n",
        "print(id(d))"
      ],
      "metadata": {
        "colab": {
          "base_uri": "https://localhost:8080/"
        },
        "id": "n044XHgFhUxn",
        "outputId": "774a6a54-1774-4a72-8540-8fd743bfd55a"
      },
      "execution_count": null,
      "outputs": [
        {
          "output_type": "stream",
          "name": "stdout",
          "text": [
            "132143135612944\n",
            "132143135612944\n",
            "132141854396720\n",
            "132141854401296\n"
          ]
        }
      ]
    },
    {
      "cell_type": "code",
      "source": [
        "message = 'I have watched \"Indian-2\" Audio Launch Yesterday.'\n",
        "print(message)"
      ],
      "metadata": {
        "colab": {
          "base_uri": "https://localhost:8080/"
        },
        "id": "J3zP0Zm6h_5L",
        "outputId": "dbd46202-f409-4a9f-8068-a013f4c9ad60"
      },
      "execution_count": null,
      "outputs": [
        {
          "output_type": "stream",
          "name": "stdout",
          "text": [
            "I have watched \"Indian-2\" Audio Launch Yesterday.\n"
          ]
        }
      ]
    },
    {
      "cell_type": "code",
      "source": [
        "string_1 = \"This is a string\"\n",
        "string_2 = \"This is a string \"\n",
        "string_1 == string_2"
      ],
      "metadata": {
        "colab": {
          "base_uri": "https://localhost:8080/"
        },
        "id": "D-yGa0FjivYZ",
        "outputId": "ae69021c-cffb-451c-c64e-d70c114906c0"
      },
      "execution_count": null,
      "outputs": [
        {
          "output_type": "execute_result",
          "data": {
            "text/plain": [
              "False"
            ]
          },
          "metadata": {},
          "execution_count": 47
        }
      ]
    },
    {
      "cell_type": "code",
      "source": [
        "name = \"Venky\"\n",
        "name_2 = \"Venky  \"\n",
        "name_3 = \"  Venky\"\n",
        "name_4 = \" Venky \""
      ],
      "metadata": {
        "id": "cY_4zHb1jZu4"
      },
      "execution_count": null,
      "outputs": []
    },
    {
      "cell_type": "code",
      "source": [
        "name_2"
      ],
      "metadata": {
        "colab": {
          "base_uri": "https://localhost:8080/",
          "height": 36
        },
        "id": "Kp60a7Eqj93_",
        "outputId": "fa43691a-d7bc-44c8-c8de-cbdc2cbba186"
      },
      "execution_count": null,
      "outputs": [
        {
          "output_type": "execute_result",
          "data": {
            "text/plain": [
              "'Venky  '"
            ],
            "application/vnd.google.colaboratory.intrinsic+json": {
              "type": "string"
            }
          },
          "metadata": {},
          "execution_count": 52
        }
      ]
    },
    {
      "cell_type": "code",
      "source": [
        "name_2.rstrip()"
      ],
      "metadata": {
        "colab": {
          "base_uri": "https://localhost:8080/",
          "height": 36
        },
        "id": "6oUcEt3cj1Vg",
        "outputId": "c0598f46-5e8d-48bb-ecc4-fe6babdeb2c7"
      },
      "execution_count": null,
      "outputs": [
        {
          "output_type": "execute_result",
          "data": {
            "text/plain": [
              "'Venky'"
            ],
            "application/vnd.google.colaboratory.intrinsic+json": {
              "type": "string"
            }
          },
          "metadata": {},
          "execution_count": 51
        }
      ]
    },
    {
      "cell_type": "code",
      "source": [
        "name_3"
      ],
      "metadata": {
        "colab": {
          "base_uri": "https://localhost:8080/",
          "height": 36
        },
        "id": "jN-QnM4-kDmm",
        "outputId": "4f40e99b-9fff-4722-f870-c124d506d2f1"
      },
      "execution_count": null,
      "outputs": [
        {
          "output_type": "execute_result",
          "data": {
            "text/plain": [
              "'  Venky'"
            ],
            "application/vnd.google.colaboratory.intrinsic+json": {
              "type": "string"
            }
          },
          "metadata": {},
          "execution_count": 53
        }
      ]
    },
    {
      "cell_type": "code",
      "source": [
        "name_3.lstrip()"
      ],
      "metadata": {
        "colab": {
          "base_uri": "https://localhost:8080/",
          "height": 36
        },
        "id": "04qRJgS4kF4w",
        "outputId": "575b4c7f-4306-4320-e995-21cb6ec62d71"
      },
      "execution_count": null,
      "outputs": [
        {
          "output_type": "execute_result",
          "data": {
            "text/plain": [
              "'Venky'"
            ],
            "application/vnd.google.colaboratory.intrinsic+json": {
              "type": "string"
            }
          },
          "metadata": {},
          "execution_count": 54
        }
      ]
    },
    {
      "cell_type": "code",
      "source": [
        "name_4"
      ],
      "metadata": {
        "colab": {
          "base_uri": "https://localhost:8080/",
          "height": 36
        },
        "id": "3DJ2m35lkJ_a",
        "outputId": "50a30395-fce8-4092-d0ff-63cba4639475"
      },
      "execution_count": null,
      "outputs": [
        {
          "output_type": "execute_result",
          "data": {
            "text/plain": [
              "' Venky '"
            ],
            "application/vnd.google.colaboratory.intrinsic+json": {
              "type": "string"
            }
          },
          "metadata": {},
          "execution_count": 55
        }
      ]
    },
    {
      "cell_type": "code",
      "source": [
        "name_4.strip()"
      ],
      "metadata": {
        "colab": {
          "base_uri": "https://localhost:8080/",
          "height": 36
        },
        "id": "WRFpdvrfkMvh",
        "outputId": "b7fcf25d-23b8-4e44-b91f-a522f2bc5fe9"
      },
      "execution_count": null,
      "outputs": [
        {
          "output_type": "execute_result",
          "data": {
            "text/plain": [
              "'Venky'"
            ],
            "application/vnd.google.colaboratory.intrinsic+json": {
              "type": "string"
            }
          },
          "metadata": {},
          "execution_count": 56
        }
      ]
    },
    {
      "cell_type": "code",
      "source": [
        "first_name = \"Venky\"\n",
        "last_name = \"Viky\"\n",
        "\n",
        "first_name+\" \"+last_name"
      ],
      "metadata": {
        "colab": {
          "base_uri": "https://localhost:8080/",
          "height": 36
        },
        "id": "J-D35R6wkbq9",
        "outputId": "e442f032-96ee-4703-d1cd-52aaf0456b3e"
      },
      "execution_count": null,
      "outputs": [
        {
          "output_type": "execute_result",
          "data": {
            "text/plain": [
              "'Venky Viky'"
            ],
            "application/vnd.google.colaboratory.intrinsic+json": {
              "type": "string"
            }
          },
          "metadata": {},
          "execution_count": 58
        }
      ]
    },
    {
      "cell_type": "markdown",
      "source": [
        "**Numeric**"
      ],
      "metadata": {
        "id": "UjV22UIen5o8"
      }
    },
    {
      "cell_type": "code",
      "source": [
        "value = 10\n",
        "print(type(value))"
      ],
      "metadata": {
        "colab": {
          "base_uri": "https://localhost:8080/"
        },
        "id": "duudWznMn7ZT",
        "outputId": "ae4e7b6a-144f-419e-d342-779beed44945"
      },
      "execution_count": null,
      "outputs": [
        {
          "output_type": "stream",
          "name": "stdout",
          "text": [
            "<class 'int'>\n"
          ]
        }
      ]
    },
    {
      "cell_type": "code",
      "source": [
        "f_value = 10.2\n",
        "print(type(f_value))"
      ],
      "metadata": {
        "colab": {
          "base_uri": "https://localhost:8080/"
        },
        "id": "ZUQWJPGaoA-C",
        "outputId": "e0f3abcd-628e-4aa7-cbdb-9a84e83a67f8"
      },
      "execution_count": null,
      "outputs": [
        {
          "output_type": "stream",
          "name": "stdout",
          "text": [
            "<class 'float'>\n"
          ]
        }
      ]
    },
    {
      "cell_type": "code",
      "source": [
        "a = 10\n",
        "b = 12\n",
        "s = a+b\n",
        "sub = a-b\n",
        "mul = a*b\n",
        "div = a/b\n",
        "print(s)\n",
        "print(type(s))\n",
        "print(sub)\n",
        "print(type(sub))\n",
        "print(mul)\n",
        "print(type(mul))\n",
        "print(div)\n",
        "print(type(div))"
      ],
      "metadata": {
        "colab": {
          "base_uri": "https://localhost:8080/"
        },
        "id": "ootEG-TuoHQy",
        "outputId": "990162ea-bee6-4a24-f230-1c12057532bd"
      },
      "execution_count": null,
      "outputs": [
        {
          "output_type": "stream",
          "name": "stdout",
          "text": [
            "22\n",
            "<class 'int'>\n",
            "-2\n",
            "<class 'int'>\n",
            "120\n",
            "<class 'int'>\n",
            "0.8333333333333334\n",
            "<class 'float'>\n"
          ]
        }
      ]
    },
    {
      "cell_type": "code",
      "source": [
        "a = 10\n",
        "b = 5\n",
        "c = a/b\n",
        "\n",
        "print(c)\n",
        "print(type(c))\n",
        "\n",
        "# floor division\n",
        "\n",
        "d = a//b\n",
        "print(d)\n",
        "print(type(d))"
      ],
      "metadata": {
        "colab": {
          "base_uri": "https://localhost:8080/"
        },
        "id": "lcR8bhbEoq2K",
        "outputId": "93382410-f536-488b-9ab4-85d532977a18"
      },
      "execution_count": null,
      "outputs": [
        {
          "output_type": "stream",
          "name": "stdout",
          "text": [
            "2.0\n",
            "<class 'float'>\n",
            "2\n",
            "<class 'int'>\n"
          ]
        }
      ]
    },
    {
      "cell_type": "code",
      "source": [
        "a = 12\n",
        "b = 5\n",
        "\n",
        "c = a/b\n",
        "print(c)\n",
        "print(type(c))\n",
        "d = a//b\n",
        "print(d)\n",
        "print(type(d))\n",
        "\n",
        "a = 14\n",
        "b = 5\n",
        "\n",
        "c = a/b\n",
        "print(c)\n",
        "print(type(c))\n",
        "d = a//b\n",
        "print(d)\n",
        "print(type(d))"
      ],
      "metadata": {
        "colab": {
          "base_uri": "https://localhost:8080/"
        },
        "id": "vMuNtk9DpNPo",
        "outputId": "ebfbee2b-6a10-4490-bbb3-36ebb51740a1"
      },
      "execution_count": null,
      "outputs": [
        {
          "output_type": "stream",
          "name": "stdout",
          "text": [
            "2.4\n",
            "<class 'float'>\n",
            "2\n",
            "<class 'int'>\n",
            "2.8\n",
            "<class 'float'>\n",
            "2\n",
            "<class 'int'>\n"
          ]
        }
      ]
    },
    {
      "cell_type": "code",
      "source": [
        "a = 10\n",
        "b = 0\n",
        "print(a/b)"
      ],
      "metadata": {
        "colab": {
          "base_uri": "https://localhost:8080/",
          "height": 180
        },
        "id": "gIWoyqtzpD2V",
        "outputId": "6029de7d-bb3e-44d6-fcab-30ac5c809827"
      },
      "execution_count": null,
      "outputs": [
        {
          "output_type": "error",
          "ename": "ZeroDivisionError",
          "evalue": "division by zero",
          "traceback": [
            "\u001b[0;31m---------------------------------------------------------------------------\u001b[0m",
            "\u001b[0;31mZeroDivisionError\u001b[0m                         Traceback (most recent call last)",
            "\u001b[0;32m<ipython-input-65-7d1d879c47c9>\u001b[0m in \u001b[0;36m<cell line: 3>\u001b[0;34m()\u001b[0m\n\u001b[1;32m      1\u001b[0m \u001b[0ma\u001b[0m \u001b[0;34m=\u001b[0m \u001b[0;36m10\u001b[0m\u001b[0;34m\u001b[0m\u001b[0;34m\u001b[0m\u001b[0m\n\u001b[1;32m      2\u001b[0m \u001b[0mb\u001b[0m \u001b[0;34m=\u001b[0m \u001b[0;36m0\u001b[0m\u001b[0;34m\u001b[0m\u001b[0;34m\u001b[0m\u001b[0m\n\u001b[0;32m----> 3\u001b[0;31m \u001b[0mprint\u001b[0m\u001b[0;34m(\u001b[0m\u001b[0ma\u001b[0m\u001b[0;34m/\u001b[0m\u001b[0mb\u001b[0m\u001b[0;34m)\u001b[0m\u001b[0;34m\u001b[0m\u001b[0;34m\u001b[0m\u001b[0m\n\u001b[0m",
            "\u001b[0;31mZeroDivisionError\u001b[0m: division by zero"
          ]
        }
      ]
    },
    {
      "cell_type": "code",
      "source": [
        "f_value = 12.2\n",
        "print(f_value)\n",
        "print(type(f_value))\n",
        "a = 12.2\n",
        "b = 12.0\n",
        "c = a+b\n",
        "d = a-b\n",
        "e = a*b\n",
        "f = a/b\n",
        "print(d)"
      ],
      "metadata": {
        "colab": {
          "base_uri": "https://localhost:8080/"
        },
        "id": "oGTR7VhnqL8L",
        "outputId": "67ba300f-1d0a-4c72-d7de-4767e7af6e5c"
      },
      "execution_count": null,
      "outputs": [
        {
          "output_type": "stream",
          "name": "stdout",
          "text": [
            "12.2\n",
            "<class 'float'>\n",
            "0.1999999999999993\n"
          ]
        }
      ]
    },
    {
      "cell_type": "code",
      "source": [
        "from decimal import Decimal\n",
        "Decimal(0.3)"
      ],
      "metadata": {
        "colab": {
          "base_uri": "https://localhost:8080/"
        },
        "id": "JBDTB9zltAK-",
        "outputId": "ab544037-5202-4d2b-d56e-1edeecb90819"
      },
      "execution_count": null,
      "outputs": [
        {
          "output_type": "execute_result",
          "data": {
            "text/plain": [
              "Decimal('0.299999999999999988897769753748434595763683319091796875')"
            ]
          },
          "metadata": {},
          "execution_count": 74
        }
      ]
    },
    {
      "cell_type": "code",
      "source": [
        "a = 0.1\n",
        "b = 0.2\n",
        "c = a+b\n",
        "print(c)\n",
        "print(type(c))"
      ],
      "metadata": {
        "colab": {
          "base_uri": "https://localhost:8080/"
        },
        "id": "8zk0uZiwtYls",
        "outputId": "5f390120-1c80-40a6-ecf5-cdef161a36a8"
      },
      "execution_count": null,
      "outputs": [
        {
          "output_type": "stream",
          "name": "stdout",
          "text": [
            "0.30000000000000004\n",
            "<class 'float'>\n"
          ]
        }
      ]
    },
    {
      "cell_type": "code",
      "source": [
        "from decimal import Decimal\n",
        "\n",
        "a = Decimal('10.4')\n",
        "b = Decimal('12.5')\n",
        "c = a+b\n",
        "print(c)\n",
        "print(type(c))"
      ],
      "metadata": {
        "colab": {
          "base_uri": "https://localhost:8080/"
        },
        "id": "q5YITVwlthTI",
        "outputId": "b3f824cd-727e-46e7-ae9c-754154e11551"
      },
      "execution_count": null,
      "outputs": [
        {
          "output_type": "stream",
          "name": "stdout",
          "text": [
            "22.9\n",
            "<class 'decimal.Decimal'>\n"
          ]
        }
      ]
    },
    {
      "cell_type": "code",
      "source": [
        "10.4+12.5"
      ],
      "metadata": {
        "colab": {
          "base_uri": "https://localhost:8080/"
        },
        "id": "RxTNtG1mt-sL",
        "outputId": "50226580-747c-43a0-8897-b67086f70e09"
      },
      "execution_count": null,
      "outputs": [
        {
          "output_type": "execute_result",
          "data": {
            "text/plain": [
              "22.9"
            ]
          },
          "metadata": {},
          "execution_count": 81
        }
      ]
    },
    {
      "cell_type": "code",
      "source": [
        "f = 12.0\n",
        "i = int(f)\n",
        "print(i)\n",
        "print(type(i))"
      ],
      "metadata": {
        "colab": {
          "base_uri": "https://localhost:8080/"
        },
        "id": "DpBDSoyjuJW0",
        "outputId": "d209ca09-3452-4f9e-bda6-c4713302fad1"
      },
      "execution_count": null,
      "outputs": [
        {
          "output_type": "stream",
          "name": "stdout",
          "text": [
            "12\n",
            "<class 'int'>\n"
          ]
        }
      ]
    },
    {
      "cell_type": "code",
      "source": [
        "a = 12.56442845\n",
        "round(a,2)"
      ],
      "metadata": {
        "colab": {
          "base_uri": "https://localhost:8080/"
        },
        "id": "BYJK76GEugMn",
        "outputId": "1c162649-4a89-41b5-adc3-98d0878de9bf"
      },
      "execution_count": null,
      "outputs": [
        {
          "output_type": "execute_result",
          "data": {
            "text/plain": [
              "12.56"
            ]
          },
          "metadata": {},
          "execution_count": 88
        }
      ]
    },
    {
      "cell_type": "code",
      "source": [
        "Decimal(0.1)"
      ],
      "metadata": {
        "colab": {
          "base_uri": "https://localhost:8080/"
        },
        "id": "IvzkdiDPu1WQ",
        "outputId": "08764cb9-074b-45bc-d8e9-68dd15b93c1b"
      },
      "execution_count": null,
      "outputs": [
        {
          "output_type": "execute_result",
          "data": {
            "text/plain": [
              "Decimal('0.1000000000000000055511151231257827021181583404541015625')"
            ]
          },
          "metadata": {},
          "execution_count": 89
        }
      ]
    },
    {
      "cell_type": "code",
      "source": [
        "Decimal(0.1)"
      ],
      "metadata": {
        "colab": {
          "base_uri": "https://localhost:8080/"
        },
        "id": "RHvHY9DRvDoV",
        "outputId": "baece94e-1db2-4180-bd4d-98f508007be6"
      },
      "execution_count": null,
      "outputs": [
        {
          "output_type": "execute_result",
          "data": {
            "text/plain": [
              "Decimal('0.1000000000000000055511151231257827021181583404541015625')"
            ]
          },
          "metadata": {},
          "execution_count": 93
        }
      ]
    },
    {
      "cell_type": "code",
      "source": [
        "a = 10\n",
        "b = 12.3\n",
        "c = a+b\n",
        "print(c)\n",
        "print(type(c))"
      ],
      "metadata": {
        "colab": {
          "base_uri": "https://localhost:8080/"
        },
        "id": "5ccCasd5wFyv",
        "outputId": "69d7d844-b25e-45f0-b250-6bae219e8815"
      },
      "execution_count": null,
      "outputs": [
        {
          "output_type": "stream",
          "name": "stdout",
          "text": [
            "22.3\n",
            "<class 'float'>\n"
          ]
        }
      ]
    },
    {
      "cell_type": "code",
      "source": [
        "a = complex(12)\n",
        "print(a)\n",
        "print(type(a))\n",
        "b = complex(12, 2)\n",
        "print(b)\n",
        "print(type(b))\n",
        "a+b"
      ],
      "metadata": {
        "colab": {
          "base_uri": "https://localhost:8080/"
        },
        "id": "cDlVTFUAwept",
        "outputId": "fbaeb160-955a-437d-c90a-69998cd2977e"
      },
      "execution_count": null,
      "outputs": [
        {
          "output_type": "stream",
          "name": "stdout",
          "text": [
            "(12+0j)\n",
            "<class 'complex'>\n",
            "(12+2j)\n",
            "<class 'complex'>\n"
          ]
        },
        {
          "output_type": "execute_result",
          "data": {
            "text/plain": [
              "(24+2j)"
            ]
          },
          "metadata": {},
          "execution_count": 98
        }
      ]
    },
    {
      "cell_type": "code",
      "source": [
        "a = 0.2\n",
        "b = 0.1\n",
        "c = a+b\n",
        "print(c)"
      ],
      "metadata": {
        "colab": {
          "base_uri": "https://localhost:8080/"
        },
        "id": "cYcdoICCw9ij",
        "outputId": "133a0690-9257-4248-ba6d-d199c8949368"
      },
      "execution_count": null,
      "outputs": [
        {
          "output_type": "stream",
          "name": "stdout",
          "text": [
            "0.30000000000000004\n"
          ]
        }
      ]
    },
    {
      "cell_type": "code",
      "source": [
        "a = 4\n",
        "b = 2\n",
        "\n",
        "c = a/b\n",
        "print(c)\n",
        "print(type(c))"
      ],
      "metadata": {
        "colab": {
          "base_uri": "https://localhost:8080/"
        },
        "id": "VkVkMU9mxYTt",
        "outputId": "2dd51de8-527b-4c34-8c22-fb65cff9deb4"
      },
      "execution_count": null,
      "outputs": [
        {
          "output_type": "stream",
          "name": "stdout",
          "text": [
            "2.0\n",
            "<class 'float'>\n"
          ]
        }
      ]
    },
    {
      "cell_type": "markdown",
      "source": [
        "**Lists**"
      ],
      "metadata": {
        "id": "mtjV5ICNxmXp"
      }
    },
    {
      "cell_type": "code",
      "source": [
        "new_list = [2,4,6,10,12.4, 12.8, \"Venky\", \"Gate\", \"Python\", 128, \"IPL\", \"VIRAT\"]"
      ],
      "metadata": {
        "id": "QquQQC1Yxo2u"
      },
      "execution_count": null,
      "outputs": []
    },
    {
      "cell_type": "code",
      "source": [
        "type(new_list)"
      ],
      "metadata": {
        "colab": {
          "base_uri": "https://localhost:8080/"
        },
        "id": "doWA-y6JyIHi",
        "outputId": "f2b679d6-bdd0-4805-a83d-3204550b69ab"
      },
      "execution_count": null,
      "outputs": [
        {
          "output_type": "execute_result",
          "data": {
            "text/plain": [
              "list"
            ]
          },
          "metadata": {},
          "execution_count": 102
        }
      ]
    },
    {
      "cell_type": "code",
      "source": [
        "new_list[-3]"
      ],
      "metadata": {
        "colab": {
          "base_uri": "https://localhost:8080/"
        },
        "id": "DFEON2U_yhLs",
        "outputId": "593bc455-6602-4b4d-a0e5-848118b39de9"
      },
      "execution_count": null,
      "outputs": [
        {
          "output_type": "execute_result",
          "data": {
            "text/plain": [
              "128"
            ]
          },
          "metadata": {},
          "execution_count": 108
        }
      ]
    },
    {
      "cell_type": "code",
      "source": [
        "len(new_list)"
      ],
      "metadata": {
        "colab": {
          "base_uri": "https://localhost:8080/"
        },
        "id": "9X2Zr27X2H3_",
        "outputId": "1f757d31-1392-4540-a921-568a36db7951"
      },
      "execution_count": null,
      "outputs": [
        {
          "output_type": "execute_result",
          "data": {
            "text/plain": [
              "12"
            ]
          },
          "metadata": {},
          "execution_count": 109
        }
      ]
    },
    {
      "cell_type": "code",
      "source": [
        "new_list[0]"
      ],
      "metadata": {
        "colab": {
          "base_uri": "https://localhost:8080/"
        },
        "id": "L-7HCV492NAG",
        "outputId": "c90ac08d-9348-437c-a2c7-8f2b79b2d47f"
      },
      "execution_count": null,
      "outputs": [
        {
          "output_type": "execute_result",
          "data": {
            "text/plain": [
              "2"
            ]
          },
          "metadata": {},
          "execution_count": 110
        }
      ]
    },
    {
      "cell_type": "code",
      "source": [
        "new_list[-12]"
      ],
      "metadata": {
        "colab": {
          "base_uri": "https://localhost:8080/"
        },
        "id": "3R4ybXA_2Y_9",
        "outputId": "617b09f9-2faa-4ade-e1d2-13edec5083f4"
      },
      "execution_count": null,
      "outputs": [
        {
          "output_type": "execute_result",
          "data": {
            "text/plain": [
              "2"
            ]
          },
          "metadata": {},
          "execution_count": 111
        }
      ]
    },
    {
      "cell_type": "code",
      "source": [
        "print(type(new_list))\n",
        "print(id(new_list))\n",
        "\n",
        "new_list[-1] = \"Rohit\"\n",
        "print(new_list)\n",
        "print(id(new_list))"
      ],
      "metadata": {
        "colab": {
          "base_uri": "https://localhost:8080/"
        },
        "id": "_2UFXcSa3KoX",
        "outputId": "f2220639-5c6a-475e-e21d-4ac965c5e8b1"
      },
      "execution_count": null,
      "outputs": [
        {
          "output_type": "stream",
          "name": "stdout",
          "text": [
            "<class 'list'>\n",
            "132141853140608\n",
            "[2, 4, 6, 10, 12.4, 12.8, 'Venky', 'Gate', 'Python', 128, 'IPL', 'Rohit']\n",
            "132141853140608\n"
          ]
        }
      ]
    },
    {
      "cell_type": "code",
      "source": [
        "new_list = [1,2,3]\n",
        "print(new_list)\n",
        "print(id(new_list))\n",
        "print(id(new_list[0]))\n",
        "new_list[0] = 10\n",
        "print(\"Updated list: \", new_list)\n",
        "print(id(new_list))\n",
        "print(id(new_list[0]))"
      ],
      "metadata": {
        "colab": {
          "base_uri": "https://localhost:8080/"
        },
        "id": "EwmM-ru842L_",
        "outputId": "a07cfe39-ac05-4c61-adc6-f4028ddef02a"
      },
      "execution_count": null,
      "outputs": [
        {
          "output_type": "stream",
          "name": "stdout",
          "text": [
            "[1, 2, 3]\n",
            "132141853365952\n",
            "132143135604976\n",
            "Updated list:  [10, 2, 3]\n",
            "132141853365952\n",
            "132143135605264\n"
          ]
        }
      ]
    },
    {
      "cell_type": "code",
      "source": [
        "new_list = [2,2,3]\n",
        "new_list2 = [270, 270, 300, 10000, 10000]\n",
        "print(\"First list\")\n",
        "print(id(new_list[0]))\n",
        "print(id(new_list[1]))\n",
        "print(\"Second List\")\n",
        "print(id(new_list2[0]))\n",
        "print(id(new_list2[1]))\n",
        "print(id(new_list2[-1]))\n",
        "print(id(new_list2[-2]))"
      ],
      "metadata": {
        "colab": {
          "base_uri": "https://localhost:8080/"
        },
        "id": "g5Hlk4PS5s5t",
        "outputId": "ae8e6510-14c3-4e2d-a913-9804734f7f8d"
      },
      "execution_count": null,
      "outputs": [
        {
          "output_type": "stream",
          "name": "stdout",
          "text": [
            "First list\n",
            "132143135605008\n",
            "132143135605008\n",
            "Second List\n",
            "132141853217520\n",
            "132141853217520\n",
            "132141853216976\n",
            "132141853216976\n"
          ]
        }
      ]
    },
    {
      "cell_type": "code",
      "source": [
        "a = 10000\n",
        "b = 10000\n",
        "\n",
        "print(id(a))\n",
        "print(id(b))"
      ],
      "metadata": {
        "colab": {
          "base_uri": "https://localhost:8080/"
        },
        "id": "R4PvqNx-6IJL",
        "outputId": "8efe4b2d-b5d6-4042-9198-019bbacd8484"
      },
      "execution_count": null,
      "outputs": [
        {
          "output_type": "stream",
          "name": "stdout",
          "text": [
            "132141853219408\n",
            "132141853219280\n"
          ]
        }
      ]
    },
    {
      "cell_type": "code",
      "source": [
        "name = \"Venky\"\n",
        "print(name)\n",
        "print(id(name))\n",
        "\n",
        "name = \"Kenky\"\n",
        "print(name)\n",
        "print(id(name))"
      ],
      "metadata": {
        "colab": {
          "base_uri": "https://localhost:8080/"
        },
        "id": "BxvVlsiE31xZ",
        "outputId": "aded6995-57c4-4d42-bd78-c6faf485164b"
      },
      "execution_count": null,
      "outputs": [
        {
          "output_type": "stream",
          "name": "stdout",
          "text": [
            "Venky\n",
            "132141854175664\n",
            "Kenky\n",
            "132141853385136\n"
          ]
        }
      ]
    },
    {
      "cell_type": "code",
      "source": [
        "name[0] = \"K\"\n",
        "print(name)"
      ],
      "metadata": {
        "colab": {
          "base_uri": "https://localhost:8080/",
          "height": 162
        },
        "id": "8XryRfGS4N6o",
        "outputId": "2c490ab0-103e-46f4-dc7f-ae4a4bb67bea"
      },
      "execution_count": null,
      "outputs": [
        {
          "output_type": "error",
          "ename": "TypeError",
          "evalue": "'str' object does not support item assignment",
          "traceback": [
            "\u001b[0;31m---------------------------------------------------------------------------\u001b[0m",
            "\u001b[0;31mTypeError\u001b[0m                                 Traceback (most recent call last)",
            "\u001b[0;32m<ipython-input-116-9fcaac50d270>\u001b[0m in \u001b[0;36m<cell line: 1>\u001b[0;34m()\u001b[0m\n\u001b[0;32m----> 1\u001b[0;31m \u001b[0mname\u001b[0m\u001b[0;34m[\u001b[0m\u001b[0;36m0\u001b[0m\u001b[0;34m]\u001b[0m \u001b[0;34m=\u001b[0m \u001b[0;34m\"K\"\u001b[0m\u001b[0;34m\u001b[0m\u001b[0;34m\u001b[0m\u001b[0m\n\u001b[0m\u001b[1;32m      2\u001b[0m \u001b[0mprint\u001b[0m\u001b[0;34m(\u001b[0m\u001b[0mname\u001b[0m\u001b[0;34m)\u001b[0m\u001b[0;34m\u001b[0m\u001b[0;34m\u001b[0m\u001b[0m\n",
            "\u001b[0;31mTypeError\u001b[0m: 'str' object does not support item assignment"
          ]
        }
      ]
    },
    {
      "cell_type": "code",
      "source": [
        "print(name[0])\n",
        "print(name[1])\n",
        "print(name[2])\n",
        "print(name[3])\n",
        "print(name[4])\n",
        "print(name[-1])\n",
        "print(name[-2])\n",
        "print(name[-3])\n",
        "print(name[-4])\n",
        "print(name[-5])"
      ],
      "metadata": {
        "colab": {
          "base_uri": "https://localhost:8080/"
        },
        "id": "okZHWpjN34JD",
        "outputId": "5011d36b-1802-43b3-caf2-8196b336aac3"
      },
      "execution_count": null,
      "outputs": [
        {
          "output_type": "stream",
          "name": "stdout",
          "text": [
            "V\n",
            "e\n",
            "n\n",
            "k\n",
            "y\n",
            "y\n",
            "k\n",
            "n\n",
            "e\n",
            "V\n"
          ]
        }
      ]
    },
    {
      "cell_type": "markdown",
      "source": [
        "**Tuple**"
      ],
      "metadata": {
        "id": "YGYYanL06uaa"
      }
    },
    {
      "cell_type": "code",
      "source": [
        "new_tuple = (2,5,10,\"Venky\",12.5,2,5,10,\"Viky\")\n",
        "print(new_tuple)\n",
        "print(type(new_tuple))\n",
        "print(id(new_tuple))"
      ],
      "metadata": {
        "colab": {
          "base_uri": "https://localhost:8080/"
        },
        "id": "43DEpiUb6tsI",
        "outputId": "d42a590c-92ae-4133-97a4-4eb88e7994a8"
      },
      "execution_count": null,
      "outputs": [
        {
          "output_type": "stream",
          "name": "stdout",
          "text": [
            "(2, 5, 10, 'Venky', 12.5, 2, 5, 10, 'Viky')\n",
            "<class 'tuple'>\n",
            "132141855045024\n"
          ]
        }
      ]
    },
    {
      "cell_type": "code",
      "source": [
        "new_tuple[-1]"
      ],
      "metadata": {
        "colab": {
          "base_uri": "https://localhost:8080/",
          "height": 36
        },
        "id": "0y_q-2K16_PG",
        "outputId": "e437bb06-4000-4080-c91b-8a5917d28327"
      },
      "execution_count": null,
      "outputs": [
        {
          "output_type": "execute_result",
          "data": {
            "text/plain": [
              "'Viky'"
            ],
            "application/vnd.google.colaboratory.intrinsic+json": {
              "type": "string"
            }
          },
          "metadata": {},
          "execution_count": 126
        }
      ]
    },
    {
      "cell_type": "code",
      "source": [
        "new_tuple = (2,4,6,10,12.4, 12.8, \"Venky\", \"Gate\", \"Python\", 128, \"IPL\", \"VIRAT\")\n",
        "\n",
        "print(new_tuple[-1])"
      ],
      "metadata": {
        "colab": {
          "base_uri": "https://localhost:8080/"
        },
        "id": "8Uhol_rr7Wv1",
        "outputId": "8b3de7e1-8823-403e-9a42-123fd8fee07a"
      },
      "execution_count": null,
      "outputs": [
        {
          "output_type": "stream",
          "name": "stdout",
          "text": [
            "VIRAT\n"
          ]
        }
      ]
    },
    {
      "cell_type": "code",
      "source": [
        "new_tuple_2 = (2,4,6,(21,4),[24,2],12.5,10,22,22,257,1000,10000,10000,257)"
      ],
      "metadata": {
        "id": "irWbljAE7nmN"
      },
      "execution_count": null,
      "outputs": []
    },
    {
      "cell_type": "code",
      "source": [],
      "metadata": {
        "id": "7xBhVdeU7ymX"
      },
      "execution_count": null,
      "outputs": []
    },
    {
      "cell_type": "code",
      "source": [
        "new_tuple[-1] = \"Rohit\"\n",
        "print(new_tuple)"
      ],
      "metadata": {
        "colab": {
          "base_uri": "https://localhost:8080/",
          "height": 162
        },
        "id": "JvYyID147eBI",
        "outputId": "81b64076-215e-4bb4-b86a-a3082fe07bf0"
      },
      "execution_count": null,
      "outputs": [
        {
          "output_type": "error",
          "ename": "TypeError",
          "evalue": "'tuple' object does not support item assignment",
          "traceback": [
            "\u001b[0;31m---------------------------------------------------------------------------\u001b[0m",
            "\u001b[0;31mTypeError\u001b[0m                                 Traceback (most recent call last)",
            "\u001b[0;32m<ipython-input-128-2746a8e48515>\u001b[0m in \u001b[0;36m<cell line: 1>\u001b[0;34m()\u001b[0m\n\u001b[0;32m----> 1\u001b[0;31m \u001b[0mnew_tuple\u001b[0m\u001b[0;34m[\u001b[0m\u001b[0;34m-\u001b[0m\u001b[0;36m1\u001b[0m\u001b[0;34m]\u001b[0m \u001b[0;34m=\u001b[0m \u001b[0;34m\"Rohit\"\u001b[0m\u001b[0;34m\u001b[0m\u001b[0;34m\u001b[0m\u001b[0m\n\u001b[0m\u001b[1;32m      2\u001b[0m \u001b[0mprint\u001b[0m\u001b[0;34m(\u001b[0m\u001b[0mnew_tuple\u001b[0m\u001b[0;34m)\u001b[0m\u001b[0;34m\u001b[0m\u001b[0;34m\u001b[0m\u001b[0m\n",
            "\u001b[0;31mTypeError\u001b[0m: 'tuple' object does not support item assignment"
          ]
        }
      ]
    },
    {
      "cell_type": "code",
      "source": [
        "new_list1 = [1,2]\n",
        "new_tuple1 = tuple(new_list1)\n",
        "print(id(new_list1))\n",
        "print(new_tuple1)\n",
        "print(type(new_tuple1))\n",
        "print(id(new_tuple1))"
      ],
      "metadata": {
        "colab": {
          "base_uri": "https://localhost:8080/"
        },
        "id": "UKYiZM0G8W_W",
        "outputId": "db89f87f-c526-48b2-e6b2-7d8dd9db5c4b"
      },
      "execution_count": null,
      "outputs": [
        {
          "output_type": "stream",
          "name": "stdout",
          "text": [
            "132141853451456\n",
            "(1, 2)\n",
            "<class 'tuple'>\n",
            "132141854145856\n"
          ]
        }
      ]
    }
  ]
}
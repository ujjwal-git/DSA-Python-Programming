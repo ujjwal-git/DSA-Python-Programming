{
  "cells": [
    {
      "cell_type": "markdown",
      "metadata": {
        "id": "tiQUAfeCrQc5"
      },
      "source": [
        "### **Type-Casting**"
      ]
    },
    {
      "cell_type": "code",
      "execution_count": null,
      "metadata": {
        "colab": {
          "base_uri": "https://localhost:8080/"
        },
        "id": "jR1Y56DWrTTt",
        "outputId": "e2389804-0c71-4bba-c9ce-7dc7593bc4b2"
      },
      "outputs": [
        {
          "name": "stdout",
          "output_type": "stream",
          "text": [
            "<class 'int'>\n",
            "<class 'float'>\n",
            "10.0\n",
            "<class 'float'>\n"
          ]
        }
      ],
      "source": [
        "# implicit type conversion\n",
        "a = 7\n",
        "print(type(a))\n",
        "b = 3.0\n",
        "print(type(b))\n",
        "c = a+b\n",
        "print(c)\n",
        "print(type(c))\n"
      ]
    },
    {
      "cell_type": "code",
      "execution_count": null,
      "metadata": {
        "colab": {
          "base_uri": "https://localhost:8080/"
        },
        "id": "IAGvoDZfruxD",
        "outputId": "9305b7d4-34b6-42a5-be0b-c88599c81fca"
      },
      "outputs": [
        {
          "name": "stdout",
          "output_type": "stream",
          "text": [
            "<class 'int'>\n",
            "<class 'float'>\n",
            "10\n",
            "<class 'int'>\n"
          ]
        }
      ],
      "source": [
        "# explicit type conversion\n",
        "\n",
        "a = 7\n",
        "b = 3.5\n",
        "c = int(a+b)\n",
        "print(type(a))\n",
        "print(type(b))\n",
        "print(c)\n",
        "print(type(c))\n"
      ]
    },
    {
      "cell_type": "code",
      "execution_count": 12,
      "metadata": {
        "colab": {
          "base_uri": "https://localhost:8080/",
          "height": 287
        },
        "id": "u9kIGzuHssaq",
        "outputId": "157f6b93-2fc6-42f8-c486-f92015b28f5b"
      },
      "outputs": [
        {
          "name": "stdout",
          "output_type": "stream",
          "text": [
            "8\n",
            "<class 'int'>\n",
            "10\n",
            "<class 'int'>\n"
          ]
        },
        {
          "ename": "ValueError",
          "evalue": "invalid literal for int() with base 10: 'abc'",
          "output_type": "error",
          "traceback": [
            "\u001b[0;31m---------------------------------------------------------------------------\u001b[0m",
            "\u001b[0;31mValueError\u001b[0m                                Traceback (most recent call last)",
            "Cell \u001b[0;32mIn[12], line 20\u001b[0m\n\u001b[1;32m     18\u001b[0m \u001b[38;5;66;03m# the int() function cannot convert a string that does not represent a valid integer to an integer.\u001b[39;00m\n\u001b[1;32m     19\u001b[0m d \u001b[38;5;241m=\u001b[39m \u001b[38;5;124m\"\u001b[39m\u001b[38;5;124mabc\u001b[39m\u001b[38;5;124m\"\u001b[39m\n\u001b[0;32m---> 20\u001b[0m i_4 \u001b[38;5;241m=\u001b[39m \u001b[38;5;28;43mint\u001b[39;49m\u001b[43m(\u001b[49m\u001b[43md\u001b[49m\u001b[43m)\u001b[49m\n\u001b[1;32m     21\u001b[0m \u001b[38;5;28mprint\u001b[39m(\u001b[38;5;28mtype\u001b[39m(i_4))\n",
            "\u001b[0;31mValueError\u001b[0m: invalid literal for int() with base 10: 'abc'"
          ]
        }
      ],
      "source": [
        "# int()\n",
        "\n",
        "a = 8.5\n",
        "i_1 = int(a)\n",
        "print(i_1)\n",
        "print(type(i_1))\n",
        "\n",
        "# the int() function cannot directly convert a string representing a floating-point number to an integer.\n",
        "# b = \"1.5\"\n",
        "# i_2 = int(b)\n",
        "# print(type(i_2))  # --- this will throw an error\n",
        "\n",
        "c = \"10\"\n",
        "i_3 = int(c)\n",
        "print(i_3)\n",
        "print(type(i_3))\n",
        "\n",
        "# the int() function cannot convert a string that does not represent a valid integer to an integer.\n",
        "d = \"abc\"\n",
        "i_4 = int(d)\n",
        "print(type(i_4))"
      ]
    },
    {
      "cell_type": "code",
      "execution_count": 6,
      "metadata": {},
      "outputs": [
        {
          "name": "stdout",
          "output_type": "stream",
          "text": [
            "100\n",
            "<class 'int'>\n"
          ]
        }
      ],
      "source": [
        "str_num = \"100\"\n",
        "num = int(str_num)\n",
        "print(num)\n",
        "print(type(num))"
      ]
    },
    {
      "cell_type": "code",
      "execution_count": 13,
      "metadata": {
        "colab": {
          "base_uri": "https://localhost:8080/",
          "height": 305
        },
        "id": "mQ3h0LxFtt-0",
        "outputId": "d90bde9a-cd97-41e0-c1b5-f5fbe8277dde"
      },
      "outputs": [
        {
          "name": "stdout",
          "output_type": "stream",
          "text": [
            "8.0\n",
            "<class 'float'>\n",
            "10.5\n",
            "<class 'float'>\n",
            "10.0\n",
            "<class 'float'>\n"
          ]
        },
        {
          "ename": "ValueError",
          "evalue": "could not convert string to float: 'abc'",
          "output_type": "error",
          "traceback": [
            "\u001b[0;31m---------------------------------------------------------------------------\u001b[0m",
            "\u001b[0;31mValueError\u001b[0m                                Traceback (most recent call last)",
            "Cell \u001b[0;32mIn[13], line 16\u001b[0m\n\u001b[1;32m     14\u001b[0m \u001b[38;5;28mprint\u001b[39m(\u001b[38;5;28mtype\u001b[39m(f_3))\n\u001b[1;32m     15\u001b[0m d \u001b[38;5;241m=\u001b[39m \u001b[38;5;124m\"\u001b[39m\u001b[38;5;124mabc\u001b[39m\u001b[38;5;124m\"\u001b[39m\n\u001b[0;32m---> 16\u001b[0m f_4 \u001b[38;5;241m=\u001b[39m \u001b[38;5;28;43mfloat\u001b[39;49m\u001b[43m(\u001b[49m\u001b[43md\u001b[49m\u001b[43m)\u001b[49m\n\u001b[1;32m     17\u001b[0m \u001b[38;5;28mprint\u001b[39m(\u001b[38;5;28mtype\u001b[39m(f_4))\n",
            "\u001b[0;31mValueError\u001b[0m: could not convert string to float: 'abc'"
          ]
        }
      ],
      "source": [
        "# float()\n",
        "\n",
        "a = 8\n",
        "f_1 = float(a)\n",
        "print(f_1)\n",
        "print(type(f_1))\n",
        "b = \"10.5\"\n",
        "f_2 = float(b)\n",
        "print(f_2)\n",
        "print(type(f_2))\n",
        "c = \"10\"\n",
        "f_3 = float(c)\n",
        "print(f_3)\n",
        "print(type(f_3))\n",
        "d = \"abc\"\n",
        "f_4 = float(d)\n",
        "print(type(f_4))"
      ]
    },
    {
      "cell_type": "code",
      "execution_count": null,
      "metadata": {
        "colab": {
          "base_uri": "https://localhost:8080/"
        },
        "id": "xXDZp89qutqF",
        "outputId": "cc84e84a-6e97-417b-c381-e473865f56b4"
      },
      "outputs": [
        {
          "name": "stdout",
          "output_type": "stream",
          "text": [
            "<class 'int'>\n",
            "8\n",
            "<class 'str'>\n",
            "<class 'float'>\n",
            "10.5\n",
            "<class 'str'>\n"
          ]
        }
      ],
      "source": [
        "# str()\n",
        "\n",
        "a = 8\n",
        "print(type(a))\n",
        "s_1 = str(a)\n",
        "print(s_1)\n",
        "print(type(s_1))\n",
        "b = 10.5\n",
        "print(type(b))\n",
        "s_2 = str(b)\n",
        "print(s_2)\n",
        "print(type(s_2))"
      ]
    },
    {
      "cell_type": "markdown",
      "metadata": {
        "id": "GYopP21JnnIM"
      },
      "source": [
        "### **Operators**"
      ]
    },
    {
      "cell_type": "markdown",
      "metadata": {
        "id": "27Qyckb1z_ZL"
      },
      "source": [
        "**Arithmetic Operators**"
      ]
    },
    {
      "cell_type": "code",
      "execution_count": null,
      "metadata": {
        "colab": {
          "base_uri": "https://localhost:8080/"
        },
        "id": "MU7mi6yVorzR",
        "outputId": "109d543c-e99b-4639-f216-163748cc877e"
      },
      "outputs": [
        {
          "name": "stdout",
          "output_type": "stream",
          "text": [
            "+ 13\n",
            "- 3\n",
            "* 40\n",
            "/ 1.6\n",
            "// 1\n",
            "% 3\n",
            "** 32768\n",
            "<class 'int'>\n"
          ]
        }
      ],
      "source": [
        "a = 8\n",
        "b = 5\n",
        "\n",
        "print(\"+\", a+b)\n",
        "print(\"-\", a-b)\n",
        "print(\"*\", a*b)\n",
        "print(\"/\", a/b)\n",
        "print(\"//\", a//b)\n",
        "print(\"%\", a%b)\n",
        "print(\"**\", a**b)\n",
        "print(type(a%b))"
      ]
    },
    {
      "cell_type": "code",
      "execution_count": 16,
      "metadata": {
        "colab": {
          "base_uri": "https://localhost:8080/"
        },
        "id": "lamtP_9U00v2",
        "outputId": "fbccfe04-22a0-4a86-9d45-00ff77c7da63"
      },
      "outputs": [
        {
          "data": {
            "text/plain": [
              "32"
            ]
          },
          "execution_count": 16,
          "metadata": {},
          "output_type": "execute_result"
        }
      ],
      "source": [
        "2**5"
      ]
    },
    {
      "cell_type": "markdown",
      "metadata": {},
      "source": [
        "- the `//` operator performs *floor division*, which divides two numbers and rounds down to the nearest integer."
      ]
    },
    {
      "cell_type": "code",
      "execution_count": 15,
      "metadata": {
        "colab": {
          "base_uri": "https://localhost:8080/"
        },
        "id": "IGKeUQAL03VD",
        "outputId": "c4dbc0d9-9a90-4eb4-fac8-690be1292d1d"
      },
      "outputs": [
        {
          "data": {
            "text/plain": [
              "3"
            ]
          },
          "execution_count": 15,
          "metadata": {},
          "output_type": "execute_result"
        }
      ],
      "source": [
        "7//2"
      ]
    },
    {
      "cell_type": "code",
      "execution_count": 14,
      "metadata": {
        "colab": {
          "base_uri": "https://localhost:8080/"
        },
        "id": "oA5XUD_q08Q5",
        "outputId": "8028bcb4-d83f-4218-da21-040122edf9af"
      },
      "outputs": [
        {
          "data": {
            "text/plain": [
              "-4"
            ]
          },
          "execution_count": 14,
          "metadata": {},
          "output_type": "execute_result"
        }
      ],
      "source": [
        "-7//2"
      ]
    },
    {
      "cell_type": "code",
      "execution_count": 17,
      "metadata": {
        "colab": {
          "base_uri": "https://localhost:8080/"
        },
        "id": "bIHx5CE86khJ",
        "outputId": "dd712fe6-0644-46e8-fe4e-e8063cfeae2e"
      },
      "outputs": [
        {
          "data": {
            "text/plain": [
              "5.0"
            ]
          },
          "execution_count": 17,
          "metadata": {},
          "output_type": "execute_result"
        }
      ],
      "source": [
        "12.5%7.5"
      ]
    },
    {
      "cell_type": "code",
      "execution_count": null,
      "metadata": {
        "colab": {
          "base_uri": "https://localhost:8080/"
        },
        "id": "TcHHAKeO6oWU",
        "outputId": "d57617b0-cc76-46ea-cb51-8ec6fe9181ff"
      },
      "outputs": [
        {
          "data": {
            "text/plain": [
              "5.5"
            ]
          },
          "execution_count": 28,
          "metadata": {},
          "output_type": "execute_result"
        }
      ],
      "source": [
        "20.5%7.5"
      ]
    },
    {
      "cell_type": "markdown",
      "metadata": {},
      "source": [
        "- The result of the modulo operation has the *same* sign as the *divisor*."
      ]
    },
    {
      "cell_type": "code",
      "execution_count": 19,
      "metadata": {
        "colab": {
          "base_uri": "https://localhost:8080/"
        },
        "id": "NlTawkmU6-xk",
        "outputId": "c3ac78dd-ac2a-40f3-f9ff-b1355a3b99e5"
      },
      "outputs": [
        {
          "data": {
            "text/plain": [
              "3"
            ]
          },
          "execution_count": 19,
          "metadata": {},
          "output_type": "execute_result"
        }
      ],
      "source": [
        "-7%5"
      ]
    },
    {
      "cell_type": "code",
      "execution_count": 20,
      "metadata": {
        "colab": {
          "base_uri": "https://localhost:8080/"
        },
        "id": "TbnY7bZv7iVU",
        "outputId": "68f17d47-b8cc-405d-d383-d4f20052fb8a"
      },
      "outputs": [
        {
          "data": {
            "text/plain": [
              "3"
            ]
          },
          "execution_count": 20,
          "metadata": {},
          "output_type": "execute_result"
        }
      ],
      "source": [
        "-21%8"
      ]
    },
    {
      "cell_type": "code",
      "execution_count": 21,
      "metadata": {
        "colab": {
          "base_uri": "https://localhost:8080/"
        },
        "id": "zS56b0Id7kVN",
        "outputId": "3f5c12ea-43dd-488c-ad13-7333bbd21346"
      },
      "outputs": [
        {
          "data": {
            "text/plain": [
              "1"
            ]
          },
          "execution_count": 21,
          "metadata": {},
          "output_type": "execute_result"
        }
      ],
      "source": [
        "-27%7"
      ]
    },
    {
      "cell_type": "code",
      "execution_count": 22,
      "metadata": {
        "colab": {
          "base_uri": "https://localhost:8080/"
        },
        "id": "1BO3J8jo1yw2",
        "outputId": "9d649686-1dd0-45db-f288-a4ea7280ee11"
      },
      "outputs": [
        {
          "name": "stdout",
          "output_type": "stream",
          "text": [
            "+ 7.7\n",
            "- -2.7\n",
            "* 13.0\n",
            "/ 0.4807692307692307\n",
            "// 0.0\n",
            "% 2.5\n",
            "** 117.29730800599916\n"
          ]
        }
      ],
      "source": [
        "a = 2.5\n",
        "b = 5.2\n",
        "\n",
        "print(\"+\", a+b)\n",
        "print(\"-\", a-b)\n",
        "print(\"*\", a*b)\n",
        "print(\"/\", a/b)\n",
        "print(\"//\", a//b)\n",
        "print(\"%\", a%b)\n",
        "print(\"**\", a**b)"
      ]
    },
    {
      "cell_type": "markdown",
      "metadata": {
        "id": "jGP4mVQq2HFd"
      },
      "source": [
        "**Comparison Operator**"
      ]
    },
    {
      "cell_type": "code",
      "execution_count": null,
      "metadata": {
        "colab": {
          "base_uri": "https://localhost:8080/"
        },
        "id": "xAjj09py2JtJ",
        "outputId": "a00ecc6f-1ac0-4c04-9a33-f4fb5ee1e6a9"
      },
      "outputs": [
        {
          "name": "stdout",
          "output_type": "stream",
          "text": [
            "== False\n",
            "!= True\n",
            ">= True\n",
            "<= False\n",
            "> True\n",
            "< False\n",
            "<class 'bool'>\n"
          ]
        }
      ],
      "source": [
        "a = 8\n",
        "b = 5\n",
        "\n",
        "print(\"==\", a==b)\n",
        "print(\"!=\", a!=b)\n",
        "print(\">=\", a>=b)\n",
        "print(\"<=\", a<=b)\n",
        "print(\">\", a>b)\n",
        "print(\"<\", a<b)\n",
        "print(type(a<b))"
      ]
    },
    {
      "cell_type": "code",
      "execution_count": null,
      "metadata": {
        "colab": {
          "base_uri": "https://localhost:8080/"
        },
        "id": "pNV8_Sc13Raq",
        "outputId": "bce5ebb7-108b-432d-d1a3-97c73f1718cd"
      },
      "outputs": [
        {
          "name": "stdout",
          "output_type": "stream",
          "text": [
            "== True\n",
            "!= False\n",
            ">= True\n",
            "<= True\n",
            "> False\n",
            "< False\n",
            "<class 'bool'>\n"
          ]
        }
      ],
      "source": [
        "a = 5\n",
        "b = 5\n",
        "\n",
        "print(\"==\", a==b)\n",
        "print(\"!=\", a!=b)\n",
        "print(\">=\", a>=b)\n",
        "print(\"<=\", a<=b)\n",
        "print(\">\", a>b)\n",
        "print(\"<\", a<b)\n",
        "print(type(a<b))"
      ]
    },
    {
      "cell_type": "code",
      "execution_count": null,
      "metadata": {
        "colab": {
          "base_uri": "https://localhost:8080/"
        },
        "id": "W2OUEZBK8Ds7",
        "outputId": "48c59456-a4b1-4412-9afd-d2343559097f"
      },
      "outputs": [
        {
          "name": "stdout",
          "output_type": "stream",
          "text": [
            "True\n",
            "True\n",
            "True\n",
            "True\n",
            "True\n",
            "True\n"
          ]
        }
      ],
      "source": [
        "print(0==0.0)\n",
        "print(1==1.0)\n",
        "print(True==1)\n",
        "print(True==1.0)\n",
        "print(False==0)\n",
        "print(False==0.0)"
      ]
    },
    {
      "cell_type": "markdown",
      "metadata": {
        "id": "qT27EtXJ8XiD"
      },
      "source": [
        "**Logical Operators**"
      ]
    },
    {
      "cell_type": "code",
      "execution_count": null,
      "metadata": {
        "colab": {
          "base_uri": "https://localhost:8080/"
        },
        "id": "68PgGAwr8cqz",
        "outputId": "f995f5e7-548c-45ec-f48d-6a6878aeddd8"
      },
      "outputs": [
        {
          "name": "stdout",
          "output_type": "stream",
          "text": [
            "True\n",
            "False\n",
            "False\n",
            "False\n",
            "True\n",
            "True\n",
            "False\n",
            "True\n"
          ]
        }
      ],
      "source": [
        "# and, or, not\n",
        "\n",
        "x = 5\n",
        "y = 10\n",
        "\n",
        "print(x>4 and y<12)\n",
        "print(x>4 and y<10)\n",
        "print(x>6 and y<10)\n",
        "print(x>6 and y<12)\n",
        "print(x>4 or y<12)\n",
        "print(x>4 or y<10)\n",
        "print(x>6 or y<10)\n",
        "print(x>6 or y<12)"
      ]
    },
    {
      "cell_type": "code",
      "execution_count": null,
      "metadata": {
        "colab": {
          "base_uri": "https://localhost:8080/"
        },
        "id": "CNwI3L6m-HR4",
        "outputId": "da1f1b39-d572-4149-c1a0-9f4fdb8670ee"
      },
      "outputs": [
        {
          "name": "stdout",
          "output_type": "stream",
          "text": [
            "12\n"
          ]
        }
      ],
      "source": [
        "a = 8\n",
        "b = 5\n",
        "c = 12\n",
        "\n",
        "print(a and b and c)"
      ]
    },
    {
      "cell_type": "code",
      "execution_count": null,
      "metadata": {
        "colab": {
          "base_uri": "https://localhost:8080/"
        },
        "id": "Eixhyvsj_b1U",
        "outputId": "d1d15dcb-8de1-48cc-ffbb-065bf26f4fcf"
      },
      "outputs": [
        {
          "name": "stdout",
          "output_type": "stream",
          "text": [
            "0\n"
          ]
        }
      ],
      "source": [
        "a = 8\n",
        "b = 5\n",
        "c = 0\n",
        "\n",
        "print(a and b and c)"
      ]
    },
    {
      "cell_type": "code",
      "execution_count": null,
      "metadata": {
        "colab": {
          "base_uri": "https://localhost:8080/"
        },
        "id": "OiC2cGOe9-yY",
        "outputId": "5a55318a-8b16-454d-f755-f24a31e1e00c"
      },
      "outputs": [
        {
          "name": "stdout",
          "output_type": "stream",
          "text": [
            "0\n"
          ]
        }
      ],
      "source": [
        "a = 8\n",
        "b = 0\n",
        "c = 12\n",
        "\n",
        "print(a and b and c)"
      ]
    },
    {
      "cell_type": "code",
      "execution_count": null,
      "metadata": {
        "colab": {
          "base_uri": "https://localhost:8080/"
        },
        "id": "w-XdHbrHBlZ5",
        "outputId": "22968825-38a6-4cdb-908d-53cecc71bc12"
      },
      "outputs": [
        {
          "name": "stdout",
          "output_type": "stream",
          "text": [
            "0\n"
          ]
        }
      ],
      "source": [
        "a = 0\n",
        "b = 5\n",
        "c = 12\n",
        "\n",
        "print(a and b and c)"
      ]
    },
    {
      "cell_type": "code",
      "execution_count": null,
      "metadata": {
        "colab": {
          "base_uri": "https://localhost:8080/"
        },
        "id": "_byk9Z3pBoxC",
        "outputId": "b23f0492-2d06-4fa0-f8fb-4683f94ce9a8"
      },
      "outputs": [
        {
          "name": "stdout",
          "output_type": "stream",
          "text": [
            "8\n"
          ]
        }
      ],
      "source": [
        "a = 8\n",
        "b = 5\n",
        "c = 12\n",
        "\n",
        "print(a or b or c)"
      ]
    },
    {
      "cell_type": "code",
      "execution_count": null,
      "metadata": {
        "colab": {
          "base_uri": "https://localhost:8080/"
        },
        "id": "SVXgx6v3BwU5",
        "outputId": "d76d1f5a-8667-4869-8a26-d0e33b18aa67"
      },
      "outputs": [
        {
          "name": "stdout",
          "output_type": "stream",
          "text": [
            "5\n"
          ]
        }
      ],
      "source": [
        "a = 0\n",
        "b = 5\n",
        "c = 12\n",
        "\n",
        "print(a or b or c)"
      ]
    },
    {
      "cell_type": "code",
      "execution_count": null,
      "metadata": {
        "colab": {
          "base_uri": "https://localhost:8080/"
        },
        "id": "8liX5v-dBzYy",
        "outputId": "7eb2e656-7656-4a01-bb67-f2e79aea8701"
      },
      "outputs": [
        {
          "name": "stdout",
          "output_type": "stream",
          "text": [
            "12\n"
          ]
        }
      ],
      "source": [
        "a = 0\n",
        "b = 0\n",
        "c = 12\n",
        "\n",
        "print(a or b or c)"
      ]
    },
    {
      "cell_type": "code",
      "execution_count": null,
      "metadata": {
        "colab": {
          "base_uri": "https://localhost:8080/"
        },
        "id": "1xW6-dcvB2CG",
        "outputId": "334677bc-6df4-44f7-9db8-a757b1784cda"
      },
      "outputs": [
        {
          "name": "stdout",
          "output_type": "stream",
          "text": [
            "0\n"
          ]
        }
      ],
      "source": [
        "a = 0\n",
        "b = 0\n",
        "c = 0\n",
        "\n",
        "print(a or b or c)"
      ]
    },
    {
      "cell_type": "code",
      "execution_count": null,
      "metadata": {
        "colab": {
          "base_uri": "https://localhost:8080/"
        },
        "id": "m5YrYFMLB44H",
        "outputId": "ac5674e0-0916-4067-c242-f3677d3a70be"
      },
      "outputs": [
        {
          "name": "stdout",
          "output_type": "stream",
          "text": [
            "-1\n",
            "-3\n"
          ]
        }
      ],
      "source": [
        "a = -1\n",
        "b = -2\n",
        "c = -3\n",
        "\n",
        "print(a or b or c)\n",
        "print(a and b and c)"
      ]
    },
    {
      "cell_type": "code",
      "execution_count": null,
      "metadata": {
        "colab": {
          "base_uri": "https://localhost:8080/"
        },
        "id": "m2uHvzwUCN45",
        "outputId": "2d373a76-3836-4d8a-c15f-1273e3359c35"
      },
      "outputs": [
        {
          "data": {
            "text/plain": [
              "False"
            ]
          },
          "execution_count": 47,
          "metadata": {},
          "output_type": "execute_result"
        }
      ],
      "source": [
        "not(a or b or c)"
      ]
    },
    {
      "cell_type": "code",
      "execution_count": null,
      "metadata": {
        "colab": {
          "base_uri": "https://localhost:8080/"
        },
        "id": "TNTROhBaCciE",
        "outputId": "69059ed6-7d03-4fbd-a67a-48b37addf1a6"
      },
      "outputs": [
        {
          "name": "stdout",
          "output_type": "stream",
          "text": [
            "5\n",
            "10\n",
            "True\n",
            "False\n"
          ]
        }
      ],
      "source": [
        "a = 10\n",
        "b = 5\n",
        "c = 12\n",
        "d = 0\n",
        "\n",
        "print(a and c and b) # q1\n",
        "print(d or a or c) # q2\n",
        "print(not(a and d and b)) # q3\n",
        "print(not(d or d or a)) # q4"
      ]
    },
    {
      "cell_type": "markdown",
      "metadata": {
        "id": "LIJ-6BZXDWRu"
      },
      "source": [
        "**Membership Operator**"
      ]
    },
    {
      "cell_type": "code",
      "execution_count": null,
      "metadata": {
        "id": "tKOpAGG0DZS8"
      },
      "outputs": [],
      "source": []
    }
  ],
  "metadata": {
    "colab": {
      "provenance": []
    },
    "kernelspec": {
      "display_name": "Python 3",
      "name": "python3"
    },
    "language_info": {
      "codemirror_mode": {
        "name": "ipython",
        "version": 3
      },
      "file_extension": ".py",
      "mimetype": "text/x-python",
      "name": "python",
      "nbconvert_exporter": "python",
      "pygments_lexer": "ipython3",
      "version": "3.10.12"
    }
  },
  "nbformat": 4,
  "nbformat_minor": 0
}

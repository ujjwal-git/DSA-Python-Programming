{
  "cells": [
    {
      "cell_type": "markdown",
      "metadata": {
        "id": "mHBRDj6xJSI6"
      },
      "source": [
        "### **Print Statement**\n",
        "* use of end\n",
        "* use of sep"
      ]
    },
    {
      "cell_type": "code",
      "execution_count": null,
      "metadata": {
        "colab": {
          "base_uri": "https://localhost:8080/"
        },
        "id": "6wCRakHTJ6vw",
        "outputId": "d9c6533e-380c-4c3d-e0b1-63c07b06ab45"
      },
      "outputs": [
        {
          "name": "stdout",
          "output_type": "stream",
          "text": [
            "Hello World\n",
            "Venky\n"
          ]
        }
      ],
      "source": [
        "print(\"Hello World\")\n",
        "print(\"Venky\")"
      ]
    },
    {
      "cell_type": "markdown",
      "metadata": {
        "id": "D5pEuk9ddv6L"
      },
      "source": [
        "use case of end in print statement"
      ]
    },
    {
      "cell_type": "code",
      "execution_count": 4,
      "metadata": {
        "colab": {
          "base_uri": "https://localhost:8080/"
        },
        "id": "-V8kCeJRdqdC",
        "outputId": "a4406600-1c3a-4a26-8934-2cd7c12132a5"
      },
      "outputs": [
        {
          "name": "stdout",
          "output_type": "stream",
          "text": [
            "Hello World\n",
            "Venky\n"
          ]
        }
      ],
      "source": [
        "# use case of end\n",
        "# default value of end is '\\n'\n",
        "\n",
        "print(\"Hello World\", end=\"\\n\")\n",
        "print(\"Venky\")"
      ]
    },
    {
      "cell_type": "code",
      "execution_count": 9,
      "metadata": {
        "colab": {
          "base_uri": "https://localhost:8080/"
        },
        "id": "oIS5d95qfG0v",
        "outputId": "7e3aaac0-1a4d-425b-cf70-fb6081341171"
      },
      "outputs": [
        {
          "name": "stdout",
          "output_type": "stream",
          "text": [
            "Hello World\n",
            "\n",
            "Venky\n"
          ]
        }
      ],
      "source": [
        "print(\"Hello World\\n\")  # extra newline due to \\n\n",
        "print(\"Venky\")"
      ]
    },
    {
      "cell_type": "markdown",
      "metadata": {},
      "source": [
        "use case of sep in print statement"
      ]
    },
    {
      "cell_type": "code",
      "execution_count": 11,
      "metadata": {
        "colab": {
          "base_uri": "https://localhost:8080/"
        },
        "id": "iV1Lu9jfeoNk",
        "outputId": "03a262c8-45d5-408e-8e6f-f5166995203d"
      },
      "outputs": [
        {
          "name": "stdout",
          "output_type": "stream",
          "text": [
            "Hello Venky Gate\n",
            "Hello Venky Gate\n"
          ]
        }
      ],
      "source": [
        "# use case of sep; default value is single space ie. \" \"\n",
        "print(\"Hello\", \"Venky\", \"Gate\")\n",
        "print(\"Hello\", \"Venky\", \"Gate\", sep=\" \")"
      ]
    },
    {
      "cell_type": "code",
      "execution_count": 10,
      "metadata": {
        "colab": {
          "base_uri": "https://localhost:8080/"
        },
        "id": "jY4p8Jm9fdLR",
        "outputId": "dbd0dcb3-7477-47fe-a085-d8ee5b10825f"
      },
      "outputs": [
        {
          "name": "stdout",
          "output_type": "stream",
          "text": [
            "HelloVenkyGate\n",
            "Hello---Venky---Gate\n",
            "Hello\n",
            "Venky\n",
            "Gate\n"
          ]
        }
      ],
      "source": [
        "print(\"Hello\", \"Venky\", \"Gate\", sep=\"\")\n",
        "print(\"Hello\", \"Venky\", \"Gate\", sep=\"---\")\n",
        "print(\"Hello\", \"Venky\", \"Gate\", sep=\"\\n\")"
      ]
    },
    {
      "cell_type": "code",
      "execution_count": null,
      "metadata": {
        "colab": {
          "base_uri": "https://localhost:8080/"
        },
        "id": "aJ3Qd7Kaf8jM",
        "outputId": "cf9d059d-2879-4951-9aa8-068e944e9e0c"
      },
      "outputs": [
        {
          "name": "stdout",
          "output_type": "stream",
          "text": [
            "Welcome to RBR Course++This is Venky***Checkout to this course\n",
            "\n",
            "Python programming\n"
          ]
        }
      ],
      "source": [
        "print(\"Welcome to RBR Course\", \"This is Venky\", sep=\"++\", end=\"***\")\n",
        "print(\"Checkout to this course\", end=\"\\n\\n\")\n",
        "print(\"Python programming\")"
      ]
    },
    {
      "cell_type": "markdown",
      "metadata": {
        "id": "8A4bk99thRf3"
      },
      "source": [
        "## **Variables**"
      ]
    },
    {
      "cell_type": "code",
      "execution_count": null,
      "metadata": {
        "colab": {
          "base_uri": "https://localhost:8080/"
        },
        "id": "BYgQzBw8hUkA",
        "outputId": "c5821cc5-4223-46c3-adce-86f35aceabbe"
      },
      "outputs": [
        {
          "data": {
            "text/plain": [
              "5"
            ]
          },
          "execution_count": 26,
          "metadata": {},
          "output_type": "execute_result"
        }
      ],
      "source": [
        "2+3"
      ]
    },
    {
      "cell_type": "code",
      "execution_count": null,
      "metadata": {
        "colab": {
          "base_uri": "https://localhost:8080/"
        },
        "id": "SU-z8Fn4hX_1",
        "outputId": "c0e2c341-5579-4d9f-dffc-cfd82631e9f3"
      },
      "outputs": [
        {
          "data": {
            "text/plain": [
              "9"
            ]
          },
          "execution_count": 27,
          "metadata": {},
          "output_type": "execute_result"
        }
      ],
      "source": [
        "4+5"
      ]
    },
    {
      "cell_type": "code",
      "execution_count": null,
      "metadata": {
        "id": "FTl56YGwhZ1V"
      },
      "outputs": [],
      "source": [
        "# you are given a salary and u need to calculate the savings\n",
        "\n",
        "v = 100000\n",
        "\n",
        "expenditure = 10000 + 12000 + 30000\n",
        "\n",
        "\n",
        "\n"
      ]
    },
    {
      "cell_type": "code",
      "execution_count": null,
      "metadata": {
        "colab": {
          "base_uri": "https://localhost:8080/"
        },
        "id": "OmTxuPF-h5vp",
        "outputId": "1aac4c79-28d1-4347-d149-1deca71192fe"
      },
      "outputs": [
        {
          "data": {
            "text/plain": [
              "90000"
            ]
          },
          "execution_count": 29,
          "metadata": {},
          "output_type": "execute_result"
        }
      ],
      "source": [
        "v - 10000"
      ]
    },
    {
      "cell_type": "code",
      "execution_count": null,
      "metadata": {
        "colab": {
          "base_uri": "https://localhost:8080/"
        },
        "id": "2GBF9h9Xh71q",
        "outputId": "f45fa761-67b3-4073-fed6-e03fa194ce47"
      },
      "outputs": [
        {
          "data": {
            "text/plain": [
              "112000"
            ]
          },
          "execution_count": 30,
          "metadata": {},
          "output_type": "execute_result"
        }
      ],
      "source": [
        "v+12000"
      ]
    },
    {
      "cell_type": "markdown",
      "metadata": {},
      "source": [
        "## *is* operator:\n",
        "- In Python, the `is` operator compares the identity of two objects, not their values. It returns True if both variables point to the same object in memory and False otherwise.\n",
        "- **syntax**:\n",
        "```python\n",
        "variable1 is variable2\n",
        "```\n",
        "- For immutable objects (like strings, integers, and tuples), the `is` operator can sometimes return True if Python reuses the same object for optimization.\n",
        "- For mutable objects (like lists, dictionaries, and sets), the `is` operator will typically return False even if the objects have the same content, because they are distinct objects in memory."
      ]
    },
    {
      "cell_type": "code",
      "execution_count": 45,
      "metadata": {},
      "outputs": [
        {
          "name": "stdout",
          "output_type": "stream",
          "text": [
            "True\n",
            "False\n",
            "True\n",
            "False\n",
            "False\n",
            "False\n"
          ]
        }
      ],
      "source": [
        "a = 100\n",
        "b = 100\n",
        "\n",
        "print(a is b)  # True, because small integers are interned\n",
        "\n",
        "a = 1000\n",
        "b = 1000\n",
        "\n",
        "print(a is b)  # True or Flase, this behavior can vary across implementations\n",
        "\n",
        "a = \"hello\"\n",
        "b = \"hello\"\n",
        "\n",
        "print(a is b)  # True, because strings are interned\n",
        "\n",
        "x = (1,)\n",
        "y = (1,)\n",
        "\n",
        "print(x is y)  # True or Flase, this behavior can vary across implementations\n",
        "\n",
        "a = [1, 2, 3]\n",
        "b = [1, 2, 3]\n",
        "\n",
        "print(a is b)  # False, because lists are mutable and distinct objects\n",
        "\n",
        "a = {\"key\": \"value\"}\n",
        "b = {\"key\": \"value\"}\n",
        "\n",
        "print(a is b)  # False, because dictionaries are mutable and distinct objects\n",
        "\n"
      ]
    },
    {
      "cell_type": "markdown",
      "metadata": {},
      "source": [
        "- **Checking for None:**\n",
        "The `is` operator is commonly used to check if a variable is None, as this is more reliable and faster than using `==`."
      ]
    },
    {
      "cell_type": "code",
      "execution_count": 46,
      "metadata": {},
      "outputs": [
        {
          "name": "stdout",
          "output_type": "stream",
          "text": [
            "a is None\n"
          ]
        }
      ],
      "source": [
        "a = None\n",
        "\n",
        "if a is None:\n",
        "    print(\"a is None\")  # This is the preferred way to check for None"
      ]
    },
    {
      "cell_type": "markdown",
      "metadata": {},
      "source": [
        "#### When to Use `is` vs `==`:\n",
        "- Use `is` when you want to check if two variables point to the same object (identity comparison).\n",
        "- Use `==` when you want to check if the values of two variables are equal (value comparison)."
      ]
    },
    {
      "cell_type": "code",
      "execution_count": 48,
      "metadata": {},
      "outputs": [
        {
          "name": "stdout",
          "output_type": "stream",
          "text": [
            "True\n",
            "False\n",
            "True\n",
            "True\n"
          ]
        }
      ],
      "source": [
        "a = 500\n",
        "b = 500\n",
        "c = a\n",
        "\n",
        "print(a == b)  # True, because the values are the same\n",
        "print(a is b)  # False, because they are different objects\n",
        "\n",
        "print(a == c)  # True, because the values are the same\n",
        "print(a is c)  # True, because they refer to the same object"
      ]
    },
    {
      "cell_type": "markdown",
      "metadata": {},
      "source": [
        "## *id()* function:\n",
        "\n",
        "In Python, the id(variable) function returns the \"identity\" of the object referred to by variable. This identity is a unique integer that serves as a constant and unique identifier for the object during its lifetime.\n",
        "\n",
        "Here are some key points about id():\n",
        "\n",
        "- Uniqueness: The id of an object is unique and constant for the object during its lifetime. No two objects will have the same id at the same time.\n",
        "\n",
        "- Memory Address: In CPython (the standard Python implementation), the id of an object is typically its memory address. However, this is an implementation detail and may vary in other Python implementations.\n",
        "\n",
        "- Usage: The id function is useful for checking if two variables reference the same object."
      ]
    },
    {
      "cell_type": "code",
      "execution_count": 17,
      "metadata": {
        "colab": {
          "base_uri": "https://localhost:8080/"
        },
        "id": "JwV0r9uIjJEK",
        "outputId": "f5776f62-7690-4f25-dac6-dd58842a2e59"
      },
      "outputs": [
        {
          "data": {
            "text/plain": [
              "140378550521168"
            ]
          },
          "execution_count": 17,
          "metadata": {},
          "output_type": "execute_result"
        }
      ],
      "source": [
        "value = 100\n",
        "\n",
        "id(value)"
      ]
    },
    {
      "cell_type": "markdown",
      "metadata": {},
      "source": [
        "In Python, when you assign a string (or any immutable object) to a variable, the interpreter might use the same memory location for identical strings to optimize memory usage. This is known as *\"string interning\"*. Because of this, the `id` of both `name` and `NAME_1` will be the same if they are assigned the same string value.\n",
        "\n",
        "Here's an example demonstrating this:"
      ]
    },
    {
      "cell_type": "code",
      "execution_count": 38,
      "metadata": {},
      "outputs": [
        {
          "name": "stdout",
          "output_type": "stream",
          "text": [
            "140378217531952\n",
            "140378217531952\n",
            "True\n"
          ]
        }
      ],
      "source": [
        "name = \"Ujjwal\"\n",
        "NAME_1 = \"Ujjwal\"\n",
        "\n",
        "print(id(name))   # Prints the memory address of the string \"Ujjwal\" assigned to 'name'\n",
        "print(id(NAME_1)) # Prints the memory address of the string \"Ujjwal\" assigned to 'NAME_1'\n",
        "\n",
        "# Check if both variables point to the same object\n",
        "print(name is NAME_1)  # True"
      ]
    },
    {
      "cell_type": "markdown",
      "metadata": {},
      "source": [
        "The behavior of the id function and whether two variables have the same id depends on the type of the value and whether the values are identical.\n",
        "\n",
        "- **Immutable Objects:**\n",
        "For immutable objects (like strings, integers, and tuples), Python may optimize memory usage by reusing existing objects. This means that *small* identical immutable objects can have the same id. \n",
        "- For larger integers, Python may create separate objects:"
      ]
    },
    {
      "cell_type": "code",
      "execution_count": 39,
      "metadata": {},
      "outputs": [
        {
          "name": "stdout",
          "output_type": "stream",
          "text": [
            "140378226825264\n",
            "140378226825296\n",
            "False\n"
          ]
        }
      ],
      "source": [
        "a = 1000\n",
        "b = 1000\n",
        "\n",
        "print(id(a))  # Same id for both in most Python implementations\n",
        "print(id(b))\n",
        "\n",
        "print(a is b)  # True or False, depending on the implementation\n"
      ]
    },
    {
      "cell_type": "markdown",
      "metadata": {},
      "source": [
        "- **Mutable Objects:** For mutable objects (like lists, dictionaries, and sets), Python always creates separate objects, so their id will be different even if the content is the same."
      ]
    },
    {
      "cell_type": "markdown",
      "metadata": {},
      "source": [
        "## type() function:\n",
        "In Python, `type(variable)` is a built-in function that returns the type of the specified `variable` or `value`. The `type()` function can be used to:\n",
        "\n",
        "1. **Identify the type of an object**: When passed a single argument, `type()` returns the type of the object.\n",
        "2. **Create a new type**: When passed *three* arguments, `type()` can be used to dynamically create new types/classes.\n",
        "\n",
        "Here are examples of both uses:\n",
        "\n",
        "#### Identifying the Type of an Object\n",
        "\n",
        "```python\n",
        "a = 42\n",
        "b = \"Hello\"\n",
        "c = [1, 2, 3]\n",
        "\n",
        "print(type(a))  # <class 'int'>\n",
        "print(type(b))  # <class 'str'>\n",
        "print(type(c))  # <class 'list'>\n",
        "```\n",
        "\n",
        "In this case, `type()` helps to determine that `a` is an integer, `b` is a string, and `c` is a list.\n",
        "\n",
        "#### Creating a New Type\n",
        "\n",
        "The `type()` function can also be used to create new types dynamically by passing three arguments: the name of the new class, a tuple of the base classes it should inherit from, and a dictionary containing attributes and methods.\n",
        "\n",
        "```python\n",
        "# Create a new type (class) dynamically\n",
        "NewClass = type('NewClass', (object,), {'x': 5, 'display': lambda self: print(self.x)})\n",
        "\n",
        "# Create an instance of the new class\n",
        "instance = NewClass()\n",
        "\n",
        "print(instance.x)  # 5\n",
        "instance.display()  # 5\n",
        "```\n",
        "\n",
        "Here, `NewClass` is a new type (class) created with the name 'NewClass', inheriting from `object`, and having an attribute `x` with the value `5`, and a method `display` that prints the value of `x`."
      ]
    },
    {
      "cell_type": "code",
      "execution_count": 25,
      "metadata": {
        "colab": {
          "base_uri": "https://localhost:8080/"
        },
        "id": "77QCfehujXj8",
        "outputId": "fbed3d0f-6edf-40fd-a669-4158976d98df"
      },
      "outputs": [
        {
          "data": {
            "text/plain": [
              "int"
            ]
          },
          "execution_count": 25,
          "metadata": {},
          "output_type": "execute_result"
        }
      ],
      "source": [
        "type(value)"
      ]
    },
    {
      "cell_type": "code",
      "execution_count": 27,
      "metadata": {},
      "outputs": [
        {
          "name": "stdout",
          "output_type": "stream",
          "text": [
            "5\n",
            "5\n"
          ]
        }
      ],
      "source": [
        "# Create a new type (class) dynamically named NewClass\n",
        "NewClass = type('NewClass', (object,), {'x': 5, 'display': lambda self: print(self.x)})\n",
        "\n",
        "# Create an instance of the new class\n",
        "instance = NewClass()\n",
        "\n",
        "print(instance.x)  # 5\n",
        "instance.display()  # 5"
      ]
    },
    {
      "cell_type": "code",
      "execution_count": 19,
      "metadata": {
        "colab": {
          "base_uri": "https://localhost:8080/"
        },
        "id": "vhCUxQ0jj4a4",
        "outputId": "cd17cad0-c59f-4165-adc0-458f85ac6c0b"
      },
      "outputs": [
        {
          "data": {
            "text/plain": [
              "140378550521168"
            ]
          },
          "execution_count": 19,
          "metadata": {},
          "output_type": "execute_result"
        }
      ],
      "source": [
        "a = 100\n",
        "\n",
        "id(a)"
      ]
    },
    {
      "cell_type": "code",
      "execution_count": 22,
      "metadata": {
        "colab": {
          "base_uri": "https://localhost:8080/"
        },
        "id": "x02D7coIkty0",
        "outputId": "6f48c6d9-45b2-4f11-920c-3a441cb931a2"
      },
      "outputs": [
        {
          "name": "stdout",
          "output_type": "stream",
          "text": [
            "id of a 140378550521168\n",
            "id of b 140378550521168\n",
            "After Changing\n",
            "b: 120\n",
            "id of a 140378550521168\n",
            "id of b 140378550521808\n",
            "re-assigning the value of a to same as of b\n",
            "id of a 140378550521808\n"
          ]
        }
      ],
      "source": [
        "a = 100\n",
        "b = 100\n",
        "print(\"id of a\",id(a))\n",
        "print(\"id of b\",id(b))  # same as id of a, because of same and small value of a & b\n",
        "print(\"After Changing\")\n",
        "b = b+20\n",
        "print(\"b:\", b)\n",
        "print(\"id of a\",id(a))\n",
        "print(\"id of b\",id(b))  # id of b changed after changing the value of b\n",
        "a = 120\n",
        "print (\"re-assigning the value of a to same as of b\")\n",
        "print(\"id of a\",id(a))  # id of a also becomes that of b"
      ]
    },
    {
      "cell_type": "code",
      "execution_count": 23,
      "metadata": {
        "id": "INDu83mYlOP3"
      },
      "outputs": [
        {
          "name": "stdout",
          "output_type": "stream",
          "text": [
            "id of b: 140378550521808\n"
          ]
        }
      ],
      "source": [
        "print (\"id of b:\",id(b))\n",
        "del a"
      ]
    },
    {
      "cell_type": "code",
      "execution_count": 24,
      "metadata": {
        "colab": {
          "base_uri": "https://localhost:8080/"
        },
        "id": "SrGc8PEslQ2m",
        "outputId": "118be861-501c-4baf-a691-3d72cade5f4b"
      },
      "outputs": [
        {
          "name": "stdout",
          "output_type": "stream",
          "text": [
            "value of b: 120\n",
            "after deleting a, id of b: 140378550521808\n"
          ]
        }
      ],
      "source": [
        "print(\"value of b:\",b)\n",
        "print(\"after deleting a, id of b:\",id(b))   # id remains same after deleting a"
      ]
    },
    {
      "cell_type": "code",
      "execution_count": 28,
      "metadata": {
        "colab": {
          "base_uri": "https://localhost:8080/"
        },
        "id": "MEywHlmMlsk4",
        "outputId": "ab6ed01b-0a6b-41a7-d68b-fbcf65e6cc00"
      },
      "outputs": [
        {
          "name": "stdout",
          "output_type": "stream",
          "text": [
            "value of f: 12.5\n",
            "type of f: <class 'float'>\n",
            "id of f: 140378227373296\n"
          ]
        }
      ],
      "source": [
        "f = 12.5\n",
        "print(\"value of f:\",f)\n",
        "print(\"type of f:\",type(f))\n",
        "print(\"id of f:\",id(f))"
      ]
    },
    {
      "cell_type": "markdown",
      "metadata": {},
      "source": [
        "## *variable* or *identifier* in python:\n",
        "In Python, a valid variable or identifier name must follow certain rules and conventions:\n",
        "\n",
        "1. **Start with a letter or underscore (_)**: The name must begin with a letter (a-z, A-Z) or an underscore (_).\n",
        "2. **Followed by letters, digits, or underscores**: After the initial character, the name can contain letters, digits (0-9), or underscores.\n",
        "3. **Case-sensitive**: Python identifiers are case-sensitive, so `variable`, `Variable`, and `VARIABLE` are considered different names.\n",
        "4. **No reserved keywords**: The name cannot be a reserved keyword in Python. Keywords are special words that have specific meanings and purposes in the language.\n",
        "\n",
        "#### Examples of Valid Identifiers\n",
        "\n",
        "- `my_variable`\n",
        "- `variable1`\n",
        "- `_hidden_variable`\n",
        "- `CamelCaseVariable`\n",
        "\n",
        "#### Examples of Invalid Identifiers\n",
        "\n",
        "- `1variable` (cannot start with a digit)\n",
        "- `my-variable` (contains a hyphen)\n",
        "- `my variable` (contains a space)\n",
        "- `class` (reserved keyword)\n",
        "\n",
        "#### Checking Python Keywords\n",
        "\n",
        "Python provides a module called `keyword` that can be used to check if a name is a reserved keyword:"
      ]
    },
    {
      "cell_type": "code",
      "execution_count": 29,
      "metadata": {},
      "outputs": [
        {
          "name": "stdout",
          "output_type": "stream",
          "text": [
            "True\n",
            "False\n"
          ]
        }
      ],
      "source": [
        "import keyword\n",
        "\n",
        "print(keyword.iskeyword('class'))  # True\n",
        "print(keyword.iskeyword('variable'))  # False"
      ]
    },
    {
      "cell_type": "markdown",
      "metadata": {},
      "source": [
        "#### List of Python Keywords\n",
        "\n",
        "You can also get the list of all keywords in the current version of Python:"
      ]
    },
    {
      "cell_type": "code",
      "execution_count": 90,
      "metadata": {},
      "outputs": [
        {
          "name": "stdout",
          "output_type": "stream",
          "text": [
            "['False', 'None', 'True', 'and', 'as', 'assert', 'async', 'await', 'break', 'class', 'continue', 'def', 'del', 'elif', 'else', 'except', 'finally', 'for', 'from', 'global', 'if', 'import', 'in', 'is', 'lambda', 'nonlocal', 'not', 'or', 'pass', 'raise', 'return', 'try', 'while', 'with', 'yield']\n"
          ]
        }
      ],
      "source": [
        "import keyword\n",
        "\n",
        "print(keyword.kwlist)"
      ]
    },
    {
      "cell_type": "markdown",
      "metadata": {},
      "source": [
        "\n",
        "#### Naming Conventions\n",
        "\n",
        "While not enforced by the interpreter, following naming conventions can make your code more readable and maintainable:\n",
        "\n",
        "- **snake_case** for variable and function names: `my_variable`, `calculate_total`.\n",
        "- **CamelCase** for class names: `MyClass`, `EmployeeRecord`.\n",
        "- **ALL_CAPS** for constants: `MAX_LIMIT`, `PI`.\n",
        "\n",
        "By adhering to these rules and conventions, you can ensure that your variable and identifier names are valid and readable in Python."
      ]
    },
    {
      "cell_type": "code",
      "execution_count": 31,
      "metadata": {
        "id": "qdSabupimmD4"
      },
      "outputs": [],
      "source": [
        "# valid variable names\n",
        "name = \"venky\"\n",
        "age = 26\n",
        "_salary = 12000"
      ]
    },
    {
      "cell_type": "code",
      "execution_count": 32,
      "metadata": {
        "id": "ELsSxWh-myPQ"
      },
      "outputs": [],
      "source": [
        "n8ame = \"venky\""
      ]
    },
    {
      "cell_type": "code",
      "execution_count": 34,
      "metadata": {
        "colab": {
          "base_uri": "https://localhost:8080/"
        },
        "id": "UJ5nzh9_nOQ9",
        "outputId": "16b85d8e-0e9e-474c-fdcc-197dac125ade"
      },
      "outputs": [
        {
          "name": "stdout",
          "output_type": "stream",
          "text": [
            "Venky\n",
            "id of name: 140378217544688\n",
            "RBR\n",
            "id of Name 140378217543536\n",
            "Jay Bansal\n",
            "id of NAME 140378227153904\n",
            "140378217544688\n",
            "id of NAME_2: 140378217544688\n"
          ]
        }
      ],
      "source": [
        "name = \"Venky\"\n",
        "Name = \"RBR\"\n",
        "NAME = \"Jay Bansal\"\n",
        "\n",
        "NAME_2 = \"Venky\"\n",
        "print(name)\n",
        "print(\"id of name:\",id(name))\n",
        "print(Name)\n",
        "print(\"id of Name\",id(Name))\n",
        "print(NAME)\n",
        "print(\"id of NAME\",id(NAME))\n",
        "print(id(NAME_2))\n",
        "print(\"id of NAME_2:\",id(NAME_2))   # same id because of small value"
      ]
    },
    {
      "cell_type": "code",
      "execution_count": null,
      "metadata": {
        "colab": {
          "base_uri": "https://localhost:8080/"
        },
        "id": "_MlvmFuxoWWG",
        "outputId": "cc6393bf-81c8-4f3a-fa2d-05f5ad6ca15e"
      },
      "outputs": [
        {
          "name": "stdout",
          "output_type": "stream",
          "text": [
            "137442586806832\n",
            "137442585736176\n"
          ]
        }
      ],
      "source": [
        "name = \"Venky\"\n",
        "name_2 = \"VENKY\"\n",
        "\n",
        "print(id(name))\n",
        "print(id(name_2))"
      ]
    },
    {
      "cell_type": "code",
      "execution_count": 58,
      "metadata": {
        "colab": {
          "base_uri": "https://localhost:8080/",
          "height": 35
        },
        "id": "bArzAQpfWE-1",
        "outputId": "7ced1076-89e4-4cc7-850c-deaaba7f01cc"
      },
      "outputs": [
        {
          "data": {
            "text/plain": [
              "'ky'"
            ]
          },
          "execution_count": 58,
          "metadata": {},
          "output_type": "execute_result"
        }
      ],
      "source": [
        "# The removeprefix method is used to remove a specified prefix from a string if it starts with that prefix. \n",
        "# If the string does not start with the specified prefix, it returns the original string unchanged. \n",
        "# This method was introduced in Python 3.9.\n",
        "\n",
        "name = \"Venky\"\n",
        "\n",
        "name.removeprefix(\"Ven\")"
      ]
    },
    {
      "cell_type": "code",
      "execution_count": 67,
      "metadata": {
        "colab": {
          "base_uri": "https://localhost:8080/"
        },
        "id": "GAILrGAtZdlP",
        "outputId": "a12fff28-9be4-47f4-9994-3d41499b603a"
      },
      "outputs": [
        {
          "data": {
            "text/plain": [
              "True"
            ]
          },
          "execution_count": 67,
          "metadata": {},
          "output_type": "execute_result"
        }
      ],
      "source": [
        "k = 4/2\n",
        "i = 2.0\n",
        "i == k  # same value"
      ]
    },
    {
      "cell_type": "code",
      "execution_count": 76,
      "metadata": {},
      "outputs": [
        {
          "data": {
            "text/plain": [
              "True"
            ]
          },
          "execution_count": 76,
          "metadata": {},
          "output_type": "execute_result"
        }
      ],
      "source": [
        "i is k  # True or False depend on the Python implementation and version."
      ]
    },
    {
      "cell_type": "code",
      "execution_count": 60,
      "metadata": {
        "colab": {
          "base_uri": "https://localhost:8080/"
        },
        "id": "MHlWeaCkaY6E",
        "outputId": "b60b8c4d-6d52-4b09-ab5f-20e842004bc1"
      },
      "outputs": [
        {
          "data": {
            "text/plain": [
              "140378226822960"
            ]
          },
          "execution_count": 60,
          "metadata": {},
          "output_type": "execute_result"
        }
      ],
      "source": [
        "id(i)"
      ]
    },
    {
      "cell_type": "code",
      "execution_count": 61,
      "metadata": {
        "colab": {
          "base_uri": "https://localhost:8080/"
        },
        "id": "CQ-QaA1_aaHw",
        "outputId": "25c3cede-61b4-4a5a-f0f4-cc1df4c0310f"
      },
      "outputs": [
        {
          "data": {
            "text/plain": [
              "140378227374384"
            ]
          },
          "execution_count": 61,
          "metadata": {},
          "output_type": "execute_result"
        }
      ],
      "source": [
        "id(k)"
      ]
    },
    {
      "cell_type": "code",
      "execution_count": 64,
      "metadata": {
        "colab": {
          "base_uri": "https://localhost:8080/"
        },
        "id": "FrhTQKhvadY8",
        "outputId": "4920fe24-7294-463e-ac49-fbbbcec7bc69"
      },
      "outputs": [
        {
          "data": {
            "text/plain": [
              "2.0"
            ]
          },
          "execution_count": 64,
          "metadata": {},
          "output_type": "execute_result"
        }
      ],
      "source": [
        "k"
      ]
    },
    {
      "cell_type": "code",
      "execution_count": 65,
      "metadata": {
        "colab": {
          "base_uri": "https://localhost:8080/"
        },
        "id": "ZuKgjt7Eaemx",
        "outputId": "cf5aa19f-a393-4776-ffd3-c90aeeabc49e"
      },
      "outputs": [
        {
          "data": {
            "text/plain": [
              "2.0"
            ]
          },
          "execution_count": 65,
          "metadata": {},
          "output_type": "execute_result"
        }
      ],
      "source": [
        "i"
      ]
    },
    {
      "cell_type": "code",
      "execution_count": 69,
      "metadata": {
        "colab": {
          "base_uri": "https://localhost:8080/"
        },
        "id": "SmKWMfG5ah5B",
        "outputId": "7bfe5a6d-3e34-4c68-b5bc-1450ef9a1c6a"
      },
      "outputs": [
        {
          "data": {
            "text/plain": [
              "140378550518032"
            ]
          },
          "execution_count": 69,
          "metadata": {},
          "output_type": "execute_result"
        }
      ],
      "source": [
        "k = 4//2\n",
        "i = 2\n",
        "id(k)"
      ]
    },
    {
      "cell_type": "code",
      "execution_count": 70,
      "metadata": {
        "colab": {
          "base_uri": "https://localhost:8080/"
        },
        "id": "2p9Td38WalMj",
        "outputId": "58633a77-d950-411a-c678-df164320e638"
      },
      "outputs": [
        {
          "data": {
            "text/plain": [
              "140378550518032"
            ]
          },
          "execution_count": 70,
          "metadata": {},
          "output_type": "execute_result"
        }
      ],
      "source": [
        "id(i)"
      ]
    },
    {
      "cell_type": "code",
      "execution_count": 78,
      "metadata": {},
      "outputs": [
        {
          "name": "stdout",
          "output_type": "stream",
          "text": [
            "True\n",
            "True\n"
          ]
        }
      ],
      "source": [
        "print (k is i)  # True or False depends on the Python implementation and version.\n",
        "print (k == i)  # same value"
      ]
    },
    {
      "cell_type": "code",
      "execution_count": 79,
      "metadata": {
        "colab": {
          "base_uri": "https://localhost:8080/"
        },
        "id": "ERfc897nbuJl",
        "outputId": "e6dabe26-343f-4ec1-c180-26aef1418a78"
      },
      "outputs": [
        {
          "data": {
            "text/plain": [
              "140378226825360"
            ]
          },
          "execution_count": 79,
          "metadata": {},
          "output_type": "execute_result"
        }
      ],
      "source": [
        "k = 12345\n",
        "m = 12345\n",
        "\n",
        "id(k)"
      ]
    },
    {
      "cell_type": "code",
      "execution_count": 80,
      "metadata": {
        "colab": {
          "base_uri": "https://localhost:8080/"
        },
        "id": "4UZ7AaUtisMX",
        "outputId": "61ae1b53-addd-4810-f709-309f0c9836f9"
      },
      "outputs": [
        {
          "data": {
            "text/plain": [
              "140378550518352"
            ]
          },
          "execution_count": 80,
          "metadata": {},
          "output_type": "execute_result"
        }
      ],
      "source": [
        "id(12)"
      ]
    },
    {
      "cell_type": "code",
      "execution_count": 84,
      "metadata": {
        "colab": {
          "base_uri": "https://localhost:8080/"
        },
        "id": "MXVSpOsfi0Gg",
        "outputId": "a98ae499-08d6-4d52-8b1b-7d54f4f67fd9"
      },
      "outputs": [
        {
          "data": {
            "text/plain": [
              "64"
            ]
          },
          "execution_count": 84,
          "metadata": {},
          "output_type": "execute_result"
        }
      ],
      "source": [
        "136009076605520-136009076605456"
      ]
    },
    {
      "cell_type": "code",
      "execution_count": 94,
      "metadata": {
        "colab": {
          "base_uri": "https://localhost:8080/"
        },
        "id": "YPik-I9ZiumG",
        "outputId": "12e046a3-0255-4e8c-d760-89822cb69061"
      },
      "outputs": [
        {
          "data": {
            "text/plain": [
              "140378550518288"
            ]
          },
          "execution_count": 94,
          "metadata": {},
          "output_type": "execute_result"
        }
      ],
      "source": [
        "id(10)"
      ]
    },
    {
      "cell_type": "markdown",
      "metadata": {},
      "source": [
        "#### Floating-Point Imprecision:\n",
        "- `from decimal import Decimal` imports the Decimal class for precise decimal arithmetic.\n",
        "- Decimal(0.1 + 0.2) converts the imprecise floating-point result of 0.1 + 0.2 to a Decimal object, preserving the floating-point imprecision.\n",
        "- Using Decimal with strings from the beginning ensures exact arithmetic, avoiding floating-point errors."
      ]
    },
    {
      "cell_type": "code",
      "execution_count": 92,
      "metadata": {
        "colab": {
          "base_uri": "https://localhost:8080/"
        },
        "id": "aCscNP2cbx5g",
        "outputId": "a361d3cf-ef9c-4fc2-ca6b-0b97af24060b"
      },
      "outputs": [
        {
          "data": {
            "text/plain": [
              "Decimal('0.3000000000000000444089209850062616169452667236328125')"
            ]
          },
          "execution_count": 92,
          "metadata": {},
          "output_type": "execute_result"
        }
      ],
      "source": [
        "from decimal import Decimal\n",
        "Decimal(0.1+0.2)"
      ]
    },
    {
      "cell_type": "code",
      "execution_count": 111,
      "metadata": {
        "colab": {
          "base_uri": "https://localhost:8080/"
        },
        "id": "YcMFznkmrFBT",
        "outputId": "a4dc9360-6460-4fff-fdcc-d9e979ff282c"
      },
      "outputs": [
        {
          "data": {
            "text/plain": [
              "Decimal('0.3000000000000000166533453694')"
            ]
          },
          "execution_count": 111,
          "metadata": {},
          "output_type": "execute_result"
        }
      ],
      "source": [
        "# Using Decimal with strings from the beginning ensures exact arithmetic, \n",
        "# avoiding floating-point errors.\n",
        "\n",
        "vn  = Decimal(0.1)+Decimal(0.2)\n",
        "vn"
      ]
    },
    {
      "cell_type": "code",
      "execution_count": 95,
      "metadata": {
        "colab": {
          "base_uri": "https://localhost:8080/"
        },
        "id": "XVIQh0I9uX31",
        "outputId": "8789fe1d-7f1e-484e-af0e-59a0f0264df9"
      },
      "outputs": [
        {
          "data": {
            "text/plain": [
              "140378227373200"
            ]
          },
          "execution_count": 95,
          "metadata": {},
          "output_type": "execute_result"
        }
      ],
      "source": [
        "v = 0.5\n",
        "n = 0.5\n",
        "\n",
        "id(v)"
      ]
    },
    {
      "cell_type": "code",
      "execution_count": 97,
      "metadata": {
        "colab": {
          "base_uri": "https://localhost:8080/"
        },
        "id": "s_0poE4Rub3Z",
        "outputId": "1ab66421-6e35-4dbb-f755-901b3576b1f9"
      },
      "outputs": [
        {
          "data": {
            "text/plain": [
              "140378227374320"
            ]
          },
          "execution_count": 97,
          "metadata": {},
          "output_type": "execute_result"
        }
      ],
      "source": [
        "id(n)"
      ]
    },
    {
      "cell_type": "code",
      "execution_count": 98,
      "metadata": {
        "colab": {
          "base_uri": "https://localhost:8080/"
        },
        "id": "9XuAxhVPuwOD",
        "outputId": "b93ec221-56ad-48a4-aa14-e23bb292827c"
      },
      "outputs": [
        {
          "data": {
            "text/plain": [
              "140378227374320"
            ]
          },
          "execution_count": 98,
          "metadata": {},
          "output_type": "execute_result"
        }
      ],
      "source": [
        "v = n\n",
        "id(v)"
      ]
    },
    {
      "cell_type": "code",
      "execution_count": 99,
      "metadata": {
        "colab": {
          "base_uri": "https://localhost:8080/"
        },
        "id": "vgpYFRejuzFv",
        "outputId": "b2394b91-e574-43d6-9734-e7ae9b26016b"
      },
      "outputs": [
        {
          "data": {
            "text/plain": [
              "140378227374320"
            ]
          },
          "execution_count": 99,
          "metadata": {},
          "output_type": "execute_result"
        }
      ],
      "source": [
        "id(n)"
      ]
    },
    {
      "cell_type": "code",
      "execution_count": 102,
      "metadata": {
        "colab": {
          "base_uri": "https://localhost:8080/"
        },
        "id": "242fsP7Su6go",
        "outputId": "ec53beeb-0bf9-451a-fbd9-6686e15b93eb"
      },
      "outputs": [
        {
          "name": "stdout",
          "output_type": "stream",
          "text": [
            "140378550518000\n",
            "140378550518000\n"
          ]
        }
      ],
      "source": [
        "v = 1\n",
        "n = 1\n",
        "print(id(v))\n",
        "print(id(n))"
      ]
    },
    {
      "cell_type": "code",
      "execution_count": 107,
      "metadata": {
        "colab": {
          "base_uri": "https://localhost:8080/",
          "height": 176
        },
        "id": "jqcXepml22eJ",
        "outputId": "276c871a-8a4f-4479-fdbb-64c06df19c28"
      },
      "outputs": [
        {
          "name": "stdout",
          "output_type": "stream",
          "text": [
            "3.3\n"
          ]
        }
      ],
      "source": [
        "import decimal\n",
        "\n",
        "a = decimal.Decimal('1.1')\n",
        "b = decimal.Decimal('2.2')\n",
        "\n",
        "c = a+b\n",
        "print(c)"
      ]
    },
    {
      "cell_type": "code",
      "execution_count": 105,
      "metadata": {
        "colab": {
          "base_uri": "https://localhost:8080/"
        },
        "id": "4uE5xod_ufQL",
        "outputId": "c83eaf9d-d1b5-4073-99ff-75ed4c79b6a6"
      },
      "outputs": [
        {
          "data": {
            "text/plain": [
              "Decimal('0.5')"
            ]
          },
          "execution_count": 105,
          "metadata": {},
          "output_type": "execute_result"
        }
      ],
      "source": [
        "Decimal(0.5)"
      ]
    },
    {
      "cell_type": "code",
      "execution_count": 108,
      "metadata": {
        "colab": {
          "background_save": true,
          "base_uri": "https://localhost:8080/"
        },
        "id": "4idTBNW67JCm",
        "outputId": "5614b39b-c0be-4836-81c1-5590be7c4f7a"
      },
      "outputs": [
        {
          "data": {
            "text/plain": [
              "True"
            ]
          },
          "execution_count": 108,
          "metadata": {},
          "output_type": "execute_result"
        }
      ],
      "source": [
        "a = None\n",
        "b = None\n",
        "\n",
        "a==b"
      ]
    },
    {
      "cell_type": "code",
      "execution_count": 109,
      "metadata": {
        "colab": {
          "base_uri": "https://localhost:8080/"
        },
        "id": "P2s5rk1Q7RLn",
        "outputId": "bf8674fb-7305-47cd-ae4e-3a3cff9f7ce9"
      },
      "outputs": [
        {
          "name": "stdout",
          "output_type": "stream",
          "text": [
            "<class 'NoneType'>\n",
            "<class 'NoneType'>\n"
          ]
        }
      ],
      "source": [
        "print(type(a))\n",
        "print(type(b))"
      ]
    },
    {
      "cell_type": "code",
      "execution_count": 110,
      "metadata": {
        "colab": {
          "base_uri": "https://localhost:8080/"
        },
        "id": "aRQcS7SSq3iH",
        "outputId": "d908a6bd-f0ac-401b-8297-096ac3bed4a3"
      },
      "outputs": [
        {
          "data": {
            "text/plain": [
              "0.1"
            ]
          },
          "execution_count": 110,
          "metadata": {},
          "output_type": "execute_result"
        }
      ],
      "source": [
        "0.1"
      ]
    }
  ],
  "metadata": {
    "colab": {
      "provenance": []
    },
    "kernelspec": {
      "display_name": "Python 3",
      "name": "python3"
    },
    "language_info": {
      "codemirror_mode": {
        "name": "ipython",
        "version": 3
      },
      "file_extension": ".py",
      "mimetype": "text/x-python",
      "name": "python",
      "nbconvert_exporter": "python",
      "pygments_lexer": "ipython3",
      "version": "3.10.12"
    }
  },
  "nbformat": 4,
  "nbformat_minor": 0
}

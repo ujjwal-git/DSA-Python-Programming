{
  "nbformat": 4,
  "nbformat_minor": 0,
  "metadata": {
    "colab": {
      "provenance": []
    },
    "kernelspec": {
      "name": "python3",
      "display_name": "Python 3"
    },
    "language_info": {
      "name": "python"
    }
  },
  "cells": [
    {
      "cell_type": "markdown",
      "source": [
        "### **Functions**"
      ],
      "metadata": {
        "id": "KkmxGCnrhUde"
      }
    },
    {
      "cell_type": "code",
      "source": [
        "def condition_checker(f):\n",
        "  if f%2 == 0:\n",
        "    print(\"abc\")\n",
        "    print(123)\n",
        "    print(1+2+3)\n",
        "    print(\"ab\"+\"bc\"+\"ca\")\n",
        "  else:\n",
        "    print(\"cba\")\n",
        "    print(321)\n",
        "    print(3-2-1)\n",
        "    print(\"ab\"*5)"
      ],
      "metadata": {
        "id": "elccD5gsiu4y"
      },
      "execution_count": 5,
      "outputs": []
    },
    {
      "cell_type": "code",
      "source": [
        "condition_checker(10)"
      ],
      "metadata": {
        "colab": {
          "base_uri": "https://localhost:8080/"
        },
        "id": "yiQi1AjXhWCp",
        "outputId": "2006ab4b-dfa0-4146-81d2-4ce8bae780ed"
      },
      "execution_count": 6,
      "outputs": [
        {
          "output_type": "stream",
          "name": "stdout",
          "text": [
            "abc\n",
            "123\n",
            "6\n",
            "abbcca\n"
          ]
        }
      ]
    },
    {
      "cell_type": "code",
      "source": [
        "condition_checker(15)"
      ],
      "metadata": {
        "colab": {
          "base_uri": "https://localhost:8080/"
        },
        "id": "Bx6t20gJiL3f",
        "outputId": "c9248ecc-7ae7-40ee-ea4e-116cfd8490d8"
      },
      "execution_count": 7,
      "outputs": [
        {
          "output_type": "stream",
          "name": "stdout",
          "text": [
            "cba\n",
            "321\n",
            "0\n",
            "ababababab\n"
          ]
        }
      ]
    },
    {
      "cell_type": "code",
      "source": [
        "def intro_to_python():\n",
        "  pass\n",
        "\n",
        "def teach_datatypes():\n",
        "  pass\n",
        "\n",
        "def teach_functions():\n",
        "  pass\n",
        "\n",
        "def teach_python():\n",
        "  a = intro_to_python()\n",
        "  b = teach_datatypes()\n",
        "  c = teach_functions()"
      ],
      "metadata": {
        "id": "DwqoBoZDjui2"
      },
      "execution_count": null,
      "outputs": []
    },
    {
      "cell_type": "code",
      "source": [
        "# defining a function\n",
        "\n",
        "def python_function():\n",
        "  print(\"Welcome to Functions class\")\n",
        "  l = [100,200,300,400]\n",
        "  return l\n",
        "\n",
        "# calling a function\n",
        "\n",
        "func_return = python_function()\n",
        "print(func_return)\n",
        "print(type(func_return))"
      ],
      "metadata": {
        "colab": {
          "base_uri": "https://localhost:8080/"
        },
        "id": "I37ZNcPgli_x",
        "outputId": "176316ba-542a-43c5-f70c-b73eb8010648"
      },
      "execution_count": 11,
      "outputs": [
        {
          "output_type": "stream",
          "name": "stdout",
          "text": [
            "Welcome to Functions class\n",
            "[100, 200, 300, 400]\n",
            "<class 'list'>\n"
          ]
        }
      ]
    },
    {
      "cell_type": "code",
      "source": [
        "# passing the arguments to the functions\n",
        "\n",
        "def f_name(name):\n",
        "  print(\"Entered Name : {}\".format(name))\n",
        "  return name*2\n",
        "\n",
        "ret_val = f_name(\"Virat\")\n",
        "print(ret_val)\n",
        "print(type(ret_val))"
      ],
      "metadata": {
        "colab": {
          "base_uri": "https://localhost:8080/"
        },
        "id": "Xn8JK0xMm4Mg",
        "outputId": "15626251-ee7c-43a7-9141-56386a08e3c2"
      },
      "execution_count": 12,
      "outputs": [
        {
          "output_type": "stream",
          "name": "stdout",
          "text": [
            "Entered Name : Virat\n",
            "ViratVirat\n",
            "<class 'str'>\n"
          ]
        }
      ]
    },
    {
      "cell_type": "code",
      "source": [
        "def f_name(name):\n",
        "  print(\"Entered Name : {}\".format(name))\n",
        "  return name*2\n",
        "\n",
        "ret_val = f_name(10)\n",
        "print(ret_val)\n",
        "print(type(ret_val))"
      ],
      "metadata": {
        "colab": {
          "base_uri": "https://localhost:8080/"
        },
        "id": "mCaMBoaUnqpx",
        "outputId": "63699180-c350-4475-d718-a5b09c17d90f"
      },
      "execution_count": 13,
      "outputs": [
        {
          "output_type": "stream",
          "name": "stdout",
          "text": [
            "Entered Name : 10\n",
            "20\n",
            "<class 'int'>\n"
          ]
        }
      ]
    },
    {
      "cell_type": "code",
      "source": [
        "def f_name(name):\n",
        "  print(\"Entered Name : {}\".format(name))\n",
        "  return name*2\n",
        "\n",
        "ret_val = f_name([1,2,3])\n",
        "print(ret_val)\n",
        "print(type(ret_val))"
      ],
      "metadata": {
        "colab": {
          "base_uri": "https://localhost:8080/"
        },
        "id": "wCN6Zmyjn6Ai",
        "outputId": "adf2f373-1c69-4e7e-a042-bdaf1fb01702"
      },
      "execution_count": 14,
      "outputs": [
        {
          "output_type": "stream",
          "name": "stdout",
          "text": [
            "Entered Name : [1, 2, 3]\n",
            "[1, 2, 3, 1, 2, 3]\n",
            "<class 'list'>\n"
          ]
        }
      ]
    },
    {
      "cell_type": "code",
      "source": [
        "def sub_calculator(num):\n",
        "  print(\"Entered Num : {}\".format(num))\n",
        "  a = 100\n",
        "  print(\"abc\")\n",
        "  print(num*5)\n",
        "  print(num+\"5\")\n",
        "  return a-num\n",
        "\n",
        "ret_val = sub_calculator(\"50\")\n",
        "print(ret_val)\n",
        "print(type(ret_val))"
      ],
      "metadata": {
        "colab": {
          "base_uri": "https://localhost:8080/",
          "height": 413
        },
        "id": "nqnT6uL2oDtD",
        "outputId": "5382aa83-d6b6-4d00-90ca-d130e37ebd9a"
      },
      "execution_count": 19,
      "outputs": [
        {
          "output_type": "stream",
          "name": "stdout",
          "text": [
            "Entered Num : 50\n",
            "abc\n",
            "5050505050\n",
            "505\n"
          ]
        },
        {
          "output_type": "error",
          "ename": "TypeError",
          "evalue": "unsupported operand type(s) for -: 'int' and 'str'",
          "traceback": [
            "\u001b[0;31m---------------------------------------------------------------------------\u001b[0m",
            "\u001b[0;31mTypeError\u001b[0m                                 Traceback (most recent call last)",
            "\u001b[0;32m<ipython-input-19-eb714e582bbf>\u001b[0m in \u001b[0;36m<cell line: 9>\u001b[0;34m()\u001b[0m\n\u001b[1;32m      7\u001b[0m   \u001b[0;32mreturn\u001b[0m \u001b[0ma\u001b[0m\u001b[0;34m-\u001b[0m\u001b[0mnum\u001b[0m\u001b[0;34m\u001b[0m\u001b[0;34m\u001b[0m\u001b[0m\n\u001b[1;32m      8\u001b[0m \u001b[0;34m\u001b[0m\u001b[0m\n\u001b[0;32m----> 9\u001b[0;31m \u001b[0mret_val\u001b[0m \u001b[0;34m=\u001b[0m \u001b[0msub_calculator\u001b[0m\u001b[0;34m(\u001b[0m\u001b[0;34m\"50\"\u001b[0m\u001b[0;34m)\u001b[0m\u001b[0;34m\u001b[0m\u001b[0;34m\u001b[0m\u001b[0m\n\u001b[0m\u001b[1;32m     10\u001b[0m \u001b[0mprint\u001b[0m\u001b[0;34m(\u001b[0m\u001b[0mret_val\u001b[0m\u001b[0;34m)\u001b[0m\u001b[0;34m\u001b[0m\u001b[0;34m\u001b[0m\u001b[0m\n\u001b[1;32m     11\u001b[0m \u001b[0mprint\u001b[0m\u001b[0;34m(\u001b[0m\u001b[0mtype\u001b[0m\u001b[0;34m(\u001b[0m\u001b[0mret_val\u001b[0m\u001b[0;34m)\u001b[0m\u001b[0;34m)\u001b[0m\u001b[0;34m\u001b[0m\u001b[0;34m\u001b[0m\u001b[0m\n",
            "\u001b[0;32m<ipython-input-19-eb714e582bbf>\u001b[0m in \u001b[0;36msub_calculator\u001b[0;34m(num)\u001b[0m\n\u001b[1;32m      5\u001b[0m   \u001b[0mprint\u001b[0m\u001b[0;34m(\u001b[0m\u001b[0mnum\u001b[0m\u001b[0;34m*\u001b[0m\u001b[0;36m5\u001b[0m\u001b[0;34m)\u001b[0m\u001b[0;34m\u001b[0m\u001b[0;34m\u001b[0m\u001b[0m\n\u001b[1;32m      6\u001b[0m   \u001b[0mprint\u001b[0m\u001b[0;34m(\u001b[0m\u001b[0mnum\u001b[0m\u001b[0;34m+\u001b[0m\u001b[0;34m\"5\"\u001b[0m\u001b[0;34m)\u001b[0m\u001b[0;34m\u001b[0m\u001b[0;34m\u001b[0m\u001b[0m\n\u001b[0;32m----> 7\u001b[0;31m   \u001b[0;32mreturn\u001b[0m \u001b[0ma\u001b[0m\u001b[0;34m-\u001b[0m\u001b[0mnum\u001b[0m\u001b[0;34m\u001b[0m\u001b[0;34m\u001b[0m\u001b[0m\n\u001b[0m\u001b[1;32m      8\u001b[0m \u001b[0;34m\u001b[0m\u001b[0m\n\u001b[1;32m      9\u001b[0m \u001b[0mret_val\u001b[0m \u001b[0;34m=\u001b[0m \u001b[0msub_calculator\u001b[0m\u001b[0;34m(\u001b[0m\u001b[0;34m\"50\"\u001b[0m\u001b[0;34m)\u001b[0m\u001b[0;34m\u001b[0m\u001b[0;34m\u001b[0m\u001b[0m\n",
            "\u001b[0;31mTypeError\u001b[0m: unsupported operand type(s) for -: 'int' and 'str'"
          ]
        }
      ]
    },
    {
      "cell_type": "code",
      "source": [
        "def f_name(name):\n",
        "  print(\"Entered Name : {}\".format(name))\n",
        "  return name*2\n",
        "\n",
        "ret_val = f_name()\n",
        "print(ret_val)\n",
        "print(type(ret_val))"
      ],
      "metadata": {
        "colab": {
          "base_uri": "https://localhost:8080/",
          "height": 216
        },
        "id": "PzcWbR1CpN6Z",
        "outputId": "d160304b-abbb-4d5c-f012-992f46976b8c"
      },
      "execution_count": 20,
      "outputs": [
        {
          "output_type": "error",
          "ename": "TypeError",
          "evalue": "f_name() missing 1 required positional argument: 'name'",
          "traceback": [
            "\u001b[0;31m---------------------------------------------------------------------------\u001b[0m",
            "\u001b[0;31mTypeError\u001b[0m                                 Traceback (most recent call last)",
            "\u001b[0;32m<ipython-input-20-1a3d5dbfa375>\u001b[0m in \u001b[0;36m<cell line: 5>\u001b[0;34m()\u001b[0m\n\u001b[1;32m      3\u001b[0m   \u001b[0;32mreturn\u001b[0m \u001b[0mname\u001b[0m\u001b[0;34m*\u001b[0m\u001b[0;36m2\u001b[0m\u001b[0;34m\u001b[0m\u001b[0;34m\u001b[0m\u001b[0m\n\u001b[1;32m      4\u001b[0m \u001b[0;34m\u001b[0m\u001b[0m\n\u001b[0;32m----> 5\u001b[0;31m \u001b[0mret_val\u001b[0m \u001b[0;34m=\u001b[0m \u001b[0mf_name\u001b[0m\u001b[0;34m(\u001b[0m\u001b[0;34m)\u001b[0m\u001b[0;34m\u001b[0m\u001b[0;34m\u001b[0m\u001b[0m\n\u001b[0m\u001b[1;32m      6\u001b[0m \u001b[0mprint\u001b[0m\u001b[0;34m(\u001b[0m\u001b[0mret_val\u001b[0m\u001b[0;34m)\u001b[0m\u001b[0;34m\u001b[0m\u001b[0;34m\u001b[0m\u001b[0m\n\u001b[1;32m      7\u001b[0m \u001b[0mprint\u001b[0m\u001b[0;34m(\u001b[0m\u001b[0mtype\u001b[0m\u001b[0;34m(\u001b[0m\u001b[0mret_val\u001b[0m\u001b[0;34m)\u001b[0m\u001b[0;34m)\u001b[0m\u001b[0;34m\u001b[0m\u001b[0;34m\u001b[0m\u001b[0m\n",
            "\u001b[0;31mTypeError\u001b[0m: f_name() missing 1 required positional argument: 'name'"
          ]
        }
      ]
    },
    {
      "cell_type": "code",
      "source": [
        "def info_data(name, age, occupation):\n",
        "  print(\"Name: {}\".format(name))\n",
        "  print(\"Age: {}\".format(age))\n",
        "  print(\"Occupation: {}\".format(occupation))\n",
        "\n",
        "ret_val = info_data(\"Venky\", 26, \"ML Engineer\")\n",
        "print(ret_val)\n",
        "print(type(ret_val))"
      ],
      "metadata": {
        "colab": {
          "base_uri": "https://localhost:8080/"
        },
        "id": "vPNdGWvcphuw",
        "outputId": "66dea72a-0cb0-420a-8a3a-687b0e167041"
      },
      "execution_count": 21,
      "outputs": [
        {
          "output_type": "stream",
          "name": "stdout",
          "text": [
            "Name: Venky\n",
            "Age: 26\n",
            "Occupation: ML Engineer\n",
            "None\n",
            "<class 'NoneType'>\n"
          ]
        }
      ]
    },
    {
      "cell_type": "code",
      "source": [
        "def info_data(name, age, occupation):\n",
        "  print(\"Name: {}\".format(name))\n",
        "  print(\"Age: {}\".format(age))\n",
        "  print(\"Occupation: {}\".format(occupation))\n",
        "\n",
        "ret_val = info_data(26, \"ML Engineer\", [12,23])\n",
        "print(ret_val)\n",
        "print(type(ret_val))"
      ],
      "metadata": {
        "colab": {
          "base_uri": "https://localhost:8080/"
        },
        "id": "SnHvKf3pp-FN",
        "outputId": "70ebd964-a23b-47f3-f94a-eed49a752b2e"
      },
      "execution_count": 23,
      "outputs": [
        {
          "output_type": "stream",
          "name": "stdout",
          "text": [
            "Name: 26\n",
            "Age: ML Engineer\n",
            "Occupation: [12, 23]\n",
            "None\n",
            "<class 'NoneType'>\n"
          ]
        }
      ]
    },
    {
      "cell_type": "code",
      "source": [
        "# to pass any number of arguments, number of arguments is unknown\n",
        "\n",
        "def string_concatenation(*s):\n",
        "  print(s)\n",
        "  print(type(s))\n",
        "\n",
        "string_concatenation(\"a\", \"b\", \"c\")"
      ],
      "metadata": {
        "colab": {
          "base_uri": "https://localhost:8080/"
        },
        "id": "o7oN244Hpe7_",
        "outputId": "94a2713f-a3b7-4e3a-a01c-36165e0f6496"
      },
      "execution_count": 26,
      "outputs": [
        {
          "output_type": "stream",
          "name": "stdout",
          "text": [
            "('a', 'b', 'c')\n",
            "<class 'tuple'>\n"
          ]
        }
      ]
    },
    {
      "cell_type": "code",
      "source": [
        "def string_concatenation(*s):\n",
        "  print(s)\n",
        "  print(type(s))\n",
        "\n",
        "string_concatenation(\"a\")"
      ],
      "metadata": {
        "colab": {
          "base_uri": "https://localhost:8080/"
        },
        "id": "W2TioYK4rd68",
        "outputId": "691fad0f-d2bb-4a94-d4dd-8f6eee45cd34"
      },
      "execution_count": 27,
      "outputs": [
        {
          "output_type": "stream",
          "name": "stdout",
          "text": [
            "('a',)\n",
            "<class 'tuple'>\n"
          ]
        }
      ]
    },
    {
      "cell_type": "code",
      "source": [
        "def string_concatenation(*s):\n",
        "  print(s)\n",
        "  print(type(s))\n",
        "\n",
        "string_concatenation()"
      ],
      "metadata": {
        "colab": {
          "base_uri": "https://localhost:8080/"
        },
        "id": "xzLdz5IsrhNn",
        "outputId": "805965e3-5b1c-4475-912d-7cdbc1c3984f"
      },
      "execution_count": 28,
      "outputs": [
        {
          "output_type": "stream",
          "name": "stdout",
          "text": [
            "()\n",
            "<class 'tuple'>\n"
          ]
        }
      ]
    },
    {
      "cell_type": "code",
      "source": [
        "def string_concatenation(*s):\n",
        "  print(s)\n",
        "  print(type(s))\n",
        "  for i in s:\n",
        "    print(len(i))\n",
        "string_concatenation(\"\")"
      ],
      "metadata": {
        "colab": {
          "base_uri": "https://localhost:8080/"
        },
        "id": "uwW7Fa7Grl4-",
        "outputId": "bdf7df75-254d-4e59-c5aa-814d443be8a1"
      },
      "execution_count": 32,
      "outputs": [
        {
          "output_type": "stream",
          "name": "stdout",
          "text": [
            "('',)\n",
            "<class 'tuple'>\n",
            "0\n"
          ]
        }
      ]
    },
    {
      "cell_type": "code",
      "source": [
        "def string_concatenation(*s): # *args , *name\n",
        "  print(s)\n",
        "  print(type(s))\n",
        "\n",
        "string_concatenation(\"a\", \"b\", \"c\", 12,12.5,False, [1,2,3], (2,3,4), {2,3,4}, {1:2,2:3})"
      ],
      "metadata": {
        "colab": {
          "base_uri": "https://localhost:8080/"
        },
        "id": "6NZ93642sFRw",
        "outputId": "7ff0122e-8333-4f24-d985-83fecbda0c41"
      },
      "execution_count": 33,
      "outputs": [
        {
          "output_type": "stream",
          "name": "stdout",
          "text": [
            "('a', 'b', 'c', 12, 12.5, False, [1, 2, 3], (2, 3, 4), {2, 3, 4}, {1: 2, 2: 3})\n",
            "<class 'tuple'>\n"
          ]
        }
      ]
    },
    {
      "cell_type": "code",
      "source": [
        "# keyword arguments\n",
        "\n",
        "def info_data(name, age, occupation):\n",
        "  print(\"Name: {}\".format(name))\n",
        "  print(\"Age: {}\".format(age))\n",
        "  print(\"Occupation: {}\".format(occupation))\n",
        "\n",
        "ret_val = info_data(occupation = \"ML Engineer\", name = \"Venky\", age = 26)"
      ],
      "metadata": {
        "colab": {
          "base_uri": "https://localhost:8080/"
        },
        "id": "8jq2SfK1sULZ",
        "outputId": "df088408-a143-4cc1-9b25-f0ec68972e08"
      },
      "execution_count": 35,
      "outputs": [
        {
          "output_type": "stream",
          "name": "stdout",
          "text": [
            "Name: Venky\n",
            "Age: 26\n",
            "Occupation: ML Engineer\n"
          ]
        }
      ]
    },
    {
      "cell_type": "code",
      "source": [
        "\n",
        "def info_data(name, age, occupation):\n",
        "  print(\"Name: {}\".format(name))\n",
        "  print(\"Age: {}\".format(age))\n",
        "  print(\"Occupation: {}\".format(occupation))\n",
        "\n",
        "ret_val = info_data(occupation = \"ML Engineer\", name_2 = \"Venky\", age = 26)"
      ],
      "metadata": {
        "colab": {
          "base_uri": "https://localhost:8080/",
          "height": 180
        },
        "id": "qZ-yQLcotwTv",
        "outputId": "9d9e64a7-7268-42b1-e0c1-11e0ea1241bd"
      },
      "execution_count": 36,
      "outputs": [
        {
          "output_type": "error",
          "ename": "TypeError",
          "evalue": "info_data() got an unexpected keyword argument 'name_2'",
          "traceback": [
            "\u001b[0;31m---------------------------------------------------------------------------\u001b[0m",
            "\u001b[0;31mTypeError\u001b[0m                                 Traceback (most recent call last)",
            "\u001b[0;32m<ipython-input-36-4472ff6a0350>\u001b[0m in \u001b[0;36m<cell line: 6>\u001b[0;34m()\u001b[0m\n\u001b[1;32m      4\u001b[0m   \u001b[0mprint\u001b[0m\u001b[0;34m(\u001b[0m\u001b[0;34m\"Occupation: {}\"\u001b[0m\u001b[0;34m.\u001b[0m\u001b[0mformat\u001b[0m\u001b[0;34m(\u001b[0m\u001b[0moccupation\u001b[0m\u001b[0;34m)\u001b[0m\u001b[0;34m)\u001b[0m\u001b[0;34m\u001b[0m\u001b[0;34m\u001b[0m\u001b[0m\n\u001b[1;32m      5\u001b[0m \u001b[0;34m\u001b[0m\u001b[0m\n\u001b[0;32m----> 6\u001b[0;31m \u001b[0mret_val\u001b[0m \u001b[0;34m=\u001b[0m \u001b[0minfo_data\u001b[0m\u001b[0;34m(\u001b[0m\u001b[0moccupation\u001b[0m \u001b[0;34m=\u001b[0m \u001b[0;34m\"ML Engineer\"\u001b[0m\u001b[0;34m,\u001b[0m \u001b[0mname_2\u001b[0m \u001b[0;34m=\u001b[0m \u001b[0;34m\"Venky\"\u001b[0m\u001b[0;34m,\u001b[0m \u001b[0mage\u001b[0m \u001b[0;34m=\u001b[0m \u001b[0;36m26\u001b[0m\u001b[0;34m)\u001b[0m\u001b[0;34m\u001b[0m\u001b[0;34m\u001b[0m\u001b[0m\n\u001b[0m",
            "\u001b[0;31mTypeError\u001b[0m: info_data() got an unexpected keyword argument 'name_2'"
          ]
        }
      ]
    },
    {
      "cell_type": "code",
      "source": [
        "# let say we don't know how many keyword arguments were there, i.e keyword arguments is unknown\n",
        "\n",
        "def info_data(**k): # **kwargs, **knames\n",
        "  print(k)\n",
        "  print(type(k))\n",
        "\n",
        "info_data(name = \"Venky\", occupation = \"ML Engineer\", age = 26)"
      ],
      "metadata": {
        "colab": {
          "base_uri": "https://localhost:8080/"
        },
        "id": "fia08RUkt5Tt",
        "outputId": "60ac9c0a-f5b0-4e4a-b851-af5248ebc970"
      },
      "execution_count": 37,
      "outputs": [
        {
          "output_type": "stream",
          "name": "stdout",
          "text": [
            "{'name': 'Venky', 'occupation': 'ML Engineer', 'age': 26}\n",
            "<class 'dict'>\n"
          ]
        }
      ]
    },
    {
      "cell_type": "code",
      "source": [
        "def info_data(**k):\n",
        "  print(k)\n",
        "  print(type(k))\n",
        "\n",
        "info_data(name = \"Venky\", occupation = \"ML Engineer\", age = 26, teaching_subjects = ['Calculus', 'Python', 'Aptitude'])\n"
      ],
      "metadata": {
        "colab": {
          "base_uri": "https://localhost:8080/"
        },
        "id": "LAMyJh_Zu3OE",
        "outputId": "069baeac-6a2d-48cb-cd41-62e4e4015100"
      },
      "execution_count": 38,
      "outputs": [
        {
          "output_type": "stream",
          "name": "stdout",
          "text": [
            "{'name': 'Venky', 'occupation': 'ML Engineer', 'age': 26, 'teaching_subjects': ['Calculus', 'Python', 'Aptitude']}\n",
            "<class 'dict'>\n"
          ]
        }
      ]
    },
    {
      "cell_type": "code",
      "source": [
        "info_data(\"Venky\", \"ML Engineer\", 26,['Calculus', 'Python', 'Aptitude'])"
      ],
      "metadata": {
        "colab": {
          "base_uri": "https://localhost:8080/",
          "height": 144
        },
        "id": "IrQuwyD1vDu-",
        "outputId": "3843217f-0a11-4a93-b997-2b6f3248ca91"
      },
      "execution_count": 39,
      "outputs": [
        {
          "output_type": "error",
          "ename": "TypeError",
          "evalue": "info_data() takes 0 positional arguments but 4 were given",
          "traceback": [
            "\u001b[0;31m---------------------------------------------------------------------------\u001b[0m",
            "\u001b[0;31mTypeError\u001b[0m                                 Traceback (most recent call last)",
            "\u001b[0;32m<ipython-input-39-1cb702eaef81>\u001b[0m in \u001b[0;36m<cell line: 1>\u001b[0;34m()\u001b[0m\n\u001b[0;32m----> 1\u001b[0;31m \u001b[0minfo_data\u001b[0m\u001b[0;34m(\u001b[0m\u001b[0;34m\"Venky\"\u001b[0m\u001b[0;34m,\u001b[0m \u001b[0;34m\"ML Engineer\"\u001b[0m\u001b[0;34m,\u001b[0m \u001b[0;36m26\u001b[0m\u001b[0;34m,\u001b[0m\u001b[0;34m[\u001b[0m\u001b[0;34m'Calculus'\u001b[0m\u001b[0;34m,\u001b[0m \u001b[0;34m'Python'\u001b[0m\u001b[0;34m,\u001b[0m \u001b[0;34m'Aptitude'\u001b[0m\u001b[0;34m]\u001b[0m\u001b[0;34m)\u001b[0m\u001b[0;34m\u001b[0m\u001b[0;34m\u001b[0m\u001b[0m\n\u001b[0m",
            "\u001b[0;31mTypeError\u001b[0m: info_data() takes 0 positional arguments but 4 were given"
          ]
        }
      ]
    },
    {
      "cell_type": "code",
      "source": [
        "# default parameter value\n",
        "\n",
        "def my_info(country=\"India\"):\n",
        "  print(\"I'm from {}\".format(country))\n",
        "  return 10\n",
        "\n",
        "print(my_info())\n",
        "print(my_info(\"Russia\"))"
      ],
      "metadata": {
        "colab": {
          "base_uri": "https://localhost:8080/"
        },
        "id": "c9rJmdakvgGm",
        "outputId": "5fa32aca-a217-41f6-8642-f8b5785f1a12"
      },
      "execution_count": 44,
      "outputs": [
        {
          "output_type": "stream",
          "name": "stdout",
          "text": [
            "I'm from India\n",
            "10\n",
            "I'm from Russia\n",
            "10\n"
          ]
        }
      ]
    },
    {
      "cell_type": "code",
      "source": [
        "print(my_info())"
      ],
      "metadata": {
        "colab": {
          "base_uri": "https://localhost:8080/"
        },
        "id": "zB4Aa29twrX_",
        "outputId": "671d1585-a675-45ec-a6f5-7a9e0de24a8e"
      },
      "execution_count": 46,
      "outputs": [
        {
          "output_type": "stream",
          "name": "stdout",
          "text": [
            "I'm from India\n",
            "10\n"
          ]
        }
      ]
    },
    {
      "cell_type": "code",
      "source": [
        "def my_info(country=\"India\", name = \"viky\"):\n",
        "  print(\"I'm {} and I'm from {}\".format(name, country))\n",
        "\n",
        "my_info(\"venky\", \"us\")"
      ],
      "metadata": {
        "colab": {
          "base_uri": "https://localhost:8080/"
        },
        "id": "e0A74ErGwb22",
        "outputId": "84974859-cfcb-4851-ce30-7d00d6b1a25d"
      },
      "execution_count": 53,
      "outputs": [
        {
          "output_type": "stream",
          "name": "stdout",
          "text": [
            "I'm us and I'm from venky\n"
          ]
        }
      ]
    },
    {
      "cell_type": "code",
      "source": [
        "my_info(name = \"US\", country = \"Venky\")"
      ],
      "metadata": {
        "colab": {
          "base_uri": "https://localhost:8080/"
        },
        "id": "tCD-FuP2vPZz",
        "outputId": "a9dfbb63-797d-41db-c78a-541b14072ba9"
      },
      "execution_count": 50,
      "outputs": [
        {
          "output_type": "stream",
          "name": "stdout",
          "text": [
            "I'm US and I'm from Venky\n"
          ]
        }
      ]
    },
    {
      "cell_type": "code",
      "source": [
        "# pass statements\n",
        "\n",
        "def simple_function(*s):\n",
        "  pass\n",
        "\n",
        "simple_function()"
      ],
      "metadata": {
        "id": "DHrYwGmN1AkO"
      },
      "execution_count": 54,
      "outputs": []
    },
    {
      "cell_type": "markdown",
      "source": [
        "### **Positional - Only Arguments**"
      ],
      "metadata": {
        "id": "AaM_4AHp1PRI"
      }
    },
    {
      "cell_type": "code",
      "source": [
        "def my_func(a):\n",
        "  print(a)\n",
        "\n",
        "my_func(3)"
      ],
      "metadata": {
        "colab": {
          "base_uri": "https://localhost:8080/"
        },
        "id": "BoShGJaI1JKJ",
        "outputId": "1be78713-dae6-43ca-c7ac-5d616e36fbb7"
      },
      "execution_count": 55,
      "outputs": [
        {
          "output_type": "stream",
          "name": "stdout",
          "text": [
            "3\n"
          ]
        }
      ]
    },
    {
      "cell_type": "code",
      "source": [
        "my_func(a = 3)"
      ],
      "metadata": {
        "colab": {
          "base_uri": "https://localhost:8080/"
        },
        "id": "kN2iXd-k1fds",
        "outputId": "6d9d2388-329f-4c45-a907-308709e69403"
      },
      "execution_count": 56,
      "outputs": [
        {
          "output_type": "stream",
          "name": "stdout",
          "text": [
            "3\n"
          ]
        }
      ]
    },
    {
      "cell_type": "code",
      "source": [
        "# add \",/\" after the positional arguments to indicate the function takes only positional arguments\n",
        "\n",
        "def my_func(a,/):\n",
        "  print(a)\n",
        "\n",
        "my_func(3)"
      ],
      "metadata": {
        "colab": {
          "base_uri": "https://localhost:8080/"
        },
        "id": "WWUCK4rj1k-P",
        "outputId": "b6f0895a-9699-4f1f-921f-e70b3eefd759"
      },
      "execution_count": 57,
      "outputs": [
        {
          "output_type": "stream",
          "name": "stdout",
          "text": [
            "3\n"
          ]
        }
      ]
    },
    {
      "cell_type": "code",
      "source": [
        "my_func(a = 3)"
      ],
      "metadata": {
        "colab": {
          "base_uri": "https://localhost:8080/",
          "height": 144
        },
        "id": "jPSQ_tXH10nv",
        "outputId": "0aa083fd-7389-43ab-fbde-388877570db5"
      },
      "execution_count": 59,
      "outputs": [
        {
          "output_type": "error",
          "ename": "TypeError",
          "evalue": "my_func() got some positional-only arguments passed as keyword arguments: 'a'",
          "traceback": [
            "\u001b[0;31m---------------------------------------------------------------------------\u001b[0m",
            "\u001b[0;31mTypeError\u001b[0m                                 Traceback (most recent call last)",
            "\u001b[0;32m<ipython-input-59-d61aa39cd22d>\u001b[0m in \u001b[0;36m<cell line: 1>\u001b[0;34m()\u001b[0m\n\u001b[0;32m----> 1\u001b[0;31m \u001b[0mmy_func\u001b[0m\u001b[0;34m(\u001b[0m\u001b[0ma\u001b[0m \u001b[0;34m=\u001b[0m \u001b[0;36m3\u001b[0m\u001b[0;34m)\u001b[0m\u001b[0;34m\u001b[0m\u001b[0;34m\u001b[0m\u001b[0m\n\u001b[0m",
            "\u001b[0;31mTypeError\u001b[0m: my_func() got some positional-only arguments passed as keyword arguments: 'a'"
          ]
        }
      ]
    },
    {
      "cell_type": "code",
      "source": [
        "# keyword only arguments\n",
        "\n",
        "def my_keyfunc(*,x):\n",
        "  print(x)"
      ],
      "metadata": {
        "id": "-sln4nEG2R9W"
      },
      "execution_count": 60,
      "outputs": []
    },
    {
      "cell_type": "code",
      "source": [
        "my_keyfunc(4)"
      ],
      "metadata": {
        "colab": {
          "base_uri": "https://localhost:8080/",
          "height": 144
        },
        "id": "GVPXXW2T2gy6",
        "outputId": "d3fccfd9-7c4e-4d1e-e59b-63557c7a8778"
      },
      "execution_count": 61,
      "outputs": [
        {
          "output_type": "error",
          "ename": "TypeError",
          "evalue": "my_keyfunc() takes 0 positional arguments but 1 was given",
          "traceback": [
            "\u001b[0;31m---------------------------------------------------------------------------\u001b[0m",
            "\u001b[0;31mTypeError\u001b[0m                                 Traceback (most recent call last)",
            "\u001b[0;32m<ipython-input-61-d91bdd8bfe9b>\u001b[0m in \u001b[0;36m<cell line: 1>\u001b[0;34m()\u001b[0m\n\u001b[0;32m----> 1\u001b[0;31m \u001b[0mmy_keyfunc\u001b[0m\u001b[0;34m(\u001b[0m\u001b[0;36m4\u001b[0m\u001b[0;34m)\u001b[0m\u001b[0;34m\u001b[0m\u001b[0;34m\u001b[0m\u001b[0m\n\u001b[0m",
            "\u001b[0;31mTypeError\u001b[0m: my_keyfunc() takes 0 positional arguments but 1 was given"
          ]
        }
      ]
    },
    {
      "cell_type": "code",
      "source": [
        "my_keyfunc(x = 4)"
      ],
      "metadata": {
        "colab": {
          "base_uri": "https://localhost:8080/"
        },
        "id": "_qHb6qel2oik",
        "outputId": "83bc2156-9e0e-4a48-a15e-326a3b7352ae"
      },
      "execution_count": 62,
      "outputs": [
        {
          "output_type": "stream",
          "name": "stdout",
          "text": [
            "4\n"
          ]
        }
      ]
    },
    {
      "cell_type": "code",
      "source": [
        "\n",
        "def my_keyfunc(x):\n",
        "  print(x)\n",
        "\n",
        "my_keyfunc(3)"
      ],
      "metadata": {
        "colab": {
          "base_uri": "https://localhost:8080/"
        },
        "id": "UOXmT1BI2wF-",
        "outputId": "8791a845-4674-4d74-cd60-aa478054e773"
      },
      "execution_count": 63,
      "outputs": [
        {
          "output_type": "stream",
          "name": "stdout",
          "text": [
            "3\n"
          ]
        }
      ]
    },
    {
      "cell_type": "code",
      "source": [
        "# combining positional only arguments and keyword only arguments\n",
        "\n",
        "def posKeyFunc(a,b,/,*,c,d):\n",
        "  print(\"Values of a {} b {} c {} d {}\".format(a,b,c,d))"
      ],
      "metadata": {
        "id": "WNRzEiCQ3kvL"
      },
      "execution_count": 64,
      "outputs": []
    },
    {
      "cell_type": "code",
      "source": [
        "posKeyFunc(10,5,12,14)"
      ],
      "metadata": {
        "colab": {
          "base_uri": "https://localhost:8080/",
          "height": 144
        },
        "id": "uRD_PfSv4CLu",
        "outputId": "8062b632-4456-48ea-904c-194f386d8775"
      },
      "execution_count": 65,
      "outputs": [
        {
          "output_type": "error",
          "ename": "TypeError",
          "evalue": "posKeyFunc() takes 2 positional arguments but 4 were given",
          "traceback": [
            "\u001b[0;31m---------------------------------------------------------------------------\u001b[0m",
            "\u001b[0;31mTypeError\u001b[0m                                 Traceback (most recent call last)",
            "\u001b[0;32m<ipython-input-65-7215fd1d77ea>\u001b[0m in \u001b[0;36m<cell line: 1>\u001b[0;34m()\u001b[0m\n\u001b[0;32m----> 1\u001b[0;31m \u001b[0mposKeyFunc\u001b[0m\u001b[0;34m(\u001b[0m\u001b[0;36m10\u001b[0m\u001b[0;34m,\u001b[0m\u001b[0;36m5\u001b[0m\u001b[0;34m,\u001b[0m\u001b[0;36m12\u001b[0m\u001b[0;34m,\u001b[0m\u001b[0;36m14\u001b[0m\u001b[0;34m)\u001b[0m\u001b[0;34m\u001b[0m\u001b[0;34m\u001b[0m\u001b[0m\n\u001b[0m",
            "\u001b[0;31mTypeError\u001b[0m: posKeyFunc() takes 2 positional arguments but 4 were given"
          ]
        }
      ]
    },
    {
      "cell_type": "code",
      "source": [
        "posKeyFunc(10,5)"
      ],
      "metadata": {
        "colab": {
          "base_uri": "https://localhost:8080/",
          "height": 144
        },
        "id": "cXv8h6bn4RPp",
        "outputId": "86f0e8e2-e94e-4036-8c53-5f12851cab11"
      },
      "execution_count": 66,
      "outputs": [
        {
          "output_type": "error",
          "ename": "TypeError",
          "evalue": "posKeyFunc() missing 2 required keyword-only arguments: 'c' and 'd'",
          "traceback": [
            "\u001b[0;31m---------------------------------------------------------------------------\u001b[0m",
            "\u001b[0;31mTypeError\u001b[0m                                 Traceback (most recent call last)",
            "\u001b[0;32m<ipython-input-66-9d74d80c02b8>\u001b[0m in \u001b[0;36m<cell line: 1>\u001b[0;34m()\u001b[0m\n\u001b[0;32m----> 1\u001b[0;31m \u001b[0mposKeyFunc\u001b[0m\u001b[0;34m(\u001b[0m\u001b[0;36m10\u001b[0m\u001b[0;34m,\u001b[0m\u001b[0;36m5\u001b[0m\u001b[0;34m)\u001b[0m\u001b[0;34m\u001b[0m\u001b[0;34m\u001b[0m\u001b[0m\n\u001b[0m",
            "\u001b[0;31mTypeError\u001b[0m: posKeyFunc() missing 2 required keyword-only arguments: 'c' and 'd'"
          ]
        }
      ]
    },
    {
      "cell_type": "code",
      "source": [
        "posKeyFunc(10,5, c = 12, d=10)"
      ],
      "metadata": {
        "colab": {
          "base_uri": "https://localhost:8080/"
        },
        "id": "Y_-XxhzE4X6D",
        "outputId": "3aaeb0cc-f189-4ac8-8c54-848163993736"
      },
      "execution_count": 67,
      "outputs": [
        {
          "output_type": "stream",
          "name": "stdout",
          "text": [
            "Values of a 10 b 5 c 12 d 10\n"
          ]
        }
      ]
    },
    {
      "cell_type": "code",
      "source": [
        "posKeyFunc(10,5, d = 12, c=10)"
      ],
      "metadata": {
        "colab": {
          "base_uri": "https://localhost:8080/"
        },
        "id": "Y1J_SCfy4gNX",
        "outputId": "0fafa6cd-8ce8-4929-b0c1-04fcdc56bf26"
      },
      "execution_count": 68,
      "outputs": [
        {
          "output_type": "stream",
          "name": "stdout",
          "text": [
            "Values of a 10 b 5 c 10 d 12\n"
          ]
        }
      ]
    },
    {
      "cell_type": "code",
      "source": [
        "posKeyFunc(d = 12, c=10, 5, 10)"
      ],
      "metadata": {
        "colab": {
          "base_uri": "https://localhost:8080/",
          "height": 109
        },
        "id": "9KZIOeyR4lko",
        "outputId": "6536fd7b-7723-4c55-a349-69da286816d1"
      },
      "execution_count": 69,
      "outputs": [
        {
          "output_type": "error",
          "ename": "SyntaxError",
          "evalue": "positional argument follows keyword argument (<ipython-input-69-e4e46c234dec>, line 1)",
          "traceback": [
            "\u001b[0;36m  File \u001b[0;32m\"<ipython-input-69-e4e46c234dec>\"\u001b[0;36m, line \u001b[0;32m1\u001b[0m\n\u001b[0;31m    posKeyFunc(d = 12, c=10, 5, 10)\u001b[0m\n\u001b[0m                                  ^\u001b[0m\n\u001b[0;31mSyntaxError\u001b[0m\u001b[0;31m:\u001b[0m positional argument follows keyword argument\n"
          ]
        }
      ]
    },
    {
      "cell_type": "code",
      "source": [
        "def myFunc(*s, **k):\n",
        "  print(s)\n",
        "  print(type(s))\n",
        "  print(k)\n",
        "  print(type(k))"
      ],
      "metadata": {
        "id": "Ap4r27bd5MFj"
      },
      "execution_count": 70,
      "outputs": []
    },
    {
      "cell_type": "code",
      "source": [
        "myFunc(1.5,1,True, [1,2,3],(1,2,3),{1,2,3}, name = \"Venky\", age = 26, occupation = \"Teaching\")"
      ],
      "metadata": {
        "colab": {
          "base_uri": "https://localhost:8080/"
        },
        "id": "MWTd08fC5X-G",
        "outputId": "c111574c-28b9-4d76-f03f-65a958acd622"
      },
      "execution_count": 71,
      "outputs": [
        {
          "output_type": "stream",
          "name": "stdout",
          "text": [
            "(1.5, 1, True, [1, 2, 3], (1, 2, 3), {1, 2, 3})\n",
            "<class 'tuple'>\n",
            "{'name': 'Venky', 'age': 26, 'occupation': 'Teaching'}\n",
            "<class 'dict'>\n"
          ]
        }
      ]
    },
    {
      "cell_type": "code",
      "source": [
        "def posKeyFunc(a,b,c,d):\n",
        "  print(\"Values of a {} b {} c {} d {}\".format(a,b,c,d))\n",
        "\n",
        "posKeyFunc(10,5, 100, d=12)"
      ],
      "metadata": {
        "colab": {
          "base_uri": "https://localhost:8080/"
        },
        "id": "P9UjjppZ6S2d",
        "outputId": "0e8ab1b5-8eca-4195-85e6-76f7e4a53129"
      },
      "execution_count": 73,
      "outputs": [
        {
          "output_type": "stream",
          "name": "stdout",
          "text": [
            "Values of a 10 b 5 c 100 d 12\n"
          ]
        }
      ]
    },
    {
      "cell_type": "code",
      "source": [
        "# docstring\n",
        "\n",
        "def pythonOperators(a,b):\n",
        "  \"\"\"\n",
        "  Description: This function prints basic python operations like addtion, sub, mul and remainder operators\n",
        "  Inputs: a, b\n",
        "  Returns: None\n",
        "  \"\"\"\n",
        "  print(\"Addition: {}\".format(a+b))\n",
        "  print(\"Sub: {}\".format(a-b))\n",
        "  print(\"Mul: {}\".format(a*b))\n",
        "  print(\"Remainder: {}\".format(a%b))\n",
        "  \"\"\"\n",
        "  print statements were done\n",
        "  \"\"\"\n",
        "  print(\"Div: {}\".format(a/b))"
      ],
      "metadata": {
        "id": "w2ibb_ZZ7A91"
      },
      "execution_count": 81,
      "outputs": []
    },
    {
      "cell_type": "code",
      "source": [
        "pythonOperators(15,5)"
      ],
      "metadata": {
        "colab": {
          "base_uri": "https://localhost:8080/"
        },
        "id": "QfxulgF47y5p",
        "outputId": "084672e3-431d-41b6-f7d8-988d09265e75"
      },
      "execution_count": 83,
      "outputs": [
        {
          "output_type": "stream",
          "name": "stdout",
          "text": [
            "Addition: 20\n",
            "Sub: 10\n",
            "Mul: 75\n",
            "Remainder: 0\n",
            "Div: 3.0\n"
          ]
        }
      ]
    },
    {
      "cell_type": "markdown",
      "source": [
        "### **Passing Variables to the function**"
      ],
      "metadata": {
        "id": "nlh_6LEP64Ow"
      }
    },
    {
      "cell_type": "code",
      "source": [
        "def myFunc(a): # a = b\n",
        "  print(\"Inside Function\")\n",
        "  print(a)\n",
        "  print(type(a))\n",
        "  print(id(a))\n",
        "  print(\"Returning From Function\")\n",
        "  return a\n",
        "\n",
        "b = 100\n",
        "print(b)\n",
        "print(id(b))\n",
        "c = myFunc(b) # c = a\n",
        "print(c)\n",
        "print(id(c))"
      ],
      "metadata": {
        "colab": {
          "base_uri": "https://localhost:8080/"
        },
        "id": "x4b7zAGQ9LC2",
        "outputId": "a786bd30-3325-4bf5-c27c-0c2024232689"
      },
      "execution_count": 85,
      "outputs": [
        {
          "output_type": "stream",
          "name": "stdout",
          "text": [
            "100\n",
            "132475442253136\n",
            "Inside Function\n",
            "100\n",
            "<class 'int'>\n",
            "132475442253136\n",
            "Returning From Function\n",
            "100\n",
            "132475442253136\n"
          ]
        }
      ]
    },
    {
      "cell_type": "code",
      "source": [
        "def myFunc(a): # a = b\n",
        "  print(\"Inside Function\")\n",
        "  print(\"a: {}, id: {}\".format(a,id(a)))\n",
        "  a += 120\n",
        "  print(\"a: {}, id: {}\".format(a,id(a)))\n",
        "  print(\"Returning From Function\")\n",
        "  return a\n",
        "\n",
        "b = 100\n",
        "print(\"b: {}, id: {}\".format(b,id(b)))\n",
        "c = myFunc(b) # c = a\n",
        "print(\"c: {}, id: {}\".format(c,id(c)))\n",
        "print(\"b: {}, id: {}\".format(b,id(b)))"
      ],
      "metadata": {
        "colab": {
          "base_uri": "https://localhost:8080/"
        },
        "id": "MOZTwhn198UN",
        "outputId": "1d82f0b5-eaa7-4788-a41b-6d1987b17b54"
      },
      "execution_count": 86,
      "outputs": [
        {
          "output_type": "stream",
          "name": "stdout",
          "text": [
            "b: 100, id: 132475442253136\n",
            "Inside Function\n",
            "a: 100, id: 132475442253136\n",
            "a: 220, id: 132475442256976\n",
            "Returning From Function\n",
            "c: 220, id: 132475442256976\n",
            "b: 100, id: 132475442253136\n"
          ]
        }
      ]
    },
    {
      "cell_type": "code",
      "source": [
        "def myFunc(a): # a = b\n",
        "  print(\"Inside Function\")\n",
        "  print(\"a: {}, id: {}\".format(a,id(a)))\n",
        "  a[2] = 2000000\n",
        "  print(\"a: {}, id: {}\".format(a,id(a)))\n",
        "  print(\"Returning From Function\")\n",
        "  return a\n",
        "\n",
        "b = [10,20,30,40]\n",
        "print(\"b: {}, id: {}\".format(b,id(b)))\n",
        "c = myFunc(b) # c = a\n",
        "print(\"c: {}, id: {}\".format(c,id(c)))\n",
        "print(\"b: {}, id: {}\".format(b,id(b)))"
      ],
      "metadata": {
        "colab": {
          "base_uri": "https://localhost:8080/"
        },
        "id": "2o2rYfOV-w4B",
        "outputId": "ff18a11e-9e63-4fb2-ebec-4bb17efcf335"
      },
      "execution_count": 88,
      "outputs": [
        {
          "output_type": "stream",
          "name": "stdout",
          "text": [
            "b: [10, 20, 30, 40], id: 132474158227328\n",
            "Inside Function\n",
            "a: [10, 20, 30, 40], id: 132474158227328\n",
            "a: [10, 20, 2000000, 40], id: 132474158227328\n",
            "Returning From Function\n",
            "c: [10, 20, 2000000, 40], id: 132474158227328\n",
            "b: [10, 20, 2000000, 40], id: 132474158227328\n"
          ]
        }
      ]
    },
    {
      "cell_type": "code",
      "source": [
        "a = 100\n",
        "print(a)\n",
        "print(id(a))\n",
        "\n",
        "a += 50\n",
        "print(a)\n",
        "print(id(a))"
      ],
      "metadata": {
        "colab": {
          "base_uri": "https://localhost:8080/"
        },
        "id": "jaKV1AHd-9E-",
        "outputId": "e7913398-8681-484f-8c43-4ad5d7e6b69f"
      },
      "execution_count": 87,
      "outputs": [
        {
          "output_type": "stream",
          "name": "stdout",
          "text": [
            "100\n",
            "132475442253136\n",
            "150\n",
            "132475442254736\n"
          ]
        }
      ]
    },
    {
      "cell_type": "code",
      "source": [
        "def myfun(a):\n",
        "  print(\"Before variable update in function: {}\".format(a))\n",
        "  a = 100\n",
        "  print(\"Inside Function: {}\".format(a))\n",
        "\n",
        "a = 200\n",
        "print(\"Before calling function: {}\".format(a))\n",
        "myfun(a)\n",
        "print(\"After calling function, Outside the function: {}\".format(a))"
      ],
      "metadata": {
        "colab": {
          "base_uri": "https://localhost:8080/"
        },
        "id": "5gUhpSWgASnK",
        "outputId": "117967db-8d54-458f-8029-0b1eb677f782"
      },
      "execution_count": 90,
      "outputs": [
        {
          "output_type": "stream",
          "name": "stdout",
          "text": [
            "Before calling function: 200\n",
            "Before variable update in function: 200\n",
            "Inside Function: 100\n",
            "After calling function, Outside the function: 200\n"
          ]
        }
      ]
    },
    {
      "cell_type": "code",
      "source": [
        "def myfun(_c):\n",
        "  print(\"Before variable update in function: {}\".format(_c))\n",
        "  _c = 100\n",
        "  print(\"Inside Function: {}\".format(_c))\n",
        "\n",
        "b = 200\n",
        "print(\"Before calling function: {}\".format(b))\n",
        "myfun(b)\n",
        "print(\"After calling function, Outside the function: {}\".format(_c))"
      ],
      "metadata": {
        "colab": {
          "base_uri": "https://localhost:8080/",
          "height": 234
        },
        "id": "oRLY5JkrBBLD",
        "outputId": "4f79c37d-ca5c-409c-a0b1-10d1df3178d2"
      },
      "execution_count": 96,
      "outputs": [
        {
          "output_type": "stream",
          "name": "stdout",
          "text": [
            "Before calling function: 200\n",
            "Before variable update in function: 200\n",
            "Inside Function: 100\n"
          ]
        },
        {
          "output_type": "error",
          "ename": "NameError",
          "evalue": "name '_c' is not defined",
          "traceback": [
            "\u001b[0;31m---------------------------------------------------------------------------\u001b[0m",
            "\u001b[0;31mNameError\u001b[0m                                 Traceback (most recent call last)",
            "\u001b[0;32m<ipython-input-96-4f16ca90a45c>\u001b[0m in \u001b[0;36m<cell line: 9>\u001b[0;34m()\u001b[0m\n\u001b[1;32m      7\u001b[0m \u001b[0mprint\u001b[0m\u001b[0;34m(\u001b[0m\u001b[0;34m\"Before calling function: {}\"\u001b[0m\u001b[0;34m.\u001b[0m\u001b[0mformat\u001b[0m\u001b[0;34m(\u001b[0m\u001b[0mb\u001b[0m\u001b[0;34m)\u001b[0m\u001b[0;34m)\u001b[0m\u001b[0;34m\u001b[0m\u001b[0;34m\u001b[0m\u001b[0m\n\u001b[1;32m      8\u001b[0m \u001b[0mmyfun\u001b[0m\u001b[0;34m(\u001b[0m\u001b[0mb\u001b[0m\u001b[0;34m)\u001b[0m\u001b[0;34m\u001b[0m\u001b[0;34m\u001b[0m\u001b[0m\n\u001b[0;32m----> 9\u001b[0;31m \u001b[0mprint\u001b[0m\u001b[0;34m(\u001b[0m\u001b[0;34m\"After calling function, Outside the function: {}\"\u001b[0m\u001b[0;34m.\u001b[0m\u001b[0mformat\u001b[0m\u001b[0;34m(\u001b[0m\u001b[0m_c\u001b[0m\u001b[0;34m)\u001b[0m\u001b[0;34m)\u001b[0m\u001b[0;34m\u001b[0m\u001b[0;34m\u001b[0m\u001b[0m\n\u001b[0m",
            "\u001b[0;31mNameError\u001b[0m: name '_c' is not defined"
          ]
        }
      ]
    },
    {
      "cell_type": "code",
      "source": [
        "def myfunc(a):\n",
        "  print(id(a))\n",
        "  a = 2457\n",
        "  print(\"ID Inside function: {}\".format(id(a)))\n",
        "\n",
        "a = 2457\n",
        "myfunc(a)\n",
        "print(\"ID Outside function: {}\".format(id(a)))"
      ],
      "metadata": {
        "colab": {
          "base_uri": "https://localhost:8080/"
        },
        "id": "9IOgaRE8C-Nc",
        "outputId": "b0baecc1-3ea5-4070-9f34-1426540e4d98"
      },
      "execution_count": 99,
      "outputs": [
        {
          "output_type": "stream",
          "name": "stdout",
          "text": [
            "132474159318384\n",
            "ID Inside function: 132474159324848\n",
            "ID Outside function: 132474159318384\n"
          ]
        }
      ]
    },
    {
      "cell_type": "code",
      "source": [
        "a = 2457\n",
        "b = 2457\n",
        "\n",
        "print(id(a))\n",
        "print(id(b))"
      ],
      "metadata": {
        "colab": {
          "base_uri": "https://localhost:8080/"
        },
        "id": "k80YuBoOEoOX",
        "outputId": "8a227cba-e525-41c6-ef3c-74be99b5ca9e"
      },
      "execution_count": 100,
      "outputs": [
        {
          "output_type": "stream",
          "name": "stdout",
          "text": [
            "132474159332880\n",
            "132474159328592\n"
          ]
        }
      ]
    },
    {
      "cell_type": "code",
      "source": [
        "def func():\n",
        "  a = 248900000\n",
        "  b = 248900000\n",
        "  print(id(a))\n",
        "  print(id(b))\n",
        "\n",
        "func()"
      ],
      "metadata": {
        "colab": {
          "base_uri": "https://localhost:8080/"
        },
        "id": "9Y1Kk1qQEvJq",
        "outputId": "8073c4e2-3ef7-46f0-8b81-76b9a6ba9c67"
      },
      "execution_count": 103,
      "outputs": [
        {
          "output_type": "stream",
          "name": "stdout",
          "text": [
            "132474159322864\n",
            "132474159322864\n"
          ]
        }
      ]
    },
    {
      "cell_type": "code",
      "source": [
        "def func(a):\n",
        "  a = list(a)\n",
        "  a[0] = 100  # scope of this variable a is limited to this particular function, outside the function if you call this variable, u will get error\n",
        "  return tuple(a)\n",
        "\n",
        "b = (10,20,30)\n",
        "c = func(b)\n",
        "print(b)\n",
        "print(c)"
      ],
      "metadata": {
        "colab": {
          "base_uri": "https://localhost:8080/"
        },
        "id": "QsYSs5qiFbtq",
        "outputId": "8ab5fea1-066e-4937-c7f6-799b4dd9335b"
      },
      "execution_count": 106,
      "outputs": [
        {
          "output_type": "stream",
          "name": "stdout",
          "text": [
            "(10, 20, 30)\n",
            "(100, 20, 30)\n"
          ]
        }
      ]
    },
    {
      "cell_type": "code",
      "source": [
        "def myfunc():\n",
        "  a = [1,2,3]\n",
        "  b = a\n",
        "  print(id(a))\n",
        "  print(id(b))\n",
        "  b[0] = 100\n",
        "  print(b)\n",
        "  print(a)\n",
        "\n",
        "myfunc()"
      ],
      "metadata": {
        "colab": {
          "base_uri": "https://localhost:8080/"
        },
        "id": "Zgi_Y5W8IIWN",
        "outputId": "669bd6da-560d-4b3d-98f4-5abf0a6c40a7"
      },
      "execution_count": 108,
      "outputs": [
        {
          "output_type": "stream",
          "name": "stdout",
          "text": [
            "132474160065408\n",
            "132474160065408\n",
            "[100, 2, 3]\n",
            "[100, 2, 3]\n"
          ]
        }
      ]
    },
    {
      "cell_type": "code",
      "source": [
        "a = [1,2,3]\n",
        "b = [1,2,3]\n",
        "b[0]= 100\n",
        "\n",
        "print(b)\n",
        "print(a)"
      ],
      "metadata": {
        "colab": {
          "base_uri": "https://localhost:8080/"
        },
        "id": "FW1kp0ZgIbwV",
        "outputId": "dc14597c-bdc5-4fe8-f792-7c5c2367637c"
      },
      "execution_count": 109,
      "outputs": [
        {
          "output_type": "stream",
          "name": "stdout",
          "text": [
            "[100, 2, 3]\n",
            "[1, 2, 3]\n"
          ]
        }
      ]
    },
    {
      "cell_type": "code",
      "source": [
        "a = [1,2,3,4]\n",
        "b = a\n",
        "\n",
        "b[0] = 100\n",
        "\n",
        "print(a)\n",
        "print(b)"
      ],
      "metadata": {
        "colab": {
          "base_uri": "https://localhost:8080/"
        },
        "id": "IBCfb0ZfIiX2",
        "outputId": "e8d32e33-ce11-4b4b-cba7-336f19b9caae"
      },
      "execution_count": 110,
      "outputs": [
        {
          "output_type": "stream",
          "name": "stdout",
          "text": [
            "[100, 2, 3, 4]\n",
            "[100, 2, 3, 4]\n"
          ]
        }
      ]
    }
  ]
}
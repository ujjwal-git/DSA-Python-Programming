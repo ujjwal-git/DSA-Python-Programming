{
  "cells": [
    {
      "cell_type": "markdown",
      "metadata": {
        "id": "K9OiBxxdFXwd"
      },
      "source": [
        "**Operators**"
      ]
    },
    {
      "cell_type": "code",
      "execution_count": null,
      "metadata": {
        "colab": {
          "base_uri": "https://localhost:8080/"
        },
        "id": "J9HxoEF7FPNf",
        "outputId": "e97b658a-783c-407b-e937-7ceeed873428"
      },
      "outputs": [
        {
          "data": {
            "text/plain": [
              "43.0"
            ]
          },
          "execution_count": 1,
          "metadata": {},
          "output_type": "execute_result"
        }
      ],
      "source": [
        "10+18*2-9/3"
      ]
    },
    {
      "cell_type": "code",
      "execution_count": null,
      "metadata": {
        "colab": {
          "base_uri": "https://localhost:8080/"
        },
        "id": "Y6skyWfeI8Aa",
        "outputId": "3abaa634-eed8-4362-fa30-5c636e4dcd56"
      },
      "outputs": [
        {
          "data": {
            "text/plain": [
              "2"
            ]
          },
          "execution_count": 2,
          "metadata": {},
          "output_type": "execute_result"
        }
      ],
      "source": [
        "10//4"
      ]
    },
    {
      "cell_type": "code",
      "execution_count": null,
      "metadata": {
        "colab": {
          "base_uri": "https://localhost:8080/"
        },
        "id": "vl_wmG5VI-pX",
        "outputId": "804b3034-9d9b-4651-8d6d-b032783221d7"
      },
      "outputs": [
        {
          "data": {
            "text/plain": [
              "2.0"
            ]
          },
          "execution_count": 3,
          "metadata": {},
          "output_type": "execute_result"
        }
      ],
      "source": [
        "10//4.0"
      ]
    },
    {
      "cell_type": "code",
      "execution_count": null,
      "metadata": {
        "colab": {
          "base_uri": "https://localhost:8080/"
        },
        "id": "mb47_BbXJJqL",
        "outputId": "6a35d596-7f32-4363-d8fb-8656d4ad0436"
      },
      "outputs": [
        {
          "data": {
            "text/plain": [
              "2.0"
            ]
          },
          "execution_count": 5,
          "metadata": {},
          "output_type": "execute_result"
        }
      ],
      "source": [
        "10.5//4"
      ]
    },
    {
      "cell_type": "code",
      "execution_count": null,
      "metadata": {
        "colab": {
          "base_uri": "https://localhost:8080/"
        },
        "id": "sXnurzlaJO20",
        "outputId": "b852674c-0909-4270-8e32-75cba8b87a8f"
      },
      "outputs": [
        {
          "data": {
            "text/plain": [
              "68"
            ]
          },
          "execution_count": 6,
          "metadata": {},
          "output_type": "execute_result"
        }
      ],
      "source": [
        "4^2<<3+48//24"
      ]
    },
    {
      "cell_type": "code",
      "execution_count": null,
      "metadata": {
        "id": "2ec4NA1bK7o1"
      },
      "outputs": [],
      "source": [
        "-5//2//2"
      ]
    },
    {
      "cell_type": "code",
      "execution_count": null,
      "metadata": {
        "colab": {
          "base_uri": "https://localhost:8080/"
        },
        "id": "ZTmXNyaJLyxw",
        "outputId": "66aec7de-978f-4fbf-ac62-532d46863313"
      },
      "outputs": [
        {
          "data": {
            "text/plain": [
              "True"
            ]
          },
          "execution_count": 7,
          "metadata": {},
          "output_type": "execute_result"
        }
      ],
      "source": [
        "10>7==7<12"
      ]
    },
    {
      "cell_type": "code",
      "execution_count": null,
      "metadata": {
        "colab": {
          "base_uri": "https://localhost:8080/"
        },
        "id": "hm1WYUHVMOhA",
        "outputId": "ec9a02b9-caa3-4f6b-a49c-06612a594bb7"
      },
      "outputs": [
        {
          "data": {
            "text/plain": [
              "False"
            ]
          },
          "execution_count": 8,
          "metadata": {},
          "output_type": "execute_result"
        }
      ],
      "source": [
        "10>7==8<12"
      ]
    },
    {
      "cell_type": "code",
      "execution_count": null,
      "metadata": {
        "colab": {
          "base_uri": "https://localhost:8080/"
        },
        "id": "Dm7yXRE1NRe7",
        "outputId": "272ba758-b076-466e-9d4e-8f0f3bbb0a0e"
      },
      "outputs": [
        {
          "data": {
            "text/plain": [
              "True"
            ]
          },
          "execution_count": 9,
          "metadata": {},
          "output_type": "execute_result"
        }
      ],
      "source": [
        "(10>7)==(8<12)"
      ]
    },
    {
      "cell_type": "code",
      "execution_count": null,
      "metadata": {
        "colab": {
          "base_uri": "https://localhost:8080/"
        },
        "id": "wGRjPD39Nwod",
        "outputId": "caafa701-b1c8-4079-f97c-6c748a744b1e"
      },
      "outputs": [
        {
          "data": {
            "text/plain": [
              "False"
            ]
          },
          "execution_count": 10,
          "metadata": {},
          "output_type": "execute_result"
        }
      ],
      "source": [
        "(10>7)==8<12"
      ]
    },
    {
      "cell_type": "code",
      "execution_count": null,
      "metadata": {
        "colab": {
          "base_uri": "https://localhost:8080/"
        },
        "id": "vGbM8VIoPCsX",
        "outputId": "37dd2d5e-fbfb-4773-b9dd-27597dfe0e56"
      },
      "outputs": [
        {
          "data": {
            "text/plain": [
              "True"
            ]
          },
          "execution_count": 15,
          "metadata": {},
          "output_type": "execute_result"
        }
      ],
      "source": [
        "10>(7==8)<12"
      ]
    },
    {
      "cell_type": "code",
      "execution_count": null,
      "metadata": {
        "colab": {
          "base_uri": "https://localhost:8080/"
        },
        "id": "uM9U1ECdPY0K",
        "outputId": "591a1ab6-492e-4494-aaaf-43edd2fd2cfa"
      },
      "outputs": [
        {
          "data": {
            "text/plain": [
              "False"
            ]
          },
          "execution_count": 16,
          "metadata": {},
          "output_type": "execute_result"
        }
      ],
      "source": [
        "10>(7==8)<-1"
      ]
    },
    {
      "cell_type": "code",
      "execution_count": null,
      "metadata": {
        "colab": {
          "base_uri": "https://localhost:8080/"
        },
        "id": "Nxmm1dQnNz6Y",
        "outputId": "cd2f30f3-05b8-4c77-c110-78530dbd4798"
      },
      "outputs": [
        {
          "data": {
            "text/plain": [
              "False"
            ]
          },
          "execution_count": 11,
          "metadata": {},
          "output_type": "execute_result"
        }
      ],
      "source": [
        "10>7==(8<12)"
      ]
    },
    {
      "cell_type": "code",
      "execution_count": null,
      "metadata": {
        "colab": {
          "base_uri": "https://localhost:8080/"
        },
        "id": "SuNMumgZOZBD",
        "outputId": "02c772db-75a8-4e5c-e613-317a7145d875"
      },
      "outputs": [
        {
          "data": {
            "text/plain": [
              "True"
            ]
          },
          "execution_count": 12,
          "metadata": {},
          "output_type": "execute_result"
        }
      ],
      "source": [
        "10>1==(8<12)"
      ]
    },
    {
      "cell_type": "code",
      "execution_count": null,
      "metadata": {
        "colab": {
          "base_uri": "https://localhost:8080/"
        },
        "id": "vuW8jB7XOv-d",
        "outputId": "3c156b1b-d5a9-422f-afe4-db3bb608fa3a"
      },
      "outputs": [
        {
          "data": {
            "text/plain": [
              "True"
            ]
          },
          "execution_count": 13,
          "metadata": {},
          "output_type": "execute_result"
        }
      ],
      "source": [
        "bool(8)"
      ]
    },
    {
      "cell_type": "code",
      "execution_count": null,
      "metadata": {
        "colab": {
          "base_uri": "https://localhost:8080/"
        },
        "id": "NUOAjHvCOx91",
        "outputId": "015c7053-6d3f-42ce-9bb5-3090d0b58829"
      },
      "outputs": [
        {
          "data": {
            "text/plain": [
              "False"
            ]
          },
          "execution_count": 14,
          "metadata": {},
          "output_type": "execute_result"
        }
      ],
      "source": [
        "8==True"
      ]
    },
    {
      "cell_type": "markdown",
      "metadata": {
        "id": "lndRW17-Rq97"
      },
      "source": [
        "**Unicode Representation**"
      ]
    },
    {
      "cell_type": "code",
      "execution_count": null,
      "metadata": {
        "colab": {
          "base_uri": "https://localhost:8080/"
        },
        "id": "JRyUi-FsRs_k",
        "outputId": "882fee8d-45a4-47b6-df43-b00ae828e882"
      },
      "outputs": [
        {
          "name": "stdout",
          "output_type": "stream",
          "text": [
            "character:  a\n",
            "unicode value:  97\n",
            "character:  b\n",
            "unicode value:  98\n",
            "character:  c\n",
            "unicode value:  99\n",
            "character:  d\n",
            "unicode value:  100\n",
            "character:  e\n",
            "unicode value:  101\n",
            "character:  f\n",
            "unicode value:  102\n",
            "character:  g\n",
            "unicode value:  103\n",
            "character:  h\n",
            "unicode value:  104\n",
            "character:  x\n",
            "unicode value:  120\n",
            "character:  y\n",
            "unicode value:  121\n",
            "character:  z\n",
            "unicode value:  122\n",
            "character:  A\n",
            "unicode value:  65\n",
            "character:  B\n",
            "unicode value:  66\n",
            "character:  C\n",
            "unicode value:  67\n",
            "character:  D\n",
            "unicode value:  68\n",
            "character:  E\n",
            "unicode value:  69\n",
            "character:  F\n",
            "unicode value:  70\n",
            "character:  G\n",
            "unicode value:  71\n",
            "character:  H\n",
            "unicode value:  72\n",
            "character:  X\n",
            "unicode value:  88\n",
            "character:  Y\n",
            "unicode value:  89\n",
            "character:  Z\n",
            "unicode value:  90\n",
            "character:  0\n",
            "unicode value:  48\n",
            "character:  1\n",
            "unicode value:  49\n",
            "character:  2\n",
            "unicode value:  50\n",
            "character:  3\n",
            "unicode value:  51\n",
            "character:  4\n",
            "unicode value:  52\n",
            "character:  5\n",
            "unicode value:  53\n",
            "character:  6\n",
            "unicode value:  54\n",
            "character:  7\n",
            "unicode value:  55\n",
            "character:  8\n",
            "unicode value:  56\n",
            "character:  9\n",
            "unicode value:  57\n"
          ]
        }
      ],
      "source": [
        "alphaNumeric_string = \"abcdefghxyzABCDEFGHXYZ0123456789\"\n",
        "\n",
        "for c in alphaNumeric_string:\n",
        "  print(\"character: \", c)\n",
        "  print(\"unicode value: \", ord(c))"
      ]
    },
    {
      "cell_type": "code",
      "execution_count": null,
      "metadata": {
        "colab": {
          "base_uri": "https://localhost:8080/"
        },
        "id": "PiavFHpDTKkf",
        "outputId": "83feb82c-1373-4f78-a7f2-a9936f36ff1a"
      },
      "outputs": [
        {
          "name": "stdout",
          "output_type": "stream",
          "text": [
            "English Unicode\n",
            "Character:  V\n",
            "Unicode:  86\n",
            "Character:  I\n",
            "Unicode:  73\n",
            "Character:  R\n",
            "Unicode:  82\n",
            "Character:  A\n",
            "Unicode:  65\n",
            "Character:  T\n",
            "Unicode:  84\n",
            "Character:   \n",
            "Unicode:  32\n",
            "Character:  K\n",
            "Unicode:  75\n",
            "Character:  O\n",
            "Unicode:  79\n",
            "Character:  H\n",
            "Unicode:  72\n",
            "Character:  L\n",
            "Unicode:  76\n",
            "Character:  I\n",
            "Unicode:  73\n",
            "Tamil Unicode\n",
            "Character:  வ\n",
            "Unicode:  2997\n",
            "Character:  ி\n",
            "Unicode:  3007\n",
            "Character:  ர\n",
            "Unicode:  2992\n",
            "Character:  ா\n",
            "Unicode:  3006\n",
            "Character:  ட\n",
            "Unicode:  2975\n",
            "Character:  ்\n",
            "Unicode:  3021\n",
            "Character:   \n",
            "Unicode:  32\n",
            "Character:  க\n",
            "Unicode:  2965\n",
            "Character:  ோ\n",
            "Unicode:  3019\n",
            "Character:  ல\n",
            "Unicode:  2994\n",
            "Character:  ி\n",
            "Unicode:  3007\n",
            "Hindi Unicode\n",
            "Character:  व\n",
            "Unicode:  2357\n",
            "Character:  ि\n",
            "Unicode:  2367\n",
            "Character:  र\n",
            "Unicode:  2352\n",
            "Character:  ा\n",
            "Unicode:  2366\n",
            "Character:  ट\n",
            "Unicode:  2335\n",
            "Character:   \n",
            "Unicode:  32\n",
            "Character:  क\n",
            "Unicode:  2325\n",
            "Character:  ो\n",
            "Unicode:  2379\n",
            "Character:  ह\n",
            "Unicode:  2361\n",
            "Character:  ल\n",
            "Unicode:  2354\n",
            "Character:  ी\n",
            "Unicode:  2368\n",
            "Chinese Unicode\n",
            "Character:  维\n",
            "Unicode:  32500\n",
            "Character:  拉\n",
            "Unicode:  25289\n",
            "Character:  ·\n",
            "Unicode:  183\n",
            "Character:  科\n",
            "Unicode:  31185\n",
            "Character:  利\n",
            "Unicode:  21033\n"
          ]
        }
      ],
      "source": [
        "english = \"VIRAT KOHLI\"\n",
        "\n",
        "tamil = \"விராட் கோலி\"\n",
        "\n",
        "hindi = \"विराट कोहली\"\n",
        "\n",
        "chinese = \"维拉·科利\"\n",
        "\n",
        "print(\"English Unicode\")\n",
        "for c in english:\n",
        "  print(\"Character: \", c)\n",
        "  print(\"Unicode: \", ord(c))\n",
        "\n",
        "print(\"Tamil Unicode\")\n",
        "for c in tamil:\n",
        "  print(\"Character: \", c)\n",
        "  print(\"Unicode: \", ord(c))\n",
        "\n",
        "print(\"Hindi Unicode\")\n",
        "for c in hindi:\n",
        "  print(\"Character: \", c)\n",
        "  print(\"Unicode: \", ord(c))\n",
        "\n",
        "\n",
        "print(\"Chinese Unicode\")\n",
        "for c in chinese:\n",
        "  print(\"Character: \", c)\n",
        "  print(\"Unicode: \", ord(c))"
      ]
    },
    {
      "cell_type": "code",
      "execution_count": null,
      "metadata": {
        "colab": {
          "base_uri": "https://localhost:8080/"
        },
        "id": "izuK3rLcUcaA",
        "outputId": "09f946fb-e44f-4251-9cf7-0d102d0edf2c"
      },
      "outputs": [
        {
          "name": "stdout",
          "output_type": "stream",
          "text": [
            "character:  V\n",
            "unicode value:  86\n",
            "hex value:  0x56\n",
            "character:  e\n",
            "unicode value:  101\n",
            "hex value:  0x65\n",
            "character:  n\n",
            "unicode value:  110\n",
            "hex value:  0x6e\n",
            "character:  k\n",
            "unicode value:  107\n",
            "hex value:  0x6b\n",
            "character:  y\n",
            "unicode value:  121\n",
            "hex value:  0x79\n"
          ]
        }
      ],
      "source": [
        "name = \"Venky\"\n",
        "\n",
        "for c in name:\n",
        "  print(\"character: \",c)\n",
        "  print(\"unicode value: \", ord(c))\n",
        "  print(\"hex value: \",hex(ord(c)))"
      ]
    },
    {
      "cell_type": "code",
      "execution_count": null,
      "metadata": {
        "colab": {
          "base_uri": "https://localhost:8080/",
          "height": 144
        },
        "id": "iAL8LLPoVzhd",
        "outputId": "b153f23a-8eeb-4c04-a29f-de6c9815b72a"
      },
      "outputs": [
        {
          "ename": "ValueError",
          "evalue": "invalid literal for int() with base 10: 'a'",
          "output_type": "error",
          "traceback": [
            "\u001b[0;31m---------------------------------------------------------------------------\u001b[0m",
            "\u001b[0;31mValueError\u001b[0m                                Traceback (most recent call last)",
            "\u001b[0;32m<ipython-input-24-799c1a5d9e66>\u001b[0m in \u001b[0;36m<cell line: 1>\u001b[0;34m()\u001b[0m\n\u001b[0;32m----> 1\u001b[0;31m \u001b[0mprint\u001b[0m\u001b[0;34m(\u001b[0m\u001b[0mint\u001b[0m\u001b[0;34m(\u001b[0m\u001b[0;34m'\\x61'\u001b[0m\u001b[0;34m)\u001b[0m\u001b[0;34m)\u001b[0m\u001b[0;34m\u001b[0m\u001b[0;34m\u001b[0m\u001b[0m\n\u001b[0m",
            "\u001b[0;31mValueError\u001b[0m: invalid literal for int() with base 10: 'a'"
          ]
        }
      ],
      "source": [
        "print(int('\\x61'))"
      ]
    },
    {
      "cell_type": "code",
      "execution_count": null,
      "metadata": {
        "colab": {
          "base_uri": "https://localhost:8080/"
        },
        "id": "jVtblndKV5kd",
        "outputId": "d61f7399-1527-4018-a7c4-c74d0e9da0db"
      },
      "outputs": [
        {
          "name": "stdout",
          "output_type": "stream",
          "text": [
            "e\n"
          ]
        }
      ],
      "source": [
        "print('\\x65')"
      ]
    },
    {
      "cell_type": "markdown",
      "metadata": {
        "id": "xJkLQYs3Y05B"
      },
      "source": [
        "### **Conditional Statements**\n",
        "\n",
        "**if**\n",
        "\n",
        "**elif**\n",
        "\n",
        "**else**"
      ]
    },
    {
      "cell_type": "code",
      "execution_count": null,
      "metadata": {
        "id": "a1kMcBGQY9Ky"
      },
      "outputs": [],
      "source": [
        "if <condition>:\n",
        "  # code if the condition is satisfied\n"
      ]
    },
    {
      "cell_type": "code",
      "execution_count": null,
      "metadata": {
        "colab": {
          "base_uri": "https://localhost:8080/"
        },
        "id": "t42DosKLZsaw",
        "outputId": "31e85c16-399e-4636-dbd3-58462ae09f30"
      },
      "outputs": [
        {
          "name": "stdout",
          "output_type": "stream",
          "text": [
            "Money from father: 10\n",
            "Condition is failed, comes out if statement\n"
          ]
        }
      ],
      "source": [
        "rupees = int(input(\"Money from father: \"))\n",
        "\n",
        "if rupees>=80:\n",
        "  print(\"Buy Diary Milk Silk\")\n",
        "  print(\"Buy Milk for remaining rupees\")\n",
        "\n",
        "print(\"Condition is failed, comes out if statement\")"
      ]
    },
    {
      "cell_type": "code",
      "execution_count": null,
      "metadata": {
        "colab": {
          "base_uri": "https://localhost:8080/"
        },
        "id": "404VOQbfbLFf",
        "outputId": "1cee456b-5a54-4886-da2f-b57524bb5d36"
      },
      "outputs": [
        {
          "name": "stdout",
          "output_type": "stream",
          "text": [
            "Enter your gate marks: 50\n",
            "You have cleared the GATE Exam\n",
            "comes out of if and else\n"
          ]
        }
      ],
      "source": [
        "gate_score = int(input(\"Enter your gate marks: \"))\n",
        "\n",
        "if gate_score>=40:\n",
        "  print(\"You have cleared the GATE Exam\")\n",
        "else:\n",
        "  print(\"Its Unfortunate this year, better luck next time\")\n",
        "\n",
        "print(\"comes out of if and else\")\n"
      ]
    },
    {
      "cell_type": "code",
      "execution_count": null,
      "metadata": {
        "colab": {
          "base_uri": "https://localhost:8080/"
        },
        "id": "gj6v3sjmb2Qb",
        "outputId": "6f05fdfb-47d8-4955-e22f-45f0d19e07ee"
      },
      "outputs": [
        {
          "name": "stdout",
          "output_type": "stream",
          "text": [
            "Enter your gate marks: 35\n",
            "Its Unfortunate this year, better luck next time\n",
            "comes out of if and else\n"
          ]
        }
      ],
      "source": [
        "gate_score = int(input(\"Enter your gate marks: \"))\n",
        "\n",
        "if gate_score>=40:\n",
        "  print(\"You have cleared the GATE Exam\")\n",
        "else:\n",
        "  print(\"Its Unfortunate this year, better luck next time\")\n",
        "\n",
        "print(\"comes out of if and else\")"
      ]
    },
    {
      "cell_type": "code",
      "execution_count": null,
      "metadata": {
        "colab": {
          "base_uri": "https://localhost:8080/"
        },
        "id": "kqhD_xA4cCqR",
        "outputId": "348516e5-7c2b-45b7-a2b3-02191b3f0999"
      },
      "outputs": [
        {
          "name": "stdout",
          "output_type": "stream",
          "text": [
            "Grade S\n"
          ]
        }
      ],
      "source": [
        "marks = 92\n",
        "\n",
        "if marks>=90:\n",
        "  print(\"Grade S\")\n",
        "elif 80<=marks<90:\n",
        "  print(\"Grade A\")\n",
        "elif 70<=marks<80:\n",
        "  print(\"Grade B\")\n",
        "else:\n",
        "  print(\"Grade D\")"
      ]
    },
    {
      "cell_type": "code",
      "execution_count": null,
      "metadata": {
        "colab": {
          "base_uri": "https://localhost:8080/"
        },
        "id": "w2nY-zwuc-jd",
        "outputId": "210ca785-306c-459b-ef65-de3494e7f933"
      },
      "outputs": [
        {
          "name": "stdout",
          "output_type": "stream",
          "text": [
            "Grade A\n"
          ]
        }
      ],
      "source": [
        "marks = 86\n",
        "\n",
        "if marks>=90:\n",
        "  print(\"Grade S\")\n",
        "elif 80<=marks<90:\n",
        "  print(\"Grade A\")\n",
        "elif 70<=marks<80:\n",
        "  print(\"Grade B\")\n",
        "else:\n",
        "  print(\"Grade D\")"
      ]
    },
    {
      "cell_type": "code",
      "execution_count": null,
      "metadata": {
        "colab": {
          "base_uri": "https://localhost:8080/"
        },
        "id": "fojjmrfKdJCt",
        "outputId": "4e0c3a86-d3bd-4405-a33d-d1d8f8860fdd"
      },
      "outputs": [
        {
          "name": "stdout",
          "output_type": "stream",
          "text": [
            "Grade B\n"
          ]
        }
      ],
      "source": [
        "marks = 72\n",
        "\n",
        "if marks>=90:\n",
        "  print(\"Grade S\")\n",
        "elif 80<=marks<90:\n",
        "  print(\"Grade A\")\n",
        "elif 70<=marks<80:\n",
        "  print(\"Grade B\")\n",
        "else:\n",
        "  print(\"Grade D\")"
      ]
    },
    {
      "cell_type": "code",
      "execution_count": null,
      "metadata": {
        "colab": {
          "base_uri": "https://localhost:8080/"
        },
        "id": "F3wh19I1dM_T",
        "outputId": "6399c9aa-16b4-425f-cc36-da4d1843fe1f"
      },
      "outputs": [
        {
          "name": "stdout",
          "output_type": "stream",
          "text": [
            "Grade D\n"
          ]
        }
      ],
      "source": [
        "marks = 24\n",
        "\n",
        "if marks>=90:\n",
        "  print(\"Grade S\")\n",
        "elif 80<=marks<90:\n",
        "  print(\"Grade A\")\n",
        "elif 70<=marks<80:\n",
        "  print(\"Grade B\")\n",
        "else:\n",
        "  print(\"Grade D\")"
      ]
    },
    {
      "cell_type": "code",
      "execution_count": null,
      "metadata": {
        "colab": {
          "base_uri": "https://localhost:8080/"
        },
        "id": "FTsbVTIadRmG",
        "outputId": "50a8f446-ff3f-409e-b0bf-327230b532d0"
      },
      "outputs": [
        {
          "name": "stdout",
          "output_type": "stream",
          "text": [
            "Grade B\n",
            "came out of conditional statement\n"
          ]
        }
      ],
      "source": [
        "marks = 60\n",
        "\n",
        "if marks>=90:\n",
        "  print(\"Grade S\")\n",
        "elif marks>=80:\n",
        "  print(\"Grade A\")\n",
        "  print('1')\n",
        "  print('2')\n",
        "elif marks>=60:\n",
        "  print(\"Grade B\")\n",
        "else:\n",
        "  print(\"Grade D\")\n",
        "\n",
        "print(\"came out of conditional statement\")"
      ]
    },
    {
      "cell_type": "markdown",
      "metadata": {
        "id": "LwZj0JiXfD7G"
      },
      "source": [
        "**Nested if**"
      ]
    },
    {
      "cell_type": "code",
      "execution_count": null,
      "metadata": {
        "colab": {
          "background_save": true
        },
        "id": "h_Gk-bNIfFq_",
        "outputId": "2d41567c-5e97-4d80-ef00-a99c28be0eea"
      },
      "outputs": [
        {
          "ename": "KeyboardInterrupt",
          "evalue": "Interrupted by user",
          "output_type": "error",
          "traceback": [
            "\u001b[0;31m---------------------------------------------------------------------------\u001b[0m",
            "\u001b[0;31mKeyboardInterrupt\u001b[0m                         Traceback (most recent call last)",
            "\u001b[0;32m<ipython-input-48-38531a6ce3ed>\u001b[0m in \u001b[0;36m<cell line: 1>\u001b[0;34m()\u001b[0m\n\u001b[0;32m----> 1\u001b[0;31m \u001b[0mscores\u001b[0m \u001b[0;34m=\u001b[0m \u001b[0mint\u001b[0m\u001b[0;34m(\u001b[0m\u001b[0minput\u001b[0m\u001b[0;34m(\u001b[0m\u001b[0;34m\"Enter your batting score: \"\u001b[0m\u001b[0;34m)\u001b[0m\u001b[0;34m)\u001b[0m\u001b[0;34m\u001b[0m\u001b[0;34m\u001b[0m\u001b[0m\n\u001b[0m\u001b[1;32m      2\u001b[0m \u001b[0;34m\u001b[0m\u001b[0m\n\u001b[1;32m      3\u001b[0m \u001b[0;32mif\u001b[0m \u001b[0mscores\u001b[0m\u001b[0;34m>=\u001b[0m\u001b[0;36m90\u001b[0m\u001b[0;34m:\u001b[0m\u001b[0;34m\u001b[0m\u001b[0;34m\u001b[0m\u001b[0m\n\u001b[1;32m      4\u001b[0m   \u001b[0;32mif\u001b[0m \u001b[0mscores\u001b[0m\u001b[0;34m>\u001b[0m\u001b[0;36m100\u001b[0m\u001b[0;34m:\u001b[0m\u001b[0;34m\u001b[0m\u001b[0;34m\u001b[0m\u001b[0m\n\u001b[1;32m      5\u001b[0m     \u001b[0mprint\u001b[0m\u001b[0;34m(\u001b[0m\u001b[0;34m\"Wow, thats a fabulous performance\"\u001b[0m\u001b[0;34m)\u001b[0m\u001b[0;34m\u001b[0m\u001b[0;34m\u001b[0m\u001b[0m\n",
            "\u001b[0;32m/usr/local/lib/python3.10/dist-packages/ipykernel/kernelbase.py\u001b[0m in \u001b[0;36mraw_input\u001b[0;34m(self, prompt)\u001b[0m\n\u001b[1;32m    849\u001b[0m                 \u001b[0;34m\"raw_input was called, but this frontend does not support input requests.\"\u001b[0m\u001b[0;34m\u001b[0m\u001b[0;34m\u001b[0m\u001b[0m\n\u001b[1;32m    850\u001b[0m             )\n\u001b[0;32m--> 851\u001b[0;31m         return self._input_request(str(prompt),\n\u001b[0m\u001b[1;32m    852\u001b[0m             \u001b[0mself\u001b[0m\u001b[0;34m.\u001b[0m\u001b[0m_parent_ident\u001b[0m\u001b[0;34m,\u001b[0m\u001b[0;34m\u001b[0m\u001b[0;34m\u001b[0m\u001b[0m\n\u001b[1;32m    853\u001b[0m             \u001b[0mself\u001b[0m\u001b[0;34m.\u001b[0m\u001b[0m_parent_header\u001b[0m\u001b[0;34m,\u001b[0m\u001b[0;34m\u001b[0m\u001b[0;34m\u001b[0m\u001b[0m\n",
            "\u001b[0;32m/usr/local/lib/python3.10/dist-packages/ipykernel/kernelbase.py\u001b[0m in \u001b[0;36m_input_request\u001b[0;34m(self, prompt, ident, parent, password)\u001b[0m\n\u001b[1;32m    893\u001b[0m             \u001b[0;32mexcept\u001b[0m \u001b[0mKeyboardInterrupt\u001b[0m\u001b[0;34m:\u001b[0m\u001b[0;34m\u001b[0m\u001b[0;34m\u001b[0m\u001b[0m\n\u001b[1;32m    894\u001b[0m                 \u001b[0;31m# re-raise KeyboardInterrupt, to truncate traceback\u001b[0m\u001b[0;34m\u001b[0m\u001b[0;34m\u001b[0m\u001b[0m\n\u001b[0;32m--> 895\u001b[0;31m                 \u001b[0;32mraise\u001b[0m \u001b[0mKeyboardInterrupt\u001b[0m\u001b[0;34m(\u001b[0m\u001b[0;34m\"Interrupted by user\"\u001b[0m\u001b[0;34m)\u001b[0m \u001b[0;32mfrom\u001b[0m \u001b[0;32mNone\u001b[0m\u001b[0;34m\u001b[0m\u001b[0;34m\u001b[0m\u001b[0m\n\u001b[0m\u001b[1;32m    896\u001b[0m             \u001b[0;32mexcept\u001b[0m \u001b[0mException\u001b[0m \u001b[0;32mas\u001b[0m \u001b[0me\u001b[0m\u001b[0;34m:\u001b[0m\u001b[0;34m\u001b[0m\u001b[0;34m\u001b[0m\u001b[0m\n\u001b[1;32m    897\u001b[0m                 \u001b[0mself\u001b[0m\u001b[0;34m.\u001b[0m\u001b[0mlog\u001b[0m\u001b[0;34m.\u001b[0m\u001b[0mwarning\u001b[0m\u001b[0;34m(\u001b[0m\u001b[0;34m\"Invalid Message:\"\u001b[0m\u001b[0;34m,\u001b[0m \u001b[0mexc_info\u001b[0m\u001b[0;34m=\u001b[0m\u001b[0;32mTrue\u001b[0m\u001b[0;34m)\u001b[0m\u001b[0;34m\u001b[0m\u001b[0;34m\u001b[0m\u001b[0m\n",
            "\u001b[0;31mKeyboardInterrupt\u001b[0m: Interrupted by user"
          ]
        }
      ],
      "source": [
        "scores = int(input(\"Enter your batting score: \"))\n",
        "\n",
        "if scores>=90:\n",
        "  if scores>100:\n",
        "    print(\"Wow, thats a fabulous performance\")\n",
        "    print(\"Man of the match to u\")\n",
        "  else:\n",
        "    print(\"Unfortunate, you missed a century\")\n",
        "else:\n",
        "  print(\"Score less than 90\")\n"
      ]
    }
  ],
  "metadata": {
    "colab": {
      "provenance": []
    },
    "kernelspec": {
      "display_name": "Python 3",
      "name": "python3"
    },
    "language_info": {
      "name": "python"
    }
  },
  "nbformat": 4,
  "nbformat_minor": 0
}
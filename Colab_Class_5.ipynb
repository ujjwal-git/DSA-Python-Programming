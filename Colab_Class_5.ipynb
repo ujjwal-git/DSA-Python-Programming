{
  "nbformat": 4,
  "nbformat_minor": 0,
  "metadata": {
    "colab": {
      "provenance": []
    },
    "kernelspec": {
      "name": "python3",
      "display_name": "Python 3"
    },
    "language_info": {
      "name": "python"
    }
  },
  "cells": [
    {
      "cell_type": "markdown",
      "source": [
        "**Operators**"
      ],
      "metadata": {
        "id": "Cab8XhKCxBM0"
      }
    },
    {
      "cell_type": "markdown",
      "source": [
        "**Assignment Operators**"
      ],
      "metadata": {
        "id": "FGu78gpz1NgZ"
      }
    },
    {
      "cell_type": "code",
      "source": [
        "a = 10\n",
        "\n",
        "print(a)"
      ],
      "metadata": {
        "colab": {
          "base_uri": "https://localhost:8080/"
        },
        "id": "nNGkVak5xrJ7",
        "outputId": "ce6de5fe-4440-46a8-fb40-c8d435cfb673"
      },
      "execution_count": null,
      "outputs": [
        {
          "output_type": "stream",
          "name": "stdout",
          "text": [
            "10\n"
          ]
        }
      ]
    },
    {
      "cell_type": "code",
      "source": [
        "b = 5\n",
        "\n",
        "a = b\n",
        "\n",
        "print(a)"
      ],
      "metadata": {
        "colab": {
          "base_uri": "https://localhost:8080/"
        },
        "id": "ryTOfb881UAF",
        "outputId": "edadc4f1-69f4-4159-bee3-899dcd8d62ce"
      },
      "execution_count": null,
      "outputs": [
        {
          "output_type": "stream",
          "name": "stdout",
          "text": [
            "5\n"
          ]
        }
      ]
    },
    {
      "cell_type": "code",
      "source": [
        "c = 10\n",
        "\n",
        "c += 12 # c = c+12\n",
        "\n",
        "print(c)"
      ],
      "metadata": {
        "colab": {
          "base_uri": "https://localhost:8080/"
        },
        "id": "dOPIuu_w1b18",
        "outputId": "fb8709bf-c4c5-42c8-fd2e-d85ed349f80a"
      },
      "execution_count": null,
      "outputs": [
        {
          "output_type": "stream",
          "name": "stdout",
          "text": [
            "22\n"
          ]
        }
      ]
    },
    {
      "cell_type": "code",
      "source": [
        "d = 20\n",
        "\n",
        "d -= 7 # d = d-7\n",
        "\n",
        "print(d)"
      ],
      "metadata": {
        "colab": {
          "base_uri": "https://localhost:8080/"
        },
        "id": "25OPJTDv1mET",
        "outputId": "ddc669e0-9d50-41de-cd2c-1dfeb969a8f3"
      },
      "execution_count": null,
      "outputs": [
        {
          "output_type": "stream",
          "name": "stdout",
          "text": [
            "13\n"
          ]
        }
      ]
    },
    {
      "cell_type": "code",
      "source": [
        "e = 100\n",
        "\n",
        "e *= 2 # e = e*2 , 100*2 = 200\n",
        "print(e)\n",
        "\n",
        "e /= 5 # e = e/5, 200/5 = 40.0\n",
        "\n",
        "print(e)"
      ],
      "metadata": {
        "colab": {
          "base_uri": "https://localhost:8080/"
        },
        "id": "kugQjGa-1vYL",
        "outputId": "cee6de78-fc4c-4bd8-a998-ffefb9ddfe6a"
      },
      "execution_count": null,
      "outputs": [
        {
          "output_type": "stream",
          "name": "stdout",
          "text": [
            "200\n",
            "40.0\n"
          ]
        }
      ]
    },
    {
      "cell_type": "code",
      "source": [
        "f = 14\n",
        "\n",
        "f %= 5 # f = f%5\n",
        "\n",
        "print(f)"
      ],
      "metadata": {
        "colab": {
          "base_uri": "https://localhost:8080/"
        },
        "id": "jTy1tmpk2AnO",
        "outputId": "189fbd6a-9527-49ce-f172-fe0a8b74c77e"
      },
      "execution_count": null,
      "outputs": [
        {
          "output_type": "stream",
          "name": "stdout",
          "text": [
            "4\n"
          ]
        }
      ]
    },
    {
      "cell_type": "code",
      "source": [
        "g = 12\n",
        "g //= 5\n",
        "\n",
        "print(g)"
      ],
      "metadata": {
        "colab": {
          "base_uri": "https://localhost:8080/"
        },
        "id": "vHkO_zhV2Kzr",
        "outputId": "7cdb1ee7-799f-4b46-b4b5-f6713d480d68"
      },
      "execution_count": null,
      "outputs": [
        {
          "output_type": "stream",
          "name": "stdout",
          "text": [
            "2\n"
          ]
        }
      ]
    },
    {
      "cell_type": "markdown",
      "source": [
        "**Bitwise Operators**"
      ],
      "metadata": {
        "id": "NE949lAY4kBP"
      }
    },
    {
      "cell_type": "code",
      "source": [
        "14 & 21"
      ],
      "metadata": {
        "colab": {
          "base_uri": "https://localhost:8080/"
        },
        "id": "zNlEA9ij4mOJ",
        "outputId": "c4911735-3113-41c3-ce51-7682e771be59"
      },
      "execution_count": null,
      "outputs": [
        {
          "output_type": "execute_result",
          "data": {
            "text/plain": [
              "4"
            ]
          },
          "metadata": {},
          "execution_count": 11
        }
      ]
    },
    {
      "cell_type": "code",
      "source": [
        "bin(14)"
      ],
      "metadata": {
        "colab": {
          "base_uri": "https://localhost:8080/",
          "height": 36
        },
        "id": "sUXRoCTJ4wTZ",
        "outputId": "15015010-4ef9-498e-f4ca-078ed8b10efc"
      },
      "execution_count": null,
      "outputs": [
        {
          "output_type": "execute_result",
          "data": {
            "text/plain": [
              "'0b1110'"
            ],
            "application/vnd.google.colaboratory.intrinsic+json": {
              "type": "string"
            }
          },
          "metadata": {},
          "execution_count": 12
        }
      ]
    },
    {
      "cell_type": "code",
      "source": [
        "bin(21)"
      ],
      "metadata": {
        "colab": {
          "base_uri": "https://localhost:8080/",
          "height": 36
        },
        "id": "3FRQmeek4xog",
        "outputId": "fe4d0dd3-8bc9-4990-dca7-3e2ed9e780a5"
      },
      "execution_count": null,
      "outputs": [
        {
          "output_type": "execute_result",
          "data": {
            "text/plain": [
              "'0b10101'"
            ],
            "application/vnd.google.colaboratory.intrinsic+json": {
              "type": "string"
            }
          },
          "metadata": {},
          "execution_count": 13
        }
      ]
    },
    {
      "cell_type": "code",
      "source": [
        "14 | 21"
      ],
      "metadata": {
        "colab": {
          "base_uri": "https://localhost:8080/"
        },
        "id": "uQYics6c5xgW",
        "outputId": "b702eab9-bc58-45af-f291-20e74fd3e188"
      },
      "execution_count": null,
      "outputs": [
        {
          "output_type": "execute_result",
          "data": {
            "text/plain": [
              "31"
            ]
          },
          "metadata": {},
          "execution_count": 14
        }
      ]
    },
    {
      "cell_type": "code",
      "source": [
        "14 ^ 21"
      ],
      "metadata": {
        "colab": {
          "base_uri": "https://localhost:8080/"
        },
        "id": "45e6HAgJ6m4L",
        "outputId": "d3696f96-fc60-456f-e38a-caedb9bb2dd1"
      },
      "execution_count": null,
      "outputs": [
        {
          "output_type": "execute_result",
          "data": {
            "text/plain": [
              "27"
            ]
          },
          "metadata": {},
          "execution_count": 15
        }
      ]
    },
    {
      "cell_type": "code",
      "source": [
        "~13"
      ],
      "metadata": {
        "colab": {
          "base_uri": "https://localhost:8080/"
        },
        "id": "5ZVKX5PS7YoG",
        "outputId": "e0fa7d8e-de87-4226-c411-6738af9361e9"
      },
      "execution_count": null,
      "outputs": [
        {
          "output_type": "execute_result",
          "data": {
            "text/plain": [
              "-14"
            ]
          },
          "metadata": {},
          "execution_count": 16
        }
      ]
    },
    {
      "cell_type": "code",
      "source": [
        "~105"
      ],
      "metadata": {
        "colab": {
          "base_uri": "https://localhost:8080/"
        },
        "id": "m-LnNPW69lGE",
        "outputId": "5f18bf4b-47bc-4b86-e245-f5a730cf4644"
      },
      "execution_count": null,
      "outputs": [
        {
          "output_type": "execute_result",
          "data": {
            "text/plain": [
              "-106"
            ]
          },
          "metadata": {},
          "execution_count": 17
        }
      ]
    },
    {
      "cell_type": "code",
      "source": [
        "~-14"
      ],
      "metadata": {
        "colab": {
          "base_uri": "https://localhost:8080/"
        },
        "id": "QkthdtZf95OT",
        "outputId": "44640e06-8afa-4add-ce05-7952089bce81"
      },
      "execution_count": null,
      "outputs": [
        {
          "output_type": "execute_result",
          "data": {
            "text/plain": [
              "13"
            ]
          },
          "metadata": {},
          "execution_count": 18
        }
      ]
    },
    {
      "cell_type": "code",
      "source": [
        "~-1156"
      ],
      "metadata": {
        "colab": {
          "base_uri": "https://localhost:8080/"
        },
        "id": "nZ2dkHtx974F",
        "outputId": "46c3f3ef-9803-4bce-896e-34621524bae4"
      },
      "execution_count": null,
      "outputs": [
        {
          "output_type": "execute_result",
          "data": {
            "text/plain": [
              "1155"
            ]
          },
          "metadata": {},
          "execution_count": 19
        }
      ]
    },
    {
      "cell_type": "code",
      "source": [
        "~0"
      ],
      "metadata": {
        "colab": {
          "base_uri": "https://localhost:8080/"
        },
        "id": "pSqsEa2t-7Ph",
        "outputId": "a1e25aa2-3bee-45fc-e853-305f3ff064b6"
      },
      "execution_count": null,
      "outputs": [
        {
          "output_type": "execute_result",
          "data": {
            "text/plain": [
              "-1"
            ]
          },
          "metadata": {},
          "execution_count": 20
        }
      ]
    },
    {
      "cell_type": "markdown",
      "source": [
        "**Left Shift (<<)** & **Right Shift(>>)**"
      ],
      "metadata": {
        "id": "Qu41To09Bk4c"
      }
    },
    {
      "cell_type": "code",
      "source": [
        "print(10<<2)\n",
        "print(10>>2)"
      ],
      "metadata": {
        "colab": {
          "base_uri": "https://localhost:8080/"
        },
        "id": "7JMQ_ep3BtAY",
        "outputId": "2f736308-e29f-444b-aedf-f19dc6f385a9"
      },
      "execution_count": null,
      "outputs": [
        {
          "output_type": "stream",
          "name": "stdout",
          "text": [
            "40\n",
            "2\n"
          ]
        }
      ]
    },
    {
      "cell_type": "code",
      "source": [
        "print(120<<1)\n",
        "print(120<<2)\n",
        "print(120<<3)\n",
        "print(120<<4)"
      ],
      "metadata": {
        "colab": {
          "base_uri": "https://localhost:8080/"
        },
        "id": "MvcW16lbC57v",
        "outputId": "68c01a9c-69e6-4925-919a-6a9d372df039"
      },
      "execution_count": null,
      "outputs": [
        {
          "output_type": "stream",
          "name": "stdout",
          "text": [
            "240\n",
            "480\n",
            "960\n",
            "1920\n"
          ]
        }
      ]
    },
    {
      "cell_type": "code",
      "source": [
        "print(-120<<1)\n",
        "print(-120<<2)\n",
        "print(-120<<3)\n",
        "print(-120<<4)"
      ],
      "metadata": {
        "colab": {
          "base_uri": "https://localhost:8080/"
        },
        "id": "bqkdVDuqFr5G",
        "outputId": "841291af-27f8-40bf-c951-3a6bbe7bc912"
      },
      "execution_count": null,
      "outputs": [
        {
          "output_type": "stream",
          "name": "stdout",
          "text": [
            "-240\n",
            "-480\n",
            "-960\n",
            "-1920\n"
          ]
        }
      ]
    },
    {
      "cell_type": "code",
      "source": [
        "print(120>>1)\n",
        "print(120>>2)\n",
        "print(120>>3)\n",
        "print(120>>4)"
      ],
      "metadata": {
        "colab": {
          "base_uri": "https://localhost:8080/"
        },
        "id": "V_QNaq48DY8i",
        "outputId": "a060fac4-4999-47b8-d454-07628fd37210"
      },
      "execution_count": null,
      "outputs": [
        {
          "output_type": "stream",
          "name": "stdout",
          "text": [
            "60\n",
            "30\n",
            "15\n",
            "7\n"
          ]
        }
      ]
    },
    {
      "cell_type": "code",
      "source": [
        "print(-120>>1)\n",
        "print(-120>>2)\n",
        "print(-120>>3)\n",
        "print(-120>>4)"
      ],
      "metadata": {
        "colab": {
          "base_uri": "https://localhost:8080/"
        },
        "id": "2NUUswOpFdWB",
        "outputId": "d6dd1a6b-bbe5-4ba4-9e49-1e9dc87c94e6"
      },
      "execution_count": null,
      "outputs": [
        {
          "output_type": "stream",
          "name": "stdout",
          "text": [
            "-60\n",
            "-30\n",
            "-15\n",
            "-8\n"
          ]
        }
      ]
    },
    {
      "cell_type": "code",
      "source": [
        "120//(2**4)"
      ],
      "metadata": {
        "colab": {
          "base_uri": "https://localhost:8080/"
        },
        "id": "eJ1XVL0CDlqZ",
        "outputId": "f9349582-33f0-4374-f73f-414d8265d186"
      },
      "execution_count": null,
      "outputs": [
        {
          "output_type": "execute_result",
          "data": {
            "text/plain": [
              "7"
            ]
          },
          "metadata": {},
          "execution_count": 26
        }
      ]
    },
    {
      "cell_type": "markdown",
      "source": [
        "**Membership Operators**\n",
        "\n",
        "\"in\" & \"not in\""
      ],
      "metadata": {
        "id": "nK5_Ez-QF5Id"
      }
    },
    {
      "cell_type": "code",
      "source": [
        "players = [\"Kohli\", \"Ponting\", \"Clarke\"]\n",
        "\n",
        "print(\"Kohli\" in players)\n",
        "print(\"kohli\" in players)"
      ],
      "metadata": {
        "colab": {
          "base_uri": "https://localhost:8080/"
        },
        "id": "5GyjZIvbGC-Y",
        "outputId": "ce13f654-9d96-4e75-b478-83c2da559491"
      },
      "execution_count": null,
      "outputs": [
        {
          "output_type": "stream",
          "name": "stdout",
          "text": [
            "True\n",
            "False\n"
          ]
        }
      ]
    },
    {
      "cell_type": "code",
      "source": [
        "\"Rohit\" not in players"
      ],
      "metadata": {
        "colab": {
          "base_uri": "https://localhost:8080/"
        },
        "id": "HqWcCTm6GYEL",
        "outputId": "90b510ef-6545-4737-c619-ec5430b3f58a"
      },
      "execution_count": null,
      "outputs": [
        {
          "output_type": "execute_result",
          "data": {
            "text/plain": [
              "True"
            ]
          },
          "metadata": {},
          "execution_count": 31
        }
      ]
    },
    {
      "cell_type": "code",
      "source": [
        "\"Kohli\" not in players"
      ],
      "metadata": {
        "colab": {
          "base_uri": "https://localhost:8080/"
        },
        "id": "n-ZAeXKcGhmA",
        "outputId": "7513d23b-b9a7-4d10-c746-556e03a29ab9"
      },
      "execution_count": null,
      "outputs": [
        {
          "output_type": "execute_result",
          "data": {
            "text/plain": [
              "False"
            ]
          },
          "metadata": {},
          "execution_count": 32
        }
      ]
    },
    {
      "cell_type": "code",
      "source": [
        "k = set((6,2,3,5))\n",
        "print(k)\n",
        "2 in k"
      ],
      "metadata": {
        "colab": {
          "base_uri": "https://localhost:8080/"
        },
        "id": "8Y9PlgrsGqr3",
        "outputId": "52cc8993-1876-4c97-8e24-30603239fd48"
      },
      "execution_count": null,
      "outputs": [
        {
          "output_type": "stream",
          "name": "stdout",
          "text": [
            "{2, 3, 5, 6}\n"
          ]
        },
        {
          "output_type": "execute_result",
          "data": {
            "text/plain": [
              "True"
            ]
          },
          "metadata": {},
          "execution_count": 38
        }
      ]
    },
    {
      "cell_type": "code",
      "source": [
        "\"2\" in k"
      ],
      "metadata": {
        "colab": {
          "base_uri": "https://localhost:8080/"
        },
        "id": "-_BC-Zz1Gwtq",
        "outputId": "3242d341-d544-42b6-a79e-3da2ee4d0dc0"
      },
      "execution_count": null,
      "outputs": [
        {
          "output_type": "execute_result",
          "data": {
            "text/plain": [
              "False"
            ]
          },
          "metadata": {},
          "execution_count": 35
        }
      ]
    },
    {
      "cell_type": "code",
      "source": [
        "2.0 in k"
      ],
      "metadata": {
        "colab": {
          "base_uri": "https://localhost:8080/"
        },
        "id": "Zb1aP-VcG2TY",
        "outputId": "8fcef86f-d05f-486c-e80a-73d922d3e987"
      },
      "execution_count": null,
      "outputs": [
        {
          "output_type": "execute_result",
          "data": {
            "text/plain": [
              "True"
            ]
          },
          "metadata": {},
          "execution_count": 36
        }
      ]
    },
    {
      "cell_type": "code",
      "source": [
        "True in k"
      ],
      "metadata": {
        "colab": {
          "base_uri": "https://localhost:8080/"
        },
        "id": "VyYJ4L9pG8j-",
        "outputId": "63d0e23b-f9da-4a28-c11d-a4b8e55a8521"
      },
      "execution_count": null,
      "outputs": [
        {
          "output_type": "execute_result",
          "data": {
            "text/plain": [
              "False"
            ]
          },
          "metadata": {},
          "execution_count": 39
        }
      ]
    },
    {
      "cell_type": "code",
      "source": [
        "k = set()\n",
        "\n",
        "True in k"
      ],
      "metadata": {
        "colab": {
          "base_uri": "https://localhost:8080/"
        },
        "id": "IZ0Gqk4pHQKq",
        "outputId": "f568e75e-dd17-4bf2-f4f9-c1878df3d6d2"
      },
      "execution_count": null,
      "outputs": [
        {
          "output_type": "execute_result",
          "data": {
            "text/plain": [
              "False"
            ]
          },
          "metadata": {},
          "execution_count": 41
        }
      ]
    },
    {
      "cell_type": "code",
      "source": [
        "statement = \"Virat is best ODI    player in this era\"\n",
        "\n",
        "\"   player\" in statement"
      ],
      "metadata": {
        "colab": {
          "base_uri": "https://localhost:8080/"
        },
        "id": "gkLDn7b6HbMm",
        "outputId": "4983b085-753e-445a-88b8-92279bead340"
      },
      "execution_count": null,
      "outputs": [
        {
          "output_type": "execute_result",
          "data": {
            "text/plain": [
              "True"
            ]
          },
          "metadata": {},
          "execution_count": 48
        }
      ]
    },
    {
      "cell_type": "markdown",
      "source": [
        "**Identity Operators**\n",
        "\n",
        "\"is\" & \"is not\""
      ],
      "metadata": {
        "id": "gPmQkqfZH-Vj"
      }
    },
    {
      "cell_type": "code",
      "source": [
        "l1 = [1,2,3,4,5]\n",
        "l2 = [1,2,3,4,5]\n",
        "\n",
        "print(id(l1))\n",
        "print(id(l2))\n",
        "\n",
        "l3 = l1\n",
        "print(id(l3))\n",
        "\n",
        "print(l2 is l1)\n",
        "print(l3 is l1)\n",
        "print(l1 is l3)\n",
        "print(l2 is not l1)\n",
        "print(l1 is not l2)"
      ],
      "metadata": {
        "colab": {
          "base_uri": "https://localhost:8080/"
        },
        "id": "-oObyFtjH9pq",
        "outputId": "9c55e619-af2a-45b6-a709-41c94509c4b4"
      },
      "execution_count": null,
      "outputs": [
        {
          "output_type": "stream",
          "name": "stdout",
          "text": [
            "133869667189120\n",
            "133869667191040\n",
            "133869667189120\n",
            "False\n",
            "True\n",
            "True\n",
            "True\n",
            "True\n"
          ]
        }
      ]
    },
    {
      "cell_type": "code",
      "source": [
        "l1 = (1,2,3,4,5)\n",
        "l2 = (1,2,3,4,5)\n",
        "\n",
        "print(id(l1))\n",
        "print(id(l2))\n",
        "\n",
        "l3 = l1\n",
        "print(id(l3))\n",
        "\n",
        "print(l2 is l1)\n",
        "print(l3 is l1)\n",
        "print(l1 is l3)\n",
        "print(l2 is not l1)\n",
        "print(l1 is not l2)"
      ],
      "metadata": {
        "colab": {
          "base_uri": "https://localhost:8080/"
        },
        "id": "LtVC9mI1JcYH",
        "outputId": "9f2db138-40fa-4831-e6da-acc096a751f3"
      },
      "execution_count": null,
      "outputs": [
        {
          "output_type": "stream",
          "name": "stdout",
          "text": [
            "133869667144928\n",
            "133869668244256\n",
            "133869667144928\n",
            "False\n",
            "True\n",
            "True\n",
            "True\n",
            "True\n"
          ]
        }
      ]
    },
    {
      "cell_type": "code",
      "source": [
        "print(l1 is not l3)"
      ],
      "metadata": {
        "colab": {
          "base_uri": "https://localhost:8080/"
        },
        "id": "2sB-nutYIwEt",
        "outputId": "d333a1fa-3d4a-4a44-b911-39dd1b8c260f"
      },
      "execution_count": null,
      "outputs": [
        {
          "output_type": "stream",
          "name": "stdout",
          "text": [
            "False\n"
          ]
        }
      ]
    },
    {
      "cell_type": "code",
      "source": [
        "a = 1200\n",
        "b = 1200\n",
        "print(id(a))\n",
        "print(id(b))\n",
        "print(a is b)\n",
        "print(b is a)"
      ],
      "metadata": {
        "colab": {
          "base_uri": "https://localhost:8080/"
        },
        "id": "5o7qKuxEI1FF",
        "outputId": "50cb6dfb-5e78-48d6-d1a7-92394dbb596b"
      },
      "execution_count": null,
      "outputs": [
        {
          "output_type": "stream",
          "name": "stdout",
          "text": [
            "133869667116560\n",
            "133869667115824\n",
            "False\n",
            "False\n"
          ]
        }
      ]
    },
    {
      "cell_type": "markdown",
      "source": [
        "**Operator Precedence**"
      ],
      "metadata": {
        "id": "l6bGpVQNJpPt"
      }
    },
    {
      "cell_type": "code",
      "source": [
        "5+12*7/2-10"
      ],
      "metadata": {
        "colab": {
          "base_uri": "https://localhost:8080/"
        },
        "id": "a7zwlXgnJodU",
        "outputId": "cfd97de7-9461-453d-d054-cb4fe7860dd1"
      },
      "execution_count": null,
      "outputs": [
        {
          "output_type": "execute_result",
          "data": {
            "text/plain": [
              "37.0"
            ]
          },
          "metadata": {},
          "execution_count": 57
        }
      ]
    },
    {
      "cell_type": "code",
      "source": [
        "~-2"
      ],
      "metadata": {
        "id": "RID_-lmnL4JP"
      },
      "execution_count": null,
      "outputs": []
    }
  ]
}
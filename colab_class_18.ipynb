{
  "nbformat": 4,
  "nbformat_minor": 0,
  "metadata": {
    "colab": {
      "provenance": []
    },
    "kernelspec": {
      "name": "python3",
      "display_name": "Python 3"
    },
    "language_info": {
      "name": "python"
    }
  },
  "cells": [
    {
      "cell_type": "markdown",
      "source": [
        "**Agenda**\n",
        "\n",
        "1. Functions (Examples)\n",
        "2. Global Variables vs Local Variables\n",
        "3. Nested Functions\n",
        "4. nonlocal variables\n",
        "5. Higher-Order Functions\n",
        "6. Anonymous Functions"
      ],
      "metadata": {
        "id": "VItPDPUupr12"
      }
    },
    {
      "cell_type": "code",
      "source": [
        "# Global variables vs Local Variables\n",
        "\n",
        "def func_a():\n",
        "  # local_variable\n",
        "  a = 100\n",
        "  print(\"Local Variable - a: \", a)\n",
        "\n",
        "func_a()\n",
        "print(\"Access Local Variable - a from outside the function: \", a)"
      ],
      "metadata": {
        "colab": {
          "base_uri": "https://localhost:8080/",
          "height": 198
        },
        "id": "UUgk_GRu1roM",
        "outputId": "a595de46-bc59-4a0a-d144-8ff5e0204b87"
      },
      "execution_count": 1,
      "outputs": [
        {
          "output_type": "stream",
          "name": "stdout",
          "text": [
            "Local Variable - a:  100\n"
          ]
        },
        {
          "output_type": "error",
          "ename": "NameError",
          "evalue": "name 'a' is not defined",
          "traceback": [
            "\u001b[0;31m---------------------------------------------------------------------------\u001b[0m",
            "\u001b[0;31mNameError\u001b[0m                                 Traceback (most recent call last)",
            "\u001b[0;32m<ipython-input-1-4ae613b354ff>\u001b[0m in \u001b[0;36m<cell line: 9>\u001b[0;34m()\u001b[0m\n\u001b[1;32m      7\u001b[0m \u001b[0;34m\u001b[0m\u001b[0m\n\u001b[1;32m      8\u001b[0m \u001b[0mfunc_a\u001b[0m\u001b[0;34m(\u001b[0m\u001b[0;34m)\u001b[0m\u001b[0;34m\u001b[0m\u001b[0;34m\u001b[0m\u001b[0m\n\u001b[0;32m----> 9\u001b[0;31m \u001b[0mprint\u001b[0m\u001b[0;34m(\u001b[0m\u001b[0;34m\"Access Local Variable - a from outside the function: \"\u001b[0m\u001b[0;34m,\u001b[0m \u001b[0ma\u001b[0m\u001b[0;34m)\u001b[0m\u001b[0;34m\u001b[0m\u001b[0;34m\u001b[0m\u001b[0m\n\u001b[0m",
            "\u001b[0;31mNameError\u001b[0m: name 'a' is not defined"
          ]
        }
      ]
    },
    {
      "cell_type": "code",
      "source": [
        "# global variable\n",
        "\n",
        "b = 100 # global variable\n",
        "\n",
        "def func_b():\n",
        "  print(\"Access Global Variable -b Inside Function: \", b)\n",
        "\n",
        "func_b()\n",
        "print(\"Access Global Variable - b Outside Function: \", b)\n",
        "\n",
        "def func_new():\n",
        "  print(\"Accessing b: \", b)\n",
        "\n",
        "func_new()"
      ],
      "metadata": {
        "colab": {
          "base_uri": "https://localhost:8080/"
        },
        "id": "_NCR7iRp27rR",
        "outputId": "1954e180-bd2a-4737-fccb-f498274e104e"
      },
      "execution_count": 2,
      "outputs": [
        {
          "output_type": "stream",
          "name": "stdout",
          "text": [
            "Access Global Variable -b Inside Function:  100\n",
            "Access Global Variable - b Outside Function:  100\n",
            "Accessing b:  100\n"
          ]
        }
      ]
    },
    {
      "cell_type": "code",
      "source": [
        "# global variable vs local variable\n",
        "\n",
        "def func_c():\n",
        "  c = 200 # treated as local variable\n",
        "  print(\"What will get printed: \",c)\n",
        "\n",
        "c = 1000\n",
        "print(\"Global Variable c : \", c)\n",
        "func_c()\n",
        "print(\"Global Variable c: \", c)"
      ],
      "metadata": {
        "colab": {
          "base_uri": "https://localhost:8080/"
        },
        "id": "8M47AGIM3-gM",
        "outputId": "886eb103-8c51-4e0e-8abf-b6c4d765c570"
      },
      "execution_count": 3,
      "outputs": [
        {
          "output_type": "stream",
          "name": "stdout",
          "text": [
            "Global Variable c :  1000\n",
            "What will get printed:  200\n",
            "Global Variable c:  1000\n"
          ]
        }
      ]
    },
    {
      "cell_type": "code",
      "source": [
        "# purpose of \"global\" keyword\n",
        "\n",
        "def func_d():\n",
        "  print(\"Global Variable d : \", d)\n",
        "  d += 500\n",
        "  print(\"Changing d inside the function: \",d)\n",
        "\n",
        "d = 1000\n",
        "print(\"Initializing d: -->\", d)\n",
        "d += 500\n",
        "print(\"Modifying d: -->\", d)\n",
        "func_d()\n",
        "print(\"Outside function, d changed to : \", d)"
      ],
      "metadata": {
        "colab": {
          "base_uri": "https://localhost:8080/",
          "height": 359
        },
        "id": "QS6f8zVq4hwB",
        "outputId": "b15eda9e-e793-41da-aa68-cde7e46d5f10"
      },
      "execution_count": 4,
      "outputs": [
        {
          "output_type": "stream",
          "name": "stdout",
          "text": [
            "Initializing d: --> 1000\n",
            "Modifying d: --> 1500\n"
          ]
        },
        {
          "output_type": "error",
          "ename": "UnboundLocalError",
          "evalue": "local variable 'd' referenced before assignment",
          "traceback": [
            "\u001b[0;31m---------------------------------------------------------------------------\u001b[0m",
            "\u001b[0;31mUnboundLocalError\u001b[0m                         Traceback (most recent call last)",
            "\u001b[0;32m<ipython-input-4-dfedef53094a>\u001b[0m in \u001b[0;36m<cell line: 12>\u001b[0;34m()\u001b[0m\n\u001b[1;32m     10\u001b[0m \u001b[0md\u001b[0m \u001b[0;34m+=\u001b[0m \u001b[0;36m500\u001b[0m\u001b[0;34m\u001b[0m\u001b[0;34m\u001b[0m\u001b[0m\n\u001b[1;32m     11\u001b[0m \u001b[0mprint\u001b[0m\u001b[0;34m(\u001b[0m\u001b[0;34m\"Modifying d: -->\"\u001b[0m\u001b[0;34m,\u001b[0m \u001b[0md\u001b[0m\u001b[0;34m)\u001b[0m\u001b[0;34m\u001b[0m\u001b[0;34m\u001b[0m\u001b[0m\n\u001b[0;32m---> 12\u001b[0;31m \u001b[0mfunc_d\u001b[0m\u001b[0;34m(\u001b[0m\u001b[0;34m)\u001b[0m\u001b[0;34m\u001b[0m\u001b[0;34m\u001b[0m\u001b[0m\n\u001b[0m\u001b[1;32m     13\u001b[0m \u001b[0mprint\u001b[0m\u001b[0;34m(\u001b[0m\u001b[0;34m\"Outside function, d changed to : \"\u001b[0m\u001b[0;34m,\u001b[0m \u001b[0md\u001b[0m\u001b[0;34m)\u001b[0m\u001b[0;34m\u001b[0m\u001b[0;34m\u001b[0m\u001b[0m\n",
            "\u001b[0;32m<ipython-input-4-dfedef53094a>\u001b[0m in \u001b[0;36mfunc_d\u001b[0;34m()\u001b[0m\n\u001b[1;32m      2\u001b[0m \u001b[0;34m\u001b[0m\u001b[0m\n\u001b[1;32m      3\u001b[0m \u001b[0;32mdef\u001b[0m \u001b[0mfunc_d\u001b[0m\u001b[0;34m(\u001b[0m\u001b[0;34m)\u001b[0m\u001b[0;34m:\u001b[0m\u001b[0;34m\u001b[0m\u001b[0;34m\u001b[0m\u001b[0m\n\u001b[0;32m----> 4\u001b[0;31m   \u001b[0mprint\u001b[0m\u001b[0;34m(\u001b[0m\u001b[0;34m\"Global Variable d : \"\u001b[0m\u001b[0;34m,\u001b[0m \u001b[0md\u001b[0m\u001b[0;34m)\u001b[0m\u001b[0;34m\u001b[0m\u001b[0;34m\u001b[0m\u001b[0m\n\u001b[0m\u001b[1;32m      5\u001b[0m   \u001b[0md\u001b[0m \u001b[0;34m+=\u001b[0m \u001b[0;36m500\u001b[0m\u001b[0;34m\u001b[0m\u001b[0;34m\u001b[0m\u001b[0m\n\u001b[1;32m      6\u001b[0m   \u001b[0mprint\u001b[0m\u001b[0;34m(\u001b[0m\u001b[0;34m\"Changing d inside the function: \"\u001b[0m\u001b[0;34m,\u001b[0m\u001b[0md\u001b[0m\u001b[0;34m)\u001b[0m\u001b[0;34m\u001b[0m\u001b[0;34m\u001b[0m\u001b[0m\n",
            "\u001b[0;31mUnboundLocalError\u001b[0m: local variable 'd' referenced before assignment"
          ]
        }
      ]
    },
    {
      "cell_type": "code",
      "source": [
        "def func_d(d):\n",
        "  print(\"Global Variable d : \", d)\n",
        "  d += 500\n",
        "  print(\"Changing d inside the function: \",d)\n",
        "\n",
        "d = 1000\n",
        "print(\"Initializing d: -->\", d)\n",
        "d += 500\n",
        "print(\"Modifying d: -->\", d)\n",
        "func_d(d)\n",
        "print(\"Outside function, d changed to : \", d)"
      ],
      "metadata": {
        "colab": {
          "base_uri": "https://localhost:8080/"
        },
        "id": "mpbNUhA35SpM",
        "outputId": "e8c5d4bd-5919-497c-f7c4-3fd65a8aa8a9"
      },
      "execution_count": 5,
      "outputs": [
        {
          "output_type": "stream",
          "name": "stdout",
          "text": [
            "Initializing d: --> 1000\n",
            "Modifying d: --> 1500\n",
            "Global Variable d :  1500\n",
            "Changing d inside the function:  2000\n",
            "Outside function, d changed to :  1500\n"
          ]
        }
      ]
    },
    {
      "cell_type": "code",
      "source": [
        "def func_d():\n",
        "  global d\n",
        "  print(\"Global Variable d : \", d)\n",
        "  d += 500\n",
        "  print(\"Changing d inside the function: \",d)\n",
        "\n",
        "d = 1000\n",
        "print(\"Initializing d: -->\", d)\n",
        "d += 500\n",
        "print(\"Modifying d: -->\", d)\n",
        "func_d()\n",
        "print(\"Outside function, d changed to : \", d)\n"
      ],
      "metadata": {
        "colab": {
          "base_uri": "https://localhost:8080/"
        },
        "id": "xfOqY5R66BFH",
        "outputId": "d5f7ad14-343f-403b-84d1-bd02e0896f28"
      },
      "execution_count": 6,
      "outputs": [
        {
          "output_type": "stream",
          "name": "stdout",
          "text": [
            "Initializing d: --> 1000\n",
            "Modifying d: --> 1500\n",
            "Global Variable d :  1500\n",
            "Changing d inside the function:  2000\n",
            "Outside function, d changed to :  2000\n"
          ]
        }
      ]
    },
    {
      "cell_type": "code",
      "source": [
        "def func_d():\n",
        "  print(\"Global Variable d : \", d)\n",
        "  d += 500\n",
        "  print(\"Changing d inside the function: \",d)\n",
        "\n",
        "d = 1000\n",
        "print(\"Initializing d: -->\", d)\n",
        "d += 500\n",
        "print(\"Modifying d: -->\", d)\n",
        "func_d()\n",
        "print(\"Outside function, d changed to : \", d)"
      ],
      "metadata": {
        "colab": {
          "base_uri": "https://localhost:8080/",
          "height": 359
        },
        "id": "pl19tFye6Xmt",
        "outputId": "eb6c1ea1-c12c-47a5-9e2f-6b6604bff1fb"
      },
      "execution_count": 7,
      "outputs": [
        {
          "output_type": "stream",
          "name": "stdout",
          "text": [
            "Initializing d: --> 1000\n",
            "Modifying d: --> 1500\n"
          ]
        },
        {
          "output_type": "error",
          "ename": "UnboundLocalError",
          "evalue": "local variable 'd' referenced before assignment",
          "traceback": [
            "\u001b[0;31m---------------------------------------------------------------------------\u001b[0m",
            "\u001b[0;31mUnboundLocalError\u001b[0m                         Traceback (most recent call last)",
            "\u001b[0;32m<ipython-input-7-d1c363b14b46>\u001b[0m in \u001b[0;36m<cell line: 10>\u001b[0;34m()\u001b[0m\n\u001b[1;32m      8\u001b[0m \u001b[0md\u001b[0m \u001b[0;34m+=\u001b[0m \u001b[0;36m500\u001b[0m\u001b[0;34m\u001b[0m\u001b[0;34m\u001b[0m\u001b[0m\n\u001b[1;32m      9\u001b[0m \u001b[0mprint\u001b[0m\u001b[0;34m(\u001b[0m\u001b[0;34m\"Modifying d: -->\"\u001b[0m\u001b[0;34m,\u001b[0m \u001b[0md\u001b[0m\u001b[0;34m)\u001b[0m\u001b[0;34m\u001b[0m\u001b[0;34m\u001b[0m\u001b[0m\n\u001b[0;32m---> 10\u001b[0;31m \u001b[0mfunc_d\u001b[0m\u001b[0;34m(\u001b[0m\u001b[0;34m)\u001b[0m\u001b[0;34m\u001b[0m\u001b[0;34m\u001b[0m\u001b[0m\n\u001b[0m\u001b[1;32m     11\u001b[0m \u001b[0mprint\u001b[0m\u001b[0;34m(\u001b[0m\u001b[0;34m\"Outside function, d changed to : \"\u001b[0m\u001b[0;34m,\u001b[0m \u001b[0md\u001b[0m\u001b[0;34m)\u001b[0m\u001b[0;34m\u001b[0m\u001b[0;34m\u001b[0m\u001b[0m\n",
            "\u001b[0;32m<ipython-input-7-d1c363b14b46>\u001b[0m in \u001b[0;36mfunc_d\u001b[0;34m()\u001b[0m\n\u001b[1;32m      1\u001b[0m \u001b[0;32mdef\u001b[0m \u001b[0mfunc_d\u001b[0m\u001b[0;34m(\u001b[0m\u001b[0;34m)\u001b[0m\u001b[0;34m:\u001b[0m\u001b[0;34m\u001b[0m\u001b[0;34m\u001b[0m\u001b[0m\n\u001b[0;32m----> 2\u001b[0;31m   \u001b[0mprint\u001b[0m\u001b[0;34m(\u001b[0m\u001b[0;34m\"Global Variable d : \"\u001b[0m\u001b[0;34m,\u001b[0m \u001b[0md\u001b[0m\u001b[0;34m)\u001b[0m\u001b[0;34m\u001b[0m\u001b[0;34m\u001b[0m\u001b[0m\n\u001b[0m\u001b[1;32m      3\u001b[0m   \u001b[0md\u001b[0m \u001b[0;34m+=\u001b[0m \u001b[0;36m500\u001b[0m\u001b[0;34m\u001b[0m\u001b[0;34m\u001b[0m\u001b[0m\n\u001b[1;32m      4\u001b[0m   \u001b[0mprint\u001b[0m\u001b[0;34m(\u001b[0m\u001b[0;34m\"Changing d inside the function: \"\u001b[0m\u001b[0;34m,\u001b[0m\u001b[0md\u001b[0m\u001b[0;34m)\u001b[0m\u001b[0;34m\u001b[0m\u001b[0;34m\u001b[0m\u001b[0m\n\u001b[1;32m      5\u001b[0m \u001b[0;34m\u001b[0m\u001b[0m\n",
            "\u001b[0;31mUnboundLocalError\u001b[0m: local variable 'd' referenced before assignment"
          ]
        }
      ]
    },
    {
      "cell_type": "code",
      "source": [
        "def func_d():\n",
        "  d = 1500\n",
        "  print(\"Local Variable d : \", d)\n",
        "  d += 500\n",
        "  print(\"Changing d inside the function: \",d)\n",
        "\n",
        "d = 1000\n",
        "print(\"Initializing d: -->\", d)\n",
        "d += 500\n",
        "print(\"Modifying d: -->\", d)\n",
        "func_d()\n",
        "print(\"Outside function, d changed to : \", d)"
      ],
      "metadata": {
        "colab": {
          "base_uri": "https://localhost:8080/"
        },
        "id": "iEcP7gQz6cfu",
        "outputId": "2d8b8fa1-e829-483b-e5c5-e30a3cdce2ac"
      },
      "execution_count": 8,
      "outputs": [
        {
          "output_type": "stream",
          "name": "stdout",
          "text": [
            "Initializing d: --> 1000\n",
            "Modifying d: --> 1500\n",
            "Local Variable d :  1500\n",
            "Changing d inside the function:  2000\n",
            "Outside function, d changed to :  1500\n"
          ]
        }
      ]
    },
    {
      "cell_type": "code",
      "source": [
        "def func_d():\n",
        "  e = d + 500\n",
        "  print(\"Changing d inside the function: \",d)\n",
        "  print(\"Creating a new variable e: \", e)\n",
        "\n",
        "d = 1000\n",
        "print(\"Initializing d: -->\", d)\n",
        "d += 500\n",
        "print(\"Modifying d: -->\", d)\n",
        "func_d()\n",
        "print(\"Outside function, d changed to : \", d)"
      ],
      "metadata": {
        "colab": {
          "base_uri": "https://localhost:8080/"
        },
        "id": "1kptboN08XB6",
        "outputId": "7337f2c2-aa3c-4f13-bddb-dfeea67dc5a8"
      },
      "execution_count": 10,
      "outputs": [
        {
          "output_type": "stream",
          "name": "stdout",
          "text": [
            "Initializing d: --> 1000\n",
            "Modifying d: --> 1500\n",
            "Changing d inside the function:  1500\n",
            "Creating a new variable e:  2000\n",
            "Outside function, d changed to :  1500\n"
          ]
        }
      ]
    },
    {
      "cell_type": "code",
      "source": [
        "# nested functions\n",
        "\n",
        "def func_outer():\n",
        "  # code block - outer func\n",
        "  x = 1000\n",
        "  y = 2000\n",
        "  def func_inner():\n",
        "    print(\"Accessing outer func variables: x -> {}, y ->{}\".format(x,y))\n",
        "  func_inner()\n",
        "\n",
        "func_outer()"
      ],
      "metadata": {
        "colab": {
          "base_uri": "https://localhost:8080/"
        },
        "id": "rwJaYiQH8Sfd",
        "outputId": "5daaecc5-c009-40d4-d7c5-54426993c0c8"
      },
      "execution_count": 11,
      "outputs": [
        {
          "output_type": "stream",
          "name": "stdout",
          "text": [
            "Accessing outer func variables: x -> 1000, y ->2000\n"
          ]
        }
      ]
    },
    {
      "cell_type": "code",
      "source": [
        "def func_outer():\n",
        "  # code block - outer func\n",
        "  x = 1000\n",
        "  y = 2000\n",
        "  def func_inner():\n",
        "    print(\"Accessing outer func variables: x -> {}, y ->{}\".format(x,y))\n",
        "\n",
        "func_outer()"
      ],
      "metadata": {
        "id": "U6nMkx869c_i"
      },
      "execution_count": 12,
      "outputs": []
    },
    {
      "cell_type": "code",
      "source": [
        "def func_outer():\n",
        "  # code block - outer func\n",
        "  x = 1000\n",
        "  y = 2000\n",
        "  def func_inner():\n",
        "    x += 10000\n",
        "    print(\"Accessing outer func variables: x -> {}, y ->{}\".format(x,y))\n",
        "  func_inner()\n",
        "\n",
        "func_outer()"
      ],
      "metadata": {
        "colab": {
          "base_uri": "https://localhost:8080/",
          "height": 329
        },
        "id": "mB9PJfpI93YZ",
        "outputId": "03113671-23eb-4a6f-d935-4ae8c48cebb8"
      },
      "execution_count": 13,
      "outputs": [
        {
          "output_type": "error",
          "ename": "UnboundLocalError",
          "evalue": "local variable 'x' referenced before assignment",
          "traceback": [
            "\u001b[0;31m---------------------------------------------------------------------------\u001b[0m",
            "\u001b[0;31mUnboundLocalError\u001b[0m                         Traceback (most recent call last)",
            "\u001b[0;32m<ipython-input-13-64229083808c>\u001b[0m in \u001b[0;36m<cell line: 10>\u001b[0;34m()\u001b[0m\n\u001b[1;32m      8\u001b[0m   \u001b[0mfunc_inner\u001b[0m\u001b[0;34m(\u001b[0m\u001b[0;34m)\u001b[0m\u001b[0;34m\u001b[0m\u001b[0;34m\u001b[0m\u001b[0m\n\u001b[1;32m      9\u001b[0m \u001b[0;34m\u001b[0m\u001b[0m\n\u001b[0;32m---> 10\u001b[0;31m \u001b[0mfunc_outer\u001b[0m\u001b[0;34m(\u001b[0m\u001b[0;34m)\u001b[0m\u001b[0;34m\u001b[0m\u001b[0;34m\u001b[0m\u001b[0m\n\u001b[0m",
            "\u001b[0;32m<ipython-input-13-64229083808c>\u001b[0m in \u001b[0;36mfunc_outer\u001b[0;34m()\u001b[0m\n\u001b[1;32m      6\u001b[0m     \u001b[0mx\u001b[0m \u001b[0;34m+=\u001b[0m \u001b[0;36m10000\u001b[0m\u001b[0;34m\u001b[0m\u001b[0;34m\u001b[0m\u001b[0m\n\u001b[1;32m      7\u001b[0m     \u001b[0mprint\u001b[0m\u001b[0;34m(\u001b[0m\u001b[0;34m\"Accessing outer func variables: x -> {}, y ->{}\"\u001b[0m\u001b[0;34m.\u001b[0m\u001b[0mformat\u001b[0m\u001b[0;34m(\u001b[0m\u001b[0mx\u001b[0m\u001b[0;34m,\u001b[0m\u001b[0my\u001b[0m\u001b[0;34m)\u001b[0m\u001b[0;34m)\u001b[0m\u001b[0;34m\u001b[0m\u001b[0;34m\u001b[0m\u001b[0m\n\u001b[0;32m----> 8\u001b[0;31m   \u001b[0mfunc_inner\u001b[0m\u001b[0;34m(\u001b[0m\u001b[0;34m)\u001b[0m\u001b[0;34m\u001b[0m\u001b[0;34m\u001b[0m\u001b[0m\n\u001b[0m\u001b[1;32m      9\u001b[0m \u001b[0;34m\u001b[0m\u001b[0m\n\u001b[1;32m     10\u001b[0m \u001b[0mfunc_outer\u001b[0m\u001b[0;34m(\u001b[0m\u001b[0;34m)\u001b[0m\u001b[0;34m\u001b[0m\u001b[0;34m\u001b[0m\u001b[0m\n",
            "\u001b[0;32m<ipython-input-13-64229083808c>\u001b[0m in \u001b[0;36mfunc_inner\u001b[0;34m()\u001b[0m\n\u001b[1;32m      4\u001b[0m   \u001b[0my\u001b[0m \u001b[0;34m=\u001b[0m \u001b[0;36m2000\u001b[0m\u001b[0;34m\u001b[0m\u001b[0;34m\u001b[0m\u001b[0m\n\u001b[1;32m      5\u001b[0m   \u001b[0;32mdef\u001b[0m \u001b[0mfunc_inner\u001b[0m\u001b[0;34m(\u001b[0m\u001b[0;34m)\u001b[0m\u001b[0;34m:\u001b[0m\u001b[0;34m\u001b[0m\u001b[0;34m\u001b[0m\u001b[0m\n\u001b[0;32m----> 6\u001b[0;31m     \u001b[0mx\u001b[0m \u001b[0;34m+=\u001b[0m \u001b[0;36m10000\u001b[0m\u001b[0;34m\u001b[0m\u001b[0;34m\u001b[0m\u001b[0m\n\u001b[0m\u001b[1;32m      7\u001b[0m     \u001b[0mprint\u001b[0m\u001b[0;34m(\u001b[0m\u001b[0;34m\"Accessing outer func variables: x -> {}, y ->{}\"\u001b[0m\u001b[0;34m.\u001b[0m\u001b[0mformat\u001b[0m\u001b[0;34m(\u001b[0m\u001b[0mx\u001b[0m\u001b[0;34m,\u001b[0m\u001b[0my\u001b[0m\u001b[0;34m)\u001b[0m\u001b[0;34m)\u001b[0m\u001b[0;34m\u001b[0m\u001b[0;34m\u001b[0m\u001b[0m\n\u001b[1;32m      8\u001b[0m   \u001b[0mfunc_inner\u001b[0m\u001b[0;34m(\u001b[0m\u001b[0;34m)\u001b[0m\u001b[0;34m\u001b[0m\u001b[0;34m\u001b[0m\u001b[0m\n",
            "\u001b[0;31mUnboundLocalError\u001b[0m: local variable 'x' referenced before assignment"
          ]
        }
      ]
    },
    {
      "cell_type": "code",
      "source": [
        "def func_outer():\n",
        "  # code block - outer func\n",
        "  x = 1000\n",
        "  y = 2000\n",
        "  def func_inner():\n",
        "    global x\n",
        "    x = 5000\n",
        "    x += 10000\n",
        "    print(\"Inner func: x -> {}, y ->{}\".format(x,y))\n",
        "  func_inner()\n",
        "  print(\"Outer Func: x-->\", x)\n",
        "\n",
        "func_outer()\n",
        "print(\"x outside the outer/main function : x ->\", x)"
      ],
      "metadata": {
        "colab": {
          "base_uri": "https://localhost:8080/"
        },
        "id": "2v_PSlw_-KW3",
        "outputId": "c87bf15f-1ab4-49f7-c34f-9045137928ab"
      },
      "execution_count": 16,
      "outputs": [
        {
          "output_type": "stream",
          "name": "stdout",
          "text": [
            "Inner func: x -> 15000, y ->2000\n",
            "Outer Func: x--> 1000\n",
            "x outside the outer/main function : x -> 15000\n"
          ]
        }
      ]
    },
    {
      "cell_type": "code",
      "source": [
        "def func_outer():\n",
        "  # code block - outer func\n",
        "  global x\n",
        "  x = 1000\n",
        "  y = 2000\n",
        "  def func_inner():\n",
        "    global x\n",
        "    x = 5000\n",
        "    x += 10000\n",
        "    print(\"Inner func: x -> {}, y ->{}\".format(x,y))\n",
        "  func_inner()\n",
        "  print(\"Outer Func: x-->\", x)\n",
        "\n",
        "func_outer()\n",
        "print(\"x outside the outer/main function : x ->\", x)"
      ],
      "metadata": {
        "colab": {
          "base_uri": "https://localhost:8080/"
        },
        "id": "dmaFmJVc_lJQ",
        "outputId": "caa91227-c396-4ef8-dfd1-8a2d87ef94fe"
      },
      "execution_count": 18,
      "outputs": [
        {
          "output_type": "stream",
          "name": "stdout",
          "text": [
            "Inner func: x -> 15000, y ->2000\n",
            "Outer Func: x--> 15000\n",
            "x outside the outer/main function : x -> 15000\n"
          ]
        }
      ]
    },
    {
      "cell_type": "code",
      "source": [
        "def outer():\n",
        "  v = 500 # local variable\n",
        "  def inner():\n",
        "    global rohit\n",
        "    rohit = 92\n",
        "    print(v) # you can access the outer function local variable from inner function\n",
        "  inner()\n",
        "  print(\"outer func, rohit: \", rohit)\n",
        "\n",
        "outer()\n",
        "print(rohit)"
      ],
      "metadata": {
        "colab": {
          "base_uri": "https://localhost:8080/"
        },
        "id": "lvFpYefD_60r",
        "outputId": "d78b6e25-9fc2-453b-b6bd-c12ad5ca6614"
      },
      "execution_count": 20,
      "outputs": [
        {
          "output_type": "stream",
          "name": "stdout",
          "text": [
            "500\n",
            "outer func, rohit:  92\n",
            "92\n"
          ]
        }
      ]
    },
    {
      "cell_type": "code",
      "source": [
        "def func_outer():\n",
        "  # code block - outer func\n",
        "  global x\n",
        "  x = 1000\n",
        "  y = 2000\n",
        "  def func_inner():\n",
        "    global x\n",
        "    x = 5000\n",
        "    x += 10000\n",
        "    print(\"Inner func: x -> {}, y ->{}\".format(x,y))\n",
        "  func_inner()\n",
        "  print(\"Outer Func: x-->\", x)\n",
        "\n",
        "func_inner()"
      ],
      "metadata": {
        "colab": {
          "base_uri": "https://localhost:8080/",
          "height": 180
        },
        "id": "xisQpxfrApnG",
        "outputId": "30c3f749-6c39-4377-f0ee-6b7880e2798a"
      },
      "execution_count": 21,
      "outputs": [
        {
          "output_type": "error",
          "ename": "NameError",
          "evalue": "name 'func_inner' is not defined",
          "traceback": [
            "\u001b[0;31m---------------------------------------------------------------------------\u001b[0m",
            "\u001b[0;31mNameError\u001b[0m                                 Traceback (most recent call last)",
            "\u001b[0;32m<ipython-input-21-d21085717dd0>\u001b[0m in \u001b[0;36m<cell line: 14>\u001b[0;34m()\u001b[0m\n\u001b[1;32m     12\u001b[0m   \u001b[0mprint\u001b[0m\u001b[0;34m(\u001b[0m\u001b[0;34m\"Outer Func: x-->\"\u001b[0m\u001b[0;34m,\u001b[0m \u001b[0mx\u001b[0m\u001b[0;34m)\u001b[0m\u001b[0;34m\u001b[0m\u001b[0;34m\u001b[0m\u001b[0m\n\u001b[1;32m     13\u001b[0m \u001b[0;34m\u001b[0m\u001b[0m\n\u001b[0;32m---> 14\u001b[0;31m \u001b[0mfunc_inner\u001b[0m\u001b[0;34m(\u001b[0m\u001b[0;34m)\u001b[0m\u001b[0;34m\u001b[0m\u001b[0;34m\u001b[0m\u001b[0m\n\u001b[0m",
            "\u001b[0;31mNameError\u001b[0m: name 'func_inner' is not defined"
          ]
        }
      ]
    },
    {
      "cell_type": "code",
      "source": [
        "def func_outer():\n",
        "  # code block - outer func\n",
        "  v1 = 1000 # local variable\n",
        "  def func_inner(v1):\n",
        "    v1 += 10000\n",
        "    print(\"Inner func: v1 -> {}\".format(v1))\n",
        "  func_inner(v1)\n",
        "  print(\"Outer Func: v1-->\", v1) # v1 -> 11000\n",
        "\n",
        "func_outer()\n",
        "print(\"v1 outside the outer/main function : v1 ->\", v1)"
      ],
      "metadata": {
        "colab": {
          "base_uri": "https://localhost:8080/",
          "height": 216
        },
        "id": "0WnmxT7RBCva",
        "outputId": "a091010a-d694-499f-8756-39ab4a80a8cd"
      },
      "execution_count": 26,
      "outputs": [
        {
          "output_type": "stream",
          "name": "stdout",
          "text": [
            "Inner func: v1 -> 11000\n",
            "Outer Func: v1--> 1000\n"
          ]
        },
        {
          "output_type": "error",
          "ename": "NameError",
          "evalue": "name 'v1' is not defined",
          "traceback": [
            "\u001b[0;31m---------------------------------------------------------------------------\u001b[0m",
            "\u001b[0;31mNameError\u001b[0m                                 Traceback (most recent call last)",
            "\u001b[0;32m<ipython-input-26-47b80018918d>\u001b[0m in \u001b[0;36m<cell line: 11>\u001b[0;34m()\u001b[0m\n\u001b[1;32m      9\u001b[0m \u001b[0;34m\u001b[0m\u001b[0m\n\u001b[1;32m     10\u001b[0m \u001b[0mfunc_outer\u001b[0m\u001b[0;34m(\u001b[0m\u001b[0;34m)\u001b[0m\u001b[0;34m\u001b[0m\u001b[0;34m\u001b[0m\u001b[0m\n\u001b[0;32m---> 11\u001b[0;31m \u001b[0mprint\u001b[0m\u001b[0;34m(\u001b[0m\u001b[0;34m\"v1 outside the outer/main function : v1 ->\"\u001b[0m\u001b[0;34m,\u001b[0m \u001b[0mv1\u001b[0m\u001b[0;34m)\u001b[0m\u001b[0;34m\u001b[0m\u001b[0;34m\u001b[0m\u001b[0m\n\u001b[0m",
            "\u001b[0;31mNameError\u001b[0m: name 'v1' is not defined"
          ]
        }
      ]
    },
    {
      "cell_type": "code",
      "source": [
        "# use of \"nonlocal\" keyword comes into picture\n",
        "\n",
        "def func_outer():\n",
        "  # code block - outer func\n",
        "  v1 = 1000 # local variable to outer function\n",
        "  def func_inner():\n",
        "    nonlocal v1 # local variable to inner function\n",
        "    v1 += 1000\n",
        "    print(\"Inner func: v1 -> {}\".format(v1))\n",
        "  func_inner()\n",
        "  print(\"Outer Func: v1-->\", v1) # v1 -> 2000\n",
        "\n",
        "func_outer()\n",
        "print(\"in main code: v1-->\",v1)"
      ],
      "metadata": {
        "colab": {
          "base_uri": "https://localhost:8080/",
          "height": 216
        },
        "id": "3KelGqYSCNvk",
        "outputId": "11706d01-69cd-4837-e0a9-d65ca3f35463"
      },
      "execution_count": 29,
      "outputs": [
        {
          "output_type": "stream",
          "name": "stdout",
          "text": [
            "Inner func: v1 -> 2000\n",
            "Outer Func: v1--> 2000\n"
          ]
        },
        {
          "output_type": "error",
          "ename": "NameError",
          "evalue": "name 'v1' is not defined",
          "traceback": [
            "\u001b[0;31m---------------------------------------------------------------------------\u001b[0m",
            "\u001b[0;31mNameError\u001b[0m                                 Traceback (most recent call last)",
            "\u001b[0;32m<ipython-input-29-fa61348e62bd>\u001b[0m in \u001b[0;36m<cell line: 14>\u001b[0;34m()\u001b[0m\n\u001b[1;32m     12\u001b[0m \u001b[0;34m\u001b[0m\u001b[0m\n\u001b[1;32m     13\u001b[0m \u001b[0mfunc_outer\u001b[0m\u001b[0;34m(\u001b[0m\u001b[0;34m)\u001b[0m\u001b[0;34m\u001b[0m\u001b[0;34m\u001b[0m\u001b[0m\n\u001b[0;32m---> 14\u001b[0;31m \u001b[0mprint\u001b[0m\u001b[0;34m(\u001b[0m\u001b[0;34m\"in main code: v1-->\"\u001b[0m\u001b[0;34m,\u001b[0m\u001b[0mv1\u001b[0m\u001b[0;34m)\u001b[0m\u001b[0;34m\u001b[0m\u001b[0;34m\u001b[0m\u001b[0m\n\u001b[0m",
            "\u001b[0;31mNameError\u001b[0m: name 'v1' is not defined"
          ]
        }
      ]
    },
    {
      "cell_type": "code",
      "source": [
        "def func_outer():\n",
        "  # code block - outer func\n",
        "  v1 = 1000 # local variable to outer function\n",
        "  def func_inner():\n",
        "    # local variable to inner function\n",
        "    v1 = 1000\n",
        "    v1 += 1000\n",
        "    print(\"Inner func: v1 -> {}\".format(v1))\n",
        "  func_inner()\n",
        "  print(\"Outer Func: v1-->\", v1) # v1 -> 2000\n",
        "\n",
        "func_outer()\n",
        "print(\"main code: v1-->\", v1)"
      ],
      "metadata": {
        "colab": {
          "base_uri": "https://localhost:8080/",
          "height": 216
        },
        "id": "lB3B3-DZF3e-",
        "outputId": "209ed8db-4729-4193-80a0-97edf6153596"
      },
      "execution_count": 31,
      "outputs": [
        {
          "output_type": "stream",
          "name": "stdout",
          "text": [
            "Inner func: v1 -> 2000\n",
            "Outer Func: v1--> 1000\n"
          ]
        },
        {
          "output_type": "error",
          "ename": "NameError",
          "evalue": "name 'v1' is not defined",
          "traceback": [
            "\u001b[0;31m---------------------------------------------------------------------------\u001b[0m",
            "\u001b[0;31mNameError\u001b[0m                                 Traceback (most recent call last)",
            "\u001b[0;32m<ipython-input-31-72c85661f34a>\u001b[0m in \u001b[0;36m<cell line: 13>\u001b[0;34m()\u001b[0m\n\u001b[1;32m     11\u001b[0m \u001b[0;34m\u001b[0m\u001b[0m\n\u001b[1;32m     12\u001b[0m \u001b[0mfunc_outer\u001b[0m\u001b[0;34m(\u001b[0m\u001b[0;34m)\u001b[0m\u001b[0;34m\u001b[0m\u001b[0;34m\u001b[0m\u001b[0m\n\u001b[0;32m---> 13\u001b[0;31m \u001b[0mprint\u001b[0m\u001b[0;34m(\u001b[0m\u001b[0;34m\"main code: v1-->\"\u001b[0m\u001b[0;34m,\u001b[0m \u001b[0mv1\u001b[0m\u001b[0;34m)\u001b[0m\u001b[0;34m\u001b[0m\u001b[0;34m\u001b[0m\u001b[0m\n\u001b[0m",
            "\u001b[0;31mNameError\u001b[0m: name 'v1' is not defined"
          ]
        }
      ]
    },
    {
      "cell_type": "code",
      "source": [
        "def func_outer():\n",
        "  # code block - outer func\n",
        "  v1 = 1000 # local variable to outer function\n",
        "  def func_inner():\n",
        "    # local variable to inner function\n",
        "    global v1\n",
        "    v1 = 5000\n",
        "    v1 += 1000\n",
        "    print(\"Inner func: v1 -> {}\".format(v1))\n",
        "  func_inner()\n",
        "  print(\"Outer Func: v1-->\", v1) # v1 -> 2000\n",
        "\n",
        "func_outer()\n",
        "print(\"main code: v1-->\", v1)"
      ],
      "metadata": {
        "colab": {
          "base_uri": "https://localhost:8080/"
        },
        "id": "C1J8vn2-GM0p",
        "outputId": "4eedac45-a885-4a00-d551-e5c8598ce3bf"
      },
      "execution_count": 44,
      "outputs": [
        {
          "output_type": "stream",
          "name": "stdout",
          "text": [
            "Inner func: v1 -> 6000\n",
            "Outer Func: v1--> 1000\n",
            "main code: v1--> 6000\n"
          ]
        }
      ]
    },
    {
      "cell_type": "code",
      "source": [
        "def func_outer():\n",
        "  # code block - outer func\n",
        "  v2 = 1000 # local variable to outer function\n",
        "  def func_inner():\n",
        "    # local variable to inner function\n",
        "    nonlocal v2\n",
        "    v2 += 1000\n",
        "    print(\"Inner func: v2 -> {}\".format(v2))\n",
        "  func_inner()\n",
        "  print(\"Outer Func: v2-->\", v2) # v1 -> 2000\n",
        "\n",
        "func_outer()\n",
        "print(\"main code: v1-->\", v2)"
      ],
      "metadata": {
        "colab": {
          "base_uri": "https://localhost:8080/",
          "height": 216
        },
        "id": "HVgkQ75BGeRr",
        "outputId": "3e1d239b-2554-4c0c-aeac-7b6b46a4670a"
      },
      "execution_count": 34,
      "outputs": [
        {
          "output_type": "stream",
          "name": "stdout",
          "text": [
            "Inner func: v2 -> 2000\n",
            "Outer Func: v2--> 2000\n"
          ]
        },
        {
          "output_type": "error",
          "ename": "NameError",
          "evalue": "name 'v2' is not defined",
          "traceback": [
            "\u001b[0;31m---------------------------------------------------------------------------\u001b[0m",
            "\u001b[0;31mNameError\u001b[0m                                 Traceback (most recent call last)",
            "\u001b[0;32m<ipython-input-34-bd1d1ba7c1ff>\u001b[0m in \u001b[0;36m<cell line: 13>\u001b[0;34m()\u001b[0m\n\u001b[1;32m     11\u001b[0m \u001b[0;34m\u001b[0m\u001b[0m\n\u001b[1;32m     12\u001b[0m \u001b[0mfunc_outer\u001b[0m\u001b[0;34m(\u001b[0m\u001b[0;34m)\u001b[0m\u001b[0;34m\u001b[0m\u001b[0;34m\u001b[0m\u001b[0m\n\u001b[0;32m---> 13\u001b[0;31m \u001b[0mprint\u001b[0m\u001b[0;34m(\u001b[0m\u001b[0;34m\"main code: v1-->\"\u001b[0m\u001b[0;34m,\u001b[0m \u001b[0mv2\u001b[0m\u001b[0;34m)\u001b[0m\u001b[0;34m\u001b[0m\u001b[0;34m\u001b[0m\u001b[0m\n\u001b[0m",
            "\u001b[0;31mNameError\u001b[0m: name 'v2' is not defined"
          ]
        }
      ]
    },
    {
      "cell_type": "code",
      "source": [
        "def func_outer():\n",
        "  # code block - outer func\n",
        "  v2 = 1000 # local variable to outer function\n",
        "  def func_inner():\n",
        "    # local variable to inner function\n",
        "    nonlocal v3\n",
        "    v2 += 1000\n",
        "    print(\"Inner func: v2 -> {}\".format(v2))\n",
        "  func_inner()\n",
        "  print(\"Outer Func: v2-->\", v2) # v1 -> 2000\n",
        "\n",
        "func_outer()\n",
        "print(\"main code: v1-->\", v2)"
      ],
      "metadata": {
        "colab": {
          "base_uri": "https://localhost:8080/",
          "height": 109
        },
        "id": "Va2l11B6I3cN",
        "outputId": "54ec00bb-c0c7-457c-875f-d9b060de6273"
      },
      "execution_count": 35,
      "outputs": [
        {
          "output_type": "error",
          "ename": "SyntaxError",
          "evalue": "no binding for nonlocal 'v3' found (<ipython-input-35-6cfc265bfd48>, line 6)",
          "traceback": [
            "\u001b[0;36m  File \u001b[0;32m\"<ipython-input-35-6cfc265bfd48>\"\u001b[0;36m, line \u001b[0;32m6\u001b[0m\n\u001b[0;31m    nonlocal v3\u001b[0m\n\u001b[0m    ^\u001b[0m\n\u001b[0;31mSyntaxError\u001b[0m\u001b[0;31m:\u001b[0m no binding for nonlocal 'v3' found\n"
          ]
        }
      ]
    },
    {
      "cell_type": "code",
      "source": [
        "def func_outer():\n",
        "  # code block - outer func\n",
        "  v2 = 1000 # local variable to outer function\n",
        "  def func_inner():\n",
        "    # local variable to inner function\n",
        "    v2 = 5000 # local variable to inner function\n",
        "    print(\"Inner func: v2 -> {}\".format(v2))\n",
        "    def func_insideInner():\n",
        "      nonlocal v2\n",
        "      print(\"Func inside inner: -->\",v2)\n",
        "    func_insideInner()\n",
        "\n",
        "  func_inner()\n",
        "  print(\"Outer Func: v2-->\", v2) # v1 -> 2000\n",
        "\n",
        "func_outer()"
      ],
      "metadata": {
        "colab": {
          "base_uri": "https://localhost:8080/"
        },
        "id": "NMC2xOuEJF9S",
        "outputId": "18c3e18e-5f6c-4552-d979-a640accdb8f8"
      },
      "execution_count": 37,
      "outputs": [
        {
          "output_type": "stream",
          "name": "stdout",
          "text": [
            "Inner func: v2 -> 5000\n",
            "Func inside inner: --> 5000\n",
            "Outer Func: v2--> 1000\n"
          ]
        }
      ]
    },
    {
      "cell_type": "code",
      "source": [
        "def func_outer():\n",
        "  # code block - outer func\n",
        "  v2 = 1000 # local variable to outer function\n",
        "  def func_inner():\n",
        "    # local variable to inner function\n",
        "    v2 = 5000 # local variable to inner function\n",
        "    print(\"Inner func: v2 -> {}\".format(v2))\n",
        "    def func_insideInner():\n",
        "      nonlocal v2\n",
        "      print(\"Func inside inner: -->\",v2)\n",
        "    func_insideInner()\n",
        "\n",
        "  func_inner()\n",
        "  func_insideInner()\n",
        "  print(\"Outer Func: v2-->\", v2) # v1 -> 2000\n",
        "\n",
        "func_outer()"
      ],
      "metadata": {
        "colab": {
          "base_uri": "https://localhost:8080/",
          "height": 341
        },
        "id": "LtUIAAHOJ19V",
        "outputId": "caedc6f5-33d8-4ac4-e6c5-163b8cd3a722"
      },
      "execution_count": 38,
      "outputs": [
        {
          "output_type": "stream",
          "name": "stdout",
          "text": [
            "Inner func: v2 -> 5000\n",
            "Func inside inner: --> 5000\n"
          ]
        },
        {
          "output_type": "error",
          "ename": "NameError",
          "evalue": "name 'func_insideInner' is not defined",
          "traceback": [
            "\u001b[0;31m---------------------------------------------------------------------------\u001b[0m",
            "\u001b[0;31mNameError\u001b[0m                                 Traceback (most recent call last)",
            "\u001b[0;32m<ipython-input-38-094c28e47bd7>\u001b[0m in \u001b[0;36m<cell line: 17>\u001b[0;34m()\u001b[0m\n\u001b[1;32m     15\u001b[0m   \u001b[0mprint\u001b[0m\u001b[0;34m(\u001b[0m\u001b[0;34m\"Outer Func: v2-->\"\u001b[0m\u001b[0;34m,\u001b[0m \u001b[0mv2\u001b[0m\u001b[0;34m)\u001b[0m \u001b[0;31m# v1 -> 2000\u001b[0m\u001b[0;34m\u001b[0m\u001b[0;34m\u001b[0m\u001b[0m\n\u001b[1;32m     16\u001b[0m \u001b[0;34m\u001b[0m\u001b[0m\n\u001b[0;32m---> 17\u001b[0;31m \u001b[0mfunc_outer\u001b[0m\u001b[0;34m(\u001b[0m\u001b[0;34m)\u001b[0m\u001b[0;34m\u001b[0m\u001b[0;34m\u001b[0m\u001b[0m\n\u001b[0m",
            "\u001b[0;32m<ipython-input-38-094c28e47bd7>\u001b[0m in \u001b[0;36mfunc_outer\u001b[0;34m()\u001b[0m\n\u001b[1;32m     12\u001b[0m \u001b[0;34m\u001b[0m\u001b[0m\n\u001b[1;32m     13\u001b[0m   \u001b[0mfunc_inner\u001b[0m\u001b[0;34m(\u001b[0m\u001b[0;34m)\u001b[0m\u001b[0;34m\u001b[0m\u001b[0;34m\u001b[0m\u001b[0m\n\u001b[0;32m---> 14\u001b[0;31m   \u001b[0mfunc_insideInner\u001b[0m\u001b[0;34m(\u001b[0m\u001b[0;34m)\u001b[0m\u001b[0;34m\u001b[0m\u001b[0;34m\u001b[0m\u001b[0m\n\u001b[0m\u001b[1;32m     15\u001b[0m   \u001b[0mprint\u001b[0m\u001b[0;34m(\u001b[0m\u001b[0;34m\"Outer Func: v2-->\"\u001b[0m\u001b[0;34m,\u001b[0m \u001b[0mv2\u001b[0m\u001b[0;34m)\u001b[0m \u001b[0;31m# v1 -> 2000\u001b[0m\u001b[0;34m\u001b[0m\u001b[0;34m\u001b[0m\u001b[0m\n\u001b[1;32m     16\u001b[0m \u001b[0;34m\u001b[0m\u001b[0m\n",
            "\u001b[0;31mNameError\u001b[0m: name 'func_insideInner' is not defined"
          ]
        }
      ]
    },
    {
      "cell_type": "code",
      "source": [
        "def calculator(a,b):\n",
        "  print(\"Calculations is printed below: \")\n",
        "  def add(a,b):\n",
        "    print(\"a+b: -->\",a+b)\n",
        "\n",
        "  def sub(a,b):\n",
        "    print(\"a-b: -->\",a-b)\n",
        "\n",
        "  add(a,b)\n",
        "  sub(a,b)\n",
        "\n",
        "  global expose_add_func\n",
        "  expose_add_func = add\n",
        "  global expose_sub_func\n",
        "  expose_sub_func = sub\n",
        "\n",
        "calculator(5,10)"
      ],
      "metadata": {
        "colab": {
          "base_uri": "https://localhost:8080/"
        },
        "id": "fcejoj5SKvDM",
        "outputId": "5b576272-aca8-46e6-df27-fbf4dc54caf2"
      },
      "execution_count": 41,
      "outputs": [
        {
          "output_type": "stream",
          "name": "stdout",
          "text": [
            "Calculations is printed below: \n",
            "a+b: --> 15\n",
            "a-b: --> -5\n"
          ]
        }
      ]
    },
    {
      "cell_type": "code",
      "source": [
        "def calculator(a,b):\n",
        "  print(\"Calculations is printed below: \")\n",
        "  def add(a,b):\n",
        "    print(\"a+b: -->\",a+b)\n",
        "\n",
        "  def sub(a,b):\n",
        "    print(\"a-b: -->\",a-b)\n",
        "\n",
        "  return add"
      ],
      "metadata": {
        "id": "-Mfo1VPKL-xO"
      },
      "execution_count": 46,
      "outputs": []
    },
    {
      "cell_type": "code",
      "source": [
        "add_fun = calculator(10,15)"
      ],
      "metadata": {
        "colab": {
          "base_uri": "https://localhost:8080/"
        },
        "id": "JQVUll7SLIKd",
        "outputId": "a5e25cac-c83a-4751-b4ac-3039d0d4e207"
      },
      "execution_count": 47,
      "outputs": [
        {
          "output_type": "stream",
          "name": "stdout",
          "text": [
            "Calculations is printed below: \n"
          ]
        }
      ]
    },
    {
      "cell_type": "code",
      "source": [
        "add_fun(12,24)"
      ],
      "metadata": {
        "colab": {
          "base_uri": "https://localhost:8080/"
        },
        "id": "3Y_iuUYLMOLv",
        "outputId": "1ba4418b-8725-4d72-c00a-6c62d32949b3"
      },
      "execution_count": 48,
      "outputs": [
        {
          "output_type": "stream",
          "name": "stdout",
          "text": [
            "a+b: --> 36\n"
          ]
        }
      ]
    },
    {
      "cell_type": "code",
      "source": [
        "# higher order function\n",
        "\n",
        "def calculate(a,b, *operation):\n",
        "  print(operation)\n",
        "  return operation[0](a,b), operation[1](a,b), operation[2](a,b)\n",
        "\n",
        "def add(a,b):\n",
        "  return a+b\n",
        "\n",
        "def sub(a,b):\n",
        "  return a-b\n",
        "\n",
        "def multiply(a,b):\n",
        "  return a*b\n",
        "\n",
        "calculate(10,15,sub, add, multiply, c)\n"
      ],
      "metadata": {
        "colab": {
          "base_uri": "https://localhost:8080/"
        },
        "id": "IB4pqNldKeOc",
        "outputId": "d00cba68-bea7-445b-a870-31721012c732"
      },
      "execution_count": 55,
      "outputs": [
        {
          "output_type": "stream",
          "name": "stdout",
          "text": [
            "(<function sub at 0x7a42026db640>, <function add at 0x7a42026d8280>, <function multiply at 0x7a42026db520>, 1000)\n"
          ]
        },
        {
          "output_type": "execute_result",
          "data": {
            "text/plain": [
              "(-5, 25, 150)"
            ]
          },
          "metadata": {},
          "execution_count": 55
        }
      ]
    }
  ]
}